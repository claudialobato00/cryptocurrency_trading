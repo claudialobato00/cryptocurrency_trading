{
 "cells": [
  {
   "cell_type": "code",
   "execution_count": 1,
   "id": "d18d4249",
   "metadata": {},
   "outputs": [],
   "source": [
    "import requests\n",
    "import pandas as pd\n",
    "import matplotlib.pyplot as plt\n",
    "from sklearn.metrics import mean_squared_error, mean_absolute_error, r2_score, max_error, mean_absolute_percentage_error\n",
    "import math\n",
    "import numpy as np"
   ]
  },
  {
   "cell_type": "code",
   "execution_count": 2,
   "id": "42dc1dbf",
   "metadata": {},
   "outputs": [],
   "source": [
    "api_key='a58413697e8263de9c95cab92049ea3f'\n",
    "symbol='BTCUSD'\n",
    "query=f'https://financialmodelingprep.com/api/v3/historical-price-full/{symbol}?apikey={api_key}'"
   ]
  },
  {
   "cell_type": "code",
   "execution_count": 3,
   "id": "893a415e",
   "metadata": {},
   "outputs": [],
   "source": [
    "response=requests.get(query)"
   ]
  },
  {
   "cell_type": "code",
   "execution_count": 4,
   "id": "cfc882c0",
   "metadata": {},
   "outputs": [],
   "source": [
    "df = pd.DataFrame(response.json()['historical'])"
   ]
  },
  {
   "cell_type": "code",
   "execution_count": 5,
   "id": "a0ed91ad",
   "metadata": {},
   "outputs": [
    {
     "data": {
      "text/html": [
       "<div>\n",
       "<style scoped>\n",
       "    .dataframe tbody tr th:only-of-type {\n",
       "        vertical-align: middle;\n",
       "    }\n",
       "\n",
       "    .dataframe tbody tr th {\n",
       "        vertical-align: top;\n",
       "    }\n",
       "\n",
       "    .dataframe thead th {\n",
       "        text-align: right;\n",
       "    }\n",
       "</style>\n",
       "<table border=\"1\" class=\"dataframe\">\n",
       "  <thead>\n",
       "    <tr style=\"text-align: right;\">\n",
       "      <th></th>\n",
       "      <th>date</th>\n",
       "      <th>open</th>\n",
       "      <th>high</th>\n",
       "      <th>low</th>\n",
       "      <th>close</th>\n",
       "      <th>adjClose</th>\n",
       "      <th>volume</th>\n",
       "      <th>unadjustedVolume</th>\n",
       "      <th>change</th>\n",
       "      <th>changePercent</th>\n",
       "      <th>vwap</th>\n",
       "      <th>label</th>\n",
       "      <th>changeOverTime</th>\n",
       "    </tr>\n",
       "  </thead>\n",
       "  <tbody>\n",
       "    <tr>\n",
       "      <th>0</th>\n",
       "      <td>2021-09-02</td>\n",
       "      <td>48840.414063</td>\n",
       "      <td>49817.667969</td>\n",
       "      <td>48767.839844</td>\n",
       "      <td>49598.503906</td>\n",
       "      <td>49598.503906</td>\n",
       "      <td>3.908957e+10</td>\n",
       "      <td>3.908957e+10</td>\n",
       "      <td>758.08984</td>\n",
       "      <td>1.552</td>\n",
       "      <td>49394.67057</td>\n",
       "      <td>September 02, 21</td>\n",
       "      <td>0.01552</td>\n",
       "    </tr>\n",
       "    <tr>\n",
       "      <th>1</th>\n",
       "      <td>2021-09-01</td>\n",
       "      <td>47099.773438</td>\n",
       "      <td>49111.089844</td>\n",
       "      <td>46562.437500</td>\n",
       "      <td>48847.027344</td>\n",
       "      <td>48847.027344</td>\n",
       "      <td>3.913940e+10</td>\n",
       "      <td>3.913940e+10</td>\n",
       "      <td>1747.25391</td>\n",
       "      <td>3.710</td>\n",
       "      <td>48173.51823</td>\n",
       "      <td>September 01, 21</td>\n",
       "      <td>0.03710</td>\n",
       "    </tr>\n",
       "    <tr>\n",
       "      <th>2</th>\n",
       "      <td>2021-08-31</td>\n",
       "      <td>47024.339844</td>\n",
       "      <td>48189.550781</td>\n",
       "      <td>46750.093750</td>\n",
       "      <td>47166.687500</td>\n",
       "      <td>47166.687500</td>\n",
       "      <td>3.473036e+10</td>\n",
       "      <td>3.473036e+10</td>\n",
       "      <td>142.34766</td>\n",
       "      <td>0.303</td>\n",
       "      <td>47368.77734</td>\n",
       "      <td>August 31, 21</td>\n",
       "      <td>0.00303</td>\n",
       "    </tr>\n",
       "    <tr>\n",
       "      <th>3</th>\n",
       "      <td>2021-08-30</td>\n",
       "      <td>48834.851563</td>\n",
       "      <td>48925.605469</td>\n",
       "      <td>46950.273438</td>\n",
       "      <td>47054.984375</td>\n",
       "      <td>47054.984375</td>\n",
       "      <td>3.184701e+10</td>\n",
       "      <td>3.184701e+10</td>\n",
       "      <td>-1779.86719</td>\n",
       "      <td>-3.645</td>\n",
       "      <td>47643.62109</td>\n",
       "      <td>August 30, 21</td>\n",
       "      <td>-0.03645</td>\n",
       "    </tr>\n",
       "    <tr>\n",
       "      <th>4</th>\n",
       "      <td>2021-08-29</td>\n",
       "      <td>48911.250000</td>\n",
       "      <td>49644.113281</td>\n",
       "      <td>47925.855469</td>\n",
       "      <td>48829.832031</td>\n",
       "      <td>48829.832031</td>\n",
       "      <td>2.588965e+10</td>\n",
       "      <td>2.588965e+10</td>\n",
       "      <td>-81.41797</td>\n",
       "      <td>-0.166</td>\n",
       "      <td>48799.93359</td>\n",
       "      <td>August 29, 21</td>\n",
       "      <td>-0.00166</td>\n",
       "    </tr>\n",
       "    <tr>\n",
       "      <th>...</th>\n",
       "      <td>...</td>\n",
       "      <td>...</td>\n",
       "      <td>...</td>\n",
       "      <td>...</td>\n",
       "      <td>...</td>\n",
       "      <td>...</td>\n",
       "      <td>...</td>\n",
       "      <td>...</td>\n",
       "      <td>...</td>\n",
       "      <td>...</td>\n",
       "      <td>...</td>\n",
       "      <td>...</td>\n",
       "      <td>...</td>\n",
       "    </tr>\n",
       "    <tr>\n",
       "      <th>1822</th>\n",
       "      <td>2016-09-06</td>\n",
       "      <td>606.505981</td>\n",
       "      <td>610.830017</td>\n",
       "      <td>605.091003</td>\n",
       "      <td>610.435974</td>\n",
       "      <td>610.435974</td>\n",
       "      <td>7.852910e+07</td>\n",
       "      <td>7.852910e+07</td>\n",
       "      <td>3.92999</td>\n",
       "      <td>0.648</td>\n",
       "      <td>608.78566</td>\n",
       "      <td>September 06, 16</td>\n",
       "      <td>0.00648</td>\n",
       "    </tr>\n",
       "    <tr>\n",
       "      <th>1823</th>\n",
       "      <td>2016-09-05</td>\n",
       "      <td>608.989990</td>\n",
       "      <td>609.054993</td>\n",
       "      <td>602.242004</td>\n",
       "      <td>606.590027</td>\n",
       "      <td>606.590027</td>\n",
       "      <td>8.244680e+07</td>\n",
       "      <td>8.244680e+07</td>\n",
       "      <td>-2.39996</td>\n",
       "      <td>-0.394</td>\n",
       "      <td>605.96234</td>\n",
       "      <td>September 05, 16</td>\n",
       "      <td>-0.00394</td>\n",
       "    </tr>\n",
       "    <tr>\n",
       "      <th>1824</th>\n",
       "      <td>2016-09-04</td>\n",
       "      <td>598.590027</td>\n",
       "      <td>611.836975</td>\n",
       "      <td>596.848022</td>\n",
       "      <td>608.633972</td>\n",
       "      <td>608.633972</td>\n",
       "      <td>9.794290e+07</td>\n",
       "      <td>9.794290e+07</td>\n",
       "      <td>10.04395</td>\n",
       "      <td>1.678</td>\n",
       "      <td>605.77299</td>\n",
       "      <td>September 04, 16</td>\n",
       "      <td>0.01678</td>\n",
       "    </tr>\n",
       "    <tr>\n",
       "      <th>1825</th>\n",
       "      <td>2016-09-03</td>\n",
       "      <td>575.554993</td>\n",
       "      <td>599.500000</td>\n",
       "      <td>574.056030</td>\n",
       "      <td>598.211975</td>\n",
       "      <td>598.211975</td>\n",
       "      <td>1.590140e+08</td>\n",
       "      <td>1.590140e+08</td>\n",
       "      <td>22.65698</td>\n",
       "      <td>3.937</td>\n",
       "      <td>590.58934</td>\n",
       "      <td>September 03, 16</td>\n",
       "      <td>0.03937</td>\n",
       "    </tr>\n",
       "    <tr>\n",
       "      <th>1826</th>\n",
       "      <td>2016-09-02</td>\n",
       "      <td>572.409973</td>\n",
       "      <td>575.643005</td>\n",
       "      <td>570.810974</td>\n",
       "      <td>575.536987</td>\n",
       "      <td>575.536987</td>\n",
       "      <td>7.991080e+07</td>\n",
       "      <td>7.991080e+07</td>\n",
       "      <td>3.12701</td>\n",
       "      <td>0.546</td>\n",
       "      <td>573.99699</td>\n",
       "      <td>September 02, 16</td>\n",
       "      <td>0.00546</td>\n",
       "    </tr>\n",
       "  </tbody>\n",
       "</table>\n",
       "<p>1827 rows × 13 columns</p>\n",
       "</div>"
      ],
      "text/plain": [
       "            date          open          high           low         close  \\\n",
       "0     2021-09-02  48840.414063  49817.667969  48767.839844  49598.503906   \n",
       "1     2021-09-01  47099.773438  49111.089844  46562.437500  48847.027344   \n",
       "2     2021-08-31  47024.339844  48189.550781  46750.093750  47166.687500   \n",
       "3     2021-08-30  48834.851563  48925.605469  46950.273438  47054.984375   \n",
       "4     2021-08-29  48911.250000  49644.113281  47925.855469  48829.832031   \n",
       "...          ...           ...           ...           ...           ...   \n",
       "1822  2016-09-06    606.505981    610.830017    605.091003    610.435974   \n",
       "1823  2016-09-05    608.989990    609.054993    602.242004    606.590027   \n",
       "1824  2016-09-04    598.590027    611.836975    596.848022    608.633972   \n",
       "1825  2016-09-03    575.554993    599.500000    574.056030    598.211975   \n",
       "1826  2016-09-02    572.409973    575.643005    570.810974    575.536987   \n",
       "\n",
       "          adjClose        volume  unadjustedVolume      change  changePercent  \\\n",
       "0     49598.503906  3.908957e+10      3.908957e+10   758.08984          1.552   \n",
       "1     48847.027344  3.913940e+10      3.913940e+10  1747.25391          3.710   \n",
       "2     47166.687500  3.473036e+10      3.473036e+10   142.34766          0.303   \n",
       "3     47054.984375  3.184701e+10      3.184701e+10 -1779.86719         -3.645   \n",
       "4     48829.832031  2.588965e+10      2.588965e+10   -81.41797         -0.166   \n",
       "...            ...           ...               ...         ...            ...   \n",
       "1822    610.435974  7.852910e+07      7.852910e+07     3.92999          0.648   \n",
       "1823    606.590027  8.244680e+07      8.244680e+07    -2.39996         -0.394   \n",
       "1824    608.633972  9.794290e+07      9.794290e+07    10.04395          1.678   \n",
       "1825    598.211975  1.590140e+08      1.590140e+08    22.65698          3.937   \n",
       "1826    575.536987  7.991080e+07      7.991080e+07     3.12701          0.546   \n",
       "\n",
       "             vwap             label  changeOverTime  \n",
       "0     49394.67057  September 02, 21         0.01552  \n",
       "1     48173.51823  September 01, 21         0.03710  \n",
       "2     47368.77734     August 31, 21         0.00303  \n",
       "3     47643.62109     August 30, 21        -0.03645  \n",
       "4     48799.93359     August 29, 21        -0.00166  \n",
       "...           ...               ...             ...  \n",
       "1822    608.78566  September 06, 16         0.00648  \n",
       "1823    605.96234  September 05, 16        -0.00394  \n",
       "1824    605.77299  September 04, 16         0.01678  \n",
       "1825    590.58934  September 03, 16         0.03937  \n",
       "1826    573.99699  September 02, 16         0.00546  \n",
       "\n",
       "[1827 rows x 13 columns]"
      ]
     },
     "execution_count": 5,
     "metadata": {},
     "output_type": "execute_result"
    }
   ],
   "source": [
    "df"
   ]
  },
  {
   "cell_type": "code",
   "execution_count": 6,
   "id": "5730ebf7",
   "metadata": {},
   "outputs": [],
   "source": [
    "df['date'] = pd.to_datetime(df['date'])"
   ]
  },
  {
   "cell_type": "code",
   "execution_count": 7,
   "id": "674b06e8",
   "metadata": {},
   "outputs": [],
   "source": [
    "df_2 = df[['date', 'adjClose']]"
   ]
  },
  {
   "cell_type": "code",
   "execution_count": 8,
   "id": "35de623a",
   "metadata": {},
   "outputs": [
    {
     "data": {
      "text/html": [
       "<div>\n",
       "<style scoped>\n",
       "    .dataframe tbody tr th:only-of-type {\n",
       "        vertical-align: middle;\n",
       "    }\n",
       "\n",
       "    .dataframe tbody tr th {\n",
       "        vertical-align: top;\n",
       "    }\n",
       "\n",
       "    .dataframe thead th {\n",
       "        text-align: right;\n",
       "    }\n",
       "</style>\n",
       "<table border=\"1\" class=\"dataframe\">\n",
       "  <thead>\n",
       "    <tr style=\"text-align: right;\">\n",
       "      <th></th>\n",
       "      <th>date</th>\n",
       "      <th>adjClose</th>\n",
       "    </tr>\n",
       "  </thead>\n",
       "  <tbody>\n",
       "    <tr>\n",
       "      <th>0</th>\n",
       "      <td>2021-09-02</td>\n",
       "      <td>49598.503906</td>\n",
       "    </tr>\n",
       "    <tr>\n",
       "      <th>1</th>\n",
       "      <td>2021-09-01</td>\n",
       "      <td>48847.027344</td>\n",
       "    </tr>\n",
       "    <tr>\n",
       "      <th>2</th>\n",
       "      <td>2021-08-31</td>\n",
       "      <td>47166.687500</td>\n",
       "    </tr>\n",
       "    <tr>\n",
       "      <th>3</th>\n",
       "      <td>2021-08-30</td>\n",
       "      <td>47054.984375</td>\n",
       "    </tr>\n",
       "    <tr>\n",
       "      <th>4</th>\n",
       "      <td>2021-08-29</td>\n",
       "      <td>48829.832031</td>\n",
       "    </tr>\n",
       "    <tr>\n",
       "      <th>...</th>\n",
       "      <td>...</td>\n",
       "      <td>...</td>\n",
       "    </tr>\n",
       "    <tr>\n",
       "      <th>1822</th>\n",
       "      <td>2016-09-06</td>\n",
       "      <td>610.435974</td>\n",
       "    </tr>\n",
       "    <tr>\n",
       "      <th>1823</th>\n",
       "      <td>2016-09-05</td>\n",
       "      <td>606.590027</td>\n",
       "    </tr>\n",
       "    <tr>\n",
       "      <th>1824</th>\n",
       "      <td>2016-09-04</td>\n",
       "      <td>608.633972</td>\n",
       "    </tr>\n",
       "    <tr>\n",
       "      <th>1825</th>\n",
       "      <td>2016-09-03</td>\n",
       "      <td>598.211975</td>\n",
       "    </tr>\n",
       "    <tr>\n",
       "      <th>1826</th>\n",
       "      <td>2016-09-02</td>\n",
       "      <td>575.536987</td>\n",
       "    </tr>\n",
       "  </tbody>\n",
       "</table>\n",
       "<p>1827 rows × 2 columns</p>\n",
       "</div>"
      ],
      "text/plain": [
       "           date      adjClose\n",
       "0    2021-09-02  49598.503906\n",
       "1    2021-09-01  48847.027344\n",
       "2    2021-08-31  47166.687500\n",
       "3    2021-08-30  47054.984375\n",
       "4    2021-08-29  48829.832031\n",
       "...         ...           ...\n",
       "1822 2016-09-06    610.435974\n",
       "1823 2016-09-05    606.590027\n",
       "1824 2016-09-04    608.633972\n",
       "1825 2016-09-03    598.211975\n",
       "1826 2016-09-02    575.536987\n",
       "\n",
       "[1827 rows x 2 columns]"
      ]
     },
     "execution_count": 8,
     "metadata": {},
     "output_type": "execute_result"
    }
   ],
   "source": [
    "df_2"
   ]
  },
  {
   "cell_type": "code",
   "execution_count": 9,
   "id": "334cd012",
   "metadata": {},
   "outputs": [],
   "source": [
    "date = pd.to_datetime('2020-09-01')"
   ]
  },
  {
   "cell_type": "code",
   "execution_count": 10,
   "id": "2fe83189",
   "metadata": {},
   "outputs": [],
   "source": [
    "df_lastyear = df_2[df_2['date']>date]"
   ]
  },
  {
   "cell_type": "code",
   "execution_count": 11,
   "id": "2b96b0f9",
   "metadata": {},
   "outputs": [],
   "source": [
    "df_lastyear = df_lastyear.set_index('date')"
   ]
  },
  {
   "cell_type": "code",
   "execution_count": 12,
   "id": "44411d7b",
   "metadata": {},
   "outputs": [
    {
     "data": {
      "text/html": [
       "<div>\n",
       "<style scoped>\n",
       "    .dataframe tbody tr th:only-of-type {\n",
       "        vertical-align: middle;\n",
       "    }\n",
       "\n",
       "    .dataframe tbody tr th {\n",
       "        vertical-align: top;\n",
       "    }\n",
       "\n",
       "    .dataframe thead th {\n",
       "        text-align: right;\n",
       "    }\n",
       "</style>\n",
       "<table border=\"1\" class=\"dataframe\">\n",
       "  <thead>\n",
       "    <tr style=\"text-align: right;\">\n",
       "      <th></th>\n",
       "      <th>adjClose</th>\n",
       "    </tr>\n",
       "    <tr>\n",
       "      <th>date</th>\n",
       "      <th></th>\n",
       "    </tr>\n",
       "  </thead>\n",
       "  <tbody>\n",
       "    <tr>\n",
       "      <th>2021-09-02</th>\n",
       "      <td>49598.503906</td>\n",
       "    </tr>\n",
       "    <tr>\n",
       "      <th>2021-09-01</th>\n",
       "      <td>48847.027344</td>\n",
       "    </tr>\n",
       "    <tr>\n",
       "      <th>2021-08-31</th>\n",
       "      <td>47166.687500</td>\n",
       "    </tr>\n",
       "    <tr>\n",
       "      <th>2021-08-30</th>\n",
       "      <td>47054.984375</td>\n",
       "    </tr>\n",
       "    <tr>\n",
       "      <th>2021-08-29</th>\n",
       "      <td>48829.832031</td>\n",
       "    </tr>\n",
       "    <tr>\n",
       "      <th>...</th>\n",
       "      <td>...</td>\n",
       "    </tr>\n",
       "    <tr>\n",
       "      <th>2020-09-06</th>\n",
       "      <td>10280.351563</td>\n",
       "    </tr>\n",
       "    <tr>\n",
       "      <th>2020-09-05</th>\n",
       "      <td>10169.567383</td>\n",
       "    </tr>\n",
       "    <tr>\n",
       "      <th>2020-09-04</th>\n",
       "      <td>10511.813477</td>\n",
       "    </tr>\n",
       "    <tr>\n",
       "      <th>2020-09-03</th>\n",
       "      <td>10245.296875</td>\n",
       "    </tr>\n",
       "    <tr>\n",
       "      <th>2020-09-02</th>\n",
       "      <td>11414.034180</td>\n",
       "    </tr>\n",
       "  </tbody>\n",
       "</table>\n",
       "<p>366 rows × 1 columns</p>\n",
       "</div>"
      ],
      "text/plain": [
       "                adjClose\n",
       "date                    \n",
       "2021-09-02  49598.503906\n",
       "2021-09-01  48847.027344\n",
       "2021-08-31  47166.687500\n",
       "2021-08-30  47054.984375\n",
       "2021-08-29  48829.832031\n",
       "...                  ...\n",
       "2020-09-06  10280.351563\n",
       "2020-09-05  10169.567383\n",
       "2020-09-04  10511.813477\n",
       "2020-09-03  10245.296875\n",
       "2020-09-02  11414.034180\n",
       "\n",
       "[366 rows x 1 columns]"
      ]
     },
     "execution_count": 12,
     "metadata": {},
     "output_type": "execute_result"
    }
   ],
   "source": [
    "df_lastyear"
   ]
  },
  {
   "cell_type": "code",
   "execution_count": 13,
   "id": "c0a0e922",
   "metadata": {},
   "outputs": [],
   "source": [
    "y = df_lastyear.adjClose"
   ]
  },
  {
   "cell_type": "code",
   "execution_count": 14,
   "id": "c923456f",
   "metadata": {},
   "outputs": [
    {
     "data": {
      "text/plain": [
       "<AxesSubplot:xlabel='date'>"
      ]
     },
     "execution_count": 14,
     "metadata": {},
     "output_type": "execute_result"
    },
    {
     "data": {
      "image/png": "[encoded data removed]",
      "text/plain": [
       "<Figure size 432x288 with 1 Axes>"
      ]
     },
     "metadata": {
      "needs_background": "light"
     },
     "output_type": "display_data"
    }
   ],
   "source": [
    "df_lastyear.plot()"
   ]
  },
  {
   "cell_type": "code",
   "execution_count": 15,
   "id": "b85341ee",
   "metadata": {},
   "outputs": [],
   "source": [
    "from statsmodels.tsa.stattools import adfuller"
   ]
  },
  {
   "cell_type": "code",
   "execution_count": 16,
   "id": "0f377228",
   "metadata": {},
   "outputs": [
    {
     "name": "stdout",
     "output_type": "stream",
     "text": [
      "p-value:  0.8520081222791589\n"
     ]
    }
   ],
   "source": [
    "# 0 diff\n",
    "print('p-value: ', adfuller(y)[1])"
   ]
  },
  {
   "cell_type": "code",
   "execution_count": 17,
   "id": "14afeaa1",
   "metadata": {},
   "outputs": [
    {
     "name": "stdout",
     "output_type": "stream",
     "text": [
      "p-value:  2.616582663401252e-06\n"
     ]
    }
   ],
   "source": [
    "# First diff\n",
    "print('p-value: ', adfuller(y.diff(1).fillna(0))[1])"
   ]
  },
  {
   "cell_type": "code",
   "execution_count": 18,
   "id": "213d6607",
   "metadata": {},
   "outputs": [],
   "source": [
    "from statsmodels.graphics.tsaplots import plot_acf, plot_pacf"
   ]
  },
  {
   "cell_type": "code",
   "execution_count": 19,
   "id": "c000b476",
   "metadata": {},
   "outputs": [
    {
     "data": {
      "image/png": "[encoded data removed]",
      "text/plain": [
       "<Figure size 432x288 with 1 Axes>"
      ]
     },
     "metadata": {
      "needs_background": "light"
     },
     "output_type": "display_data"
    },
    {
     "data": {
      "image/png": "[encoded data removed]",
      "text/plain": [
       "<Figure size 432x288 with 1 Axes>"
      ]
     },
     "metadata": {
      "needs_background": "light"
     },
     "output_type": "display_data"
    }
   ],
   "source": [
    "plot_acf(df_lastyear['adjClose'], lags=50);\n",
    "plot_pacf(df_lastyear['adjClose'], lags=50, c='r');"
   ]
  },
  {
   "cell_type": "markdown",
   "id": "793667a6",
   "metadata": {},
   "source": [
    "## Log-differenced data"
   ]
  },
  {
   "cell_type": "code",
   "execution_count": 20,
   "id": "e94bf9cb",
   "metadata": {},
   "outputs": [],
   "source": [
    "log_data = np.log(df_lastyear['adjClose'])"
   ]
  },
  {
   "cell_type": "code",
   "execution_count": 21,
   "id": "567c00d3",
   "metadata": {},
   "outputs": [],
   "source": [
    "log_data_diff = log_data.diff()"
   ]
  },
  {
   "cell_type": "code",
   "execution_count": 22,
   "id": "09f1841f",
   "metadata": {},
   "outputs": [],
   "source": [
    "log_diffed_data = pd.DataFrame(log_data_diff.drop(df_lastyear.index[0]))"
   ]
  },
  {
   "cell_type": "code",
   "execution_count": 23,
   "id": "6d65d60c",
   "metadata": {},
   "outputs": [
    {
     "data": {
      "text/html": [
       "<div>\n",
       "<style scoped>\n",
       "    .dataframe tbody tr th:only-of-type {\n",
       "        vertical-align: middle;\n",
       "    }\n",
       "\n",
       "    .dataframe tbody tr th {\n",
       "        vertical-align: top;\n",
       "    }\n",
       "\n",
       "    .dataframe thead th {\n",
       "        text-align: right;\n",
       "    }\n",
       "</style>\n",
       "<table border=\"1\" class=\"dataframe\">\n",
       "  <thead>\n",
       "    <tr style=\"text-align: right;\">\n",
       "      <th></th>\n",
       "      <th>adjClose</th>\n",
       "    </tr>\n",
       "    <tr>\n",
       "      <th>date</th>\n",
       "      <th></th>\n",
       "    </tr>\n",
       "  </thead>\n",
       "  <tbody>\n",
       "    <tr>\n",
       "      <th>2021-09-01</th>\n",
       "      <td>-0.015267</td>\n",
       "    </tr>\n",
       "    <tr>\n",
       "      <th>2021-08-31</th>\n",
       "      <td>-0.035006</td>\n",
       "    </tr>\n",
       "    <tr>\n",
       "      <th>2021-08-30</th>\n",
       "      <td>-0.002371</td>\n",
       "    </tr>\n",
       "    <tr>\n",
       "      <th>2021-08-29</th>\n",
       "      <td>0.037025</td>\n",
       "    </tr>\n",
       "    <tr>\n",
       "      <th>2021-08-28</th>\n",
       "      <td>0.001485</td>\n",
       "    </tr>\n",
       "    <tr>\n",
       "      <th>...</th>\n",
       "      <td>...</td>\n",
       "    </tr>\n",
       "    <tr>\n",
       "      <th>2020-09-06</th>\n",
       "      <td>-0.008640</td>\n",
       "    </tr>\n",
       "    <tr>\n",
       "      <th>2020-09-05</th>\n",
       "      <td>-0.010835</td>\n",
       "    </tr>\n",
       "    <tr>\n",
       "      <th>2020-09-04</th>\n",
       "      <td>0.033100</td>\n",
       "    </tr>\n",
       "    <tr>\n",
       "      <th>2020-09-03</th>\n",
       "      <td>-0.025681</td>\n",
       "    </tr>\n",
       "    <tr>\n",
       "      <th>2020-09-02</th>\n",
       "      <td>0.108025</td>\n",
       "    </tr>\n",
       "  </tbody>\n",
       "</table>\n",
       "<p>365 rows × 1 columns</p>\n",
       "</div>"
      ],
      "text/plain": [
       "            adjClose\n",
       "date                \n",
       "2021-09-01 -0.015267\n",
       "2021-08-31 -0.035006\n",
       "2021-08-30 -0.002371\n",
       "2021-08-29  0.037025\n",
       "2021-08-28  0.001485\n",
       "...              ...\n",
       "2020-09-06 -0.008640\n",
       "2020-09-05 -0.010835\n",
       "2020-09-04  0.033100\n",
       "2020-09-03 -0.025681\n",
       "2020-09-02  0.108025\n",
       "\n",
       "[365 rows x 1 columns]"
      ]
     },
     "execution_count": 23,
     "metadata": {},
     "output_type": "execute_result"
    }
   ],
   "source": [
    "log_diffed_data"
   ]
  },
  {
   "cell_type": "code",
   "execution_count": 24,
   "id": "e428cc61",
   "metadata": {},
   "outputs": [
    {
     "data": {
      "image/png": "[encoded data removed]",
      "text/plain": [
       "<Figure size 432x288 with 1 Axes>"
      ]
     },
     "metadata": {
      "needs_background": "light"
     },
     "output_type": "display_data"
    }
   ],
   "source": [
    "plt.plot(log_diffed_data)\n",
    "plt.title(\"Log Difference of BTC to USD 2020-2021\")\n",
    "plt.show()"
   ]
  },
  {
   "cell_type": "code",
   "execution_count": 25,
   "id": "59c5f5e9",
   "metadata": {},
   "outputs": [
    {
     "name": "stdout",
     "output_type": "stream",
     "text": [
      "ADF Statistic: -20.132590719630237\n",
      "p-value: 0.0\n"
     ]
    }
   ],
   "source": [
    "ad_fuller_result = adfuller(log_diffed_data['adjClose'])\n",
    "print(f'ADF Statistic: {ad_fuller_result[0]}')\n",
    "print(f'p-value: {ad_fuller_result[1]}')"
   ]
  },
  {
   "cell_type": "code",
   "execution_count": 26,
   "id": "2e8fce5c",
   "metadata": {},
   "outputs": [
    {
     "data": {
      "image/png": "[encoded data removed]",
      "text/plain": [
       "<Figure size 432x288 with 1 Axes>"
      ]
     },
     "metadata": {
      "needs_background": "light"
     },
     "output_type": "display_data"
    },
    {
     "data": {
      "image/png": "[encoded data removed]",
      "text/plain": [
       "<Figure size 432x288 with 1 Axes>"
      ]
     },
     "metadata": {
      "needs_background": "light"
     },
     "output_type": "display_data"
    }
   ],
   "source": [
    "plot_pacf(log_diffed_data['adjClose'], lags=50, c='r');\n",
    "plot_acf(log_diffed_data['adjClose'], lags=50);"
   ]
  },
  {
   "cell_type": "markdown",
   "id": "a844cfd2",
   "metadata": {},
   "source": [
    "## Differencing "
   ]
  },
  {
   "cell_type": "code",
   "execution_count": 27,
   "id": "82e48810",
   "metadata": {},
   "outputs": [
    {
     "data": {
      "image/png": "[encoded data removed]",
      "text/plain": [
       "<Figure size 936x720 with 4 Axes>"
      ]
     },
     "metadata": {
      "needs_background": "light"
     },
     "output_type": "display_data"
    }
   ],
   "source": [
    "# Original Series\n",
    "fig, axes = plt.subplots(2, 2, figsize=(13,10))\n",
    "axes[0, 0].plot(y); axes[0, 0].set_title('Original Series')\n",
    "plot_acf(y, lags=50, ax=axes[0, 1], c='r')\n",
    "\n",
    "# 1st Differencing\n",
    "axes[1, 0].plot(y.diff()); axes[1, 0].set_title('1st Order Differencing')\n",
    "plot_acf(y.diff().dropna(), lags=50, ax=axes[1, 1], c='r')\n",
    "\n",
    "plt.show()"
   ]
  },
  {
   "cell_type": "code",
   "execution_count": 28,
   "id": "1b08f7a5",
   "metadata": {},
   "outputs": [],
   "source": [
    "y_diff = y.diff().dropna()"
   ]
  },
  {
   "cell_type": "code",
   "execution_count": 29,
   "id": "6582f884",
   "metadata": {},
   "outputs": [
    {
     "data": {
      "image/png": "[encoded data removed]",
      "text/plain": [
       "<Figure size 432x288 with 1 Axes>"
      ]
     },
     "metadata": {
      "needs_background": "light"
     },
     "output_type": "display_data"
    }
   ],
   "source": [
    "plot_acf(y_diff);"
   ]
  },
  {
   "cell_type": "code",
   "execution_count": 30,
   "id": "c1f7d8bb",
   "metadata": {},
   "outputs": [
    {
     "data": {
      "image/png": "[encoded data removed]",
      "text/plain": [
       "<Figure size 432x288 with 1 Axes>"
      ]
     },
     "metadata": {
      "needs_background": "light"
     },
     "output_type": "display_data"
    }
   ],
   "source": [
    "plot_pacf(y_diff, c='r');"
   ]
  },
  {
   "cell_type": "markdown",
   "id": "921fcb66",
   "metadata": {},
   "source": [
    "## Train/Test split"
   ]
  },
  {
   "cell_type": "code",
   "execution_count": 31,
   "id": "77cb3bf7",
   "metadata": {},
   "outputs": [],
   "source": [
    "train = df_lastyear[:293]"
   ]
  },
  {
   "cell_type": "code",
   "execution_count": 32,
   "id": "9ab13934",
   "metadata": {},
   "outputs": [
    {
     "data": {
      "text/html": [
       "<div>\n",
       "<style scoped>\n",
       "    .dataframe tbody tr th:only-of-type {\n",
       "        vertical-align: middle;\n",
       "    }\n",
       "\n",
       "    .dataframe tbody tr th {\n",
       "        vertical-align: top;\n",
       "    }\n",
       "\n",
       "    .dataframe thead th {\n",
       "        text-align: right;\n",
       "    }\n",
       "</style>\n",
       "<table border=\"1\" class=\"dataframe\">\n",
       "  <thead>\n",
       "    <tr style=\"text-align: right;\">\n",
       "      <th></th>\n",
       "      <th>adjClose</th>\n",
       "    </tr>\n",
       "    <tr>\n",
       "      <th>date</th>\n",
       "      <th></th>\n",
       "    </tr>\n",
       "  </thead>\n",
       "  <tbody>\n",
       "    <tr>\n",
       "      <th>2021-09-02</th>\n",
       "      <td>49598.503906</td>\n",
       "    </tr>\n",
       "    <tr>\n",
       "      <th>2021-09-01</th>\n",
       "      <td>48847.027344</td>\n",
       "    </tr>\n",
       "    <tr>\n",
       "      <th>2021-08-31</th>\n",
       "      <td>47166.687500</td>\n",
       "    </tr>\n",
       "    <tr>\n",
       "      <th>2021-08-30</th>\n",
       "      <td>47054.984375</td>\n",
       "    </tr>\n",
       "    <tr>\n",
       "      <th>2021-08-29</th>\n",
       "      <td>48829.832031</td>\n",
       "    </tr>\n",
       "    <tr>\n",
       "      <th>...</th>\n",
       "      <td>...</td>\n",
       "    </tr>\n",
       "    <tr>\n",
       "      <th>2020-11-18</th>\n",
       "      <td>17804.005859</td>\n",
       "    </tr>\n",
       "    <tr>\n",
       "      <th>2020-11-17</th>\n",
       "      <td>17645.406250</td>\n",
       "    </tr>\n",
       "    <tr>\n",
       "      <th>2020-11-16</th>\n",
       "      <td>16716.111328</td>\n",
       "    </tr>\n",
       "    <tr>\n",
       "      <th>2020-11-15</th>\n",
       "      <td>15955.587891</td>\n",
       "    </tr>\n",
       "    <tr>\n",
       "      <th>2020-11-14</th>\n",
       "      <td>16068.138672</td>\n",
       "    </tr>\n",
       "  </tbody>\n",
       "</table>\n",
       "<p>293 rows × 1 columns</p>\n",
       "</div>"
      ],
      "text/plain": [
       "                adjClose\n",
       "date                    \n",
       "2021-09-02  49598.503906\n",
       "2021-09-01  48847.027344\n",
       "2021-08-31  47166.687500\n",
       "2021-08-30  47054.984375\n",
       "2021-08-29  48829.832031\n",
       "...                  ...\n",
       "2020-11-18  17804.005859\n",
       "2020-11-17  17645.406250\n",
       "2020-11-16  16716.111328\n",
       "2020-11-15  15955.587891\n",
       "2020-11-14  16068.138672\n",
       "\n",
       "[293 rows x 1 columns]"
      ]
     },
     "execution_count": 32,
     "metadata": {},
     "output_type": "execute_result"
    }
   ],
   "source": [
    "train"
   ]
  },
  {
   "cell_type": "code",
   "execution_count": 33,
   "id": "5b75db28",
   "metadata": {},
   "outputs": [],
   "source": [
    "test = df_lastyear[293:]"
   ]
  },
  {
   "cell_type": "code",
   "execution_count": 34,
   "id": "cf04290e",
   "metadata": {},
   "outputs": [
    {
     "data": {
      "text/html": [
       "<div>\n",
       "<style scoped>\n",
       "    .dataframe tbody tr th:only-of-type {\n",
       "        vertical-align: middle;\n",
       "    }\n",
       "\n",
       "    .dataframe tbody tr th {\n",
       "        vertical-align: top;\n",
       "    }\n",
       "\n",
       "    .dataframe thead th {\n",
       "        text-align: right;\n",
       "    }\n",
       "</style>\n",
       "<table border=\"1\" class=\"dataframe\">\n",
       "  <thead>\n",
       "    <tr style=\"text-align: right;\">\n",
       "      <th></th>\n",
       "      <th>adjClose</th>\n",
       "    </tr>\n",
       "    <tr>\n",
       "      <th>date</th>\n",
       "      <th></th>\n",
       "    </tr>\n",
       "  </thead>\n",
       "  <tbody>\n",
       "    <tr>\n",
       "      <th>2020-11-13</th>\n",
       "      <td>16317.808594</td>\n",
       "    </tr>\n",
       "    <tr>\n",
       "      <th>2020-11-12</th>\n",
       "      <td>16276.343750</td>\n",
       "    </tr>\n",
       "    <tr>\n",
       "      <th>2020-11-11</th>\n",
       "      <td>15701.339844</td>\n",
       "    </tr>\n",
       "    <tr>\n",
       "      <th>2020-11-10</th>\n",
       "      <td>15290.902344</td>\n",
       "    </tr>\n",
       "    <tr>\n",
       "      <th>2020-11-09</th>\n",
       "      <td>15332.315430</td>\n",
       "    </tr>\n",
       "    <tr>\n",
       "      <th>...</th>\n",
       "      <td>...</td>\n",
       "    </tr>\n",
       "    <tr>\n",
       "      <th>2020-09-06</th>\n",
       "      <td>10280.351563</td>\n",
       "    </tr>\n",
       "    <tr>\n",
       "      <th>2020-09-05</th>\n",
       "      <td>10169.567383</td>\n",
       "    </tr>\n",
       "    <tr>\n",
       "      <th>2020-09-04</th>\n",
       "      <td>10511.813477</td>\n",
       "    </tr>\n",
       "    <tr>\n",
       "      <th>2020-09-03</th>\n",
       "      <td>10245.296875</td>\n",
       "    </tr>\n",
       "    <tr>\n",
       "      <th>2020-09-02</th>\n",
       "      <td>11414.034180</td>\n",
       "    </tr>\n",
       "  </tbody>\n",
       "</table>\n",
       "<p>73 rows × 1 columns</p>\n",
       "</div>"
      ],
      "text/plain": [
       "                adjClose\n",
       "date                    \n",
       "2020-11-13  16317.808594\n",
       "2020-11-12  16276.343750\n",
       "2020-11-11  15701.339844\n",
       "2020-11-10  15290.902344\n",
       "2020-11-09  15332.315430\n",
       "...                  ...\n",
       "2020-09-06  10280.351563\n",
       "2020-09-05  10169.567383\n",
       "2020-09-04  10511.813477\n",
       "2020-09-03  10245.296875\n",
       "2020-09-02  11414.034180\n",
       "\n",
       "[73 rows x 1 columns]"
      ]
     },
     "execution_count": 34,
     "metadata": {},
     "output_type": "execute_result"
    }
   ],
   "source": [
    "test"
   ]
  },
  {
   "cell_type": "markdown",
   "id": "b5c70601",
   "metadata": {},
   "source": [
    "## ARIMA ON DF"
   ]
  },
  {
   "cell_type": "code",
   "execution_count": 35,
   "id": "b19bd433",
   "metadata": {},
   "outputs": [
    {
     "name": "stderr",
     "output_type": "stream",
     "text": [
      "/Users/guillaumetrounson/.pyenv/versions/3.8.6/envs/cryptocurrency_trading/lib/python3.8/site-packages/statsmodels/tsa/arima_model.py:472: FutureWarning: \n",
      "statsmodels.tsa.arima_model.ARMA and statsmodels.tsa.arima_model.ARIMA have\n",
      "been deprecated in favor of statsmodels.tsa.arima.model.ARIMA (note the .\n",
      "between arima and model) and\n",
      "statsmodels.tsa.SARIMAX. These will be removed after the 0.12 release.\n",
      "\n",
      "statsmodels.tsa.arima.model.ARIMA makes use of the statespace framework and\n",
      "is both well tested and maintained.\n",
      "\n",
      "To silence this warning and continue using ARMA and ARIMA until they are\n",
      "removed, use:\n",
      "\n",
      "import warnings\n",
      "warnings.filterwarnings('ignore', 'statsmodels.tsa.arima_model.ARMA',\n",
      "                        FutureWarning)\n",
      "warnings.filterwarnings('ignore', 'statsmodels.tsa.arima_model.ARIMA',\n",
      "                        FutureWarning)\n",
      "\n",
      "  warnings.warn(ARIMA_DEPRECATION_WARN, FutureWarning)\n",
      "/Users/guillaumetrounson/.pyenv/versions/3.8.6/envs/cryptocurrency_trading/lib/python3.8/site-packages/statsmodels/tsa/base/tsa_model.py:524: ValueWarning: No frequency information was provided, so inferred frequency -1D will be used.\n",
      "  warnings.warn('No frequency information was'\n",
      "/Users/guillaumetrounson/.pyenv/versions/3.8.6/envs/cryptocurrency_trading/lib/python3.8/site-packages/statsmodels/tsa/base/tsa_model.py:585: ValueWarning: A date index has been provided, but it is not monotonic and so will be ignored when e.g. forecasting.\n",
      "  warnings.warn('A date index has been provided, but it is not'\n",
      "/Users/guillaumetrounson/.pyenv/versions/3.8.6/envs/cryptocurrency_trading/lib/python3.8/site-packages/statsmodels/tsa/base/tsa_model.py:524: ValueWarning: No frequency information was provided, so inferred frequency -1D will be used.\n",
      "  warnings.warn('No frequency information was'\n",
      "/Users/guillaumetrounson/.pyenv/versions/3.8.6/envs/cryptocurrency_trading/lib/python3.8/site-packages/statsmodels/tsa/base/tsa_model.py:585: ValueWarning: A date index has been provided, but it is not monotonic and so will be ignored when e.g. forecasting.\n",
      "  warnings.warn('A date index has been provided, but it is not'\n",
      " This problem is unconstrained.\n"
     ]
    },
    {
     "name": "stdout",
     "output_type": "stream",
     "text": [
      "RUNNING THE L-BFGS-B CODE\n",
      "\n",
      "           * * *\n",
      "\n",
      "Machine precision = 2.220D-16\n",
      " N =            3     M =           12\n",
      "\n",
      "At X0         0 variables are exactly at the bounds\n",
      "\n",
      "At iterate    0    f=  8.80059D+00    |proj g|=  1.38201D-04\n",
      "\n",
      "At iterate    5    f=  8.80059D+00    |proj g|=  7.92255D-05\n",
      "\n",
      "At iterate   10    f=  8.80059D+00    |proj g|=  1.77636D-07\n",
      "\n",
      "At iterate   15    f=  8.80059D+00    |proj g|=  3.55271D-07\n",
      "\n",
      "At iterate   20    f=  8.80059D+00    |proj g|=  3.01981D-06\n",
      "\n",
      "At iterate   25    f=  8.80059D+00    |proj g|=  1.68754D-05\n",
      "\n",
      "At iterate   30    f=  8.80059D+00    |proj g|=  4.61853D-06\n",
      "\n",
      "At iterate   35    f=  8.80059D+00    |proj g|=  3.55271D-07\n",
      "\n",
      "           * * *\n",
      "\n",
      "Tit   = total number of iterations\n",
      "Tnf   = total number of function evaluations\n",
      "Tnint = total number of segments explored during Cauchy searches\n",
      "Skip  = number of BFGS updates skipped\n",
      "Nact  = number of active bounds at final generalized Cauchy point\n",
      "Projg = norm of the final projected gradient\n",
      "F     = final function value\n",
      "\n",
      "           * * *\n",
      "\n",
      "   N    Tit     Tnf  Tnint  Skip  Nact     Projg        F\n",
      "    3     36     51      1     0     0   1.776D-07   8.801D+00\n",
      "  F =   8.8005858238216685     \n",
      "\n",
      "CONVERGENCE: REL_REDUCTION_OF_F_<=_FACTR*EPSMCH             \n"
     ]
    },
    {
     "data": {
      "text/html": [
       "<table class=\"simpletable\">\n",
       "<caption>ARIMA Model Results</caption>\n",
       "<tr>\n",
       "  <th>Dep. Variable:</th>    <td>D.adjClose</td>    <th>  No. Observations:  </th>    <td>365</td>   \n",
       "</tr>\n",
       "<tr>\n",
       "  <th>Model:</th>          <td>ARIMA(1, 1, 1)</td>  <th>  Log Likelihood     </th> <td>-3212.214</td>\n",
       "</tr>\n",
       "<tr>\n",
       "  <th>Method:</th>             <td>css-mle</td>     <th>  S.D. of innovations</th> <td>1606.202</td> \n",
       "</tr>\n",
       "<tr>\n",
       "  <th>Date:</th>          <td>Thu, 02 Sep 2021</td> <th>  AIC                </th> <td>6432.428</td> \n",
       "</tr>\n",
       "<tr>\n",
       "  <th>Time:</th>              <td>10:40:42</td>     <th>  BIC                </th> <td>6448.027</td> \n",
       "</tr>\n",
       "<tr>\n",
       "  <th>Sample:</th>                <td>1</td>        <th>  HQIC               </th> <td>6438.627</td> \n",
       "</tr>\n",
       "<tr>\n",
       "  <th></th>                       <td> </td>        <th>                     </th>     <td> </td>    \n",
       "</tr>\n",
       "</table>\n",
       "<table class=\"simpletable\">\n",
       "<tr>\n",
       "          <td></td>            <th>coef</th>     <th>std err</th>      <th>z</th>      <th>P>|z|</th>  <th>[0.025</th>    <th>0.975]</th>  \n",
       "</tr>\n",
       "<tr>\n",
       "  <th>const</th>            <td> -104.8645</td> <td>   79.705</td> <td>   -1.316</td> <td> 0.188</td> <td> -261.084</td> <td>   51.355</td>\n",
       "</tr>\n",
       "<tr>\n",
       "  <th>ar.L1.D.adjClose</th> <td>   -0.5916</td> <td>    0.290</td> <td>   -2.040</td> <td> 0.041</td> <td>   -1.160</td> <td>   -0.023</td>\n",
       "</tr>\n",
       "<tr>\n",
       "  <th>ma.L1.D.adjClose</th> <td>    0.5088</td> <td>    0.309</td> <td>    1.648</td> <td> 0.099</td> <td>   -0.096</td> <td>    1.114</td>\n",
       "</tr>\n",
       "</table>\n",
       "<table class=\"simpletable\">\n",
       "<caption>Roots</caption>\n",
       "<tr>\n",
       "    <td></td>   <th>            Real</th>  <th>         Imaginary</th> <th>         Modulus</th>  <th>        Frequency</th>\n",
       "</tr>\n",
       "<tr>\n",
       "  <th>AR.1</th> <td>          -1.6902</td> <td>          +0.0000j</td> <td>           1.6902</td> <td>           0.5000</td>\n",
       "</tr>\n",
       "<tr>\n",
       "  <th>MA.1</th> <td>          -1.9653</td> <td>          +0.0000j</td> <td>           1.9653</td> <td>           0.5000</td>\n",
       "</tr>\n",
       "</table>"
      ],
      "text/plain": [
       "<class 'statsmodels.iolib.summary.Summary'>\n",
       "\"\"\"\n",
       "                             ARIMA Model Results                              \n",
       "==============================================================================\n",
       "Dep. Variable:             D.adjClose   No. Observations:                  365\n",
       "Model:                 ARIMA(1, 1, 1)   Log Likelihood               -3212.214\n",
       "Method:                       css-mle   S.D. of innovations           1606.202\n",
       "Date:                Thu, 02 Sep 2021   AIC                           6432.428\n",
       "Time:                        10:40:42   BIC                           6448.027\n",
       "Sample:                             1   HQIC                          6438.627\n",
       "                                                                              \n",
       "====================================================================================\n",
       "                       coef    std err          z      P>|z|      [0.025      0.975]\n",
       "------------------------------------------------------------------------------------\n",
       "const             -104.8645     79.705     -1.316      0.188    -261.084      51.355\n",
       "ar.L1.D.adjClose    -0.5916      0.290     -2.040      0.041      -1.160      -0.023\n",
       "ma.L1.D.adjClose     0.5088      0.309      1.648      0.099      -0.096       1.114\n",
       "                                    Roots                                    \n",
       "=============================================================================\n",
       "                  Real          Imaginary           Modulus         Frequency\n",
       "-----------------------------------------------------------------------------\n",
       "AR.1           -1.6902           +0.0000j            1.6902            0.5000\n",
       "MA.1           -1.9653           +0.0000j            1.9653            0.5000\n",
       "-----------------------------------------------------------------------------\n",
       "\"\"\""
      ]
     },
     "execution_count": 35,
     "metadata": {},
     "output_type": "execute_result"
    }
   ],
   "source": [
    "from statsmodels.tsa.arima_model import ARIMA\n",
    "# 1. initialize the model\n",
    "arima = ARIMA(y, order=(1, 1, 1))\n",
    "\n",
    "# 2. fit the models\n",
    "arima = arima.fit()\n",
    "\n",
    "arima.summary()"
   ]
  },
  {
   "cell_type": "markdown",
   "id": "ce501ee7",
   "metadata": {},
   "source": [
    "## ARIMA ON TRAIN DF"
   ]
  },
  {
   "cell_type": "code",
   "execution_count": 36,
   "id": "906c6b19",
   "metadata": {},
   "outputs": [
    {
     "name": "stdout",
     "output_type": "stream",
     "text": [
      "RUNNING THE L-BFGS-B CODE\n",
      "\n",
      "           * * *\n",
      "\n",
      "Machine precision = 2.220D-16\n",
      " N =            3     M =           12\n",
      "\n",
      "At X0         0 variables are exactly at the bounds\n",
      "\n",
      "At iterate    0    f=  8.90783D+00    |proj g|=  1.81011D-04\n",
      "\n",
      "At iterate    5    f=  8.90783D+00    |proj g|=  1.55786D-04\n",
      "\n",
      "At iterate   10    f=  8.90783D+00    |proj g|=  1.77636D-07\n",
      "\n",
      "           * * *\n",
      "\n",
      "Tit   = total number of iterations\n",
      "Tnf   = total number of function evaluations\n",
      "Tnint = total number of segments explored during Cauchy searches\n",
      "Skip  = number of BFGS updates skipped\n",
      "Nact  = number of active bounds at final generalized Cauchy point\n",
      "Projg = norm of the final projected gradient\n",
      "F     = final function value\n",
      "\n",
      "           * * *\n",
      "\n",
      "   N    Tit     Tnf  Tnint  Skip  Nact     Projg        F\n",
      "    3     13     19      1     0     0   7.105D-07   8.908D+00\n",
      "  F =   8.9078271292548408     \n",
      "\n",
      "CONVERGENCE: REL_REDUCTION_OF_F_<=_FACTR*EPSMCH             \n"
     ]
    },
    {
     "name": "stderr",
     "output_type": "stream",
     "text": [
      "/Users/guillaumetrounson/.pyenv/versions/3.8.6/envs/cryptocurrency_trading/lib/python3.8/site-packages/statsmodels/tsa/arima_model.py:472: FutureWarning: \n",
      "statsmodels.tsa.arima_model.ARMA and statsmodels.tsa.arima_model.ARIMA have\n",
      "been deprecated in favor of statsmodels.tsa.arima.model.ARIMA (note the .\n",
      "between arima and model) and\n",
      "statsmodels.tsa.SARIMAX. These will be removed after the 0.12 release.\n",
      "\n",
      "statsmodels.tsa.arima.model.ARIMA makes use of the statespace framework and\n",
      "is both well tested and maintained.\n",
      "\n",
      "To silence this warning and continue using ARMA and ARIMA until they are\n",
      "removed, use:\n",
      "\n",
      "import warnings\n",
      "warnings.filterwarnings('ignore', 'statsmodels.tsa.arima_model.ARMA',\n",
      "                        FutureWarning)\n",
      "warnings.filterwarnings('ignore', 'statsmodels.tsa.arima_model.ARIMA',\n",
      "                        FutureWarning)\n",
      "\n",
      "  warnings.warn(ARIMA_DEPRECATION_WARN, FutureWarning)\n",
      "/Users/guillaumetrounson/.pyenv/versions/3.8.6/envs/cryptocurrency_trading/lib/python3.8/site-packages/statsmodels/tsa/base/tsa_model.py:524: ValueWarning: No frequency information was provided, so inferred frequency -1D will be used.\n",
      "  warnings.warn('No frequency information was'\n",
      "/Users/guillaumetrounson/.pyenv/versions/3.8.6/envs/cryptocurrency_trading/lib/python3.8/site-packages/statsmodels/tsa/base/tsa_model.py:585: ValueWarning: A date index has been provided, but it is not monotonic and so will be ignored when e.g. forecasting.\n",
      "  warnings.warn('A date index has been provided, but it is not'\n",
      "/Users/guillaumetrounson/.pyenv/versions/3.8.6/envs/cryptocurrency_trading/lib/python3.8/site-packages/statsmodels/tsa/base/tsa_model.py:524: ValueWarning: No frequency information was provided, so inferred frequency -1D will be used.\n",
      "  warnings.warn('No frequency information was'\n",
      "/Users/guillaumetrounson/.pyenv/versions/3.8.6/envs/cryptocurrency_trading/lib/python3.8/site-packages/statsmodels/tsa/base/tsa_model.py:585: ValueWarning: A date index has been provided, but it is not monotonic and so will be ignored when e.g. forecasting.\n",
      "  warnings.warn('A date index has been provided, but it is not'\n",
      " This problem is unconstrained.\n"
     ]
    },
    {
     "data": {
      "text/html": [
       "<table class=\"simpletable\">\n",
       "<caption>ARIMA Model Results</caption>\n",
       "<tr>\n",
       "  <th>Dep. Variable:</th>    <td>D.adjClose</td>    <th>  No. Observations:  </th>    <td>292</td>   \n",
       "</tr>\n",
       "<tr>\n",
       "  <th>Model:</th>          <td>ARIMA(1, 1, 1)</td>  <th>  Log Likelihood     </th> <td>-2601.086</td>\n",
       "</tr>\n",
       "<tr>\n",
       "  <th>Method:</th>             <td>css-mle</td>     <th>  S.D. of innovations</th> <td>1788.020</td> \n",
       "</tr>\n",
       "<tr>\n",
       "  <th>Date:</th>          <td>Thu, 02 Sep 2021</td> <th>  AIC                </th> <td>5210.171</td> \n",
       "</tr>\n",
       "<tr>\n",
       "  <th>Time:</th>              <td>10:40:42</td>     <th>  BIC                </th> <td>5224.878</td> \n",
       "</tr>\n",
       "<tr>\n",
       "  <th>Sample:</th>                <td>1</td>        <th>  HQIC               </th> <td>5216.062</td> \n",
       "</tr>\n",
       "<tr>\n",
       "  <th></th>                       <td> </td>        <th>                     </th>     <td> </td>    \n",
       "</tr>\n",
       "</table>\n",
       "<table class=\"simpletable\">\n",
       "<tr>\n",
       "          <td></td>            <th>coef</th>     <th>std err</th>      <th>z</th>      <th>P>|z|</th>  <th>[0.025</th>    <th>0.975]</th>  \n",
       "</tr>\n",
       "<tr>\n",
       "  <th>const</th>            <td> -114.8295</td> <td>   99.232</td> <td>   -1.157</td> <td> 0.247</td> <td> -309.321</td> <td>   79.662</td>\n",
       "</tr>\n",
       "<tr>\n",
       "  <th>ar.L1.D.adjClose</th> <td>   -0.5966</td> <td>    0.318</td> <td>   -1.876</td> <td> 0.061</td> <td>   -1.220</td> <td>    0.027</td>\n",
       "</tr>\n",
       "<tr>\n",
       "  <th>ma.L1.D.adjClose</th> <td>    0.5140</td> <td>    0.339</td> <td>    1.517</td> <td> 0.129</td> <td>   -0.150</td> <td>    1.178</td>\n",
       "</tr>\n",
       "</table>\n",
       "<table class=\"simpletable\">\n",
       "<caption>Roots</caption>\n",
       "<tr>\n",
       "    <td></td>   <th>            Real</th>  <th>         Imaginary</th> <th>         Modulus</th>  <th>        Frequency</th>\n",
       "</tr>\n",
       "<tr>\n",
       "  <th>AR.1</th> <td>          -1.6761</td> <td>          +0.0000j</td> <td>           1.6761</td> <td>           0.5000</td>\n",
       "</tr>\n",
       "<tr>\n",
       "  <th>MA.1</th> <td>          -1.9456</td> <td>          +0.0000j</td> <td>           1.9456</td> <td>           0.5000</td>\n",
       "</tr>\n",
       "</table>"
      ],
      "text/plain": [
       "<class 'statsmodels.iolib.summary.Summary'>\n",
       "\"\"\"\n",
       "                             ARIMA Model Results                              \n",
       "==============================================================================\n",
       "Dep. Variable:             D.adjClose   No. Observations:                  292\n",
       "Model:                 ARIMA(1, 1, 1)   Log Likelihood               -2601.086\n",
       "Method:                       css-mle   S.D. of innovations           1788.020\n",
       "Date:                Thu, 02 Sep 2021   AIC                           5210.171\n",
       "Time:                        10:40:42   BIC                           5224.878\n",
       "Sample:                             1   HQIC                          5216.062\n",
       "                                                                              \n",
       "====================================================================================\n",
       "                       coef    std err          z      P>|z|      [0.025      0.975]\n",
       "------------------------------------------------------------------------------------\n",
       "const             -114.8295     99.232     -1.157      0.247    -309.321      79.662\n",
       "ar.L1.D.adjClose    -0.5966      0.318     -1.876      0.061      -1.220       0.027\n",
       "ma.L1.D.adjClose     0.5140      0.339      1.517      0.129      -0.150       1.178\n",
       "                                    Roots                                    \n",
       "=============================================================================\n",
       "                  Real          Imaginary           Modulus         Frequency\n",
       "-----------------------------------------------------------------------------\n",
       "AR.1           -1.6761           +0.0000j            1.6761            0.5000\n",
       "MA.1           -1.9456           +0.0000j            1.9456            0.5000\n",
       "-----------------------------------------------------------------------------\n",
       "\"\"\""
      ]
     },
     "execution_count": 36,
     "metadata": {},
     "output_type": "execute_result"
    }
   ],
   "source": [
    "arima_train = ARIMA(train, order=(1, 1, 1)).fit()\n",
    "arima_train.summary()"
   ]
  },
  {
   "cell_type": "code",
   "execution_count": 37,
   "id": "24b3c5f3",
   "metadata": {},
   "outputs": [
    {
     "data": {
      "image/png": "[encoded data removed]",
      "text/plain": [
       "<Figure size 432x288 with 1 Axes>"
      ]
     },
     "metadata": {
      "needs_background": "light"
     },
     "output_type": "display_data"
    }
   ],
   "source": [
    "arima.plot_predict(dynamic=False);"
   ]
  },
  {
   "cell_type": "code",
   "execution_count": 38,
   "id": "19b5de1d",
   "metadata": {},
   "outputs": [
    {
     "data": {
      "image/png": "[encoded data removed]",
      "text/plain": [
       "<Figure size 432x288 with 1 Axes>"
      ]
     },
     "metadata": {
      "needs_background": "light"
     },
     "output_type": "display_data"
    }
   ],
   "source": [
    "arima_train.plot_predict(dynamic=False);"
   ]
  },
  {
   "cell_type": "code",
   "execution_count": 39,
   "id": "1fd9a139",
   "metadata": {},
   "outputs": [
    {
     "data": {
      "text/html": [
       "<div>\n",
       "<style scoped>\n",
       "    .dataframe tbody tr th:only-of-type {\n",
       "        vertical-align: middle;\n",
       "    }\n",
       "\n",
       "    .dataframe tbody tr th {\n",
       "        vertical-align: top;\n",
       "    }\n",
       "\n",
       "    .dataframe thead th {\n",
       "        text-align: right;\n",
       "    }\n",
       "</style>\n",
       "<table border=\"1\" class=\"dataframe\">\n",
       "  <thead>\n",
       "    <tr style=\"text-align: right;\">\n",
       "      <th></th>\n",
       "      <th>adjClose</th>\n",
       "    </tr>\n",
       "    <tr>\n",
       "      <th>date</th>\n",
       "      <th></th>\n",
       "    </tr>\n",
       "  </thead>\n",
       "  <tbody>\n",
       "    <tr>\n",
       "      <th>2020-11-13</th>\n",
       "      <td>16317.808594</td>\n",
       "    </tr>\n",
       "    <tr>\n",
       "      <th>2020-11-12</th>\n",
       "      <td>16276.343750</td>\n",
       "    </tr>\n",
       "    <tr>\n",
       "      <th>2020-11-11</th>\n",
       "      <td>15701.339844</td>\n",
       "    </tr>\n",
       "    <tr>\n",
       "      <th>2020-11-10</th>\n",
       "      <td>15290.902344</td>\n",
       "    </tr>\n",
       "    <tr>\n",
       "      <th>2020-11-09</th>\n",
       "      <td>15332.315430</td>\n",
       "    </tr>\n",
       "    <tr>\n",
       "      <th>...</th>\n",
       "      <td>...</td>\n",
       "    </tr>\n",
       "    <tr>\n",
       "      <th>2020-09-06</th>\n",
       "      <td>10280.351563</td>\n",
       "    </tr>\n",
       "    <tr>\n",
       "      <th>2020-09-05</th>\n",
       "      <td>10169.567383</td>\n",
       "    </tr>\n",
       "    <tr>\n",
       "      <th>2020-09-04</th>\n",
       "      <td>10511.813477</td>\n",
       "    </tr>\n",
       "    <tr>\n",
       "      <th>2020-09-03</th>\n",
       "      <td>10245.296875</td>\n",
       "    </tr>\n",
       "    <tr>\n",
       "      <th>2020-09-02</th>\n",
       "      <td>11414.034180</td>\n",
       "    </tr>\n",
       "  </tbody>\n",
       "</table>\n",
       "<p>73 rows × 1 columns</p>\n",
       "</div>"
      ],
      "text/plain": [
       "                adjClose\n",
       "date                    \n",
       "2020-11-13  16317.808594\n",
       "2020-11-12  16276.343750\n",
       "2020-11-11  15701.339844\n",
       "2020-11-10  15290.902344\n",
       "2020-11-09  15332.315430\n",
       "...                  ...\n",
       "2020-09-06  10280.351563\n",
       "2020-09-05  10169.567383\n",
       "2020-09-04  10511.813477\n",
       "2020-09-03  10245.296875\n",
       "2020-09-02  11414.034180\n",
       "\n",
       "[73 rows x 1 columns]"
      ]
     },
     "execution_count": 39,
     "metadata": {},
     "output_type": "execute_result"
    }
   ],
   "source": [
    "test"
   ]
  },
  {
   "cell_type": "code",
   "execution_count": 40,
   "id": "9c7df4b0",
   "metadata": {},
   "outputs": [
    {
     "name": "stderr",
     "output_type": "stream",
     "text": [
      "/Users/guillaumetrounson/.pyenv/versions/3.8.6/envs/cryptocurrency_trading/lib/python3.8/site-packages/statsmodels/tsa/arima_model.py:472: FutureWarning: \n",
      "statsmodels.tsa.arima_model.ARMA and statsmodels.tsa.arima_model.ARIMA have\n",
      "been deprecated in favor of statsmodels.tsa.arima.model.ARIMA (note the .\n",
      "between arima and model) and\n",
      "statsmodels.tsa.SARIMAX. These will be removed after the 0.12 release.\n",
      "\n",
      "statsmodels.tsa.arima.model.ARIMA makes use of the statespace framework and\n",
      "is both well tested and maintained.\n",
      "\n",
      "To silence this warning and continue using ARMA and ARIMA until they are\n",
      "removed, use:\n",
      "\n",
      "import warnings\n",
      "warnings.filterwarnings('ignore', 'statsmodels.tsa.arima_model.ARMA',\n",
      "                        FutureWarning)\n",
      "warnings.filterwarnings('ignore', 'statsmodels.tsa.arima_model.ARIMA',\n",
      "                        FutureWarning)\n",
      "\n",
      "  warnings.warn(ARIMA_DEPRECATION_WARN, FutureWarning)\n",
      "/Users/guillaumetrounson/.pyenv/versions/3.8.6/envs/cryptocurrency_trading/lib/python3.8/site-packages/statsmodels/tsa/base/tsa_model.py:524: ValueWarning: No frequency information was provided, so inferred frequency -1D will be used.\n",
      "  warnings.warn('No frequency information was'\n",
      "/Users/guillaumetrounson/.pyenv/versions/3.8.6/envs/cryptocurrency_trading/lib/python3.8/site-packages/statsmodels/tsa/base/tsa_model.py:585: ValueWarning: A date index has been provided, but it is not monotonic and so will be ignored when e.g. forecasting.\n",
      "  warnings.warn('A date index has been provided, but it is not'\n",
      "/Users/guillaumetrounson/.pyenv/versions/3.8.6/envs/cryptocurrency_trading/lib/python3.8/site-packages/statsmodels/tsa/base/tsa_model.py:524: ValueWarning: No frequency information was provided, so inferred frequency -1D will be used.\n",
      "  warnings.warn('No frequency information was'\n",
      "/Users/guillaumetrounson/.pyenv/versions/3.8.6/envs/cryptocurrency_trading/lib/python3.8/site-packages/statsmodels/tsa/base/tsa_model.py:585: ValueWarning: A date index has been provided, but it is not monotonic and so will be ignored when e.g. forecasting.\n",
      "  warnings.warn('A date index has been provided, but it is not'\n",
      " This problem is unconstrained.\n"
     ]
    },
    {
     "name": "stdout",
     "output_type": "stream",
     "text": [
      "RUNNING THE L-BFGS-B CODE\n",
      "\n",
      "           * * *\n",
      "\n",
      "Machine precision = 2.220D-16\n",
      " N =            3     M =           12\n",
      "\n",
      "At X0         0 variables are exactly at the bounds\n",
      "\n",
      "At iterate    0    f=  7.21136D+00    |proj g|=  1.03624D-03\n",
      "\n",
      "At iterate    5    f=  7.21130D+00    |proj g|=  1.27542D-04\n",
      "\n",
      "At iterate   10    f=  7.21130D+00    |proj g|=  4.44089D-06\n",
      "\n",
      "At iterate   15    f=  7.21130D+00    |proj g|=  5.00933D-05\n",
      "\n",
      "           * * *\n",
      "\n",
      "Tit   = total number of iterations\n",
      "Tnf   = total number of function evaluations\n",
      "Tnint = total number of segments explored during Cauchy searches\n",
      "Skip  = number of BFGS updates skipped\n",
      "Nact  = number of active bounds at final generalized Cauchy point\n",
      "Projg = norm of the final projected gradient\n",
      "F     = final function value\n",
      "\n",
      "           * * *\n",
      "\n",
      "   N    Tit     Tnf  Tnint  Skip  Nact     Projg        F\n",
      "    3     19     29      1     0     0   1.599D-06   7.211D+00\n",
      "  F =   7.2113036792890064     \n",
      "\n",
      "CONVERGENCE: REL_REDUCTION_OF_F_<=_FACTR*EPSMCH             \n"
     ]
    },
    {
     "data": {
      "text/html": [
       "<table class=\"simpletable\">\n",
       "<caption>ARIMA Model Results</caption>\n",
       "<tr>\n",
       "  <th>Dep. Variable:</th>    <td>D.adjClose</td>    <th>  No. Observations:  </th>    <td>72</td>   \n",
       "</tr>\n",
       "<tr>\n",
       "  <th>Model:</th>          <td>ARIMA(1, 1, 1)</td>  <th>  Log Likelihood     </th> <td>-519.214</td>\n",
       "</tr>\n",
       "<tr>\n",
       "  <th>Method:</th>             <td>css-mle</td>     <th>  S.D. of innovations</th>  <td>327.737</td>\n",
       "</tr>\n",
       "<tr>\n",
       "  <th>Date:</th>          <td>Thu, 02 Sep 2021</td> <th>  AIC                </th> <td>1046.428</td>\n",
       "</tr>\n",
       "<tr>\n",
       "  <th>Time:</th>              <td>10:40:43</td>     <th>  BIC                </th> <td>1055.534</td>\n",
       "</tr>\n",
       "<tr>\n",
       "  <th>Sample:</th>                <td>1</td>        <th>  HQIC               </th> <td>1050.053</td>\n",
       "</tr>\n",
       "<tr>\n",
       "  <th></th>                       <td> </td>        <th>                     </th>     <td> </td>   \n",
       "</tr>\n",
       "</table>\n",
       "<table class=\"simpletable\">\n",
       "<tr>\n",
       "          <td></td>            <th>coef</th>     <th>std err</th>      <th>z</th>      <th>P>|z|</th>  <th>[0.025</th>    <th>0.975]</th>  \n",
       "</tr>\n",
       "<tr>\n",
       "  <th>const</th>            <td>  -70.4508</td> <td>   33.352</td> <td>   -2.112</td> <td> 0.035</td> <td> -135.820</td> <td>   -5.081</td>\n",
       "</tr>\n",
       "<tr>\n",
       "  <th>ar.L1.D.adjClose</th> <td>   -0.0618</td> <td>    0.666</td> <td>   -0.093</td> <td> 0.926</td> <td>   -1.366</td> <td>    1.243</td>\n",
       "</tr>\n",
       "<tr>\n",
       "  <th>ma.L1.D.adjClose</th> <td>   -0.0866</td> <td>    0.657</td> <td>   -0.132</td> <td> 0.895</td> <td>   -1.374</td> <td>    1.201</td>\n",
       "</tr>\n",
       "</table>\n",
       "<table class=\"simpletable\">\n",
       "<caption>Roots</caption>\n",
       "<tr>\n",
       "    <td></td>   <th>            Real</th>  <th>         Imaginary</th> <th>         Modulus</th>  <th>        Frequency</th>\n",
       "</tr>\n",
       "<tr>\n",
       "  <th>AR.1</th> <td>         -16.1878</td> <td>          +0.0000j</td> <td>          16.1878</td> <td>           0.5000</td>\n",
       "</tr>\n",
       "<tr>\n",
       "  <th>MA.1</th> <td>          11.5524</td> <td>          +0.0000j</td> <td>          11.5524</td> <td>           0.0000</td>\n",
       "</tr>\n",
       "</table>"
      ],
      "text/plain": [
       "<class 'statsmodels.iolib.summary.Summary'>\n",
       "\"\"\"\n",
       "                             ARIMA Model Results                              \n",
       "==============================================================================\n",
       "Dep. Variable:             D.adjClose   No. Observations:                   72\n",
       "Model:                 ARIMA(1, 1, 1)   Log Likelihood                -519.214\n",
       "Method:                       css-mle   S.D. of innovations            327.737\n",
       "Date:                Thu, 02 Sep 2021   AIC                           1046.428\n",
       "Time:                        10:40:43   BIC                           1055.534\n",
       "Sample:                             1   HQIC                          1050.053\n",
       "                                                                              \n",
       "====================================================================================\n",
       "                       coef    std err          z      P>|z|      [0.025      0.975]\n",
       "------------------------------------------------------------------------------------\n",
       "const              -70.4508     33.352     -2.112      0.035    -135.820      -5.081\n",
       "ar.L1.D.adjClose    -0.0618      0.666     -0.093      0.926      -1.366       1.243\n",
       "ma.L1.D.adjClose    -0.0866      0.657     -0.132      0.895      -1.374       1.201\n",
       "                                    Roots                                    \n",
       "=============================================================================\n",
       "                  Real          Imaginary           Modulus         Frequency\n",
       "-----------------------------------------------------------------------------\n",
       "AR.1          -16.1878           +0.0000j           16.1878            0.5000\n",
       "MA.1           11.5524           +0.0000j           11.5524            0.0000\n",
       "-----------------------------------------------------------------------------\n",
       "\"\"\""
      ]
     },
     "execution_count": 40,
     "metadata": {},
     "output_type": "execute_result"
    }
   ],
   "source": [
    "arima_test = ARIMA(test, order=(1, 1, 1)).fit()\n",
    "arima_test.summary()"
   ]
  },
  {
   "cell_type": "code",
   "execution_count": 70,
   "id": "645293a8",
   "metadata": {},
   "outputs": [
    {
     "data": {
      "text/html": [
       "<div>\n",
       "<style scoped>\n",
       "    .dataframe tbody tr th:only-of-type {\n",
       "        vertical-align: middle;\n",
       "    }\n",
       "\n",
       "    .dataframe tbody tr th {\n",
       "        vertical-align: top;\n",
       "    }\n",
       "\n",
       "    .dataframe thead th {\n",
       "        text-align: right;\n",
       "    }\n",
       "</style>\n",
       "<table border=\"1\" class=\"dataframe\">\n",
       "  <thead>\n",
       "    <tr style=\"text-align: right;\">\n",
       "      <th></th>\n",
       "      <th>adjClose</th>\n",
       "    </tr>\n",
       "    <tr>\n",
       "      <th>date</th>\n",
       "      <th></th>\n",
       "    </tr>\n",
       "  </thead>\n",
       "  <tbody>\n",
       "    <tr>\n",
       "      <th>2021-09-02</th>\n",
       "      <td>49598.503906</td>\n",
       "    </tr>\n",
       "    <tr>\n",
       "      <th>2021-09-01</th>\n",
       "      <td>48847.027344</td>\n",
       "    </tr>\n",
       "    <tr>\n",
       "      <th>2021-08-31</th>\n",
       "      <td>47166.687500</td>\n",
       "    </tr>\n",
       "    <tr>\n",
       "      <th>2021-08-30</th>\n",
       "      <td>47054.984375</td>\n",
       "    </tr>\n",
       "    <tr>\n",
       "      <th>2021-08-29</th>\n",
       "      <td>48829.832031</td>\n",
       "    </tr>\n",
       "    <tr>\n",
       "      <th>...</th>\n",
       "      <td>...</td>\n",
       "    </tr>\n",
       "    <tr>\n",
       "      <th>2020-09-06</th>\n",
       "      <td>10280.351563</td>\n",
       "    </tr>\n",
       "    <tr>\n",
       "      <th>2020-09-05</th>\n",
       "      <td>10169.567383</td>\n",
       "    </tr>\n",
       "    <tr>\n",
       "      <th>2020-09-04</th>\n",
       "      <td>10511.813477</td>\n",
       "    </tr>\n",
       "    <tr>\n",
       "      <th>2020-09-03</th>\n",
       "      <td>10245.296875</td>\n",
       "    </tr>\n",
       "    <tr>\n",
       "      <th>2020-09-02</th>\n",
       "      <td>11414.034180</td>\n",
       "    </tr>\n",
       "  </tbody>\n",
       "</table>\n",
       "<p>366 rows × 1 columns</p>\n",
       "</div>"
      ],
      "text/plain": [
       "                adjClose\n",
       "date                    \n",
       "2021-09-02  49598.503906\n",
       "2021-09-01  48847.027344\n",
       "2021-08-31  47166.687500\n",
       "2021-08-30  47054.984375\n",
       "2021-08-29  48829.832031\n",
       "...                  ...\n",
       "2020-09-06  10280.351563\n",
       "2020-09-05  10169.567383\n",
       "2020-09-04  10511.813477\n",
       "2020-09-03  10245.296875\n",
       "2020-09-02  11414.034180\n",
       "\n",
       "[366 rows x 1 columns]"
      ]
     },
     "execution_count": 70,
     "metadata": {},
     "output_type": "execute_result"
    }
   ],
   "source": [
    "df_lastyear"
   ]
  },
  {
   "cell_type": "code",
   "execution_count": 41,
   "id": "bd3253d0",
   "metadata": {},
   "outputs": [
    {
     "data": {
      "text/plain": [
       "date\n",
       "2021-09-01   -104.864519\n",
       "2021-08-31    -47.876713\n",
       "2021-08-30     -1.141816\n",
       "2021-08-29   -157.035629\n",
       "2021-08-28   -234.172547\n",
       "                 ...    \n",
       "2020-09-06   -131.768249\n",
       "2020-09-05    -92.471562\n",
       "2020-09-04   -110.680106\n",
       "2020-09-03   -138.934801\n",
       "2020-09-02    -74.140785\n",
       "Length: 365, dtype: float64"
      ]
     },
     "execution_count": 41,
     "metadata": {},
     "output_type": "execute_result"
    }
   ],
   "source": [
    "arima.predict()"
   ]
  },
  {
   "cell_type": "code",
   "execution_count": 50,
   "id": "8733dd2d",
   "metadata": {},
   "outputs": [
    {
     "data": {
      "image/png": "[encoded data removed]",
      "text/plain": [
       "<Figure size 864x360 with 1 Axes>"
      ]
     },
     "metadata": {
      "needs_background": "light"
     },
     "output_type": "display_data"
    }
   ],
   "source": [
    "arima.plot_predict(start='2021-09-01', end='2021-08-31', dynamic=False);\n",
    "fig = plt.gcf(); fig.set_size_inches(12, 5);"
   ]
  },
  {
   "cell_type": "code",
   "execution_count": 51,
   "id": "6e0aef69",
   "metadata": {},
   "outputs": [
    {
     "data": {
      "text/plain": [
       "DatetimeIndex(['2021-09-02', '2021-09-01', '2021-08-31', '2021-08-30',\n",
       "               '2021-08-29', '2021-08-28', '2021-08-27', '2021-08-26',\n",
       "               '2021-08-25', '2021-08-24',\n",
       "               ...\n",
       "               '2020-09-11', '2020-09-10', '2020-09-09', '2020-09-08',\n",
       "               '2020-09-07', '2020-09-06', '2020-09-05', '2020-09-04',\n",
       "               '2020-09-03', '2020-09-02'],\n",
       "              dtype='datetime64[ns]', name='date', length=366, freq=None)"
      ]
     },
     "execution_count": 51,
     "metadata": {},
     "output_type": "execute_result"
    }
   ],
   "source": [
    "df_lastyear.index"
   ]
  },
  {
   "cell_type": "code",
   "execution_count": 62,
   "id": "724e2fe8",
   "metadata": {},
   "outputs": [],
   "source": [
    "(forecast, stderr, conf_int) = arima_train.forecast(len(test), alpha=0.05)"
   ]
  },
  {
   "cell_type": "code",
   "execution_count": 63,
   "id": "02f6d095",
   "metadata": {},
   "outputs": [],
   "source": [
    "forecast = pd.Series(forecast, name='forecast')\n",
    "stderr = pd.Series(stderr)\n",
    "conf_int = pd.DataFrame(conf_int, columns=['low', 'high'])"
   ]
  },
  {
   "cell_type": "code",
   "execution_count": 64,
   "id": "ad1bab11",
   "metadata": {},
   "outputs": [
    {
     "data": {
      "text/html": [
       "<div>\n",
       "<style scoped>\n",
       "    .dataframe tbody tr th:only-of-type {\n",
       "        vertical-align: middle;\n",
       "    }\n",
       "\n",
       "    .dataframe tbody tr th {\n",
       "        vertical-align: top;\n",
       "    }\n",
       "\n",
       "    .dataframe thead th {\n",
       "        text-align: right;\n",
       "    }\n",
       "</style>\n",
       "<table border=\"1\" class=\"dataframe\">\n",
       "  <thead>\n",
       "    <tr style=\"text-align: right;\">\n",
       "      <th></th>\n",
       "      <th>adjClose</th>\n",
       "    </tr>\n",
       "    <tr>\n",
       "      <th>date</th>\n",
       "      <th></th>\n",
       "    </tr>\n",
       "  </thead>\n",
       "  <tbody>\n",
       "    <tr>\n",
       "      <th>2021-09-02</th>\n",
       "      <td>49598.503906</td>\n",
       "    </tr>\n",
       "    <tr>\n",
       "      <th>2021-09-01</th>\n",
       "      <td>48847.027344</td>\n",
       "    </tr>\n",
       "    <tr>\n",
       "      <th>2021-08-31</th>\n",
       "      <td>47166.687500</td>\n",
       "    </tr>\n",
       "    <tr>\n",
       "      <th>2021-08-30</th>\n",
       "      <td>47054.984375</td>\n",
       "    </tr>\n",
       "    <tr>\n",
       "      <th>2021-08-29</th>\n",
       "      <td>48829.832031</td>\n",
       "    </tr>\n",
       "    <tr>\n",
       "      <th>...</th>\n",
       "      <td>...</td>\n",
       "    </tr>\n",
       "    <tr>\n",
       "      <th>2020-11-18</th>\n",
       "      <td>17804.005859</td>\n",
       "    </tr>\n",
       "    <tr>\n",
       "      <th>2020-11-17</th>\n",
       "      <td>17645.406250</td>\n",
       "    </tr>\n",
       "    <tr>\n",
       "      <th>2020-11-16</th>\n",
       "      <td>16716.111328</td>\n",
       "    </tr>\n",
       "    <tr>\n",
       "      <th>2020-11-15</th>\n",
       "      <td>15955.587891</td>\n",
       "    </tr>\n",
       "    <tr>\n",
       "      <th>2020-11-14</th>\n",
       "      <td>16068.138672</td>\n",
       "    </tr>\n",
       "  </tbody>\n",
       "</table>\n",
       "<p>293 rows × 1 columns</p>\n",
       "</div>"
      ],
      "text/plain": [
       "                adjClose\n",
       "date                    \n",
       "2021-09-02  49598.503906\n",
       "2021-09-01  48847.027344\n",
       "2021-08-31  47166.687500\n",
       "2021-08-30  47054.984375\n",
       "2021-08-29  48829.832031\n",
       "...                  ...\n",
       "2020-11-18  17804.005859\n",
       "2020-11-17  17645.406250\n",
       "2020-11-16  16716.111328\n",
       "2020-11-15  15955.587891\n",
       "2020-11-14  16068.138672\n",
       "\n",
       "[293 rows x 1 columns]"
      ]
     },
     "execution_count": 64,
     "metadata": {},
     "output_type": "execute_result"
    }
   ],
   "source": [
    "train"
   ]
  },
  {
   "cell_type": "code",
   "execution_count": 65,
   "id": "12e4ae97",
   "metadata": {},
   "outputs": [
    {
     "data": {
      "text/plain": [
       "<matplotlib.legend.Legend at 0x12a474850>"
      ]
     },
     "execution_count": 65,
     "metadata": {},
     "output_type": "execute_result"
    },
    {
     "data": {
      "image/png": "[encoded data removed]",
      "text/plain": [
       "<Figure size 432x288 with 1 Axes>"
      ]
     },
     "metadata": {
      "needs_background": "light"
     },
     "output_type": "display_data"
    }
   ],
   "source": [
    "plt.plot(forecast, c='orange')\n",
    "plt.plot(conf_int['low'], label='low', c='grey', ls='--')\n",
    "plt.plot(conf_int['high'], label='high', c='grey', ls='--')\n",
    "plt.legend()"
   ]
  },
  {
   "cell_type": "code",
   "execution_count": 66,
   "id": "c5cddcd3",
   "metadata": {},
   "outputs": [],
   "source": [
    "forecast.index = test['adjClose'].index\n",
    "conf_int.index = test['adjClose'].index"
   ]
  },
  {
   "cell_type": "code",
   "execution_count": 67,
   "id": "81cad960",
   "metadata": {},
   "outputs": [
    {
     "name": "stdout",
     "output_type": "stream",
     "text": [
      "Performing stepwise search to minimize aic\n",
      " ARIMA(0,1,0)(0,0,0)[0] intercept   : AIC=5209.268, Time=0.01 sec\n",
      " ARIMA(1,1,0)(0,0,0)[0] intercept   : AIC=5209.975, Time=0.02 sec\n",
      " ARIMA(0,1,1)(0,0,0)[0] intercept   : AIC=5210.000, Time=0.04 sec\n",
      " ARIMA(0,1,0)(0,0,0)[0]             : AIC=5208.459, Time=0.01 sec\n",
      " ARIMA(1,1,1)(0,0,0)[0] intercept   : AIC=5211.949, Time=0.12 sec\n",
      "\n",
      "Best model:  ARIMA(0,1,0)(0,0,0)[0]          \n",
      "Total fit time: 0.211 seconds\n"
     ]
    }
   ],
   "source": [
    "import pmdarima as pm\n",
    "smodel = pm.auto_arima(train,\n",
    "                       start_p=0, d=1, max_p=3,\n",
    "                       start_q=0, max_q=3,\n",
    "                       seasonal=False,\n",
    "                       trace=True)"
   ]
  },
  {
   "cell_type": "code",
   "execution_count": 68,
   "id": "5aedf71c",
   "metadata": {},
   "outputs": [
    {
     "data": {
      "text/plain": [
       "<matplotlib.collections.PolyCollection at 0x127b516d0>"
      ]
     },
     "execution_count": 68,
     "metadata": {},
     "output_type": "execute_result"
    },
    {
     "data": {
      "image/png": "[encoded data removed]",
      "text/plain": [
       "<Figure size 1080x360 with 1 Axes>"
      ]
     },
     "metadata": {
      "needs_background": "light"
     },
     "output_type": "display_data"
    }
   ],
   "source": [
    "plt.figure(figsize=(15,5))\n",
    "plt.plot(forecast, c='orange')\n",
    "plt.plot(conf_int['low'], label='low', c='orange', ls='--')\n",
    "plt.plot(conf_int['high'], label='high', c='orange', ls='--')\n",
    "plt.plot(train, c='blue')\n",
    "plt.plot(test, c='red')\n",
    "plt.legend()\n",
    "plt.fill_between(test.index, conf_int['low'], conf_int['high'], color='k', alpha=.05)"
   ]
  },
  {
   "cell_type": "code",
   "execution_count": null,
   "id": "a901741a",
   "metadata": {},
   "outputs": [],
   "source": [
    "residuals = pd.DataFrame(arima_train.resid)\n",
    "residuals.plot(title=\"Residuals\")"
   ]
  },
  {
   "cell_type": "code",
   "execution_count": null,
   "id": "469b55ae",
   "metadata": {},
   "outputs": [],
   "source": [
    "residuals.plot(kind='kde', title='Residual density')"
   ]
  },
  {
   "cell_type": "code",
   "execution_count": null,
   "id": "5fc1e60a",
   "metadata": {},
   "outputs": [],
   "source": [
    "def forecast_accuracy(y_pred: pd.Series, y_true: pd.Series) -> float:\n",
    "    \n",
    "    mape = np.mean(np.abs(y_pred - y_true)/np.abs(y_true))  # Mean Absolute Percentage Error\n",
    "    me = np.mean(y_pred - y_true)             # ME\n",
    "    mae = np.mean(np.abs(y_pred - y_true))    # MAE\n",
    "    mpe = np.mean((y_pred - y_true)/y_true)   # MPE\n",
    "    rmse = np.mean((y_pred - y_true)**2)**.5  # RMSE\n",
    "    corr = np.corrcoef(y_pred, y_true)[0,1]   # Correlation between the Actual and the Forecast\n",
    "    mins = np.amin(np.hstack([y_pred.values.reshape(-1,1), y_true.values.reshape(-1,1)]), axis=1)\n",
    "    maxs = np.amax(np.hstack([y_pred.values.reshape(-1,1), y_true.values.reshape(-1,1)]), axis=1)\n",
    "    minmax = 1 - np.mean(mins/maxs)             # minmax\n",
    "    acf1 = acf(y_pred-y_true, fft=False)[1]                      # Lag 1 Autocorrelation of Error\n",
    "    return({'mape':mape, 'me':me, 'mae': mae, \n",
    "            'mpe': mpe, 'rmse':rmse, 'acf1':acf1, \n",
    "            'corr':corr, 'minmax':minmax})"
   ]
  },
  {
   "cell_type": "code",
   "execution_count": null,
   "id": "b9c26fd2",
   "metadata": {},
   "outputs": [],
   "source": [
    "forecast_accuracy(forecast, test.index)"
   ]
  },
  {
   "cell_type": "code",
   "execution_count": null,
   "id": "1a9289e5",
   "metadata": {},
   "outputs": [],
   "source": []
  }
 ],
 "metadata": {
  "kernelspec": {
   "display_name": "Python 3 (ipykernel)",
   "language": "python",
   "name": "python3"
  },
  "language_info": {
   "codemirror_mode": {
    "name": "ipython",
    "version": 3
   },
   "file_extension": ".py",
   "mimetype": "text/x-python",
   "name": "python",
   "nbconvert_exporter": "python",
   "pygments_lexer": "ipython3",
   "version": "3.8.6"
  },
  "toc": {
   "base_numbering": 1,
   "nav_menu": {},
   "number_sections": true,
   "sideBar": true,
   "skip_h1_title": false,
   "title_cell": "Table of Contents",
   "title_sidebar": "Contents",
   "toc_cell": false,
   "toc_position": {},
   "toc_section_display": true,
   "toc_window_display": false
  }
 },
 "nbformat": 4,
 "nbformat_minor": 5
}
