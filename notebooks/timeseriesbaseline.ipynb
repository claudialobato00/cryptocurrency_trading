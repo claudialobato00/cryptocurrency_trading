{
 "cells": [
  {
   "cell_type": "code",
   "execution_count": 3,
   "id": "fda69f7c",
   "metadata": {},
   "outputs": [],
   "source": [
    "import requests\n",
    "import pandas as pd\n",
    "import matplotlib.pyplot as plt\n",
    "from sklearn.metrics import mean_squared_error, mean_absolute_error, r2_score, max_error, mean_absolute_percentage_error\n",
    "import math\n",
    "import numpy as np"
   ]
  },
  {
   "cell_type": "code",
   "execution_count": 4,
   "id": "081dcda8",
   "metadata": {},
   "outputs": [],
   "source": [
    "api_key=''\n",
    "symbol='BTCUSD'\n",
    "query=f'https://financialmodelingprep.com/api/v3/historical-price-full/{symbol}?apikey={api_key}'"
   ]
  },
  {
   "cell_type": "code",
   "execution_count": 5,
   "id": "cd6306fb",
   "metadata": {},
   "outputs": [],
   "source": [
    "response=requests.get(query)"
   ]
  },
  {
   "cell_type": "code",
   "execution_count": 6,
   "id": "348a1548",
   "metadata": {},
   "outputs": [],
   "source": [
    "df = pd.DataFrame(response.json()['historical'])"
   ]
  },
  {
   "cell_type": "code",
   "execution_count": 7,
   "id": "73dcd57b",
   "metadata": {},
   "outputs": [
    {
     "data": {
      "text/html": [
       "<div>\n",
       "<style scoped>\n",
       "    .dataframe tbody tr th:only-of-type {\n",
       "        vertical-align: middle;\n",
       "    }\n",
       "\n",
       "    .dataframe tbody tr th {\n",
       "        vertical-align: top;\n",
       "    }\n",
       "\n",
       "    .dataframe thead th {\n",
       "        text-align: right;\n",
       "    }\n",
       "</style>\n",
       "<table border=\"1\" class=\"dataframe\">\n",
       "  <thead>\n",
       "    <tr style=\"text-align: right;\">\n",
       "      <th></th>\n",
       "      <th>date</th>\n",
       "      <th>open</th>\n",
       "      <th>high</th>\n",
       "      <th>low</th>\n",
       "      <th>close</th>\n",
       "      <th>adjClose</th>\n",
       "      <th>volume</th>\n",
       "      <th>unadjustedVolume</th>\n",
       "      <th>change</th>\n",
       "      <th>changePercent</th>\n",
       "      <th>vwap</th>\n",
       "      <th>label</th>\n",
       "      <th>changeOverTime</th>\n",
       "    </tr>\n",
       "  </thead>\n",
       "  <tbody>\n",
       "    <tr>\n",
       "      <th>0</th>\n",
       "      <td>2021-09-03</td>\n",
       "      <td>49341.066406</td>\n",
       "      <td>49462.562500</td>\n",
       "      <td>48457.988281</td>\n",
       "      <td>49462.562500</td>\n",
       "      <td>49462.562500</td>\n",
       "      <td>4.080373e+10</td>\n",
       "      <td>4.080373e+10</td>\n",
       "      <td>121.49609</td>\n",
       "      <td>0.246</td>\n",
       "      <td>49127.70443</td>\n",
       "      <td>September 03, 21</td>\n",
       "      <td>0.00246</td>\n",
       "    </tr>\n",
       "    <tr>\n",
       "      <th>1</th>\n",
       "      <td>2021-09-02</td>\n",
       "      <td>48807.847656</td>\n",
       "      <td>50343.421875</td>\n",
       "      <td>48652.320313</td>\n",
       "      <td>49327.722656</td>\n",
       "      <td>49327.722656</td>\n",
       "      <td>3.950807e+10</td>\n",
       "      <td>3.950807e+10</td>\n",
       "      <td>519.87500</td>\n",
       "      <td>1.065</td>\n",
       "      <td>49441.15495</td>\n",
       "      <td>September 02, 21</td>\n",
       "      <td>0.01065</td>\n",
       "    </tr>\n",
       "    <tr>\n",
       "      <th>2</th>\n",
       "      <td>2021-09-01</td>\n",
       "      <td>47099.773438</td>\n",
       "      <td>49111.089844</td>\n",
       "      <td>46562.437500</td>\n",
       "      <td>48847.027344</td>\n",
       "      <td>48847.027344</td>\n",
       "      <td>3.913940e+10</td>\n",
       "      <td>3.913940e+10</td>\n",
       "      <td>1747.25391</td>\n",
       "      <td>3.710</td>\n",
       "      <td>48173.51823</td>\n",
       "      <td>September 01, 21</td>\n",
       "      <td>0.03710</td>\n",
       "    </tr>\n",
       "    <tr>\n",
       "      <th>3</th>\n",
       "      <td>2021-08-31</td>\n",
       "      <td>47024.339844</td>\n",
       "      <td>48189.550781</td>\n",
       "      <td>46750.093750</td>\n",
       "      <td>47166.687500</td>\n",
       "      <td>47166.687500</td>\n",
       "      <td>3.473036e+10</td>\n",
       "      <td>3.473036e+10</td>\n",
       "      <td>142.34766</td>\n",
       "      <td>0.303</td>\n",
       "      <td>47368.77734</td>\n",
       "      <td>August 31, 21</td>\n",
       "      <td>0.00303</td>\n",
       "    </tr>\n",
       "    <tr>\n",
       "      <th>4</th>\n",
       "      <td>2021-08-30</td>\n",
       "      <td>48834.851563</td>\n",
       "      <td>48925.605469</td>\n",
       "      <td>46950.273438</td>\n",
       "      <td>47054.984375</td>\n",
       "      <td>47054.984375</td>\n",
       "      <td>3.184701e+10</td>\n",
       "      <td>3.184701e+10</td>\n",
       "      <td>-1779.86719</td>\n",
       "      <td>-3.645</td>\n",
       "      <td>47643.62109</td>\n",
       "      <td>August 30, 21</td>\n",
       "      <td>-0.03645</td>\n",
       "    </tr>\n",
       "    <tr>\n",
       "      <th>...</th>\n",
       "      <td>...</td>\n",
       "      <td>...</td>\n",
       "      <td>...</td>\n",
       "      <td>...</td>\n",
       "      <td>...</td>\n",
       "      <td>...</td>\n",
       "      <td>...</td>\n",
       "      <td>...</td>\n",
       "      <td>...</td>\n",
       "      <td>...</td>\n",
       "      <td>...</td>\n",
       "      <td>...</td>\n",
       "      <td>...</td>\n",
       "    </tr>\n",
       "    <tr>\n",
       "      <th>1822</th>\n",
       "      <td>2016-09-07</td>\n",
       "      <td>610.572998</td>\n",
       "      <td>614.544983</td>\n",
       "      <td>608.513000</td>\n",
       "      <td>614.544006</td>\n",
       "      <td>614.544006</td>\n",
       "      <td>7.503240e+07</td>\n",
       "      <td>7.503240e+07</td>\n",
       "      <td>3.97101</td>\n",
       "      <td>0.650</td>\n",
       "      <td>612.53400</td>\n",
       "      <td>September 07, 16</td>\n",
       "      <td>0.00650</td>\n",
       "    </tr>\n",
       "    <tr>\n",
       "      <th>1823</th>\n",
       "      <td>2016-09-06</td>\n",
       "      <td>606.505981</td>\n",
       "      <td>610.830017</td>\n",
       "      <td>605.091003</td>\n",
       "      <td>610.435974</td>\n",
       "      <td>610.435974</td>\n",
       "      <td>7.852910e+07</td>\n",
       "      <td>7.852910e+07</td>\n",
       "      <td>3.92999</td>\n",
       "      <td>0.648</td>\n",
       "      <td>608.78566</td>\n",
       "      <td>September 06, 16</td>\n",
       "      <td>0.00648</td>\n",
       "    </tr>\n",
       "    <tr>\n",
       "      <th>1824</th>\n",
       "      <td>2016-09-05</td>\n",
       "      <td>608.989990</td>\n",
       "      <td>609.054993</td>\n",
       "      <td>602.242004</td>\n",
       "      <td>606.590027</td>\n",
       "      <td>606.590027</td>\n",
       "      <td>8.244680e+07</td>\n",
       "      <td>8.244680e+07</td>\n",
       "      <td>-2.39996</td>\n",
       "      <td>-0.394</td>\n",
       "      <td>605.96234</td>\n",
       "      <td>September 05, 16</td>\n",
       "      <td>-0.00394</td>\n",
       "    </tr>\n",
       "    <tr>\n",
       "      <th>1825</th>\n",
       "      <td>2016-09-04</td>\n",
       "      <td>598.590027</td>\n",
       "      <td>611.836975</td>\n",
       "      <td>596.848022</td>\n",
       "      <td>608.633972</td>\n",
       "      <td>608.633972</td>\n",
       "      <td>9.794290e+07</td>\n",
       "      <td>9.794290e+07</td>\n",
       "      <td>10.04395</td>\n",
       "      <td>1.678</td>\n",
       "      <td>605.77299</td>\n",
       "      <td>September 04, 16</td>\n",
       "      <td>0.01678</td>\n",
       "    </tr>\n",
       "    <tr>\n",
       "      <th>1826</th>\n",
       "      <td>2016-09-03</td>\n",
       "      <td>575.554993</td>\n",
       "      <td>599.500000</td>\n",
       "      <td>574.056030</td>\n",
       "      <td>598.211975</td>\n",
       "      <td>598.211975</td>\n",
       "      <td>1.590140e+08</td>\n",
       "      <td>1.590140e+08</td>\n",
       "      <td>22.65698</td>\n",
       "      <td>3.937</td>\n",
       "      <td>590.58934</td>\n",
       "      <td>September 03, 16</td>\n",
       "      <td>0.03937</td>\n",
       "    </tr>\n",
       "  </tbody>\n",
       "</table>\n",
       "<p>1827 rows × 13 columns</p>\n",
       "</div>"
      ],
      "text/plain": [
       "            date          open          high           low         close  \\\n",
       "0     2021-09-03  49341.066406  49462.562500  48457.988281  49462.562500   \n",
       "1     2021-09-02  48807.847656  50343.421875  48652.320313  49327.722656   \n",
       "2     2021-09-01  47099.773438  49111.089844  46562.437500  48847.027344   \n",
       "3     2021-08-31  47024.339844  48189.550781  46750.093750  47166.687500   \n",
       "4     2021-08-30  48834.851563  48925.605469  46950.273438  47054.984375   \n",
       "...          ...           ...           ...           ...           ...   \n",
       "1822  2016-09-07    610.572998    614.544983    608.513000    614.544006   \n",
       "1823  2016-09-06    606.505981    610.830017    605.091003    610.435974   \n",
       "1824  2016-09-05    608.989990    609.054993    602.242004    606.590027   \n",
       "1825  2016-09-04    598.590027    611.836975    596.848022    608.633972   \n",
       "1826  2016-09-03    575.554993    599.500000    574.056030    598.211975   \n",
       "\n",
       "          adjClose        volume  unadjustedVolume      change  changePercent  \\\n",
       "0     49462.562500  4.080373e+10      4.080373e+10   121.49609          0.246   \n",
       "1     49327.722656  3.950807e+10      3.950807e+10   519.87500          1.065   \n",
       "2     48847.027344  3.913940e+10      3.913940e+10  1747.25391          3.710   \n",
       "3     47166.687500  3.473036e+10      3.473036e+10   142.34766          0.303   \n",
       "4     47054.984375  3.184701e+10      3.184701e+10 -1779.86719         -3.645   \n",
       "...            ...           ...               ...         ...            ...   \n",
       "1822    614.544006  7.503240e+07      7.503240e+07     3.97101          0.650   \n",
       "1823    610.435974  7.852910e+07      7.852910e+07     3.92999          0.648   \n",
       "1824    606.590027  8.244680e+07      8.244680e+07    -2.39996         -0.394   \n",
       "1825    608.633972  9.794290e+07      9.794290e+07    10.04395          1.678   \n",
       "1826    598.211975  1.590140e+08      1.590140e+08    22.65698          3.937   \n",
       "\n",
       "             vwap             label  changeOverTime  \n",
       "0     49127.70443  September 03, 21         0.00246  \n",
       "1     49441.15495  September 02, 21         0.01065  \n",
       "2     48173.51823  September 01, 21         0.03710  \n",
       "3     47368.77734     August 31, 21         0.00303  \n",
       "4     47643.62109     August 30, 21        -0.03645  \n",
       "...           ...               ...             ...  \n",
       "1822    612.53400  September 07, 16         0.00650  \n",
       "1823    608.78566  September 06, 16         0.00648  \n",
       "1824    605.96234  September 05, 16        -0.00394  \n",
       "1825    605.77299  September 04, 16         0.01678  \n",
       "1826    590.58934  September 03, 16         0.03937  \n",
       "\n",
       "[1827 rows x 13 columns]"
      ]
     },
     "execution_count": 7,
     "metadata": {},
     "output_type": "execute_result"
    }
   ],
   "source": [
    "df"
   ]
  },
  {
   "cell_type": "code",
   "execution_count": 8,
   "id": "5a4be28f",
   "metadata": {},
   "outputs": [],
   "source": [
    "df['date'] = pd.to_datetime(df['date'])"
   ]
  },
  {
   "cell_type": "code",
   "execution_count": 9,
   "id": "8f67e141",
   "metadata": {},
   "outputs": [],
   "source": [
    "df_2 = df[['date', 'adjClose']]"
   ]
  },
  {
   "cell_type": "code",
   "execution_count": 10,
   "id": "2e1e03c8",
   "metadata": {},
   "outputs": [
    {
     "data": {
      "text/html": [
       "<div>\n",
       "<style scoped>\n",
       "    .dataframe tbody tr th:only-of-type {\n",
       "        vertical-align: middle;\n",
       "    }\n",
       "\n",
       "    .dataframe tbody tr th {\n",
       "        vertical-align: top;\n",
       "    }\n",
       "\n",
       "    .dataframe thead th {\n",
       "        text-align: right;\n",
       "    }\n",
       "</style>\n",
       "<table border=\"1\" class=\"dataframe\">\n",
       "  <thead>\n",
       "    <tr style=\"text-align: right;\">\n",
       "      <th></th>\n",
       "      <th>date</th>\n",
       "      <th>adjClose</th>\n",
       "    </tr>\n",
       "  </thead>\n",
       "  <tbody>\n",
       "    <tr>\n",
       "      <th>0</th>\n",
       "      <td>2021-09-03</td>\n",
       "      <td>49462.562500</td>\n",
       "    </tr>\n",
       "    <tr>\n",
       "      <th>1</th>\n",
       "      <td>2021-09-02</td>\n",
       "      <td>49327.722656</td>\n",
       "    </tr>\n",
       "    <tr>\n",
       "      <th>2</th>\n",
       "      <td>2021-09-01</td>\n",
       "      <td>48847.027344</td>\n",
       "    </tr>\n",
       "    <tr>\n",
       "      <th>3</th>\n",
       "      <td>2021-08-31</td>\n",
       "      <td>47166.687500</td>\n",
       "    </tr>\n",
       "    <tr>\n",
       "      <th>4</th>\n",
       "      <td>2021-08-30</td>\n",
       "      <td>47054.984375</td>\n",
       "    </tr>\n",
       "    <tr>\n",
       "      <th>...</th>\n",
       "      <td>...</td>\n",
       "      <td>...</td>\n",
       "    </tr>\n",
       "    <tr>\n",
       "      <th>1822</th>\n",
       "      <td>2016-09-07</td>\n",
       "      <td>614.544006</td>\n",
       "    </tr>\n",
       "    <tr>\n",
       "      <th>1823</th>\n",
       "      <td>2016-09-06</td>\n",
       "      <td>610.435974</td>\n",
       "    </tr>\n",
       "    <tr>\n",
       "      <th>1824</th>\n",
       "      <td>2016-09-05</td>\n",
       "      <td>606.590027</td>\n",
       "    </tr>\n",
       "    <tr>\n",
       "      <th>1825</th>\n",
       "      <td>2016-09-04</td>\n",
       "      <td>608.633972</td>\n",
       "    </tr>\n",
       "    <tr>\n",
       "      <th>1826</th>\n",
       "      <td>2016-09-03</td>\n",
       "      <td>598.211975</td>\n",
       "    </tr>\n",
       "  </tbody>\n",
       "</table>\n",
       "<p>1827 rows × 2 columns</p>\n",
       "</div>"
      ],
      "text/plain": [
       "           date      adjClose\n",
       "0    2021-09-03  49462.562500\n",
       "1    2021-09-02  49327.722656\n",
       "2    2021-09-01  48847.027344\n",
       "3    2021-08-31  47166.687500\n",
       "4    2021-08-30  47054.984375\n",
       "...         ...           ...\n",
       "1822 2016-09-07    614.544006\n",
       "1823 2016-09-06    610.435974\n",
       "1824 2016-09-05    606.590027\n",
       "1825 2016-09-04    608.633972\n",
       "1826 2016-09-03    598.211975\n",
       "\n",
       "[1827 rows x 2 columns]"
      ]
     },
     "execution_count": 10,
     "metadata": {},
     "output_type": "execute_result"
    }
   ],
   "source": [
    "df_2"
   ]
  },
  {
   "cell_type": "code",
   "execution_count": 11,
   "id": "8a8d1db4",
   "metadata": {},
   "outputs": [],
   "source": [
    "date = pd.to_datetime('2018-09-01')"
   ]
  },
  {
   "cell_type": "code",
   "execution_count": 12,
   "id": "26a1e845",
   "metadata": {},
   "outputs": [],
   "source": [
    "df3years = df_2[df_2['date']>date]"
   ]
  },
  {
   "cell_type": "code",
   "execution_count": 13,
   "id": "fe280cc4",
   "metadata": {},
   "outputs": [],
   "source": [
    "df3years = df3years.set_index('date')"
   ]
  },
  {
   "cell_type": "code",
   "execution_count": 14,
   "id": "b2e42e00",
   "metadata": {},
   "outputs": [
    {
     "data": {
      "text/html": [
       "<div>\n",
       "<style scoped>\n",
       "    .dataframe tbody tr th:only-of-type {\n",
       "        vertical-align: middle;\n",
       "    }\n",
       "\n",
       "    .dataframe tbody tr th {\n",
       "        vertical-align: top;\n",
       "    }\n",
       "\n",
       "    .dataframe thead th {\n",
       "        text-align: right;\n",
       "    }\n",
       "</style>\n",
       "<table border=\"1\" class=\"dataframe\">\n",
       "  <thead>\n",
       "    <tr style=\"text-align: right;\">\n",
       "      <th></th>\n",
       "      <th>adjClose</th>\n",
       "    </tr>\n",
       "    <tr>\n",
       "      <th>date</th>\n",
       "      <th></th>\n",
       "    </tr>\n",
       "  </thead>\n",
       "  <tbody>\n",
       "    <tr>\n",
       "      <th>2021-09-03</th>\n",
       "      <td>49462.562500</td>\n",
       "    </tr>\n",
       "    <tr>\n",
       "      <th>2021-09-02</th>\n",
       "      <td>49327.722656</td>\n",
       "    </tr>\n",
       "    <tr>\n",
       "      <th>2021-09-01</th>\n",
       "      <td>48847.027344</td>\n",
       "    </tr>\n",
       "    <tr>\n",
       "      <th>2021-08-31</th>\n",
       "      <td>47166.687500</td>\n",
       "    </tr>\n",
       "    <tr>\n",
       "      <th>2021-08-30</th>\n",
       "      <td>47054.984375</td>\n",
       "    </tr>\n",
       "    <tr>\n",
       "      <th>...</th>\n",
       "      <td>...</td>\n",
       "    </tr>\n",
       "    <tr>\n",
       "      <th>2018-09-06</th>\n",
       "      <td>6529.169922</td>\n",
       "    </tr>\n",
       "    <tr>\n",
       "      <th>2018-09-05</th>\n",
       "      <td>6792.830078</td>\n",
       "    </tr>\n",
       "    <tr>\n",
       "      <th>2018-09-04</th>\n",
       "      <td>7361.660156</td>\n",
       "    </tr>\n",
       "    <tr>\n",
       "      <th>2018-09-03</th>\n",
       "      <td>7260.060059</td>\n",
       "    </tr>\n",
       "    <tr>\n",
       "      <th>2018-09-02</th>\n",
       "      <td>7272.720215</td>\n",
       "    </tr>\n",
       "  </tbody>\n",
       "</table>\n",
       "<p>1098 rows × 1 columns</p>\n",
       "</div>"
      ],
      "text/plain": [
       "                adjClose\n",
       "date                    \n",
       "2021-09-03  49462.562500\n",
       "2021-09-02  49327.722656\n",
       "2021-09-01  48847.027344\n",
       "2021-08-31  47166.687500\n",
       "2021-08-30  47054.984375\n",
       "...                  ...\n",
       "2018-09-06   6529.169922\n",
       "2018-09-05   6792.830078\n",
       "2018-09-04   7361.660156\n",
       "2018-09-03   7260.060059\n",
       "2018-09-02   7272.720215\n",
       "\n",
       "[1098 rows x 1 columns]"
      ]
     },
     "execution_count": 14,
     "metadata": {},
     "output_type": "execute_result"
    }
   ],
   "source": [
    "df3years"
   ]
  },
  {
   "cell_type": "code",
   "execution_count": 15,
   "id": "c5cb4ba0",
   "metadata": {},
   "outputs": [],
   "source": [
    "y = df3years.adjClose"
   ]
  },
  {
   "cell_type": "code",
   "execution_count": 16,
   "id": "da52cdd9",
   "metadata": {},
   "outputs": [
    {
     "data": {
      "text/plain": [
       "<AxesSubplot:xlabel='date'>"
      ]
     },
     "execution_count": 16,
     "metadata": {},
     "output_type": "execute_result"
    },
    {
     "data": {
      "image/png": "[encoded data removed]",
      "text/plain": [
       "<Figure size 432x288 with 1 Axes>"
      ]
     },
     "metadata": {
      "needs_background": "light"
     },
     "output_type": "display_data"
    }
   ],
   "source": [
    "df3years.plot()"
   ]
  },
  {
   "cell_type": "code",
   "execution_count": 17,
   "id": "4fc55488",
   "metadata": {},
   "outputs": [],
   "source": [
    "from statsmodels.tsa.stattools import adfuller"
   ]
  },
  {
   "cell_type": "code",
   "execution_count": 18,
   "id": "251837dc",
   "metadata": {},
   "outputs": [
    {
     "name": "stdout",
     "output_type": "stream",
     "text": [
      "p-value:  0.2779853847729158\n"
     ]
    }
   ],
   "source": [
    "# 0 diff\n",
    "print('p-value: ', adfuller(y)[1])"
   ]
  },
  {
   "cell_type": "code",
   "execution_count": 19,
   "id": "2ac2b683",
   "metadata": {},
   "outputs": [
    {
     "name": "stdout",
     "output_type": "stream",
     "text": [
      "p-value:  3.398721292426197e-16\n"
     ]
    }
   ],
   "source": [
    "# First diff\n",
    "print('p-value: ', adfuller(y.diff(1).fillna(0))[1])"
   ]
  },
  {
   "cell_type": "code",
   "execution_count": 20,
   "id": "0810fe05",
   "metadata": {},
   "outputs": [],
   "source": [
    "from statsmodels.graphics.tsaplots import plot_acf, plot_pacf"
   ]
  },
  {
   "cell_type": "code",
   "execution_count": 22,
   "id": "50d252ce",
   "metadata": {},
   "outputs": [
    {
     "data": {
      "image/png": "[encoded data removed]",
      "text/plain": [
       "<Figure size 432x288 with 1 Axes>"
      ]
     },
     "metadata": {
      "needs_background": "light"
     },
     "output_type": "display_data"
    },
    {
     "data": {
      "image/png": "[encoded data removed]",
      "text/plain": [
       "<Figure size 432x288 with 1 Axes>"
      ]
     },
     "metadata": {
      "needs_background": "light"
     },
     "output_type": "display_data"
    }
   ],
   "source": [
    "plot_acf(df3years['adjClose'], lags=100);\n",
    "plot_pacf(df3years['adjClose'], lags=100, c='r');"
   ]
  },
  {
   "cell_type": "markdown",
   "id": "56eab85b",
   "metadata": {},
   "source": [
    "## Log-differenced data"
   ]
  },
  {
   "cell_type": "code",
   "execution_count": 23,
   "id": "5ebfb46e",
   "metadata": {},
   "outputs": [],
   "source": [
    "log_data = np.log(df3years['adjClose'])"
   ]
  },
  {
   "cell_type": "code",
   "execution_count": 24,
   "id": "22360ba3",
   "metadata": {},
   "outputs": [],
   "source": [
    "log_data_diff = log_data.diff()"
   ]
  },
  {
   "cell_type": "code",
   "execution_count": 25,
   "id": "e765ff34",
   "metadata": {},
   "outputs": [],
   "source": [
    "log_diffed_data = pd.DataFrame(log_data_diff.drop(df3years.index[0]))"
   ]
  },
  {
   "cell_type": "code",
   "execution_count": 26,
   "id": "fdfa5180",
   "metadata": {},
   "outputs": [
    {
     "data": {
      "text/html": [
       "<div>\n",
       "<style scoped>\n",
       "    .dataframe tbody tr th:only-of-type {\n",
       "        vertical-align: middle;\n",
       "    }\n",
       "\n",
       "    .dataframe tbody tr th {\n",
       "        vertical-align: top;\n",
       "    }\n",
       "\n",
       "    .dataframe thead th {\n",
       "        text-align: right;\n",
       "    }\n",
       "</style>\n",
       "<table border=\"1\" class=\"dataframe\">\n",
       "  <thead>\n",
       "    <tr style=\"text-align: right;\">\n",
       "      <th></th>\n",
       "      <th>adjClose</th>\n",
       "    </tr>\n",
       "    <tr>\n",
       "      <th>date</th>\n",
       "      <th></th>\n",
       "    </tr>\n",
       "  </thead>\n",
       "  <tbody>\n",
       "    <tr>\n",
       "      <th>2021-09-02</th>\n",
       "      <td>-0.002730</td>\n",
       "    </tr>\n",
       "    <tr>\n",
       "      <th>2021-09-01</th>\n",
       "      <td>-0.009793</td>\n",
       "    </tr>\n",
       "    <tr>\n",
       "      <th>2021-08-31</th>\n",
       "      <td>-0.035006</td>\n",
       "    </tr>\n",
       "    <tr>\n",
       "      <th>2021-08-30</th>\n",
       "      <td>-0.002371</td>\n",
       "    </tr>\n",
       "    <tr>\n",
       "      <th>2021-08-29</th>\n",
       "      <td>0.037025</td>\n",
       "    </tr>\n",
       "    <tr>\n",
       "      <th>...</th>\n",
       "      <td>...</td>\n",
       "    </tr>\n",
       "    <tr>\n",
       "      <th>2018-09-06</th>\n",
       "      <td>0.009557</td>\n",
       "    </tr>\n",
       "    <tr>\n",
       "      <th>2018-09-05</th>\n",
       "      <td>0.039588</td>\n",
       "    </tr>\n",
       "    <tr>\n",
       "      <th>2018-09-04</th>\n",
       "      <td>0.080418</td>\n",
       "    </tr>\n",
       "    <tr>\n",
       "      <th>2018-09-03</th>\n",
       "      <td>-0.013897</td>\n",
       "    </tr>\n",
       "    <tr>\n",
       "      <th>2018-09-02</th>\n",
       "      <td>0.001742</td>\n",
       "    </tr>\n",
       "  </tbody>\n",
       "</table>\n",
       "<p>1097 rows × 1 columns</p>\n",
       "</div>"
      ],
      "text/plain": [
       "            adjClose\n",
       "date                \n",
       "2021-09-02 -0.002730\n",
       "2021-09-01 -0.009793\n",
       "2021-08-31 -0.035006\n",
       "2021-08-30 -0.002371\n",
       "2021-08-29  0.037025\n",
       "...              ...\n",
       "2018-09-06  0.009557\n",
       "2018-09-05  0.039588\n",
       "2018-09-04  0.080418\n",
       "2018-09-03 -0.013897\n",
       "2018-09-02  0.001742\n",
       "\n",
       "[1097 rows x 1 columns]"
      ]
     },
     "execution_count": 26,
     "metadata": {},
     "output_type": "execute_result"
    }
   ],
   "source": [
    "log_diffed_data"
   ]
  },
  {
   "cell_type": "code",
   "execution_count": 27,
   "id": "7b95c4ef",
   "metadata": {},
   "outputs": [
    {
     "data": {
      "image/png": "[encoded data removed]",
      "text/plain": [
       "<Figure size 432x288 with 1 Axes>"
      ]
     },
     "metadata": {
      "needs_background": "light"
     },
     "output_type": "display_data"
    }
   ],
   "source": [
    "plt.plot(log_diffed_data)\n",
    "plt.title(\"Log Difference of BTC to USD 2018-2021\")\n",
    "plt.show()"
   ]
  },
  {
   "cell_type": "code",
   "execution_count": 28,
   "id": "af516e99",
   "metadata": {},
   "outputs": [
    {
     "name": "stdout",
     "output_type": "stream",
     "text": [
      "ADF Statistic: -15.314575315102754\n",
      "p-value: 4.142446187366805e-28\n"
     ]
    }
   ],
   "source": [
    "ad_fuller_result = adfuller(log_diffed_data['adjClose'])\n",
    "print(f'ADF Statistic: {ad_fuller_result[0]}')\n",
    "print(f'p-value: {ad_fuller_result[1]}')"
   ]
  },
  {
   "cell_type": "code",
   "execution_count": 29,
   "id": "52648423",
   "metadata": {},
   "outputs": [
    {
     "data": {
      "image/png": "[encoded data removed]",
      "text/plain": [
       "<Figure size 432x288 with 1 Axes>"
      ]
     },
     "metadata": {
      "needs_background": "light"
     },
     "output_type": "display_data"
    },
    {
     "data": {
      "image/png": "[encoded data removed]",
      "text/plain": [
       "<Figure size 432x288 with 1 Axes>"
      ]
     },
     "metadata": {
      "needs_background": "light"
     },
     "output_type": "display_data"
    }
   ],
   "source": [
    "plot_pacf(log_diffed_data['adjClose'], lags=50, c='r');\n",
    "plot_acf(log_diffed_data['adjClose'], lags=50);"
   ]
  },
  {
   "cell_type": "markdown",
   "id": "7d24cac6",
   "metadata": {},
   "source": [
    "## Differencing "
   ]
  },
  {
   "cell_type": "code",
   "execution_count": 31,
   "id": "7c0728bb",
   "metadata": {},
   "outputs": [
    {
     "data": {
      "image/png": "[encoded data removed]",
      "text/plain": [
       "<Figure size 936x720 with 4 Axes>"
      ]
     },
     "metadata": {
      "needs_background": "light"
     },
     "output_type": "display_data"
    }
   ],
   "source": [
    "# Original Series\n",
    "fig, axes = plt.subplots(2, 2, figsize=(13,10))\n",
    "axes[0, 0].plot(y); axes[0, 0].set_title('Original Series')\n",
    "plot_acf(y, lags=100, ax=axes[0, 1], c='r')\n",
    "\n",
    "# 1st Differencing\n",
    "axes[1, 0].plot(y.diff()); axes[1, 0].set_title('1st Order Differencing')\n",
    "plot_acf(y.diff().dropna(), lags=100, ax=axes[1, 1], c='r')\n",
    "\n",
    "plt.show()"
   ]
  },
  {
   "cell_type": "code",
   "execution_count": 32,
   "id": "516bba18",
   "metadata": {},
   "outputs": [],
   "source": [
    "y_diff = y.diff().dropna()"
   ]
  },
  {
   "cell_type": "code",
   "execution_count": 33,
   "id": "3d49a8cc",
   "metadata": {},
   "outputs": [
    {
     "data": {
      "image/png": "[encoded data removed]",
      "text/plain": [
       "<Figure size 432x288 with 1 Axes>"
      ]
     },
     "metadata": {
      "needs_background": "light"
     },
     "output_type": "display_data"
    }
   ],
   "source": [
    "plot_acf(y_diff);"
   ]
  },
  {
   "cell_type": "code",
   "execution_count": 34,
   "id": "8656e7ad",
   "metadata": {},
   "outputs": [
    {
     "data": {
      "image/png": "[encoded data removed]",
      "text/plain": [
       "<Figure size 432x288 with 1 Axes>"
      ]
     },
     "metadata": {
      "needs_background": "light"
     },
     "output_type": "display_data"
    }
   ],
   "source": [
    "plot_pacf(y_diff, c='r');"
   ]
  },
  {
   "cell_type": "markdown",
   "id": "da11efe1",
   "metadata": {},
   "source": [
    "## Train/Test split"
   ]
  },
  {
   "cell_type": "code",
   "execution_count": 35,
   "id": "d34bda45",
   "metadata": {},
   "outputs": [
    {
     "data": {
      "text/html": [
       "<div>\n",
       "<style scoped>\n",
       "    .dataframe tbody tr th:only-of-type {\n",
       "        vertical-align: middle;\n",
       "    }\n",
       "\n",
       "    .dataframe tbody tr th {\n",
       "        vertical-align: top;\n",
       "    }\n",
       "\n",
       "    .dataframe thead th {\n",
       "        text-align: right;\n",
       "    }\n",
       "</style>\n",
       "<table border=\"1\" class=\"dataframe\">\n",
       "  <thead>\n",
       "    <tr style=\"text-align: right;\">\n",
       "      <th></th>\n",
       "      <th>adjClose</th>\n",
       "    </tr>\n",
       "    <tr>\n",
       "      <th>date</th>\n",
       "      <th></th>\n",
       "    </tr>\n",
       "  </thead>\n",
       "  <tbody>\n",
       "    <tr>\n",
       "      <th>2021-01-26</th>\n",
       "      <td>32569.849609</td>\n",
       "    </tr>\n",
       "    <tr>\n",
       "      <th>2021-01-25</th>\n",
       "      <td>32366.392578</td>\n",
       "    </tr>\n",
       "    <tr>\n",
       "      <th>2021-01-24</th>\n",
       "      <td>32289.378906</td>\n",
       "    </tr>\n",
       "    <tr>\n",
       "      <th>2021-01-23</th>\n",
       "      <td>32067.642578</td>\n",
       "    </tr>\n",
       "    <tr>\n",
       "      <th>2021-01-22</th>\n",
       "      <td>33005.761719</td>\n",
       "    </tr>\n",
       "    <tr>\n",
       "      <th>...</th>\n",
       "      <td>...</td>\n",
       "    </tr>\n",
       "    <tr>\n",
       "      <th>2018-09-06</th>\n",
       "      <td>6529.169922</td>\n",
       "    </tr>\n",
       "    <tr>\n",
       "      <th>2018-09-05</th>\n",
       "      <td>6792.830078</td>\n",
       "    </tr>\n",
       "    <tr>\n",
       "      <th>2018-09-04</th>\n",
       "      <td>7361.660156</td>\n",
       "    </tr>\n",
       "    <tr>\n",
       "      <th>2018-09-03</th>\n",
       "      <td>7260.060059</td>\n",
       "    </tr>\n",
       "    <tr>\n",
       "      <th>2018-09-02</th>\n",
       "      <td>7272.720215</td>\n",
       "    </tr>\n",
       "  </tbody>\n",
       "</table>\n",
       "<p>878 rows × 1 columns</p>\n",
       "</div>"
      ],
      "text/plain": [
       "                adjClose\n",
       "date                    \n",
       "2021-01-26  32569.849609\n",
       "2021-01-25  32366.392578\n",
       "2021-01-24  32289.378906\n",
       "2021-01-23  32067.642578\n",
       "2021-01-22  33005.761719\n",
       "...                  ...\n",
       "2018-09-06   6529.169922\n",
       "2018-09-05   6792.830078\n",
       "2018-09-04   7361.660156\n",
       "2018-09-03   7260.060059\n",
       "2018-09-02   7272.720215\n",
       "\n",
       "[878 rows x 1 columns]"
      ]
     },
     "execution_count": 35,
     "metadata": {},
     "output_type": "execute_result"
    }
   ],
   "source": [
    "train = df3years[220:]\n",
    "train"
   ]
  },
  {
   "cell_type": "code",
   "execution_count": 36,
   "id": "b2f497ae",
   "metadata": {},
   "outputs": [
    {
     "data": {
      "text/html": [
       "<div>\n",
       "<style scoped>\n",
       "    .dataframe tbody tr th:only-of-type {\n",
       "        vertical-align: middle;\n",
       "    }\n",
       "\n",
       "    .dataframe tbody tr th {\n",
       "        vertical-align: top;\n",
       "    }\n",
       "\n",
       "    .dataframe thead th {\n",
       "        text-align: right;\n",
       "    }\n",
       "</style>\n",
       "<table border=\"1\" class=\"dataframe\">\n",
       "  <thead>\n",
       "    <tr style=\"text-align: right;\">\n",
       "      <th></th>\n",
       "      <th>adjClose</th>\n",
       "    </tr>\n",
       "    <tr>\n",
       "      <th>date</th>\n",
       "      <th></th>\n",
       "    </tr>\n",
       "  </thead>\n",
       "  <tbody>\n",
       "    <tr>\n",
       "      <th>2021-09-03</th>\n",
       "      <td>49462.562500</td>\n",
       "    </tr>\n",
       "    <tr>\n",
       "      <th>2021-09-02</th>\n",
       "      <td>49327.722656</td>\n",
       "    </tr>\n",
       "    <tr>\n",
       "      <th>2021-09-01</th>\n",
       "      <td>48847.027344</td>\n",
       "    </tr>\n",
       "    <tr>\n",
       "      <th>2021-08-31</th>\n",
       "      <td>47166.687500</td>\n",
       "    </tr>\n",
       "    <tr>\n",
       "      <th>2021-08-30</th>\n",
       "      <td>47054.984375</td>\n",
       "    </tr>\n",
       "    <tr>\n",
       "      <th>...</th>\n",
       "      <td>...</td>\n",
       "    </tr>\n",
       "    <tr>\n",
       "      <th>2021-01-31</th>\n",
       "      <td>33114.359375</td>\n",
       "    </tr>\n",
       "    <tr>\n",
       "      <th>2021-01-30</th>\n",
       "      <td>34269.523438</td>\n",
       "    </tr>\n",
       "    <tr>\n",
       "      <th>2021-01-29</th>\n",
       "      <td>34316.386719</td>\n",
       "    </tr>\n",
       "    <tr>\n",
       "      <th>2021-01-28</th>\n",
       "      <td>31649.605469</td>\n",
       "    </tr>\n",
       "    <tr>\n",
       "      <th>2021-01-27</th>\n",
       "      <td>30432.546875</td>\n",
       "    </tr>\n",
       "  </tbody>\n",
       "</table>\n",
       "<p>220 rows × 1 columns</p>\n",
       "</div>"
      ],
      "text/plain": [
       "                adjClose\n",
       "date                    \n",
       "2021-09-03  49462.562500\n",
       "2021-09-02  49327.722656\n",
       "2021-09-01  48847.027344\n",
       "2021-08-31  47166.687500\n",
       "2021-08-30  47054.984375\n",
       "...                  ...\n",
       "2021-01-31  33114.359375\n",
       "2021-01-30  34269.523438\n",
       "2021-01-29  34316.386719\n",
       "2021-01-28  31649.605469\n",
       "2021-01-27  30432.546875\n",
       "\n",
       "[220 rows x 1 columns]"
      ]
     },
     "execution_count": 36,
     "metadata": {},
     "output_type": "execute_result"
    }
   ],
   "source": [
    "test = df3years[:220]\n",
    "test"
   ]
  },
  {
   "cell_type": "markdown",
   "id": "d579a390",
   "metadata": {},
   "source": [
    "## ARIMA ON DF"
   ]
  },
  {
   "cell_type": "code",
   "execution_count": 37,
   "id": "d4f6161a",
   "metadata": {},
   "outputs": [
    {
     "name": "stdout",
     "output_type": "stream",
     "text": [
      "RUNNING THE L-BFGS-B CODE\n",
      "\n",
      "           * * *\n",
      "\n",
      "Machine precision = 2.220D-16\n",
      " N =            3     M =           12\n",
      "\n",
      "At X0         0 variables are exactly at the bounds\n",
      "\n",
      "At iterate    0    f=  8.28548D+00    |proj g|=  5.96856D-05\n",
      "\n",
      "At iterate    5    f=  8.28548D+00    |proj g|=  2.02505D-05\n",
      "\n",
      "At iterate   10    f=  8.28548D+00    |proj g|=  1.77636D-07\n",
      "\n",
      "           * * *\n",
      "\n",
      "Tit   = total number of iterations\n",
      "Tnf   = total number of function evaluations\n",
      "Tnint = total number of segments explored during Cauchy searches\n",
      "Skip  = number of BFGS updates skipped\n",
      "Nact  = number of active bounds at final generalized Cauchy point\n",
      "Projg = norm of the final projected gradient\n",
      "F     = final function value\n",
      "\n",
      "           * * *\n",
      "\n",
      "   N    Tit     Tnf  Tnint  Skip  Nact     Projg        F\n",
      "    3     11     15      1     0     0   1.776D-07   8.285D+00\n",
      "  F =   8.2854797187341322     \n",
      "\n",
      "CONVERGENCE: REL_REDUCTION_OF_F_<=_FACTR*EPSMCH             \n"
     ]
    },
    {
     "name": "stderr",
     "output_type": "stream",
     "text": [
      "/Users/guillaumetrounson/.pyenv/versions/3.8.6/envs/cryptocurrency_trading/lib/python3.8/site-packages/statsmodels/tsa/arima_model.py:472: FutureWarning: \n",
      "statsmodels.tsa.arima_model.ARMA and statsmodels.tsa.arima_model.ARIMA have\n",
      "been deprecated in favor of statsmodels.tsa.arima.model.ARIMA (note the .\n",
      "between arima and model) and\n",
      "statsmodels.tsa.SARIMAX. These will be removed after the 0.12 release.\n",
      "\n",
      "statsmodels.tsa.arima.model.ARIMA makes use of the statespace framework and\n",
      "is both well tested and maintained.\n",
      "\n",
      "To silence this warning and continue using ARMA and ARIMA until they are\n",
      "removed, use:\n",
      "\n",
      "import warnings\n",
      "warnings.filterwarnings('ignore', 'statsmodels.tsa.arima_model.ARMA',\n",
      "                        FutureWarning)\n",
      "warnings.filterwarnings('ignore', 'statsmodels.tsa.arima_model.ARIMA',\n",
      "                        FutureWarning)\n",
      "\n",
      "  warnings.warn(ARIMA_DEPRECATION_WARN, FutureWarning)\n",
      "/Users/guillaumetrounson/.pyenv/versions/3.8.6/envs/cryptocurrency_trading/lib/python3.8/site-packages/statsmodels/tsa/base/tsa_model.py:524: ValueWarning: No frequency information was provided, so inferred frequency -1D will be used.\n",
      "  warnings.warn('No frequency information was'\n",
      "/Users/guillaumetrounson/.pyenv/versions/3.8.6/envs/cryptocurrency_trading/lib/python3.8/site-packages/statsmodels/tsa/base/tsa_model.py:585: ValueWarning: A date index has been provided, but it is not monotonic and so will be ignored when e.g. forecasting.\n",
      "  warnings.warn('A date index has been provided, but it is not'\n",
      "/Users/guillaumetrounson/.pyenv/versions/3.8.6/envs/cryptocurrency_trading/lib/python3.8/site-packages/statsmodels/tsa/base/tsa_model.py:524: ValueWarning: No frequency information was provided, so inferred frequency -1D will be used.\n",
      "  warnings.warn('No frequency information was'\n",
      "/Users/guillaumetrounson/.pyenv/versions/3.8.6/envs/cryptocurrency_trading/lib/python3.8/site-packages/statsmodels/tsa/base/tsa_model.py:585: ValueWarning: A date index has been provided, but it is not monotonic and so will be ignored when e.g. forecasting.\n",
      "  warnings.warn('A date index has been provided, but it is not'\n",
      " This problem is unconstrained.\n"
     ]
    },
    {
     "data": {
      "text/html": [
       "<table class=\"simpletable\">\n",
       "<caption>ARIMA Model Results</caption>\n",
       "<tr>\n",
       "  <th>Dep. Variable:</th>    <td>D.adjClose</td>    <th>  No. Observations:  </th>   <td>1097</td>   \n",
       "</tr>\n",
       "<tr>\n",
       "  <th>Model:</th>          <td>ARIMA(1, 1, 1)</td>  <th>  Log Likelihood     </th> <td>-9089.171</td>\n",
       "</tr>\n",
       "<tr>\n",
       "  <th>Method:</th>             <td>css-mle</td>     <th>  S.D. of innovations</th>  <td>959.618</td> \n",
       "</tr>\n",
       "<tr>\n",
       "  <th>Date:</th>          <td>Fri, 03 Sep 2021</td> <th>  AIC                </th> <td>18186.343</td>\n",
       "</tr>\n",
       "<tr>\n",
       "  <th>Time:</th>              <td>16:27:09</td>     <th>  BIC                </th> <td>18206.344</td>\n",
       "</tr>\n",
       "<tr>\n",
       "  <th>Sample:</th>                <td>1</td>        <th>  HQIC               </th> <td>18193.910</td>\n",
       "</tr>\n",
       "<tr>\n",
       "  <th></th>                       <td> </td>        <th>                     </th>     <td> </td>    \n",
       "</tr>\n",
       "</table>\n",
       "<table class=\"simpletable\">\n",
       "<tr>\n",
       "          <td></td>            <th>coef</th>     <th>std err</th>      <th>z</th>      <th>P>|z|</th>  <th>[0.025</th>    <th>0.975]</th>  \n",
       "</tr>\n",
       "<tr>\n",
       "  <th>const</th>            <td>  -38.4591</td> <td>   27.489</td> <td>   -1.399</td> <td> 0.162</td> <td>  -92.337</td> <td>   15.418</td>\n",
       "</tr>\n",
       "<tr>\n",
       "  <th>ar.L1.D.adjClose</th> <td>   -0.5841</td> <td>    0.173</td> <td>   -3.375</td> <td> 0.001</td> <td>   -0.923</td> <td>   -0.245</td>\n",
       "</tr>\n",
       "<tr>\n",
       "  <th>ma.L1.D.adjClose</th> <td>    0.5029</td> <td>    0.184</td> <td>    2.738</td> <td> 0.006</td> <td>    0.143</td> <td>    0.863</td>\n",
       "</tr>\n",
       "</table>\n",
       "<table class=\"simpletable\">\n",
       "<caption>Roots</caption>\n",
       "<tr>\n",
       "    <td></td>   <th>            Real</th>  <th>         Imaginary</th> <th>         Modulus</th>  <th>        Frequency</th>\n",
       "</tr>\n",
       "<tr>\n",
       "  <th>AR.1</th> <td>          -1.7120</td> <td>          +0.0000j</td> <td>           1.7120</td> <td>           0.5000</td>\n",
       "</tr>\n",
       "<tr>\n",
       "  <th>MA.1</th> <td>          -1.9883</td> <td>          +0.0000j</td> <td>           1.9883</td> <td>           0.5000</td>\n",
       "</tr>\n",
       "</table>"
      ],
      "text/plain": [
       "<class 'statsmodels.iolib.summary.Summary'>\n",
       "\"\"\"\n",
       "                             ARIMA Model Results                              \n",
       "==============================================================================\n",
       "Dep. Variable:             D.adjClose   No. Observations:                 1097\n",
       "Model:                 ARIMA(1, 1, 1)   Log Likelihood               -9089.171\n",
       "Method:                       css-mle   S.D. of innovations            959.618\n",
       "Date:                Fri, 03 Sep 2021   AIC                          18186.343\n",
       "Time:                        16:27:09   BIC                          18206.344\n",
       "Sample:                             1   HQIC                         18193.910\n",
       "                                                                              \n",
       "====================================================================================\n",
       "                       coef    std err          z      P>|z|      [0.025      0.975]\n",
       "------------------------------------------------------------------------------------\n",
       "const              -38.4591     27.489     -1.399      0.162     -92.337      15.418\n",
       "ar.L1.D.adjClose    -0.5841      0.173     -3.375      0.001      -0.923      -0.245\n",
       "ma.L1.D.adjClose     0.5029      0.184      2.738      0.006       0.143       0.863\n",
       "                                    Roots                                    \n",
       "=============================================================================\n",
       "                  Real          Imaginary           Modulus         Frequency\n",
       "-----------------------------------------------------------------------------\n",
       "AR.1           -1.7120           +0.0000j            1.7120            0.5000\n",
       "MA.1           -1.9883           +0.0000j            1.9883            0.5000\n",
       "-----------------------------------------------------------------------------\n",
       "\"\"\""
      ]
     },
     "execution_count": 37,
     "metadata": {},
     "output_type": "execute_result"
    }
   ],
   "source": [
    "from statsmodels.tsa.arima_model import ARIMA\n",
    "# 1. initialize the model\n",
    "arima = ARIMA(y, order=(1, 1, 1))\n",
    "\n",
    "# 2. fit the models\n",
    "arima = arima.fit()\n",
    "\n",
    "arima.summary()"
   ]
  },
  {
   "cell_type": "markdown",
   "id": "02665097",
   "metadata": {},
   "source": [
    "## ARIMA ON TRAIN DF"
   ]
  },
  {
   "cell_type": "code",
   "execution_count": 50,
   "id": "5ef12aca",
   "metadata": {},
   "outputs": [
    {
     "name": "stderr",
     "output_type": "stream",
     "text": [
      "/Users/guillaumetrounson/.pyenv/versions/3.8.6/envs/cryptocurrency_trading/lib/python3.8/site-packages/statsmodels/tsa/arima_model.py:472: FutureWarning: \n",
      "statsmodels.tsa.arima_model.ARMA and statsmodels.tsa.arima_model.ARIMA have\n",
      "been deprecated in favor of statsmodels.tsa.arima.model.ARIMA (note the .\n",
      "between arima and model) and\n",
      "statsmodels.tsa.SARIMAX. These will be removed after the 0.12 release.\n",
      "\n",
      "statsmodels.tsa.arima.model.ARIMA makes use of the statespace framework and\n",
      "is both well tested and maintained.\n",
      "\n",
      "To silence this warning and continue using ARMA and ARIMA until they are\n",
      "removed, use:\n",
      "\n",
      "import warnings\n",
      "warnings.filterwarnings('ignore', 'statsmodels.tsa.arima_model.ARMA',\n",
      "                        FutureWarning)\n",
      "warnings.filterwarnings('ignore', 'statsmodels.tsa.arima_model.ARIMA',\n",
      "                        FutureWarning)\n",
      "\n",
      "  warnings.warn(ARIMA_DEPRECATION_WARN, FutureWarning)\n",
      "/Users/guillaumetrounson/.pyenv/versions/3.8.6/envs/cryptocurrency_trading/lib/python3.8/site-packages/statsmodels/tsa/base/tsa_model.py:524: ValueWarning: No frequency information was provided, so inferred frequency -1D will be used.\n",
      "  warnings.warn('No frequency information was'\n",
      "/Users/guillaumetrounson/.pyenv/versions/3.8.6/envs/cryptocurrency_trading/lib/python3.8/site-packages/statsmodels/tsa/base/tsa_model.py:585: ValueWarning: A date index has been provided, but it is not monotonic and so will be ignored when e.g. forecasting.\n",
      "  warnings.warn('A date index has been provided, but it is not'\n",
      "/Users/guillaumetrounson/.pyenv/versions/3.8.6/envs/cryptocurrency_trading/lib/python3.8/site-packages/statsmodels/tsa/base/tsa_model.py:524: ValueWarning: No frequency information was provided, so inferred frequency -1D will be used.\n",
      "  warnings.warn('No frequency information was'\n",
      "/Users/guillaumetrounson/.pyenv/versions/3.8.6/envs/cryptocurrency_trading/lib/python3.8/site-packages/statsmodels/tsa/base/tsa_model.py:585: ValueWarning: A date index has been provided, but it is not monotonic and so will be ignored when e.g. forecasting.\n",
      "  warnings.warn('A date index has been provided, but it is not'\n",
      " This problem is unconstrained.\n"
     ]
    },
    {
     "name": "stdout",
     "output_type": "stream",
     "text": [
      "RUNNING THE L-BFGS-B CODE\n",
      "\n",
      "           * * *\n",
      "\n",
      "Machine precision = 2.220D-16\n",
      " N =            3     M =           12\n",
      "\n",
      "At X0         0 variables are exactly at the bounds\n",
      "\n",
      "At iterate    0    f=  7.57355D+00    |proj g|=  6.90115D-05\n",
      "\n",
      "At iterate    5    f=  7.57355D+00    |proj g|=  6.90115D-05\n",
      "\n",
      "At iterate   10    f=  7.57355D+00    |proj g|=  1.06581D-06\n",
      "\n",
      "At iterate   15    f=  7.57355D+00    |proj g|=  9.59233D-06\n",
      "\n",
      "At iterate   20    f=  7.57355D+00    |proj g|=  4.25437D-05\n",
      "\n",
      "At iterate   25    f=  7.57355D+00    |proj g|=  2.04281D-06\n",
      "\n",
      "           * * *\n",
      "\n",
      "Tit   = total number of iterations\n",
      "Tnf   = total number of function evaluations\n",
      "Tnint = total number of segments explored during Cauchy searches\n",
      "Skip  = number of BFGS updates skipped\n",
      "Nact  = number of active bounds at final generalized Cauchy point\n",
      "Projg = norm of the final projected gradient\n",
      "F     = final function value\n",
      "\n",
      "           * * *\n",
      "\n",
      "   N    Tit     Tnf  Tnint  Skip  Nact     Projg        F\n",
      "    3     27     48      1     0     0   0.000D+00   7.574D+00\n",
      "  F =   7.5735491568310334     \n",
      "\n",
      "CONVERGENCE: NORM_OF_PROJECTED_GRADIENT_<=_PGTOL            \n"
     ]
    },
    {
     "data": {
      "text/html": [
       "<table class=\"simpletable\">\n",
       "<caption>ARIMA Model Results</caption>\n",
       "<tr>\n",
       "  <th>Dep. Variable:</th>    <td>D.adjClose</td>    <th>  No. Observations:  </th>    <td>877</td>   \n",
       "</tr>\n",
       "<tr>\n",
       "  <th>Model:</th>          <td>ARIMA(1, 1, 1)</td>  <th>  Log Likelihood     </th> <td>-6642.003</td>\n",
       "</tr>\n",
       "<tr>\n",
       "  <th>Method:</th>             <td>css-mle</td>     <th>  S.D. of innovations</th>  <td>470.882</td> \n",
       "</tr>\n",
       "<tr>\n",
       "  <th>Date:</th>          <td>Fri, 03 Sep 2021</td> <th>  AIC                </th> <td>13292.005</td>\n",
       "</tr>\n",
       "<tr>\n",
       "  <th>Time:</th>              <td>16:29:38</td>     <th>  BIC                </th> <td>13311.111</td>\n",
       "</tr>\n",
       "<tr>\n",
       "  <th>Sample:</th>                <td>1</td>        <th>  HQIC               </th> <td>13299.313</td>\n",
       "</tr>\n",
       "<tr>\n",
       "  <th></th>                       <td> </td>        <th>                     </th>     <td> </td>    \n",
       "</tr>\n",
       "</table>\n",
       "<table class=\"simpletable\">\n",
       "<tr>\n",
       "          <td></td>            <th>coef</th>     <th>std err</th>      <th>z</th>      <th>P>|z|</th>  <th>[0.025</th>    <th>0.975]</th>  \n",
       "</tr>\n",
       "<tr>\n",
       "  <th>const</th>            <td>  -28.8650</td> <td>   16.974</td> <td>   -1.701</td> <td> 0.089</td> <td>  -62.134</td> <td>    4.404</td>\n",
       "</tr>\n",
       "<tr>\n",
       "  <th>ar.L1.D.adjClose</th> <td>   -0.0481</td> <td>    0.280</td> <td>   -0.172</td> <td> 0.864</td> <td>   -0.597</td> <td>    0.501</td>\n",
       "</tr>\n",
       "<tr>\n",
       "  <th>ma.L1.D.adjClose</th> <td>    0.1190</td> <td>    0.277</td> <td>    0.429</td> <td> 0.668</td> <td>   -0.424</td> <td>    0.662</td>\n",
       "</tr>\n",
       "</table>\n",
       "<table class=\"simpletable\">\n",
       "<caption>Roots</caption>\n",
       "<tr>\n",
       "    <td></td>   <th>            Real</th>  <th>         Imaginary</th> <th>         Modulus</th>  <th>        Frequency</th>\n",
       "</tr>\n",
       "<tr>\n",
       "  <th>AR.1</th> <td>         -20.7929</td> <td>          +0.0000j</td> <td>          20.7929</td> <td>           0.5000</td>\n",
       "</tr>\n",
       "<tr>\n",
       "  <th>MA.1</th> <td>          -8.4069</td> <td>          +0.0000j</td> <td>           8.4069</td> <td>           0.5000</td>\n",
       "</tr>\n",
       "</table>"
      ],
      "text/plain": [
       "<class 'statsmodels.iolib.summary.Summary'>\n",
       "\"\"\"\n",
       "                             ARIMA Model Results                              \n",
       "==============================================================================\n",
       "Dep. Variable:             D.adjClose   No. Observations:                  877\n",
       "Model:                 ARIMA(1, 1, 1)   Log Likelihood               -6642.003\n",
       "Method:                       css-mle   S.D. of innovations            470.882\n",
       "Date:                Fri, 03 Sep 2021   AIC                          13292.005\n",
       "Time:                        16:29:38   BIC                          13311.111\n",
       "Sample:                             1   HQIC                         13299.313\n",
       "                                                                              \n",
       "====================================================================================\n",
       "                       coef    std err          z      P>|z|      [0.025      0.975]\n",
       "------------------------------------------------------------------------------------\n",
       "const              -28.8650     16.974     -1.701      0.089     -62.134       4.404\n",
       "ar.L1.D.adjClose    -0.0481      0.280     -0.172      0.864      -0.597       0.501\n",
       "ma.L1.D.adjClose     0.1190      0.277      0.429      0.668      -0.424       0.662\n",
       "                                    Roots                                    \n",
       "=============================================================================\n",
       "                  Real          Imaginary           Modulus         Frequency\n",
       "-----------------------------------------------------------------------------\n",
       "AR.1          -20.7929           +0.0000j           20.7929            0.5000\n",
       "MA.1           -8.4069           +0.0000j            8.4069            0.5000\n",
       "-----------------------------------------------------------------------------\n",
       "\"\"\""
      ]
     },
     "execution_count": 50,
     "metadata": {},
     "output_type": "execute_result"
    }
   ],
   "source": [
    "arima_train = ARIMA(train, order=(1, 1, 1))\n",
    "\n",
    "# 2. fit the models\n",
    "arima_train = arima_train.fit()\n",
    "\n",
    "arima_train.summary()"
   ]
  },
  {
   "cell_type": "code",
   "execution_count": 51,
   "id": "6326217f",
   "metadata": {},
   "outputs": [
    {
     "data": {
      "text/plain": [
       "date\n",
       "2021-09-02    49327.722656\n",
       "Name: adjClose, dtype: float64"
      ]
     },
     "execution_count": 51,
     "metadata": {},
     "output_type": "execute_result"
    }
   ],
   "source": [
    "df3years[1:2]['adjClose']"
   ]
  },
  {
   "cell_type": "code",
   "execution_count": 52,
   "id": "0e561683",
   "metadata": {
    "scrolled": true
   },
   "outputs": [
    {
     "data": {
      "text/plain": [
       "date\n",
       "2021-09-02    49289.263508\n",
       "Name: adjClose, dtype: float64"
      ]
     },
     "execution_count": 52,
     "metadata": {},
     "output_type": "execute_result"
    }
   ],
   "source": [
    "absolute_next_day_prediction = arima.predict()[0] + df3years[1:2]['adjClose']\n",
    "absolute_next_day_prediction"
   ]
  },
  {
   "cell_type": "code",
   "execution_count": 53,
   "id": "7ea974bc",
   "metadata": {},
   "outputs": [
    {
     "data": {
      "image/png": "[encoded data removed]",
      "text/plain": [
       "<Figure size 864x360 with 1 Axes>"
      ]
     },
     "metadata": {
      "needs_background": "light"
     },
     "output_type": "display_data"
    }
   ],
   "source": [
    "arima.plot_predict(end='2018-09-02', start='2021-09-01', dynamic=False);\n",
    "fig = plt.gcf(); fig.set_size_inches(12, 5);"
   ]
  },
  {
   "cell_type": "code",
   "execution_count": 91,
   "id": "c3603f88",
   "metadata": {},
   "outputs": [
    {
     "data": {
      "text/html": [
       "<div>\n",
       "<style scoped>\n",
       "    .dataframe tbody tr th:only-of-type {\n",
       "        vertical-align: middle;\n",
       "    }\n",
       "\n",
       "    .dataframe tbody tr th {\n",
       "        vertical-align: top;\n",
       "    }\n",
       "\n",
       "    .dataframe thead th {\n",
       "        text-align: right;\n",
       "    }\n",
       "</style>\n",
       "<table border=\"1\" class=\"dataframe\">\n",
       "  <thead>\n",
       "    <tr style=\"text-align: right;\">\n",
       "      <th></th>\n",
       "      <th>0</th>\n",
       "      <th>adjClose</th>\n",
       "      <th>Predicted_price</th>\n",
       "    </tr>\n",
       "    <tr>\n",
       "      <th>date</th>\n",
       "      <th></th>\n",
       "      <th></th>\n",
       "      <th></th>\n",
       "    </tr>\n",
       "  </thead>\n",
       "  <tbody>\n",
       "    <tr>\n",
       "      <th>2021-09-02</th>\n",
       "      <td>-38.459148</td>\n",
       "      <td>49327.722656</td>\n",
       "      <td>49289.263508</td>\n",
       "    </tr>\n",
       "    <tr>\n",
       "      <th>2021-09-01</th>\n",
       "      <td>-30.154162</td>\n",
       "      <td>48847.027344</td>\n",
       "      <td>48816.873182</td>\n",
       "    </tr>\n",
       "    <tr>\n",
       "      <th>2021-08-31</th>\n",
       "      <td>-6.166061</td>\n",
       "      <td>47166.687500</td>\n",
       "      <td>47160.521439</td>\n",
       "    </tr>\n",
       "    <tr>\n",
       "      <th>2021-08-30</th>\n",
       "      <td>79.130075</td>\n",
       "      <td>47054.984375</td>\n",
       "      <td>47134.114450</td>\n",
       "    </tr>\n",
       "    <tr>\n",
       "      <th>2021-08-29</th>\n",
       "      <td>-91.637362</td>\n",
       "      <td>48829.832031</td>\n",
       "      <td>48738.194669</td>\n",
       "    </tr>\n",
       "    <tr>\n",
       "      <th>...</th>\n",
       "      <td>...</td>\n",
       "      <td>...</td>\n",
       "      <td>...</td>\n",
       "    </tr>\n",
       "    <tr>\n",
       "      <th>2018-09-06</th>\n",
       "      <td>-62.749588</td>\n",
       "      <td>6529.169922</td>\n",
       "      <td>6466.420334</td>\n",
       "    </tr>\n",
       "    <tr>\n",
       "      <th>2018-09-05</th>\n",
       "      <td>-34.406644</td>\n",
       "      <td>6792.830078</td>\n",
       "      <td>6758.423434</td>\n",
       "    </tr>\n",
       "    <tr>\n",
       "      <th>2018-09-04</th>\n",
       "      <td>-65.025326</td>\n",
       "      <td>7361.660156</td>\n",
       "      <td>7296.634830</td>\n",
       "    </tr>\n",
       "    <tr>\n",
       "      <th>2018-09-03</th>\n",
       "      <td>-74.401750</td>\n",
       "      <td>7260.060059</td>\n",
       "      <td>7185.658309</td>\n",
       "    </tr>\n",
       "    <tr>\n",
       "      <th>2018-09-02</th>\n",
       "      <td>-15.256086</td>\n",
       "      <td>7272.720215</td>\n",
       "      <td>7257.464129</td>\n",
       "    </tr>\n",
       "  </tbody>\n",
       "</table>\n",
       "<p>1097 rows × 3 columns</p>\n",
       "</div>"
      ],
      "text/plain": [
       "                    0      adjClose  Predicted_price\n",
       "date                                                \n",
       "2021-09-02 -38.459148  49327.722656     49289.263508\n",
       "2021-09-01 -30.154162  48847.027344     48816.873182\n",
       "2021-08-31  -6.166061  47166.687500     47160.521439\n",
       "2021-08-30  79.130075  47054.984375     47134.114450\n",
       "2021-08-29 -91.637362  48829.832031     48738.194669\n",
       "...               ...           ...              ...\n",
       "2018-09-06 -62.749588   6529.169922      6466.420334\n",
       "2018-09-05 -34.406644   6792.830078      6758.423434\n",
       "2018-09-04 -65.025326   7361.660156      7296.634830\n",
       "2018-09-03 -74.401750   7260.060059      7185.658309\n",
       "2018-09-02 -15.256086   7272.720215      7257.464129\n",
       "\n",
       "[1097 rows x 3 columns]"
      ]
     },
     "execution_count": 91,
     "metadata": {},
     "output_type": "execute_result"
    }
   ],
   "source": [
    "df_predict = pd.DataFrame(arima.predict())\n",
    "merged_df = df_predict.merge(df3years, on='date')\n",
    "merged_df['Predicted_price'] = merged_df['adjClose'] + merged_df[0]\n",
    "merged_df"
   ]
  },
  {
   "cell_type": "code",
   "execution_count": 109,
   "id": "1d651f04",
   "metadata": {},
   "outputs": [
    {
     "data": {
      "text/plain": [
       "date\n",
       "2021-09-02    49289.263508\n",
       "2021-09-01    48816.873182\n",
       "2021-08-31    47160.521439\n",
       "2021-08-30    47134.114450\n",
       "2021-08-29    48738.194669\n",
       "                  ...     \n",
       "2021-01-31    33145.283171\n",
       "2021-01-30    34227.373677\n",
       "2021-01-29    34182.877567\n",
       "2021-01-28    31652.023455\n",
       "2021-01-27    30586.913505\n",
       "Name: Predicted_price, Length: 219, dtype: float64"
      ]
     },
     "execution_count": 109,
     "metadata": {},
     "output_type": "execute_result"
    }
   ],
   "source": [
    "y_pred = merged_df['Predicted_price'][:219]\n",
    "y_pred"
   ]
  },
  {
   "cell_type": "code",
   "execution_count": 111,
   "id": "684efa6a",
   "metadata": {},
   "outputs": [
    {
     "data": {
      "text/plain": [
       "date\n",
       "2021-09-02    49327.722656\n",
       "2021-09-01    48847.027344\n",
       "2021-08-31    47166.687500\n",
       "2021-08-30    47054.984375\n",
       "2021-08-29    48829.832031\n",
       "                  ...     \n",
       "2021-01-31    33114.359375\n",
       "2021-01-30    34269.523438\n",
       "2021-01-29    34316.386719\n",
       "2021-01-28    31649.605469\n",
       "2021-01-27    30432.546875\n",
       "Name: adjClose, Length: 219, dtype: float64"
      ]
     },
     "execution_count": 111,
     "metadata": {},
     "output_type": "execute_result"
    }
   ],
   "source": [
    "y_test = merged_df['adjClose'][:219]\n",
    "y_test"
   ]
  },
  {
   "cell_type": "code",
   "execution_count": 112,
   "id": "5e22f481",
   "metadata": {},
   "outputs": [
    {
     "data": {
      "text/html": [
       "<div>\n",
       "<style scoped>\n",
       "    .dataframe tbody tr th:only-of-type {\n",
       "        vertical-align: middle;\n",
       "    }\n",
       "\n",
       "    .dataframe tbody tr th {\n",
       "        vertical-align: top;\n",
       "    }\n",
       "\n",
       "    .dataframe thead th {\n",
       "        text-align: right;\n",
       "    }\n",
       "</style>\n",
       "<table border=\"1\" class=\"dataframe\">\n",
       "  <thead>\n",
       "    <tr style=\"text-align: right;\">\n",
       "      <th></th>\n",
       "      <th>adjClose</th>\n",
       "    </tr>\n",
       "    <tr>\n",
       "      <th>date</th>\n",
       "      <th></th>\n",
       "    </tr>\n",
       "  </thead>\n",
       "  <tbody>\n",
       "    <tr>\n",
       "      <th>2021-09-02</th>\n",
       "      <td>49327.722656</td>\n",
       "    </tr>\n",
       "    <tr>\n",
       "      <th>2021-09-01</th>\n",
       "      <td>48847.027344</td>\n",
       "    </tr>\n",
       "    <tr>\n",
       "      <th>2021-08-31</th>\n",
       "      <td>47166.687500</td>\n",
       "    </tr>\n",
       "    <tr>\n",
       "      <th>2021-08-30</th>\n",
       "      <td>47054.984375</td>\n",
       "    </tr>\n",
       "    <tr>\n",
       "      <th>2021-08-29</th>\n",
       "      <td>48829.832031</td>\n",
       "    </tr>\n",
       "    <tr>\n",
       "      <th>...</th>\n",
       "      <td>...</td>\n",
       "    </tr>\n",
       "    <tr>\n",
       "      <th>2021-01-31</th>\n",
       "      <td>33114.359375</td>\n",
       "    </tr>\n",
       "    <tr>\n",
       "      <th>2021-01-30</th>\n",
       "      <td>34269.523438</td>\n",
       "    </tr>\n",
       "    <tr>\n",
       "      <th>2021-01-29</th>\n",
       "      <td>34316.386719</td>\n",
       "    </tr>\n",
       "    <tr>\n",
       "      <th>2021-01-28</th>\n",
       "      <td>31649.605469</td>\n",
       "    </tr>\n",
       "    <tr>\n",
       "      <th>2021-01-27</th>\n",
       "      <td>30432.546875</td>\n",
       "    </tr>\n",
       "  </tbody>\n",
       "</table>\n",
       "<p>219 rows × 1 columns</p>\n",
       "</div>"
      ],
      "text/plain": [
       "                adjClose\n",
       "date                    \n",
       "2021-09-02  49327.722656\n",
       "2021-09-01  48847.027344\n",
       "2021-08-31  47166.687500\n",
       "2021-08-30  47054.984375\n",
       "2021-08-29  48829.832031\n",
       "...                  ...\n",
       "2021-01-31  33114.359375\n",
       "2021-01-30  34269.523438\n",
       "2021-01-29  34316.386719\n",
       "2021-01-28  31649.605469\n",
       "2021-01-27  30432.546875\n",
       "\n",
       "[219 rows x 1 columns]"
      ]
     },
     "execution_count": 112,
     "metadata": {},
     "output_type": "execute_result"
    }
   ],
   "source": [
    "y_true = test[1:]\n",
    "y_true"
   ]
  },
  {
   "cell_type": "code",
   "execution_count": 114,
   "id": "3a5e2303",
   "metadata": {},
   "outputs": [
    {
     "name": "stdout",
     "output_type": "stream",
     "text": [
      "MSE = 39798.06\n",
      "MAE = 152.35\n",
      "MAPE = 0.0033800038357821895\n"
     ]
    }
   ],
   "source": [
    "mse = mean_squared_error(y_test, y_pred)\n",
    "mae = mean_absolute_error(y_test, y_pred)\n",
    "mape = mean_absolute_percentage_error(y_true, y_pred)\n",
    "\n",
    "print('MSE =', round(mse, 2))\n",
    "print('MAE =', round(mae, 2))\n",
    "print('MAPE =', mape)"
   ]
  },
  {
   "cell_type": "code",
   "execution_count": 54,
   "id": "8464e52c",
   "metadata": {},
   "outputs": [],
   "source": [
    "(forecast, stderr, conf_int) = arima.forecast(len(test), alpha=0.05)"
   ]
  },
  {
   "cell_type": "code",
   "execution_count": 55,
   "id": "52d9ea12",
   "metadata": {},
   "outputs": [],
   "source": [
    "forecast = pd.Series(forecast, name='forecast')\n",
    "stderr = pd.Series(stderr)\n",
    "conf_int = pd.DataFrame(conf_int, columns=['low', 'high'])"
   ]
  },
  {
   "cell_type": "code",
   "execution_count": 56,
   "id": "5577a1ce",
   "metadata": {},
   "outputs": [
    {
     "data": {
      "text/html": [
       "<div>\n",
       "<style scoped>\n",
       "    .dataframe tbody tr th:only-of-type {\n",
       "        vertical-align: middle;\n",
       "    }\n",
       "\n",
       "    .dataframe tbody tr th {\n",
       "        vertical-align: top;\n",
       "    }\n",
       "\n",
       "    .dataframe thead th {\n",
       "        text-align: right;\n",
       "    }\n",
       "</style>\n",
       "<table border=\"1\" class=\"dataframe\">\n",
       "  <thead>\n",
       "    <tr style=\"text-align: right;\">\n",
       "      <th></th>\n",
       "      <th>low</th>\n",
       "      <th>high</th>\n",
       "    </tr>\n",
       "  </thead>\n",
       "  <tbody>\n",
       "    <tr>\n",
       "      <th>0</th>\n",
       "      <td>5337.624783</td>\n",
       "      <td>9099.257594</td>\n",
       "    </tr>\n",
       "    <tr>\n",
       "      <th>1</th>\n",
       "      <td>4635.036624</td>\n",
       "      <td>9743.408986</td>\n",
       "    </tr>\n",
       "    <tr>\n",
       "      <th>2</th>\n",
       "      <td>4010.641873</td>\n",
       "      <td>10280.089944</td>\n",
       "    </tr>\n",
       "    <tr>\n",
       "      <th>3</th>\n",
       "      <td>3512.494993</td>\n",
       "      <td>10707.624433</td>\n",
       "    </tr>\n",
       "    <tr>\n",
       "      <th>4</th>\n",
       "      <td>3048.960838</td>\n",
       "      <td>11090.556865</td>\n",
       "    </tr>\n",
       "  </tbody>\n",
       "</table>\n",
       "</div>"
      ],
      "text/plain": [
       "           low          high\n",
       "0  5337.624783   9099.257594\n",
       "1  4635.036624   9743.408986\n",
       "2  4010.641873  10280.089944\n",
       "3  3512.494993  10707.624433\n",
       "4  3048.960838  11090.556865"
      ]
     },
     "execution_count": 56,
     "metadata": {},
     "output_type": "execute_result"
    }
   ],
   "source": [
    "conf_int[0:5]"
   ]
  },
  {
   "cell_type": "code",
   "execution_count": 57,
   "id": "d7ddfb1e",
   "metadata": {},
   "outputs": [
    {
     "data": {
      "text/plain": [
       "0    7218.441188\n",
       "1    7189.222805\n",
       "2    7145.365909\n",
       "3    7110.059713\n",
       "4    7069.758852\n",
       "Name: forecast, dtype: float64"
      ]
     },
     "execution_count": 57,
     "metadata": {},
     "output_type": "execute_result"
    }
   ],
   "source": [
    "forecast[:5]"
   ]
  },
  {
   "cell_type": "code",
   "execution_count": 58,
   "id": "47fac12c",
   "metadata": {},
   "outputs": [
    {
     "data": {
      "text/plain": [
       "<matplotlib.legend.Legend at 0x128e6f790>"
      ]
     },
     "execution_count": 58,
     "metadata": {},
     "output_type": "execute_result"
    },
    {
     "data": {
      "image/png": "[encoded data removed]",
      "text/plain": [
       "<Figure size 432x288 with 1 Axes>"
      ]
     },
     "metadata": {
      "needs_background": "light"
     },
     "output_type": "display_data"
    }
   ],
   "source": [
    "plt.plot(forecast[:5], c='orange')\n",
    "plt.plot(conf_int['low'][0:5], label='low', c='grey', ls='--')\n",
    "plt.plot(conf_int['high'][0:5], label='high', c='grey', ls='--')\n",
    "plt.legend()"
   ]
  },
  {
   "cell_type": "code",
   "execution_count": 59,
   "id": "35ff984f",
   "metadata": {},
   "outputs": [],
   "source": [
    "forecast.index = test['adjClose'].index\n",
    "conf_int.index = test['adjClose'].index"
   ]
  },
  {
   "cell_type": "code",
   "execution_count": 60,
   "id": "d1081b32",
   "metadata": {},
   "outputs": [
    {
     "data": {
      "text/plain": [
       "<AxesSubplot:title={'center':'Residuals'}, xlabel='date'>"
      ]
     },
     "execution_count": 60,
     "metadata": {},
     "output_type": "execute_result"
    },
    {
     "data": {
      "image/png": "[encoded data removed]",
      "text/plain": [
       "<Figure size 432x288 with 1 Axes>"
      ]
     },
     "metadata": {
      "needs_background": "light"
     },
     "output_type": "display_data"
    }
   ],
   "source": [
    "residuals = pd.DataFrame(arima_train.resid)\n",
    "residuals.plot(title=\"Residuals\")"
   ]
  },
  {
   "cell_type": "code",
   "execution_count": 61,
   "id": "8e625b48",
   "metadata": {},
   "outputs": [
    {
     "data": {
      "text/plain": [
       "<AxesSubplot:title={'center':'Residual density'}, ylabel='Density'>"
      ]
     },
     "execution_count": 61,
     "metadata": {},
     "output_type": "execute_result"
    },
    {
     "data": {
      "image/png": "[encoded data removed]",
      "text/plain": [
       "<Figure size 432x288 with 1 Axes>"
      ]
     },
     "metadata": {
      "needs_background": "light"
     },
     "output_type": "display_data"
    }
   ],
   "source": [
    "residuals.plot(kind='kde', title='Residual density')"
   ]
  },
  {
   "cell_type": "code",
   "execution_count": null,
   "id": "a7b347bb",
   "metadata": {},
   "outputs": [],
   "source": []
  }
 ],
 "metadata": {
  "kernelspec": {
   "display_name": "Python 3 (ipykernel)",
   "language": "python",
   "name": "python3"
  },
  "language_info": {
   "codemirror_mode": {
    "name": "ipython",
    "version": 3
   },
   "file_extension": ".py",
   "mimetype": "text/x-python",
   "name": "python",
   "nbconvert_exporter": "python",
   "pygments_lexer": "ipython3",
   "version": "3.8.6"
  },
  "toc": {
   "base_numbering": 1,
   "nav_menu": {},
   "number_sections": true,
   "sideBar": true,
   "skip_h1_title": false,
   "title_cell": "Table of Contents",
   "title_sidebar": "Contents",
   "toc_cell": false,
   "toc_position": {},
   "toc_section_display": true,
   "toc_window_display": false
  }
 },
 "nbformat": 4,
 "nbformat_minor": 5
}
