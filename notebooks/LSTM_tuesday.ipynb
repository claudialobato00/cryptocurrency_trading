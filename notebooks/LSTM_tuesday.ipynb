{
 "cells": [
  {
   "cell_type": "code",
   "execution_count": 130,
   "id": "5cd954c5",
   "metadata": {},
   "outputs": [],
   "source": [
    "import pandas as pd"
   ]
  },
  {
   "cell_type": "markdown",
   "id": "5e6dc17e",
   "metadata": {},
   "source": [
    "# Import data"
   ]
  },
  {
   "cell_type": "code",
   "execution_count": 131,
   "id": "66e87418",
   "metadata": {},
   "outputs": [],
   "source": [
    "df = pd.read_csv('stationary_data.csv')"
   ]
  },
  {
   "cell_type": "code",
   "execution_count": 132,
   "id": "7ad39438",
   "metadata": {},
   "outputs": [
    {
     "data": {
      "text/html": [
       "<div>\n",
       "<style scoped>\n",
       "    .dataframe tbody tr th:only-of-type {\n",
       "        vertical-align: middle;\n",
       "    }\n",
       "\n",
       "    .dataframe tbody tr th {\n",
       "        vertical-align: top;\n",
       "    }\n",
       "\n",
       "    .dataframe thead th {\n",
       "        text-align: right;\n",
       "    }\n",
       "</style>\n",
       "<table border=\"1\" class=\"dataframe\">\n",
       "  <thead>\n",
       "    <tr style=\"text-align: right;\">\n",
       "      <th></th>\n",
       "      <th>start</th>\n",
       "      <th>close_price</th>\n",
       "      <th>tweet_count</th>\n",
       "      <th>twitter_sentiment</th>\n",
       "      <th>volume</th>\n",
       "      <th>volatility</th>\n",
       "      <th>rsi</th>\n",
       "      <th>macd</th>\n",
       "      <th>reddit_sentiment</th>\n",
       "      <th>reddit_post_count</th>\n",
       "    </tr>\n",
       "  </thead>\n",
       "  <tbody>\n",
       "    <tr>\n",
       "      <th>0</th>\n",
       "      <td>2018-01-03</td>\n",
       "      <td>-0.078084</td>\n",
       "      <td>0.068450</td>\n",
       "      <td>6.096648</td>\n",
       "      <td>2.529997e+07</td>\n",
       "      <td>-0.141918</td>\n",
       "      <td>0.016552</td>\n",
       "      <td>30.100003</td>\n",
       "      <td>0.213028</td>\n",
       "      <td>-104.0</td>\n",
       "    </tr>\n",
       "    <tr>\n",
       "      <th>1</th>\n",
       "      <td>2018-01-04</td>\n",
       "      <td>0.011353</td>\n",
       "      <td>-0.066855</td>\n",
       "      <td>4.738479</td>\n",
       "      <td>4.911300e+09</td>\n",
       "      <td>-0.021054</td>\n",
       "      <td>0.030055</td>\n",
       "      <td>53.719591</td>\n",
       "      <td>-0.833220</td>\n",
       "      <td>-17.0</td>\n",
       "    </tr>\n",
       "    <tr>\n",
       "      <th>2</th>\n",
       "      <td>2018-01-05</td>\n",
       "      <td>0.085086</td>\n",
       "      <td>-0.084542</td>\n",
       "      <td>5.809624</td>\n",
       "      <td>2.057699e+09</td>\n",
       "      <td>0.243666</td>\n",
       "      <td>0.114442</td>\n",
       "      <td>185.854342</td>\n",
       "      <td>0.342103</td>\n",
       "      <td>48.0</td>\n",
       "    </tr>\n",
       "    <tr>\n",
       "      <th>3</th>\n",
       "      <td>2018-01-06</td>\n",
       "      <td>-0.105366</td>\n",
       "      <td>-0.246690</td>\n",
       "      <td>6.643630</td>\n",
       "      <td>-5.526299e+09</td>\n",
       "      <td>0.163605</td>\n",
       "      <td>0.005255</td>\n",
       "      <td>149.031677</td>\n",
       "      <td>-0.065387</td>\n",
       "      <td>-185.0</td>\n",
       "    </tr>\n",
       "    <tr>\n",
       "      <th>4</th>\n",
       "      <td>2018-01-07</td>\n",
       "      <td>-0.067319</td>\n",
       "      <td>0.091045</td>\n",
       "      <td>8.091246</td>\n",
       "      <td>-2.448600e+09</td>\n",
       "      <td>0.006811</td>\n",
       "      <td>-0.090538</td>\n",
       "      <td>26.993014</td>\n",
       "      <td>0.184959</td>\n",
       "      <td>53.0</td>\n",
       "    </tr>\n",
       "  </tbody>\n",
       "</table>\n",
       "</div>"
      ],
      "text/plain": [
       "        start  close_price  tweet_count  twitter_sentiment        volume  \\\n",
       "0  2018-01-03    -0.078084     0.068450           6.096648  2.529997e+07   \n",
       "1  2018-01-04     0.011353    -0.066855           4.738479  4.911300e+09   \n",
       "2  2018-01-05     0.085086    -0.084542           5.809624  2.057699e+09   \n",
       "3  2018-01-06    -0.105366    -0.246690           6.643630 -5.526299e+09   \n",
       "4  2018-01-07    -0.067319     0.091045           8.091246 -2.448600e+09   \n",
       "\n",
       "   volatility       rsi        macd  reddit_sentiment  reddit_post_count  \n",
       "0   -0.141918  0.016552   30.100003          0.213028             -104.0  \n",
       "1   -0.021054  0.030055   53.719591         -0.833220              -17.0  \n",
       "2    0.243666  0.114442  185.854342          0.342103               48.0  \n",
       "3    0.163605  0.005255  149.031677         -0.065387             -185.0  \n",
       "4    0.006811 -0.090538   26.993014          0.184959               53.0  "
      ]
     },
     "execution_count": 132,
     "metadata": {},
     "output_type": "execute_result"
    }
   ],
   "source": [
    "df.head()"
   ]
  },
  {
   "cell_type": "markdown",
   "id": "ec29b4f1",
   "metadata": {},
   "source": [
    "## imputer"
   ]
  },
  {
   "cell_type": "code",
   "execution_count": 133,
   "id": "7c851df4",
   "metadata": {},
   "outputs": [],
   "source": [
    "from sklearn.impute import KNNImputer"
   ]
  },
  {
   "cell_type": "code",
   "execution_count": 134,
   "id": "d63cb726",
   "metadata": {},
   "outputs": [],
   "source": [
    "imputer = KNNImputer(n_neighbors=2)\n",
    "df['reddit_sentiment'],df['reddit_post_count'],df['twitter_sentiment'] = imputer.fit_transform(df[['reddit_sentiment','reddit_post_count','twitter_sentiment']]).T"
   ]
  },
  {
   "cell_type": "markdown",
   "id": "cb800403",
   "metadata": {},
   "source": [
    "## Train test split"
   ]
  },
  {
   "cell_type": "code",
   "execution_count": 135,
   "id": "9ca22b97",
   "metadata": {},
   "outputs": [],
   "source": [
    "import os\n",
    "import datetime\n",
    "\n",
    "import IPython\n",
    "import IPython.display\n",
    "import matplotlib as mpl\n",
    "import matplotlib.pyplot as plt\n",
    "import numpy as np\n",
    "import pandas as pd\n",
    "import seaborn as sns\n",
    "import tensorflow as tf\n",
    "\n",
    "# mpl.rcParams['figure.figsize'] = (8, 6)\n",
    "# mpl.rcParams['axes.grid'] = False"
   ]
  },
  {
   "cell_type": "code",
   "execution_count": 136,
   "id": "7f628238",
   "metadata": {},
   "outputs": [],
   "source": [
    "\n",
    "def train_test_split(df):\n",
    "    column_indices = {name: i for i, name in enumerate(df.columns)}\n",
    "\n",
    "    n = len(df)\n",
    "    train_df = df[0:int(n*0.7)]\n",
    "    val_df = df[int(n*0.7):int(n*0.9)]\n",
    "    test_df = df[int(n*0.9):]\n",
    "\n",
    "    num_features = df.shape[1]\n",
    "    \n",
    "    return train_df,val_df,val_df,test_df,num_features"
   ]
  },
  {
   "cell_type": "code",
   "execution_count": 137,
   "id": "b1c6d54a",
   "metadata": {},
   "outputs": [],
   "source": [
    "train_df,val_df,val_df,test_df,num_features = train_test_split(df)"
   ]
  },
  {
   "cell_type": "code",
   "execution_count": 138,
   "id": "a7c6fb4b",
   "metadata": {},
   "outputs": [
    {
     "data": {
      "text/html": [
       "<div>\n",
       "<style scoped>\n",
       "    .dataframe tbody tr th:only-of-type {\n",
       "        vertical-align: middle;\n",
       "    }\n",
       "\n",
       "    .dataframe tbody tr th {\n",
       "        vertical-align: top;\n",
       "    }\n",
       "\n",
       "    .dataframe thead th {\n",
       "        text-align: right;\n",
       "    }\n",
       "</style>\n",
       "<table border=\"1\" class=\"dataframe\">\n",
       "  <thead>\n",
       "    <tr style=\"text-align: right;\">\n",
       "      <th></th>\n",
       "      <th>start</th>\n",
       "      <th>close_price</th>\n",
       "      <th>tweet_count</th>\n",
       "      <th>twitter_sentiment</th>\n",
       "      <th>volume</th>\n",
       "      <th>volatility</th>\n",
       "      <th>rsi</th>\n",
       "      <th>macd</th>\n",
       "      <th>reddit_sentiment</th>\n",
       "      <th>reddit_post_count</th>\n",
       "    </tr>\n",
       "  </thead>\n",
       "  <tbody>\n",
       "    <tr>\n",
       "      <th>0</th>\n",
       "      <td>2018-01-03</td>\n",
       "      <td>-0.078084</td>\n",
       "      <td>0.068450</td>\n",
       "      <td>6.096648</td>\n",
       "      <td>2.529997e+07</td>\n",
       "      <td>-0.141918</td>\n",
       "      <td>0.016552</td>\n",
       "      <td>30.100003</td>\n",
       "      <td>0.213028</td>\n",
       "      <td>-104.0</td>\n",
       "    </tr>\n",
       "    <tr>\n",
       "      <th>1</th>\n",
       "      <td>2018-01-04</td>\n",
       "      <td>0.011353</td>\n",
       "      <td>-0.066855</td>\n",
       "      <td>4.738479</td>\n",
       "      <td>4.911300e+09</td>\n",
       "      <td>-0.021054</td>\n",
       "      <td>0.030055</td>\n",
       "      <td>53.719591</td>\n",
       "      <td>-0.833220</td>\n",
       "      <td>-17.0</td>\n",
       "    </tr>\n",
       "    <tr>\n",
       "      <th>2</th>\n",
       "      <td>2018-01-05</td>\n",
       "      <td>0.085086</td>\n",
       "      <td>-0.084542</td>\n",
       "      <td>5.809624</td>\n",
       "      <td>2.057699e+09</td>\n",
       "      <td>0.243666</td>\n",
       "      <td>0.114442</td>\n",
       "      <td>185.854342</td>\n",
       "      <td>0.342103</td>\n",
       "      <td>48.0</td>\n",
       "    </tr>\n",
       "    <tr>\n",
       "      <th>3</th>\n",
       "      <td>2018-01-06</td>\n",
       "      <td>-0.105366</td>\n",
       "      <td>-0.246690</td>\n",
       "      <td>6.643630</td>\n",
       "      <td>-5.526299e+09</td>\n",
       "      <td>0.163605</td>\n",
       "      <td>0.005255</td>\n",
       "      <td>149.031677</td>\n",
       "      <td>-0.065387</td>\n",
       "      <td>-185.0</td>\n",
       "    </tr>\n",
       "    <tr>\n",
       "      <th>4</th>\n",
       "      <td>2018-01-07</td>\n",
       "      <td>-0.067319</td>\n",
       "      <td>0.091045</td>\n",
       "      <td>8.091246</td>\n",
       "      <td>-2.448600e+09</td>\n",
       "      <td>0.006811</td>\n",
       "      <td>-0.090538</td>\n",
       "      <td>26.993014</td>\n",
       "      <td>0.184959</td>\n",
       "      <td>53.0</td>\n",
       "    </tr>\n",
       "    <tr>\n",
       "      <th>...</th>\n",
       "      <td>...</td>\n",
       "      <td>...</td>\n",
       "      <td>...</td>\n",
       "      <td>...</td>\n",
       "      <td>...</td>\n",
       "      <td>...</td>\n",
       "      <td>...</td>\n",
       "      <td>...</td>\n",
       "      <td>...</td>\n",
       "      <td>...</td>\n",
       "    </tr>\n",
       "    <tr>\n",
       "      <th>900</th>\n",
       "      <td>2020-07-22</td>\n",
       "      <td>-0.006803</td>\n",
       "      <td>0.060790</td>\n",
       "      <td>1.814096</td>\n",
       "      <td>-1.537327e+09</td>\n",
       "      <td>0.195655</td>\n",
       "      <td>0.093068</td>\n",
       "      <td>25.484189</td>\n",
       "      <td>-0.445606</td>\n",
       "      <td>4.0</td>\n",
       "    </tr>\n",
       "    <tr>\n",
       "      <th>901</th>\n",
       "      <td>2020-07-23</td>\n",
       "      <td>-0.010092</td>\n",
       "      <td>0.065341</td>\n",
       "      <td>0.361671</td>\n",
       "      <td>1.614144e+09</td>\n",
       "      <td>0.278486</td>\n",
       "      <td>0.029136</td>\n",
       "      <td>24.355597</td>\n",
       "      <td>-0.059563</td>\n",
       "      <td>-16.0</td>\n",
       "    </tr>\n",
       "    <tr>\n",
       "      <th>902</th>\n",
       "      <td>2020-07-24</td>\n",
       "      <td>-0.010453</td>\n",
       "      <td>-0.038496</td>\n",
       "      <td>0.295054</td>\n",
       "      <td>-1.593631e+09</td>\n",
       "      <td>0.121754</td>\n",
       "      <td>-0.039523</td>\n",
       "      <td>15.225488</td>\n",
       "      <td>0.336210</td>\n",
       "      <td>30.0</td>\n",
       "    </tr>\n",
       "    <tr>\n",
       "      <th>903</th>\n",
       "      <td>2020-07-25</td>\n",
       "      <td>0.019218</td>\n",
       "      <td>-0.120173</td>\n",
       "      <td>0.827391</td>\n",
       "      <td>5.730261e+07</td>\n",
       "      <td>0.181845</td>\n",
       "      <td>0.072545</td>\n",
       "      <td>22.608763</td>\n",
       "      <td>0.253557</td>\n",
       "      <td>-26.0</td>\n",
       "    </tr>\n",
       "    <tr>\n",
       "      <th>904</th>\n",
       "      <td>2020-07-26</td>\n",
       "      <td>0.008697</td>\n",
       "      <td>-0.002012</td>\n",
       "      <td>3.099669</td>\n",
       "      <td>3.897928e+09</td>\n",
       "      <td>0.265886</td>\n",
       "      <td>0.086018</td>\n",
       "      <td>35.142351</td>\n",
       "      <td>-0.498893</td>\n",
       "      <td>37.0</td>\n",
       "    </tr>\n",
       "  </tbody>\n",
       "</table>\n",
       "<p>905 rows × 10 columns</p>\n",
       "</div>"
      ],
      "text/plain": [
       "          start  close_price  tweet_count  twitter_sentiment        volume  \\\n",
       "0    2018-01-03    -0.078084     0.068450           6.096648  2.529997e+07   \n",
       "1    2018-01-04     0.011353    -0.066855           4.738479  4.911300e+09   \n",
       "2    2018-01-05     0.085086    -0.084542           5.809624  2.057699e+09   \n",
       "3    2018-01-06    -0.105366    -0.246690           6.643630 -5.526299e+09   \n",
       "4    2018-01-07    -0.067319     0.091045           8.091246 -2.448600e+09   \n",
       "..          ...          ...          ...                ...           ...   \n",
       "900  2020-07-22    -0.006803     0.060790           1.814096 -1.537327e+09   \n",
       "901  2020-07-23    -0.010092     0.065341           0.361671  1.614144e+09   \n",
       "902  2020-07-24    -0.010453    -0.038496           0.295054 -1.593631e+09   \n",
       "903  2020-07-25     0.019218    -0.120173           0.827391  5.730261e+07   \n",
       "904  2020-07-26     0.008697    -0.002012           3.099669  3.897928e+09   \n",
       "\n",
       "     volatility       rsi        macd  reddit_sentiment  reddit_post_count  \n",
       "0     -0.141918  0.016552   30.100003          0.213028             -104.0  \n",
       "1     -0.021054  0.030055   53.719591         -0.833220              -17.0  \n",
       "2      0.243666  0.114442  185.854342          0.342103               48.0  \n",
       "3      0.163605  0.005255  149.031677         -0.065387             -185.0  \n",
       "4      0.006811 -0.090538   26.993014          0.184959               53.0  \n",
       "..          ...       ...         ...               ...                ...  \n",
       "900    0.195655  0.093068   25.484189         -0.445606                4.0  \n",
       "901    0.278486  0.029136   24.355597         -0.059563              -16.0  \n",
       "902    0.121754 -0.039523   15.225488          0.336210               30.0  \n",
       "903    0.181845  0.072545   22.608763          0.253557              -26.0  \n",
       "904    0.265886  0.086018   35.142351         -0.498893               37.0  \n",
       "\n",
       "[905 rows x 10 columns]"
      ]
     },
     "execution_count": 138,
     "metadata": {},
     "output_type": "execute_result"
    }
   ],
   "source": [
    "train_df=train_test_split(df)[0].copy()\n",
    "train_df"
   ]
  },
  {
   "cell_type": "markdown",
   "id": "79503b1c",
   "metadata": {},
   "source": [
    "### Standarize"
   ]
  },
  {
   "cell_type": "markdown",
   "id": "c1c9aa92",
   "metadata": {},
   "source": [
    "#### don't standardize the target?"
   ]
  },
  {
   "cell_type": "code",
   "execution_count": 139,
   "id": "80d68ec4",
   "metadata": {},
   "outputs": [],
   "source": [
    "train_mean=train_df[['tweet_count','twitter_sentiment','volume','volatility','rsi','macd','reddit_sentiment','reddit_post_count']].mean()\n",
    "train_std=train_df[['tweet_count','twitter_sentiment','volume','volatility','rsi','macd','reddit_sentiment','reddit_post_count']].std()\n",
    "\n",
    "\n"
   ]
  },
  {
   "cell_type": "code",
   "execution_count": 140,
   "id": "d1175396",
   "metadata": {},
   "outputs": [
    {
     "data": {
      "text/plain": [
       "tweet_count          1.695120e-01\n",
       "twitter_sentiment    1.733302e+00\n",
       "volume               4.077819e+09\n",
       "volatility           1.709044e-01\n",
       "rsi                  1.116498e-01\n",
       "macd                 4.567792e+01\n",
       "reddit_sentiment     3.802587e-01\n",
       "reddit_post_count    8.250881e+01\n",
       "dtype: float64"
      ]
     },
     "execution_count": 140,
     "metadata": {},
     "output_type": "execute_result"
    }
   ],
   "source": [
    "train_std"
   ]
  },
  {
   "cell_type": "code",
   "execution_count": 141,
   "id": "0234b8f2",
   "metadata": {},
   "outputs": [],
   "source": [
    "# train_df[['tweet_count','twitter_sentiment','volume','volatility','rsi','macd','reddit_sentiment','reddit_post_count']]=(train_df[['tweet_count','twitter_sentiment','volume','volatility','rsi','macd','reddit_sentiment','reddit_post_count']]-train_mean)/train_std\n",
    "\n",
    "# val_df[['tweet_count','twitter_sentiment','volume','volatility','rsi','macd','reddit_sentiment','reddit_post_count']]=(val_df[['tweet_count','twitter_sentiment','volume','volatility','rsi','macd','reddit_sentiment','reddit_post_count']]-train_mean)/train_std\n",
    "\n",
    "# test_df[['tweet_count','twitter_sentiment','volume','volatility','rsi','macd','reddit_sentiment','reddit_post_count']]=(test_df[['tweet_count','twitter_sentiment','volume','volatility','rsi','macd','reddit_sentiment','reddit_post_count']]-train_mean)/train_std\n"
   ]
  },
  {
   "cell_type": "code",
   "execution_count": 142,
   "id": "c1b1143a",
   "metadata": {},
   "outputs": [
    {
     "data": {
      "text/html": [
       "<div>\n",
       "<style scoped>\n",
       "    .dataframe tbody tr th:only-of-type {\n",
       "        vertical-align: middle;\n",
       "    }\n",
       "\n",
       "    .dataframe tbody tr th {\n",
       "        vertical-align: top;\n",
       "    }\n",
       "\n",
       "    .dataframe thead th {\n",
       "        text-align: right;\n",
       "    }\n",
       "</style>\n",
       "<table border=\"1\" class=\"dataframe\">\n",
       "  <thead>\n",
       "    <tr style=\"text-align: right;\">\n",
       "      <th></th>\n",
       "      <th>start</th>\n",
       "      <th>close_price</th>\n",
       "      <th>tweet_count</th>\n",
       "      <th>twitter_sentiment</th>\n",
       "      <th>volume</th>\n",
       "      <th>volatility</th>\n",
       "      <th>rsi</th>\n",
       "      <th>macd</th>\n",
       "      <th>reddit_sentiment</th>\n",
       "      <th>reddit_post_count</th>\n",
       "    </tr>\n",
       "  </thead>\n",
       "  <tbody>\n",
       "    <tr>\n",
       "      <th>905</th>\n",
       "      <td>2020-07-27</td>\n",
       "      <td>0.080716</td>\n",
       "      <td>0.594926</td>\n",
       "      <td>2.109560</td>\n",
       "      <td>1.485175e+10</td>\n",
       "      <td>0.713157</td>\n",
       "      <td>0.171750</td>\n",
       "      <td>112.978343</td>\n",
       "      <td>-0.119792</td>\n",
       "      <td>0.5</td>\n",
       "    </tr>\n",
       "    <tr>\n",
       "      <th>906</th>\n",
       "      <td>2020-07-28</td>\n",
       "      <td>-0.111135</td>\n",
       "      <td>-0.143009</td>\n",
       "      <td>1.801031</td>\n",
       "      <td>-6.593198e+09</td>\n",
       "      <td>0.221372</td>\n",
       "      <td>-0.035422</td>\n",
       "      <td>79.838229</td>\n",
       "      <td>0.124545</td>\n",
       "      <td>1.5</td>\n",
       "    </tr>\n",
       "    <tr>\n",
       "      <th>907</th>\n",
       "      <td>2020-07-29</td>\n",
       "      <td>0.024175</td>\n",
       "      <td>-0.272110</td>\n",
       "      <td>1.441959</td>\n",
       "      <td>-4.149301e+09</td>\n",
       "      <td>0.154931</td>\n",
       "      <td>0.018315</td>\n",
       "      <td>74.158906</td>\n",
       "      <td>0.884054</td>\n",
       "      <td>35.5</td>\n",
       "    </tr>\n",
       "    <tr>\n",
       "      <th>908</th>\n",
       "      <td>2020-07-30</td>\n",
       "      <td>-0.016081</td>\n",
       "      <td>-0.074482</td>\n",
       "      <td>2.339675</td>\n",
       "      <td>-1.760002e+09</td>\n",
       "      <td>0.082990</td>\n",
       "      <td>0.001021</td>\n",
       "      <td>54.752621</td>\n",
       "      <td>-1.090101</td>\n",
       "      <td>4.0</td>\n",
       "    </tr>\n",
       "    <tr>\n",
       "      <th>909</th>\n",
       "      <td>2020-07-31</td>\n",
       "      <td>0.017955</td>\n",
       "      <td>0.093953</td>\n",
       "      <td>2.227811</td>\n",
       "      <td>3.032219e+08</td>\n",
       "      <td>0.069944</td>\n",
       "      <td>0.019306</td>\n",
       "      <td>54.998925</td>\n",
       "      <td>0.721890</td>\n",
       "      <td>66.0</td>\n",
       "    </tr>\n",
       "    <tr>\n",
       "      <th>...</th>\n",
       "      <td>...</td>\n",
       "      <td>...</td>\n",
       "      <td>...</td>\n",
       "      <td>...</td>\n",
       "      <td>...</td>\n",
       "      <td>...</td>\n",
       "      <td>...</td>\n",
       "      <td>...</td>\n",
       "      <td>...</td>\n",
       "      <td>...</td>\n",
       "    </tr>\n",
       "    <tr>\n",
       "      <th>1158</th>\n",
       "      <td>2021-04-15</td>\n",
       "      <td>-0.061515</td>\n",
       "      <td>-0.076006</td>\n",
       "      <td>1.673382</td>\n",
       "      <td>-9.029073e+09</td>\n",
       "      <td>0.299198</td>\n",
       "      <td>-0.016517</td>\n",
       "      <td>317.681119</td>\n",
       "      <td>0.034741</td>\n",
       "      <td>-52.5</td>\n",
       "    </tr>\n",
       "    <tr>\n",
       "      <th>1159</th>\n",
       "      <td>2021-04-16</td>\n",
       "      <td>-0.024899</td>\n",
       "      <td>-0.101742</td>\n",
       "      <td>0.972841</td>\n",
       "      <td>2.333863e+10</td>\n",
       "      <td>0.023936</td>\n",
       "      <td>-0.109429</td>\n",
       "      <td>-52.531316</td>\n",
       "      <td>-0.161548</td>\n",
       "      <td>-5.0</td>\n",
       "    </tr>\n",
       "    <tr>\n",
       "      <th>1160</th>\n",
       "      <td>2021-04-17</td>\n",
       "      <td>0.013344</td>\n",
       "      <td>-0.246994</td>\n",
       "      <td>1.784145</td>\n",
       "      <td>-1.815425e+10</td>\n",
       "      <td>-0.037416</td>\n",
       "      <td>-0.055426</td>\n",
       "      <td>-132.885174</td>\n",
       "      <td>0.166099</td>\n",
       "      <td>-55.0</td>\n",
       "    </tr>\n",
       "    <tr>\n",
       "      <th>1161</th>\n",
       "      <td>2021-04-18</td>\n",
       "      <td>-0.061930</td>\n",
       "      <td>0.454232</td>\n",
       "      <td>0.490951</td>\n",
       "      <td>3.133011e+10</td>\n",
       "      <td>0.090793</td>\n",
       "      <td>-0.256050</td>\n",
       "      <td>-479.803901</td>\n",
       "      <td>-0.077645</td>\n",
       "      <td>110.0</td>\n",
       "    </tr>\n",
       "    <tr>\n",
       "      <th>1162</th>\n",
       "      <td>2021-04-19</td>\n",
       "      <td>0.067683</td>\n",
       "      <td>-0.287636</td>\n",
       "      <td>3.250705</td>\n",
       "      <td>-3.212401e+10</td>\n",
       "      <td>0.094371</td>\n",
       "      <td>-0.026434</td>\n",
       "      <td>-428.987119</td>\n",
       "      <td>0.048428</td>\n",
       "      <td>-55.0</td>\n",
       "    </tr>\n",
       "  </tbody>\n",
       "</table>\n",
       "<p>258 rows × 10 columns</p>\n",
       "</div>"
      ],
      "text/plain": [
       "           start  close_price  tweet_count  twitter_sentiment        volume  \\\n",
       "905   2020-07-27     0.080716     0.594926           2.109560  1.485175e+10   \n",
       "906   2020-07-28    -0.111135    -0.143009           1.801031 -6.593198e+09   \n",
       "907   2020-07-29     0.024175    -0.272110           1.441959 -4.149301e+09   \n",
       "908   2020-07-30    -0.016081    -0.074482           2.339675 -1.760002e+09   \n",
       "909   2020-07-31     0.017955     0.093953           2.227811  3.032219e+08   \n",
       "...          ...          ...          ...                ...           ...   \n",
       "1158  2021-04-15    -0.061515    -0.076006           1.673382 -9.029073e+09   \n",
       "1159  2021-04-16    -0.024899    -0.101742           0.972841  2.333863e+10   \n",
       "1160  2021-04-17     0.013344    -0.246994           1.784145 -1.815425e+10   \n",
       "1161  2021-04-18    -0.061930     0.454232           0.490951  3.133011e+10   \n",
       "1162  2021-04-19     0.067683    -0.287636           3.250705 -3.212401e+10   \n",
       "\n",
       "      volatility       rsi        macd  reddit_sentiment  reddit_post_count  \n",
       "905     0.713157  0.171750  112.978343         -0.119792                0.5  \n",
       "906     0.221372 -0.035422   79.838229          0.124545                1.5  \n",
       "907     0.154931  0.018315   74.158906          0.884054               35.5  \n",
       "908     0.082990  0.001021   54.752621         -1.090101                4.0  \n",
       "909     0.069944  0.019306   54.998925          0.721890               66.0  \n",
       "...          ...       ...         ...               ...                ...  \n",
       "1158    0.299198 -0.016517  317.681119          0.034741              -52.5  \n",
       "1159    0.023936 -0.109429  -52.531316         -0.161548               -5.0  \n",
       "1160   -0.037416 -0.055426 -132.885174          0.166099              -55.0  \n",
       "1161    0.090793 -0.256050 -479.803901         -0.077645              110.0  \n",
       "1162    0.094371 -0.026434 -428.987119          0.048428              -55.0  \n",
       "\n",
       "[258 rows x 10 columns]"
      ]
     },
     "execution_count": 142,
     "metadata": {},
     "output_type": "execute_result"
    }
   ],
   "source": [
    "val_df"
   ]
  },
  {
   "cell_type": "code",
   "execution_count": 145,
   "id": "c2f30213",
   "metadata": {},
   "outputs": [
    {
     "name": "stderr",
     "output_type": "stream",
     "text": [
      "/tmp/ipykernel_19271/1429736173.py:1: FutureWarning: Dropping of nuisance columns in DataFrame reductions (with 'numeric_only=None') is deprecated; in a future version this will raise TypeError.  Select only valid columns before calling the reduction.\n",
      "  train_mean = train_df.mean()\n",
      "/tmp/ipykernel_19271/1429736173.py:2: FutureWarning: Dropping of nuisance columns in DataFrame reductions (with 'numeric_only=None') is deprecated; in a future version this will raise TypeError.  Select only valid columns before calling the reduction.\n",
      "  train_std = train_df.std()\n"
     ]
    }
   ],
   "source": [
    "train_mean = train_df.mean()\n",
    "train_std = train_df.std()\n",
    "\n",
    "train_df = (train_df - train_mean) / train_std\n",
    "val_df = (val_df - train_mean) / train_std\n",
    "test_df = (test_df - train_mean) / train_std"
   ]
  },
  {
   "cell_type": "code",
   "execution_count": 146,
   "id": "acbe487d",
   "metadata": {},
   "outputs": [
    {
     "data": {
      "text/plain": [
       "close_price         -7.657057e-05\n",
       "tweet_count         -9.431487e-04\n",
       "twitter_sentiment    4.868430e+00\n",
       "volume               4.045745e+06\n",
       "volatility          -1.625830e-03\n",
       "rsi                  3.539409e-04\n",
       "macd                -1.177125e-02\n",
       "reddit_sentiment    -1.306929e-03\n",
       "reddit_post_count   -1.290079e+00\n",
       "dtype: float64"
      ]
     },
     "execution_count": 146,
     "metadata": {},
     "output_type": "execute_result"
    }
   ],
   "source": [
    "train_mean"
   ]
  },
  {
   "cell_type": "markdown",
   "id": "91afc1fd",
   "metadata": {},
   "source": [
    "# Model?"
   ]
  },
  {
   "cell_type": "markdown",
   "id": "2fd125dd",
   "metadata": {},
   "source": [
    "## Creating datasets"
   ]
  },
  {
   "cell_type": "code",
   "execution_count": null,
   "id": "31ee1016",
   "metadata": {},
   "outputs": [],
   "source": []
  },
  {
   "cell_type": "code",
   "execution_count": 147,
   "id": "71649e48",
   "metadata": {},
   "outputs": [
    {
     "data": {
      "text/plain": [
       "(905, 10)"
      ]
     },
     "execution_count": 147,
     "metadata": {},
     "output_type": "execute_result"
    }
   ],
   "source": [
    "train_df.shape"
   ]
  },
  {
   "cell_type": "code",
   "execution_count": 148,
   "id": "9e21d84f",
   "metadata": {},
   "outputs": [
    {
     "data": {
      "text/plain": [
       "(130, 10)"
      ]
     },
     "execution_count": 148,
     "metadata": {},
     "output_type": "execute_result"
    }
   ],
   "source": [
    "test_df.shape"
   ]
  },
  {
   "cell_type": "code",
   "execution_count": 149,
   "id": "21971cb8",
   "metadata": {},
   "outputs": [],
   "source": [
    "sequence_length = 7"
   ]
  },
  {
   "cell_type": "code",
   "execution_count": 150,
   "id": "4914a509",
   "metadata": {
    "scrolled": true
   },
   "outputs": [],
   "source": [
    "train_df['target'] = train_df['close_price'].shift(-sequence_length)"
   ]
  },
  {
   "cell_type": "code",
   "execution_count": 151,
   "id": "bbcb152b",
   "metadata": {},
   "outputs": [],
   "source": [
    "train_df.drop('start', axis = 1, inplace = True)"
   ]
  },
  {
   "cell_type": "code",
   "execution_count": 152,
   "id": "d181e177",
   "metadata": {},
   "outputs": [
    {
     "data": {
      "text/html": [
       "<div>\n",
       "<style scoped>\n",
       "    .dataframe tbody tr th:only-of-type {\n",
       "        vertical-align: middle;\n",
       "    }\n",
       "\n",
       "    .dataframe tbody tr th {\n",
       "        vertical-align: top;\n",
       "    }\n",
       "\n",
       "    .dataframe thead th {\n",
       "        text-align: right;\n",
       "    }\n",
       "</style>\n",
       "<table border=\"1\" class=\"dataframe\">\n",
       "  <thead>\n",
       "    <tr style=\"text-align: right;\">\n",
       "      <th></th>\n",
       "      <th>close_price</th>\n",
       "      <th>macd</th>\n",
       "      <th>reddit_post_count</th>\n",
       "      <th>reddit_sentiment</th>\n",
       "      <th>rsi</th>\n",
       "      <th>tweet_count</th>\n",
       "      <th>twitter_sentiment</th>\n",
       "      <th>volatility</th>\n",
       "      <th>volume</th>\n",
       "      <th>target</th>\n",
       "    </tr>\n",
       "  </thead>\n",
       "  <tbody>\n",
       "    <tr>\n",
       "      <th>0</th>\n",
       "      <td>-1.282915</td>\n",
       "      <td>0.659219</td>\n",
       "      <td>-1.244836</td>\n",
       "      <td>0.563656</td>\n",
       "      <td>0.145075</td>\n",
       "      <td>0.409370</td>\n",
       "      <td>0.708600</td>\n",
       "      <td>-0.820883</td>\n",
       "      <td>0.005212</td>\n",
       "      <td>1.056800</td>\n",
       "    </tr>\n",
       "    <tr>\n",
       "      <th>1</th>\n",
       "      <td>0.187977</td>\n",
       "      <td>1.176309</td>\n",
       "      <td>-0.190403</td>\n",
       "      <td>-2.187755</td>\n",
       "      <td>0.266023</td>\n",
       "      <td>-0.388832</td>\n",
       "      <td>-0.074973</td>\n",
       "      <td>-0.113681</td>\n",
       "      <td>1.203402</td>\n",
       "      <td>-2.237758</td>\n",
       "    </tr>\n",
       "    <tr>\n",
       "      <th>2</th>\n",
       "      <td>1.400588</td>\n",
       "      <td>4.069058</td>\n",
       "      <td>0.597392</td>\n",
       "      <td>0.903096</td>\n",
       "      <td>1.021837</td>\n",
       "      <td>-0.493172</td>\n",
       "      <td>0.543006</td>\n",
       "      <td>1.435256</td>\n",
       "      <td>0.503616</td>\n",
       "      <td>2.510337</td>\n",
       "    </tr>\n",
       "    <tr>\n",
       "      <th>3</th>\n",
       "      <td>-1.731595</td>\n",
       "      <td>3.262921</td>\n",
       "      <td>-2.226549</td>\n",
       "      <td>-0.168516</td>\n",
       "      <td>0.043896</td>\n",
       "      <td>-1.449731</td>\n",
       "      <td>1.024172</td>\n",
       "      <td>0.966801</td>\n",
       "      <td>-1.356202</td>\n",
       "      <td>-0.248610</td>\n",
       "    </tr>\n",
       "    <tr>\n",
       "      <th>4</th>\n",
       "      <td>-1.105872</td>\n",
       "      <td>0.591200</td>\n",
       "      <td>0.657991</td>\n",
       "      <td>0.489839</td>\n",
       "      <td>-0.814077</td>\n",
       "      <td>0.542666</td>\n",
       "      <td>1.859351</td>\n",
       "      <td>0.049367</td>\n",
       "      <td>-0.601460</td>\n",
       "      <td>-1.127149</td>\n",
       "    </tr>\n",
       "    <tr>\n",
       "      <th>...</th>\n",
       "      <td>...</td>\n",
       "      <td>...</td>\n",
       "      <td>...</td>\n",
       "      <td>...</td>\n",
       "      <td>...</td>\n",
       "      <td>...</td>\n",
       "      <td>...</td>\n",
       "      <td>...</td>\n",
       "      <td>...</td>\n",
       "      <td>...</td>\n",
       "    </tr>\n",
       "    <tr>\n",
       "      <th>893</th>\n",
       "      <td>0.058953</td>\n",
       "      <td>0.013762</td>\n",
       "      <td>-0.578240</td>\n",
       "      <td>-0.571180</td>\n",
       "      <td>-0.005860</td>\n",
       "      <td>0.982887</td>\n",
       "      <td>-1.434736</td>\n",
       "      <td>-0.163125</td>\n",
       "      <td>0.137616</td>\n",
       "      <td>-0.110625</td>\n",
       "    </tr>\n",
       "    <tr>\n",
       "      <th>894</th>\n",
       "      <td>-0.087907</td>\n",
       "      <td>-0.071556</td>\n",
       "      <td>0.645871</td>\n",
       "      <td>-1.534328</td>\n",
       "      <td>-0.360344</td>\n",
       "      <td>7.794126</td>\n",
       "      <td>-2.789252</td>\n",
       "      <td>0.042164</td>\n",
       "      <td>-0.550381</td>\n",
       "      <td>-0.164714</td>\n",
       "    </tr>\n",
       "    <tr>\n",
       "      <th>895</th>\n",
       "      <td>-0.017652</td>\n",
       "      <td>-0.155452</td>\n",
       "      <td>-1.305435</td>\n",
       "      <td>0.530168</td>\n",
       "      <td>-0.445726</td>\n",
       "      <td>-0.612211</td>\n",
       "      <td>-2.407624</td>\n",
       "      <td>-0.030022</td>\n",
       "      <td>-0.033059</td>\n",
       "      <td>-0.170655</td>\n",
       "    </tr>\n",
       "    <tr>\n",
       "      <th>896</th>\n",
       "      <td>0.144526</td>\n",
       "      <td>-0.080090</td>\n",
       "      <td>0.209554</td>\n",
       "      <td>1.456391</td>\n",
       "      <td>0.175874</td>\n",
       "      <td>-6.587683</td>\n",
       "      <td>-1.985591</td>\n",
       "      <td>-0.329861</td>\n",
       "      <td>-0.434900</td>\n",
       "      <td>0.317315</td>\n",
       "    </tr>\n",
       "    <tr>\n",
       "      <th>897</th>\n",
       "      <td>0.028531</td>\n",
       "      <td>-0.015658</td>\n",
       "      <td>0.221674</td>\n",
       "      <td>-0.284731</td>\n",
       "      <td>0.336402</td>\n",
       "      <td>-2.643976</td>\n",
       "      <td>-2.137199</td>\n",
       "      <td>-0.835570</td>\n",
       "      <td>-0.247587</td>\n",
       "      <td>0.144290</td>\n",
       "    </tr>\n",
       "  </tbody>\n",
       "</table>\n",
       "<p>898 rows × 10 columns</p>\n",
       "</div>"
      ],
      "text/plain": [
       "     close_price      macd  reddit_post_count  reddit_sentiment       rsi  \\\n",
       "0      -1.282915  0.659219          -1.244836          0.563656  0.145075   \n",
       "1       0.187977  1.176309          -0.190403         -2.187755  0.266023   \n",
       "2       1.400588  4.069058           0.597392          0.903096  1.021837   \n",
       "3      -1.731595  3.262921          -2.226549         -0.168516  0.043896   \n",
       "4      -1.105872  0.591200           0.657991          0.489839 -0.814077   \n",
       "..           ...       ...                ...               ...       ...   \n",
       "893     0.058953  0.013762          -0.578240         -0.571180 -0.005860   \n",
       "894    -0.087907 -0.071556           0.645871         -1.534328 -0.360344   \n",
       "895    -0.017652 -0.155452          -1.305435          0.530168 -0.445726   \n",
       "896     0.144526 -0.080090           0.209554          1.456391  0.175874   \n",
       "897     0.028531 -0.015658           0.221674         -0.284731  0.336402   \n",
       "\n",
       "     tweet_count  twitter_sentiment  volatility    volume    target  \n",
       "0       0.409370           0.708600   -0.820883  0.005212  1.056800  \n",
       "1      -0.388832          -0.074973   -0.113681  1.203402 -2.237758  \n",
       "2      -0.493172           0.543006    1.435256  0.503616  2.510337  \n",
       "3      -1.449731           1.024172    0.966801 -1.356202 -0.248610  \n",
       "4       0.542666           1.859351    0.049367 -0.601460 -1.127149  \n",
       "..           ...                ...         ...       ...       ...  \n",
       "893     0.982887          -1.434736   -0.163125  0.137616 -0.110625  \n",
       "894     7.794126          -2.789252    0.042164 -0.550381 -0.164714  \n",
       "895    -0.612211          -2.407624   -0.030022 -0.033059 -0.170655  \n",
       "896    -6.587683          -1.985591   -0.329861 -0.434900  0.317315  \n",
       "897    -2.643976          -2.137199   -0.835570 -0.247587  0.144290  \n",
       "\n",
       "[898 rows x 10 columns]"
      ]
     },
     "execution_count": 152,
     "metadata": {},
     "output_type": "execute_result"
    }
   ],
   "source": [
    "train_df.dropna()"
   ]
  },
  {
   "cell_type": "code",
   "execution_count": 153,
   "id": "5d2f53e3",
   "metadata": {},
   "outputs": [],
   "source": [
    "X_train = train_df.drop('target', axis = 1)\n",
    "y_train = train_df['target']"
   ]
  },
  {
   "cell_type": "code",
   "execution_count": 154,
   "id": "a46e1a39",
   "metadata": {},
   "outputs": [],
   "source": [
    "dataset = tf.keras.preprocessing.timeseries_dataset_from_array(\n",
    "    X_train, y_train, sequence_length=10, batch_size = 16)\n"
   ]
  },
  {
   "cell_type": "code",
   "execution_count": 155,
   "id": "d7cbd145",
   "metadata": {},
   "outputs": [],
   "source": [
    "exx, exxy = next(iter(dataset))"
   ]
  },
  {
   "cell_type": "code",
   "execution_count": 156,
   "id": "536236b4",
   "metadata": {},
   "outputs": [
    {
     "data": {
      "text/plain": [
       "<tf.Tensor: shape=(16,), dtype=float64, numpy=\n",
       "array([ 1.05679971, -2.23775785,  2.51033709, -0.24861039, -1.1271494 ,\n",
       "        0.74606285, -3.09135903,  2.59901617,  0.85467572, -0.22546441,\n",
       "        1.5478712 , -3.47993858,  0.77056102,  0.88267402,  0.82300126,\n",
       "       -0.87084659])>"
      ]
     },
     "execution_count": 156,
     "metadata": {},
     "output_type": "execute_result"
    }
   ],
   "source": [
    "exxy"
   ]
  },
  {
   "cell_type": "code",
   "execution_count": 157,
   "id": "8d49d2eb",
   "metadata": {},
   "outputs": [
    {
     "data": {
      "text/html": [
       "<div>\n",
       "<style scoped>\n",
       "    .dataframe tbody tr th:only-of-type {\n",
       "        vertical-align: middle;\n",
       "    }\n",
       "\n",
       "    .dataframe tbody tr th {\n",
       "        vertical-align: top;\n",
       "    }\n",
       "\n",
       "    .dataframe thead th {\n",
       "        text-align: right;\n",
       "    }\n",
       "</style>\n",
       "<table border=\"1\" class=\"dataframe\">\n",
       "  <thead>\n",
       "    <tr style=\"text-align: right;\">\n",
       "      <th></th>\n",
       "      <th>close_price</th>\n",
       "      <th>macd</th>\n",
       "      <th>reddit_post_count</th>\n",
       "      <th>reddit_sentiment</th>\n",
       "      <th>rsi</th>\n",
       "      <th>tweet_count</th>\n",
       "      <th>twitter_sentiment</th>\n",
       "      <th>volatility</th>\n",
       "      <th>volume</th>\n",
       "      <th>target</th>\n",
       "    </tr>\n",
       "  </thead>\n",
       "  <tbody>\n",
       "    <tr>\n",
       "      <th>0</th>\n",
       "      <td>-1.282915</td>\n",
       "      <td>0.659219</td>\n",
       "      <td>-1.244836</td>\n",
       "      <td>0.563656</td>\n",
       "      <td>0.145075</td>\n",
       "      <td>0.409370</td>\n",
       "      <td>0.708600</td>\n",
       "      <td>-0.820883</td>\n",
       "      <td>0.005212</td>\n",
       "      <td>1.056800</td>\n",
       "    </tr>\n",
       "    <tr>\n",
       "      <th>1</th>\n",
       "      <td>0.187977</td>\n",
       "      <td>1.176309</td>\n",
       "      <td>-0.190403</td>\n",
       "      <td>-2.187755</td>\n",
       "      <td>0.266023</td>\n",
       "      <td>-0.388832</td>\n",
       "      <td>-0.074973</td>\n",
       "      <td>-0.113681</td>\n",
       "      <td>1.203402</td>\n",
       "      <td>-2.237758</td>\n",
       "    </tr>\n",
       "    <tr>\n",
       "      <th>2</th>\n",
       "      <td>1.400588</td>\n",
       "      <td>4.069058</td>\n",
       "      <td>0.597392</td>\n",
       "      <td>0.903096</td>\n",
       "      <td>1.021837</td>\n",
       "      <td>-0.493172</td>\n",
       "      <td>0.543006</td>\n",
       "      <td>1.435256</td>\n",
       "      <td>0.503616</td>\n",
       "      <td>2.510337</td>\n",
       "    </tr>\n",
       "    <tr>\n",
       "      <th>3</th>\n",
       "      <td>-1.731595</td>\n",
       "      <td>3.262921</td>\n",
       "      <td>-2.226549</td>\n",
       "      <td>-0.168516</td>\n",
       "      <td>0.043896</td>\n",
       "      <td>-1.449731</td>\n",
       "      <td>1.024172</td>\n",
       "      <td>0.966801</td>\n",
       "      <td>-1.356202</td>\n",
       "      <td>-0.248610</td>\n",
       "    </tr>\n",
       "    <tr>\n",
       "      <th>4</th>\n",
       "      <td>-1.105872</td>\n",
       "      <td>0.591200</td>\n",
       "      <td>0.657991</td>\n",
       "      <td>0.489839</td>\n",
       "      <td>-0.814077</td>\n",
       "      <td>0.542666</td>\n",
       "      <td>1.859351</td>\n",
       "      <td>0.049367</td>\n",
       "      <td>-0.601460</td>\n",
       "      <td>-1.127149</td>\n",
       "    </tr>\n",
       "    <tr>\n",
       "      <th>5</th>\n",
       "      <td>-0.343035</td>\n",
       "      <td>-1.959509</td>\n",
       "      <td>2.572938</td>\n",
       "      <td>0.280390</td>\n",
       "      <td>-0.987329</td>\n",
       "      <td>1.151345</td>\n",
       "      <td>-0.668360</td>\n",
       "      <td>-0.184221</td>\n",
       "      <td>0.623827</td>\n",
       "      <td>0.746063</td>\n",
       "    </tr>\n",
       "    <tr>\n",
       "      <th>6</th>\n",
       "      <td>0.725799</td>\n",
       "      <td>-2.655829</td>\n",
       "      <td>-1.281196</td>\n",
       "      <td>-0.540476</td>\n",
       "      <td>-0.433820</td>\n",
       "      <td>0.538181</td>\n",
       "      <td>0.855073</td>\n",
       "      <td>-0.026156</td>\n",
       "      <td>-0.431100</td>\n",
       "      <td>-3.091359</td>\n",
       "    </tr>\n",
       "    <tr>\n",
       "      <th>7</th>\n",
       "      <td>1.056800</td>\n",
       "      <td>-1.507488</td>\n",
       "      <td>-0.505521</td>\n",
       "      <td>1.080213</td>\n",
       "      <td>0.307582</td>\n",
       "      <td>0.209730</td>\n",
       "      <td>-0.650843</td>\n",
       "      <td>-0.044257</td>\n",
       "      <td>0.450426</td>\n",
       "      <td>2.599016</td>\n",
       "    </tr>\n",
       "    <tr>\n",
       "      <th>8</th>\n",
       "      <td>-2.237758</td>\n",
       "      <td>-3.988060</td>\n",
       "      <td>1.118548</td>\n",
       "      <td>-1.073881</td>\n",
       "      <td>-1.205913</td>\n",
       "      <td>0.811707</td>\n",
       "      <td>0.019531</td>\n",
       "      <td>0.342525</td>\n",
       "      <td>-0.483284</td>\n",
       "      <td>0.854676</td>\n",
       "    </tr>\n",
       "    <tr>\n",
       "      <th>9</th>\n",
       "      <td>2.510337</td>\n",
       "      <td>-2.144758</td>\n",
       "      <td>-2.299269</td>\n",
       "      <td>-0.547355</td>\n",
       "      <td>0.537809</td>\n",
       "      <td>-1.164093</td>\n",
       "      <td>1.101803</td>\n",
       "      <td>0.122919</td>\n",
       "      <td>-1.096774</td>\n",
       "      <td>-0.225464</td>\n",
       "    </tr>\n",
       "  </tbody>\n",
       "</table>\n",
       "</div>"
      ],
      "text/plain": [
       "   close_price      macd  reddit_post_count  reddit_sentiment       rsi  \\\n",
       "0    -1.282915  0.659219          -1.244836          0.563656  0.145075   \n",
       "1     0.187977  1.176309          -0.190403         -2.187755  0.266023   \n",
       "2     1.400588  4.069058           0.597392          0.903096  1.021837   \n",
       "3    -1.731595  3.262921          -2.226549         -0.168516  0.043896   \n",
       "4    -1.105872  0.591200           0.657991          0.489839 -0.814077   \n",
       "5    -0.343035 -1.959509           2.572938          0.280390 -0.987329   \n",
       "6     0.725799 -2.655829          -1.281196         -0.540476 -0.433820   \n",
       "7     1.056800 -1.507488          -0.505521          1.080213  0.307582   \n",
       "8    -2.237758 -3.988060           1.118548         -1.073881 -1.205913   \n",
       "9     2.510337 -2.144758          -2.299269         -0.547355  0.537809   \n",
       "\n",
       "   tweet_count  twitter_sentiment  volatility    volume    target  \n",
       "0     0.409370           0.708600   -0.820883  0.005212  1.056800  \n",
       "1    -0.388832          -0.074973   -0.113681  1.203402 -2.237758  \n",
       "2    -0.493172           0.543006    1.435256  0.503616  2.510337  \n",
       "3    -1.449731           1.024172    0.966801 -1.356202 -0.248610  \n",
       "4     0.542666           1.859351    0.049367 -0.601460 -1.127149  \n",
       "5     1.151345          -0.668360   -0.184221  0.623827  0.746063  \n",
       "6     0.538181           0.855073   -0.026156 -0.431100 -3.091359  \n",
       "7     0.209730          -0.650843   -0.044257  0.450426  2.599016  \n",
       "8     0.811707           0.019531    0.342525 -0.483284  0.854676  \n",
       "9    -1.164093           1.101803    0.122919 -1.096774 -0.225464  "
      ]
     },
     "execution_count": 157,
     "metadata": {},
     "output_type": "execute_result"
    }
   ],
   "source": [
    "train_df.iloc[:10]"
   ]
  },
  {
   "cell_type": "code",
   "execution_count": 158,
   "id": "530184f0",
   "metadata": {},
   "outputs": [],
   "source": [
    "exx;"
   ]
  },
  {
   "cell_type": "code",
   "execution_count": 159,
   "id": "66c1f84e",
   "metadata": {},
   "outputs": [],
   "source": [
    "test_df['target'] = test_df['close_price'].shift(-sequence_length)"
   ]
  },
  {
   "cell_type": "code",
   "execution_count": 160,
   "id": "733f4b46",
   "metadata": {},
   "outputs": [],
   "source": [
    "#test_df.drop('start', axis = 1, inplace = True)"
   ]
  },
  {
   "cell_type": "code",
   "execution_count": 161,
   "id": "4fea7e20",
   "metadata": {},
   "outputs": [],
   "source": [
    "X_test = test_df.drop('target', axis = 1)\n",
    "y_test = test_df['target']"
   ]
  },
  {
   "cell_type": "code",
   "execution_count": 162,
   "id": "ad8d2685",
   "metadata": {},
   "outputs": [],
   "source": [
    "X_test.drop('start', axis = 1, inplace = True)"
   ]
  },
  {
   "cell_type": "code",
   "execution_count": 163,
   "id": "8faae2c6",
   "metadata": {},
   "outputs": [],
   "source": [
    "dataset_test = tf.keras.preprocessing.timeseries_dataset_from_array(\n",
    "    X_test, y_test, sequence_length=10)"
   ]
  },
  {
   "cell_type": "code",
   "execution_count": 164,
   "id": "ddd3e0cc",
   "metadata": {},
   "outputs": [],
   "source": [
    "etx, ety = next(iter(dataset_test))"
   ]
  },
  {
   "cell_type": "code",
   "execution_count": 165,
   "id": "a7e8e528",
   "metadata": {},
   "outputs": [],
   "source": [
    "val_df['target'] = val_df['close_price'].shift(-sequence_length)"
   ]
  },
  {
   "cell_type": "code",
   "execution_count": 166,
   "id": "a60342bc",
   "metadata": {},
   "outputs": [],
   "source": [
    "val_df.drop('start', axis = 1, inplace = True)"
   ]
  },
  {
   "cell_type": "code",
   "execution_count": 167,
   "id": "edc5a161",
   "metadata": {},
   "outputs": [],
   "source": [
    "X_val = val_df.drop('target', axis = 1)\n",
    "y_val =val_df['target']"
   ]
  },
  {
   "cell_type": "code",
   "execution_count": 168,
   "id": "3da286ab",
   "metadata": {},
   "outputs": [],
   "source": [
    "dataset_val = tf.keras.preprocessing.timeseries_dataset_from_array(\n",
    "    X_val, y_val, sequence_length=10)"
   ]
  },
  {
   "cell_type": "code",
   "execution_count": 169,
   "id": "ca5e71a3",
   "metadata": {},
   "outputs": [],
   "source": [
    "evx, evy = next(iter(dataset_val))"
   ]
  },
  {
   "cell_type": "code",
   "execution_count": 170,
   "id": "766c26c6",
   "metadata": {},
   "outputs": [
    {
     "data": {
      "text/plain": [
       "1"
      ]
     },
     "execution_count": 170,
     "metadata": {},
     "output_type": "execute_result"
    }
   ],
   "source": [
    "len(dataset_test)"
   ]
  },
  {
   "cell_type": "code",
   "execution_count": null,
   "id": "05c3f110",
   "metadata": {},
   "outputs": [],
   "source": []
  },
  {
   "cell_type": "markdown",
   "id": "750627a7",
   "metadata": {},
   "source": [
    "## train model"
   ]
  },
  {
   "cell_type": "code",
   "execution_count": 171,
   "id": "33ea749a",
   "metadata": {},
   "outputs": [],
   "source": [
    "lstm_model = tf.keras.models.Sequential([\n",
    "    # Shape [batch, time, features] => [batch, time, lstm_units]\n",
    "    tf.keras.layers.GRU(50, return_sequences=True),\n",
    "    tf.keras.layers.GRU(20),\n",
    "    #tf.keras.layers.Dropout(0.2),\n",
    "    # Shape => [batch, time, features]\n",
    "    tf.keras.layers.Dense(units=20),\n",
    "    \n",
    "    tf.keras.layers.Dense(units=1)\n",
    "    # Adding a second LSTM layer and some Dropout regularisation\n",
    "])\n",
    "\n",
    "# regularization?\n",
    "# GRU layer"
   ]
  },
  {
   "cell_type": "code",
   "execution_count": 172,
   "id": "e3351d44",
   "metadata": {},
   "outputs": [],
   "source": [
    "lstm_model.compile(optimizer = 'Adam', loss = 'mae')"
   ]
  },
  {
   "cell_type": "code",
   "execution_count": 173,
   "id": "f5f987a3",
   "metadata": {},
   "outputs": [],
   "source": [
    "from tensorflow.keras.callbacks import EarlyStopping, ReduceLROnPlateau"
   ]
  },
  {
   "cell_type": "code",
   "execution_count": 174,
   "id": "5efc4546",
   "metadata": {},
   "outputs": [],
   "source": [
    "es = EarlyStopping(patience = 20, restore_best_weights=True)"
   ]
  },
  {
   "cell_type": "code",
   "execution_count": 175,
   "id": "49c866be",
   "metadata": {},
   "outputs": [],
   "source": [
    "reduce_lr = ReduceLROnPlateau(patience = 15)"
   ]
  },
  {
   "cell_type": "code",
   "execution_count": 176,
   "id": "183f454b",
   "metadata": {
    "scrolled": false
   },
   "outputs": [
    {
     "name": "stdout",
     "output_type": "stream",
     "text": [
      "Epoch 1/2000\n",
      "56/56 [==============================] - 7s 48ms/step - loss: 0.6682 - val_loss: 0.6422\n",
      "Epoch 2/2000\n",
      "56/56 [==============================] - 2s 36ms/step - loss: 0.6566 - val_loss: 0.6360\n",
      "Epoch 3/2000\n",
      "56/56 [==============================] - 2s 30ms/step - loss: 0.6519 - val_loss: 0.6385\n",
      "Epoch 4/2000\n",
      "56/56 [==============================] - 2s 30ms/step - loss: 0.6434 - val_loss: 0.6466\n",
      "Epoch 5/2000\n",
      "56/56 [==============================] - 1s 27ms/step - loss: 0.6345 - val_loss: 0.6666\n",
      "Epoch 6/2000\n",
      "56/56 [==============================] - 2s 27ms/step - loss: 0.6196 - val_loss: 0.6534\n",
      "Epoch 7/2000\n",
      "56/56 [==============================] - 1s 24ms/step - loss: 0.5835 - val_loss: 0.6323\n",
      "Epoch 8/2000\n",
      "56/56 [==============================] - 1s 22ms/step - loss: 0.3918 - val_loss: 0.3290\n",
      "Epoch 9/2000\n",
      "56/56 [==============================] - 1s 23ms/step - loss: 0.2044 - val_loss: 0.3030\n",
      "Epoch 10/2000\n",
      "56/56 [==============================] - 1s 25ms/step - loss: 0.1572 - val_loss: 0.2879\n",
      "Epoch 11/2000\n",
      "56/56 [==============================] - 2s 31ms/step - loss: 0.1298 - val_loss: 0.2739\n",
      "Epoch 12/2000\n",
      "56/56 [==============================] - 2s 28ms/step - loss: 0.1096 - val_loss: 0.2668\n",
      "Epoch 13/2000\n",
      "56/56 [==============================] - 2s 30ms/step - loss: 0.1014 - val_loss: 0.2807\n",
      "Epoch 14/2000\n",
      "56/56 [==============================] - 1s 27ms/step - loss: 0.0955 - val_loss: 0.2757\n",
      "Epoch 15/2000\n",
      "56/56 [==============================] - 1s 26ms/step - loss: 0.1072 - val_loss: 0.2732\n",
      "Epoch 16/2000\n",
      "56/56 [==============================] - 2s 29ms/step - loss: 0.0934 - val_loss: 0.2689\n",
      "Epoch 17/2000\n",
      "56/56 [==============================] - 2s 41ms/step - loss: 0.0926 - val_loss: 0.2659\n",
      "Epoch 18/2000\n",
      "56/56 [==============================] - 2s 36ms/step - loss: 0.0843 - val_loss: 0.2786\n",
      "Epoch 19/2000\n",
      "56/56 [==============================] - 2s 31ms/step - loss: 0.1127 - val_loss: 0.2682\n",
      "Epoch 20/2000\n",
      "56/56 [==============================] - 1s 25ms/step - loss: 0.1084 - val_loss: 0.2698\n",
      "Epoch 21/2000\n",
      "56/56 [==============================] - 1s 22ms/step - loss: 0.1070 - val_loss: 0.2411\n",
      "Epoch 22/2000\n",
      "56/56 [==============================] - 1s 22ms/step - loss: 0.0885 - val_loss: 0.2150\n",
      "Epoch 23/2000\n",
      "56/56 [==============================] - 1s 23ms/step - loss: 0.0741 - val_loss: 0.2096\n",
      "Epoch 24/2000\n",
      "56/56 [==============================] - 2s 30ms/step - loss: 0.0721 - val_loss: 0.2311\n",
      "Epoch 25/2000\n",
      "56/56 [==============================] - 2s 33ms/step - loss: 0.0674 - val_loss: 0.2029\n",
      "Epoch 26/2000\n",
      "56/56 [==============================] - 2s 27ms/step - loss: 0.0670 - val_loss: 0.2005\n",
      "Epoch 27/2000\n",
      "56/56 [==============================] - 1s 26ms/step - loss: 0.0662 - val_loss: 0.2179\n",
      "Epoch 28/2000\n",
      "56/56 [==============================] - 2s 32ms/step - loss: 0.0794 - val_loss: 0.2144\n",
      "Epoch 29/2000\n",
      "56/56 [==============================] - 1s 26ms/step - loss: 0.0634 - val_loss: 0.1996\n",
      "Epoch 30/2000\n",
      "56/56 [==============================] - 1s 26ms/step - loss: 0.0636 - val_loss: 0.1958\n",
      "Epoch 31/2000\n",
      "56/56 [==============================] - 1s 25ms/step - loss: 0.0605 - val_loss: 0.2092\n",
      "Epoch 32/2000\n",
      "56/56 [==============================] - 2s 27ms/step - loss: 0.0593 - val_loss: 0.1973\n",
      "Epoch 33/2000\n",
      "56/56 [==============================] - 1s 25ms/step - loss: 0.0556 - val_loss: 0.2024\n",
      "Epoch 34/2000\n",
      "56/56 [==============================] - 1s 24ms/step - loss: 0.0625 - val_loss: 0.1839\n",
      "Epoch 35/2000\n",
      "56/56 [==============================] - 1s 23ms/step - loss: 0.0534 - val_loss: 0.1897\n",
      "Epoch 36/2000\n",
      "56/56 [==============================] - 1s 26ms/step - loss: 0.0616 - val_loss: 0.2047\n",
      "Epoch 37/2000\n",
      "56/56 [==============================] - 1s 25ms/step - loss: 0.0502 - val_loss: 0.1972\n",
      "Epoch 38/2000\n",
      "56/56 [==============================] - 1s 25ms/step - loss: 0.0579 - val_loss: 0.1913\n",
      "Epoch 39/2000\n",
      "56/56 [==============================] - 1s 25ms/step - loss: 0.0730 - val_loss: 0.1940\n",
      "Epoch 40/2000\n",
      "56/56 [==============================] - 1s 26ms/step - loss: 0.0603 - val_loss: 0.2082\n",
      "Epoch 41/2000\n",
      "56/56 [==============================] - 2s 28ms/step - loss: 0.0573 - val_loss: 0.2032\n",
      "Epoch 42/2000\n",
      "56/56 [==============================] - 2s 30ms/step - loss: 0.0541 - val_loss: 0.2113\n",
      "Epoch 43/2000\n",
      "56/56 [==============================] - 1s 24ms/step - loss: 0.0545 - val_loss: 0.2094\n",
      "Epoch 44/2000\n",
      "56/56 [==============================] - 1s 23ms/step - loss: 0.0532 - val_loss: 0.2105\n",
      "Epoch 45/2000\n",
      "56/56 [==============================] - 1s 23ms/step - loss: 0.0461 - val_loss: 0.2049\n",
      "Epoch 46/2000\n",
      "56/56 [==============================] - 1s 23ms/step - loss: 0.0470 - val_loss: 0.2008\n",
      "Epoch 47/2000\n",
      "56/56 [==============================] - 1s 24ms/step - loss: 0.0470 - val_loss: 0.1921\n",
      "Epoch 48/2000\n",
      "56/56 [==============================] - 2s 38ms/step - loss: 0.0455 - val_loss: 0.1932\n",
      "Epoch 49/2000\n",
      "56/56 [==============================] - 2s 39ms/step - loss: 0.0452 - val_loss: 0.1994\n",
      "Epoch 50/2000\n",
      "56/56 [==============================] - 2s 33ms/step - loss: 0.0426 - val_loss: 0.1918\n",
      "Epoch 51/2000\n",
      "56/56 [==============================] - 1s 26ms/step - loss: 0.0359 - val_loss: 0.1903\n",
      "Epoch 52/2000\n",
      "56/56 [==============================] - 1s 23ms/step - loss: 0.0332 - val_loss: 0.1888\n",
      "Epoch 53/2000\n",
      "56/56 [==============================] - 1s 22ms/step - loss: 0.0313 - val_loss: 0.1872\n",
      "Epoch 54/2000\n",
      "56/56 [==============================] - 1s 22ms/step - loss: 0.0294 - val_loss: 0.1867\n"
     ]
    },
    {
     "data": {
      "text/plain": [
       "<keras.callbacks.History at 0x7f0ddc20e880>"
      ]
     },
     "execution_count": 176,
     "metadata": {},
     "output_type": "execute_result"
    }
   ],
   "source": [
    "lstm_model.fit(dataset, validation_data = dataset_val, epochs = 2_000, callbacks = [es, reduce_lr])"
   ]
  },
  {
   "cell_type": "code",
   "execution_count": 106,
   "id": "93df7b5d",
   "metadata": {},
   "outputs": [
    {
     "name": "stdout",
     "output_type": "stream",
     "text": [
      "1/1 [==============================] - 0s 176ms/step - loss: 0.0564\n"
     ]
    },
    {
     "data": {
      "text/plain": [
       "0.05635538697242737"
      ]
     },
     "execution_count": 106,
     "metadata": {},
     "output_type": "execute_result"
    }
   ],
   "source": [
    "lstm_model.evaluate(dataset_test)"
   ]
  },
  {
   "cell_type": "code",
   "execution_count": null,
   "id": "bde66eaf",
   "metadata": {},
   "outputs": [],
   "source": []
  },
  {
   "cell_type": "code",
   "execution_count": 177,
   "id": "c236d37d",
   "metadata": {},
   "outputs": [],
   "source": [
    "y_pred = lstm_model.predict(dataset_test)"
   ]
  },
  {
   "cell_type": "code",
   "execution_count": 178,
   "id": "752bb9cf",
   "metadata": {},
   "outputs": [
    {
     "data": {
      "text/plain": [
       "array([[-1.6871494e+00],\n",
       "       [-4.8863816e-01],\n",
       "       [-3.9712474e-01],\n",
       "       [ 1.0383837e+00],\n",
       "       [-1.5584723e+00],\n",
       "       [-6.3938004e-01],\n",
       "       [ 2.6550025e-01],\n",
       "       [-1.0760517e+00],\n",
       "       [ 2.3277233e+00],\n",
       "       [-1.2847688e+00],\n",
       "       [ 3.7897599e-01],\n",
       "       [-4.9973577e-01],\n",
       "       [-8.2590365e-01],\n",
       "       [-4.8678559e-01],\n",
       "       [ 2.3616399e-01],\n",
       "       [-1.4921919e+00],\n",
       "       [ 1.5287282e+00],\n",
       "       [-6.6178304e-01],\n",
       "       [ 6.1278057e-01],\n",
       "       [-5.0035822e-01],\n",
       "       [ 2.8878284e-01],\n",
       "       [-9.2414355e-01],\n",
       "       [ 2.4807150e+00],\n",
       "       [-2.5379953e+00],\n",
       "       [ 2.0811946e+00],\n",
       "       [-6.7531669e-01],\n",
       "       [ 2.8340633e+00],\n",
       "       [-1.9568243e+00],\n",
       "       [ 1.7490849e-01],\n",
       "       [-1.1183825e+00],\n",
       "       [-6.0501146e-01],\n",
       "       [ 7.1411198e-01],\n",
       "       [ 8.1991899e-01],\n",
       "       [-6.4256206e-02],\n",
       "       [-9.0030503e-01],\n",
       "       [ 3.6150134e-01],\n",
       "       [-1.2124092e-01],\n",
       "       [-1.5403357e+00],\n",
       "       [ 3.4348989e-01],\n",
       "       [ 5.5704588e-01],\n",
       "       [-4.3841061e-01],\n",
       "       [ 4.9333498e-01],\n",
       "       [ 1.1932797e+00],\n",
       "       [-1.3432385e+00],\n",
       "       [-2.9730052e-01],\n",
       "       [-8.4129000e-01],\n",
       "       [ 1.2838588e+00],\n",
       "       [-1.9645106e+00],\n",
       "       [-1.1665915e+00],\n",
       "       [ 5.4010856e-01],\n",
       "       [-7.6713806e-01],\n",
       "       [ 8.4492517e-01],\n",
       "       [-1.8234400e-01],\n",
       "       [-1.4902928e+00],\n",
       "       [ 2.6238933e+00],\n",
       "       [-2.4008676e-03],\n",
       "       [-4.2930189e-01],\n",
       "       [-1.5033901e+00],\n",
       "       [ 1.6532818e+00],\n",
       "       [ 7.9074198e-01],\n",
       "       [-1.5010127e+00],\n",
       "       [ 5.5847704e-01],\n",
       "       [-1.2777821e+00],\n",
       "       [-2.2147374e-01],\n",
       "       [ 8.1257230e-01],\n",
       "       [ 8.2242034e-02],\n",
       "       [-2.5382385e-01],\n",
       "       [-9.7717190e-01],\n",
       "       [ 9.2866963e-01],\n",
       "       [-3.7677595e-01],\n",
       "       [-3.0888188e-01],\n",
       "       [ 8.2932299e-01],\n",
       "       [-8.2843614e-01],\n",
       "       [ 2.5693116e-01],\n",
       "       [-9.1221082e-01],\n",
       "       [ 4.3663302e-01],\n",
       "       [-1.8975426e-01],\n",
       "       [ 4.4966668e-01],\n",
       "       [ 1.9949742e-01],\n",
       "       [-7.6994725e-02],\n",
       "       [-4.7588053e-01],\n",
       "       [ 4.3547854e-02],\n",
       "       [ 1.7671795e+00],\n",
       "       [-1.2321450e+00],\n",
       "       [ 4.7411379e-01],\n",
       "       [-5.3021580e-01],\n",
       "       [ 4.7490117e-01],\n",
       "       [-1.3833791e-01],\n",
       "       [-3.0865097e-01],\n",
       "       [-6.7523348e-01],\n",
       "       [-3.0942801e-01],\n",
       "       [ 2.5479111e-01],\n",
       "       [-1.4548547e+00],\n",
       "       [-5.8827549e-01],\n",
       "       [ 5.2161014e-01],\n",
       "       [ 2.2776674e-01],\n",
       "       [ 1.4199765e+00],\n",
       "       [-1.2708382e-01],\n",
       "       [ 1.6708271e-01],\n",
       "       [-4.2766249e-01],\n",
       "       [-9.1534925e-01],\n",
       "       [ 1.3106785e+00],\n",
       "       [-1.4240515e+00],\n",
       "       [ 2.5449508e-01],\n",
       "       [ 6.3293105e-01],\n",
       "       [-1.2738345e+00],\n",
       "       [-6.6311374e-02],\n",
       "       [-4.8095319e-01],\n",
       "       [ 3.3949482e-01],\n",
       "       [ 9.2936146e-01],\n",
       "       [ 7.5765020e-01],\n",
       "       [-1.1293099e-01],\n",
       "       [-1.1567086e+00],\n",
       "       [-4.2094778e-02],\n",
       "       [-5.9399717e-02],\n",
       "       [-7.4143225e-01],\n",
       "       [ 1.2248768e+00],\n",
       "       [-9.9279171e-01],\n",
       "       [ 1.5164742e+00],\n",
       "       [-9.6391004e-01],\n",
       "       [-2.0113164e-01]], dtype=float32)"
      ]
     },
     "execution_count": 178,
     "metadata": {},
     "output_type": "execute_result"
    }
   ],
   "source": [
    "y_pred"
   ]
  },
  {
   "cell_type": "code",
   "execution_count": 179,
   "id": "1208c300",
   "metadata": {},
   "outputs": [],
   "source": [
    "etx, ety = next(iter(dataset_test))"
   ]
  },
  {
   "cell_type": "code",
   "execution_count": 180,
   "id": "a71c3fac",
   "metadata": {},
   "outputs": [],
   "source": [
    "y_test = ety.numpy()"
   ]
  },
  {
   "cell_type": "code",
   "execution_count": 184,
   "id": "02ee1b67",
   "metadata": {},
   "outputs": [],
   "source": [
    "y_pred = y_pred*train_std['close_price']+train_mean['close_price']"
   ]
  },
  {
   "cell_type": "code",
   "execution_count": 188,
   "id": "5b859bd8",
   "metadata": {},
   "outputs": [
    {
     "data": {
      "text/plain": [
       "0.06080495335661146"
      ]
     },
     "metadata": {},
     "output_type": "display_data"
    },
    {
     "data": {
      "text/plain": [
       "-7.65705661641187e-05"
      ]
     },
     "metadata": {},
     "output_type": "display_data"
    }
   ],
   "source": [
    "display(train_std['close_price'])\n",
    "display(train_mean['close_price'])"
   ]
  },
  {
   "cell_type": "code",
   "execution_count": 185,
   "id": "4ecef99c",
   "metadata": {},
   "outputs": [],
   "source": [
    "y_test = y_test*train_std['close_price']+train_mean['close_price']"
   ]
  },
  {
   "cell_type": "code",
   "execution_count": 186,
   "id": "1fa4ea03",
   "metadata": {},
   "outputs": [
    {
     "data": {
      "text/plain": [
       "<matplotlib.legend.Legend at 0x7f0db5f50700>"
      ]
     },
     "execution_count": 186,
     "metadata": {},
     "output_type": "execute_result"
    },
    {
     "data": {
      "image/png": "[encoded data removed]",
      "text/plain": [
       "<Figure size 432x288 with 1 Axes>"
      ]
     },
     "metadata": {
      "needs_background": "light"
     },
     "output_type": "display_data"
    }
   ],
   "source": [
    "plt.plot(y_test, label = 'test')\n",
    "plt.plot(y_pred, label = 'actual')\n",
    "plt.legend()"
   ]
  },
  {
   "cell_type": "code",
   "execution_count": 187,
   "id": "38fc23ec",
   "metadata": {},
   "outputs": [
    {
     "data": {
      "text/plain": [
       "0.8760330578512396"
      ]
     },
     "execution_count": 187,
     "metadata": {},
     "output_type": "execute_result"
    }
   ],
   "source": [
    "((y_pred.flatten() > 0) == (y_test>0)).mean()"
   ]
  },
  {
   "cell_type": "code",
   "execution_count": 115,
   "id": "b3978a84",
   "metadata": {},
   "outputs": [
    {
     "data": {
      "text/plain": [
       "array([False, False, False, False, False,  True,  True,  True,  True,\n",
       "        True,  True, False, False, False, False, False, False, False,\n",
       "       False, False, False, False, False, False,  True,  True,  True,\n",
       "       False, False, False, False,  True,  True,  True,  True,  True,\n",
       "        True, False, False,  True, False,  True,  True,  True, False,\n",
       "        True,  True, False, False, False, False, False, False, False,\n",
       "       False, False, False,  True,  True,  True,  True,  True, False,\n",
       "       False, False, False,  True,  True,  True,  True,  True, False,\n",
       "       False, False, False, False,  True, False, False, False,  True,\n",
       "       False, False, False, False, False, False,  True,  True,  True,\n",
       "        True,  True, False, False,  True,  True,  True,  True,  True,\n",
       "        True,  True,  True, False, False, False, False, False, False,\n",
       "        True,  True,  True, False, False, False, False, False,  True,\n",
       "       False, False, False, False])"
      ]
     },
     "execution_count": 115,
     "metadata": {},
     "output_type": "execute_result"
    }
   ],
   "source": [
    "y_pred.flatten()>0"
   ]
  },
  {
   "cell_type": "code",
   "execution_count": 116,
   "id": "af604fa3",
   "metadata": {},
   "outputs": [],
   "source": [
    "from tensorflow.keras import models"
   ]
  },
  {
   "cell_type": "code",
   "execution_count": 117,
   "id": "b02d81d9",
   "metadata": {},
   "outputs": [
    {
     "name": "stderr",
     "output_type": "stream",
     "text": [
      "2021-09-08 09:39:03.369920: W tensorflow/python/util/util.cc:348] Sets are not currently considered sequences, but this may change in the future, so consider avoiding using them.\n",
      "WARNING:absl:Found untraced functions such as gru_cell_2_layer_call_and_return_conditional_losses, gru_cell_2_layer_call_fn, gru_cell_3_layer_call_and_return_conditional_losses, gru_cell_3_layer_call_fn, gru_cell_2_layer_call_fn while saving (showing 5 of 10). These functions will not be directly callable after loading.\n"
     ]
    },
    {
     "name": "stdout",
     "output_type": "stream",
     "text": [
      "INFO:tensorflow:Assets written to: lstm_gru_7_9/assets\n"
     ]
    },
    {
     "name": "stderr",
     "output_type": "stream",
     "text": [
      "INFO:tensorflow:Assets written to: lstm_gru_7_9/assets\n"
     ]
    }
   ],
   "source": [
    "lstm_model.save('lstm_gru_7_9')"
   ]
  },
  {
   "cell_type": "code",
   "execution_count": 118,
   "id": "7c781f11",
   "metadata": {},
   "outputs": [
    {
     "ename": "KeyboardInterrupt",
     "evalue": "",
     "output_type": "error",
     "traceback": [
      "\u001b[0;31m---------------------------------------------------------------------------\u001b[0m",
      "\u001b[0;31mKeyboardInterrupt\u001b[0m                         Traceback (most recent call last)",
      "\u001b[0;32m/tmp/ipykernel_19271/3410256861.py\u001b[0m in \u001b[0;36m<module>\u001b[0;34m\u001b[0m\n\u001b[0;32m----> 1\u001b[0;31m \u001b[0mloaded_model\u001b[0m \u001b[0;34m=\u001b[0m \u001b[0mmodels\u001b[0m\u001b[0;34m.\u001b[0m\u001b[0mload_model\u001b[0m\u001b[0;34m(\u001b[0m\u001b[0;34m'lstm_gru_7_9'\u001b[0m\u001b[0;34m)\u001b[0m\u001b[0;34m\u001b[0m\u001b[0;34m\u001b[0m\u001b[0m\n\u001b[0m",
      "\u001b[0;32m~/.pyenv/versions/3.8.6/envs/cryptocurrency_trading/lib/python3.8/site-packages/keras/saving/save.py\u001b[0m in \u001b[0;36mload_model\u001b[0;34m(filepath, custom_objects, compile, options)\u001b[0m\n\u001b[1;32m    203\u001b[0m         \u001b[0mfilepath\u001b[0m \u001b[0;34m=\u001b[0m \u001b[0mpath_to_string\u001b[0m\u001b[0;34m(\u001b[0m\u001b[0mfilepath\u001b[0m\u001b[0;34m)\u001b[0m\u001b[0;34m\u001b[0m\u001b[0;34m\u001b[0m\u001b[0m\n\u001b[1;32m    204\u001b[0m         \u001b[0;32mif\u001b[0m \u001b[0misinstance\u001b[0m\u001b[0;34m(\u001b[0m\u001b[0mfilepath\u001b[0m\u001b[0;34m,\u001b[0m \u001b[0mstr\u001b[0m\u001b[0;34m)\u001b[0m\u001b[0;34m:\u001b[0m\u001b[0;34m\u001b[0m\u001b[0;34m\u001b[0m\u001b[0m\n\u001b[0;32m--> 205\u001b[0;31m           \u001b[0;32mreturn\u001b[0m \u001b[0msaved_model_load\u001b[0m\u001b[0;34m.\u001b[0m\u001b[0mload\u001b[0m\u001b[0;34m(\u001b[0m\u001b[0mfilepath\u001b[0m\u001b[0;34m,\u001b[0m \u001b[0mcompile\u001b[0m\u001b[0;34m,\u001b[0m \u001b[0moptions\u001b[0m\u001b[0;34m)\u001b[0m\u001b[0;34m\u001b[0m\u001b[0;34m\u001b[0m\u001b[0m\n\u001b[0m\u001b[1;32m    206\u001b[0m \u001b[0;34m\u001b[0m\u001b[0m\n\u001b[1;32m    207\u001b[0m   raise IOError(\n",
      "\u001b[0;32m~/.pyenv/versions/3.8.6/envs/cryptocurrency_trading/lib/python3.8/site-packages/keras/saving/saved_model/load.py\u001b[0m in \u001b[0;36mload\u001b[0;34m(path, compile, options)\u001b[0m\n\u001b[1;32m    138\u001b[0m   \u001b[0;32mfor\u001b[0m \u001b[0mnode_id\u001b[0m\u001b[0;34m,\u001b[0m \u001b[0mloaded_node\u001b[0m \u001b[0;32min\u001b[0m \u001b[0mkeras_loader\u001b[0m\u001b[0;34m.\u001b[0m\u001b[0mloaded_nodes\u001b[0m\u001b[0;34m.\u001b[0m\u001b[0mitems\u001b[0m\u001b[0;34m(\u001b[0m\u001b[0;34m)\u001b[0m\u001b[0;34m:\u001b[0m\u001b[0;34m\u001b[0m\u001b[0;34m\u001b[0m\u001b[0m\n\u001b[1;32m    139\u001b[0m     \u001b[0mnodes_to_load\u001b[0m\u001b[0;34m[\u001b[0m\u001b[0mkeras_loader\u001b[0m\u001b[0;34m.\u001b[0m\u001b[0mget_path\u001b[0m\u001b[0;34m(\u001b[0m\u001b[0mnode_id\u001b[0m\u001b[0;34m)\u001b[0m\u001b[0;34m]\u001b[0m \u001b[0;34m=\u001b[0m \u001b[0mloaded_node\u001b[0m\u001b[0;34m\u001b[0m\u001b[0;34m\u001b[0m\u001b[0m\n\u001b[0;32m--> 140\u001b[0;31m   \u001b[0mloaded\u001b[0m \u001b[0;34m=\u001b[0m \u001b[0mtf\u001b[0m\u001b[0;34m.\u001b[0m\u001b[0m__internal__\u001b[0m\u001b[0;34m.\u001b[0m\u001b[0msaved_model\u001b[0m\u001b[0;34m.\u001b[0m\u001b[0mload_partial\u001b[0m\u001b[0;34m(\u001b[0m\u001b[0mpath\u001b[0m\u001b[0;34m,\u001b[0m \u001b[0mnodes_to_load\u001b[0m\u001b[0;34m,\u001b[0m \u001b[0moptions\u001b[0m\u001b[0;34m=\u001b[0m\u001b[0moptions\u001b[0m\u001b[0;34m)\u001b[0m\u001b[0;34m\u001b[0m\u001b[0;34m\u001b[0m\u001b[0m\n\u001b[0m\u001b[1;32m    141\u001b[0m \u001b[0;34m\u001b[0m\u001b[0m\n\u001b[1;32m    142\u001b[0m   \u001b[0;31m# Finalize the loaded layers and remove the extra tracked dependencies.\u001b[0m\u001b[0;34m\u001b[0m\u001b[0;34m\u001b[0m\u001b[0;34m\u001b[0m\u001b[0m\n",
      "\u001b[0;32m~/.pyenv/versions/3.8.6/envs/cryptocurrency_trading/lib/python3.8/site-packages/tensorflow/python/saved_model/load.py\u001b[0m in \u001b[0;36mload_partial\u001b[0;34m(export_dir, filters, tags, options)\u001b[0m\n\u001b[1;32m    767\u001b[0m     \u001b[0mA\u001b[0m \u001b[0mdictionary\u001b[0m \u001b[0mmapping\u001b[0m \u001b[0mnode\u001b[0m \u001b[0mpaths\u001b[0m \u001b[0;32mfrom\u001b[0m \u001b[0mthe\u001b[0m \u001b[0mfilter\u001b[0m \u001b[0mto\u001b[0m \u001b[0mloaded\u001b[0m \u001b[0mobjects\u001b[0m\u001b[0;34m.\u001b[0m\u001b[0;34m\u001b[0m\u001b[0;34m\u001b[0m\u001b[0m\n\u001b[1;32m    768\u001b[0m   \"\"\"\n\u001b[0;32m--> 769\u001b[0;31m   \u001b[0;32mreturn\u001b[0m \u001b[0mload_internal\u001b[0m\u001b[0;34m(\u001b[0m\u001b[0mexport_dir\u001b[0m\u001b[0;34m,\u001b[0m \u001b[0mtags\u001b[0m\u001b[0;34m,\u001b[0m \u001b[0moptions\u001b[0m\u001b[0;34m,\u001b[0m \u001b[0mfilters\u001b[0m\u001b[0;34m=\u001b[0m\u001b[0mfilters\u001b[0m\u001b[0;34m)\u001b[0m\u001b[0;34m\u001b[0m\u001b[0;34m\u001b[0m\u001b[0m\n\u001b[0m\u001b[1;32m    770\u001b[0m \u001b[0;34m\u001b[0m\u001b[0m\n\u001b[1;32m    771\u001b[0m \u001b[0;34m\u001b[0m\u001b[0m\n",
      "\u001b[0;32m~/.pyenv/versions/3.8.6/envs/cryptocurrency_trading/lib/python3.8/site-packages/tensorflow/python/saved_model/load.py\u001b[0m in \u001b[0;36mload_internal\u001b[0;34m(export_dir, tags, options, loader_cls, filters)\u001b[0m\n\u001b[1;32m    900\u001b[0m     \u001b[0;32mwith\u001b[0m \u001b[0mops\u001b[0m\u001b[0;34m.\u001b[0m\u001b[0minit_scope\u001b[0m\u001b[0;34m(\u001b[0m\u001b[0;34m)\u001b[0m\u001b[0;34m:\u001b[0m\u001b[0;34m\u001b[0m\u001b[0;34m\u001b[0m\u001b[0m\n\u001b[1;32m    901\u001b[0m       \u001b[0;32mtry\u001b[0m\u001b[0;34m:\u001b[0m\u001b[0;34m\u001b[0m\u001b[0;34m\u001b[0m\u001b[0m\n\u001b[0;32m--> 902\u001b[0;31m         loader = loader_cls(object_graph_proto, saved_model_proto, export_dir,\n\u001b[0m\u001b[1;32m    903\u001b[0m                             ckpt_options, options, filters)\n\u001b[1;32m    904\u001b[0m       \u001b[0;32mexcept\u001b[0m \u001b[0merrors\u001b[0m\u001b[0;34m.\u001b[0m\u001b[0mNotFoundError\u001b[0m \u001b[0;32mas\u001b[0m \u001b[0merr\u001b[0m\u001b[0;34m:\u001b[0m\u001b[0;34m\u001b[0m\u001b[0;34m\u001b[0m\u001b[0m\n",
      "\u001b[0;32m~/.pyenv/versions/3.8.6/envs/cryptocurrency_trading/lib/python3.8/site-packages/tensorflow/python/saved_model/load.py\u001b[0m in \u001b[0;36m__init__\u001b[0;34m(self, object_graph_proto, saved_model_proto, export_dir, ckpt_options, save_options, filters)\u001b[0m\n\u001b[1;32m    135\u001b[0m     \u001b[0mself\u001b[0m\u001b[0;34m.\u001b[0m\u001b[0m_export_dir\u001b[0m \u001b[0;34m=\u001b[0m \u001b[0mexport_dir\u001b[0m\u001b[0;34m\u001b[0m\u001b[0;34m\u001b[0m\u001b[0m\n\u001b[1;32m    136\u001b[0m     self._concrete_functions = (\n\u001b[0;32m--> 137\u001b[0;31m         function_deserialization.load_function_def_library(\n\u001b[0m\u001b[1;32m    138\u001b[0m             meta_graph.graph_def.library, wrapper_function=_WrapperFunction))\n\u001b[1;32m    139\u001b[0m     \u001b[0mself\u001b[0m\u001b[0;34m.\u001b[0m\u001b[0m_checkpoint_options\u001b[0m \u001b[0;34m=\u001b[0m \u001b[0mckpt_options\u001b[0m\u001b[0;34m\u001b[0m\u001b[0;34m\u001b[0m\u001b[0m\n",
      "\u001b[0;32m~/.pyenv/versions/3.8.6/envs/cryptocurrency_trading/lib/python3.8/site-packages/tensorflow/python/saved_model/function_deserialization.py\u001b[0m in \u001b[0;36mload_function_def_library\u001b[0;34m(library, load_shared_name_suffix, wrapper_function)\u001b[0m\n\u001b[1;32m    372\u001b[0m   \u001b[0mfunction_deps\u001b[0m \u001b[0;34m=\u001b[0m \u001b[0;34m{\u001b[0m\u001b[0;34m}\u001b[0m\u001b[0;34m\u001b[0m\u001b[0;34m\u001b[0m\u001b[0m\n\u001b[1;32m    373\u001b[0m   \u001b[0;32mfor\u001b[0m \u001b[0mfdef\u001b[0m \u001b[0;32min\u001b[0m \u001b[0mlibrary\u001b[0m\u001b[0;34m.\u001b[0m\u001b[0mfunction\u001b[0m\u001b[0;34m:\u001b[0m\u001b[0;34m\u001b[0m\u001b[0;34m\u001b[0m\u001b[0m\n\u001b[0;32m--> 374\u001b[0;31m     function_deps[fdef.signature.name] = _list_function_deps(\n\u001b[0m\u001b[1;32m    375\u001b[0m         fdef, library_function_names, library_gradient_names)\n\u001b[1;32m    376\u001b[0m \u001b[0;34m\u001b[0m\u001b[0m\n",
      "\u001b[0;32m~/.pyenv/versions/3.8.6/envs/cryptocurrency_trading/lib/python3.8/site-packages/tensorflow/python/saved_model/function_deserialization.py\u001b[0m in \u001b[0;36m_list_function_deps\u001b[0;34m(fdef, library_function_names, library_gradient_names)\u001b[0m\n\u001b[1;32m    583\u001b[0m   \u001b[0mdeps\u001b[0m \u001b[0;34m=\u001b[0m \u001b[0mset\u001b[0m\u001b[0;34m(\u001b[0m\u001b[0;34m)\u001b[0m\u001b[0;34m\u001b[0m\u001b[0;34m\u001b[0m\u001b[0m\n\u001b[1;32m    584\u001b[0m   \u001b[0;32mfor\u001b[0m \u001b[0mnode_def\u001b[0m \u001b[0;32min\u001b[0m \u001b[0mfdef\u001b[0m\u001b[0;34m.\u001b[0m\u001b[0mnode_def\u001b[0m\u001b[0;34m:\u001b[0m\u001b[0;34m\u001b[0m\u001b[0;34m\u001b[0m\u001b[0m\n\u001b[0;32m--> 585\u001b[0;31m     \u001b[0mgrad_op_type\u001b[0m \u001b[0;34m=\u001b[0m \u001b[0m_get_gradient_op_type\u001b[0m\u001b[0;34m(\u001b[0m\u001b[0mnode_def\u001b[0m\u001b[0;34m)\u001b[0m\u001b[0;34m\u001b[0m\u001b[0;34m\u001b[0m\u001b[0m\n\u001b[0m\u001b[1;32m    586\u001b[0m     \u001b[0;32mif\u001b[0m \u001b[0mnode_def\u001b[0m\u001b[0;34m.\u001b[0m\u001b[0mop\u001b[0m \u001b[0;32min\u001b[0m \u001b[0mlibrary_function_names\u001b[0m\u001b[0;34m:\u001b[0m\u001b[0;34m\u001b[0m\u001b[0;34m\u001b[0m\u001b[0m\n\u001b[1;32m    587\u001b[0m       \u001b[0mdeps\u001b[0m\u001b[0;34m.\u001b[0m\u001b[0madd\u001b[0m\u001b[0;34m(\u001b[0m\u001b[0mnode_def\u001b[0m\u001b[0;34m.\u001b[0m\u001b[0mop\u001b[0m\u001b[0;34m)\u001b[0m\u001b[0;34m\u001b[0m\u001b[0;34m\u001b[0m\u001b[0m\n",
      "\u001b[0;32m~/.pyenv/versions/3.8.6/envs/cryptocurrency_trading/lib/python3.8/site-packages/tensorflow/python/saved_model/function_deserialization.py\u001b[0m in \u001b[0;36m_get_gradient_op_type\u001b[0;34m(node_def)\u001b[0m\n\u001b[1;32m    489\u001b[0m \u001b[0;32mdef\u001b[0m \u001b[0m_get_gradient_op_type\u001b[0m\u001b[0;34m(\u001b[0m\u001b[0mnode_def\u001b[0m\u001b[0;34m)\u001b[0m\u001b[0;34m:\u001b[0m\u001b[0;34m\u001b[0m\u001b[0;34m\u001b[0m\u001b[0m\n\u001b[1;32m    490\u001b[0m   \u001b[0;34m\"\"\"Returns the custom gradient op type.\"\"\"\u001b[0m\u001b[0;34m\u001b[0m\u001b[0;34m\u001b[0m\u001b[0m\n\u001b[0;32m--> 491\u001b[0;31m   if (\"_gradient_op_type\" in node_def.attr and\n\u001b[0m\u001b[1;32m    492\u001b[0m       node_def.op not in [\"StatefulPartitionedCall\", \"PartitionedCall\"]):\n\u001b[1;32m    493\u001b[0m     \u001b[0;32mreturn\u001b[0m \u001b[0mnode_def\u001b[0m\u001b[0;34m.\u001b[0m\u001b[0mattr\u001b[0m\u001b[0;34m[\u001b[0m\u001b[0;34m\"_gradient_op_type\"\u001b[0m\u001b[0;34m]\u001b[0m\u001b[0;34m.\u001b[0m\u001b[0ms\u001b[0m\u001b[0;34m\u001b[0m\u001b[0;34m\u001b[0m\u001b[0m\n",
      "\u001b[0;31mKeyboardInterrupt\u001b[0m: "
     ]
    }
   ],
   "source": [
    "loaded_model = models.load_model('lstm_gru_7_9')"
   ]
  },
  {
   "cell_type": "code",
   "execution_count": null,
   "id": "afda5df4",
   "metadata": {},
   "outputs": [],
   "source": [
    "loaded_model.summary()"
   ]
  },
  {
   "cell_type": "code",
   "execution_count": null,
   "id": "0835e89a",
   "metadata": {},
   "outputs": [],
   "source": []
  },
  {
   "cell_type": "code",
   "execution_count": null,
   "id": "651f6e58",
   "metadata": {},
   "outputs": [],
   "source": []
  }
 ],
 "metadata": {
  "kernelspec": {
   "display_name": "Python 3 (ipykernel)",
   "language": "python",
   "name": "python3"
  },
  "language_info": {
   "codemirror_mode": {
    "name": "ipython",
    "version": 3
   },
   "file_extension": ".py",
   "mimetype": "text/x-python",
   "name": "python",
   "nbconvert_exporter": "python",
   "pygments_lexer": "ipython3",
   "version": "3.8.6"
  },
  "toc": {
   "base_numbering": 1,
   "nav_menu": {},
   "number_sections": true,
   "sideBar": true,
   "skip_h1_title": false,
   "title_cell": "Table of Contents",
   "title_sidebar": "Contents",
   "toc_cell": false,
   "toc_position": {},
   "toc_section_display": true,
   "toc_window_display": false
  }
 },
 "nbformat": 4,
 "nbformat_minor": 5
}
