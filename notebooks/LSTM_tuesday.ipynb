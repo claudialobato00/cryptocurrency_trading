{
 "cells": [
  {
   "cell_type": "code",
   "execution_count": 50,
   "id": "5cd954c5",
   "metadata": {},
   "outputs": [],
   "source": [
    "import pandas as pd"
   ]
  },
  {
   "cell_type": "markdown",
   "id": "5e6dc17e",
   "metadata": {},
   "source": [
    "# Import data"
   ]
  },
  {
   "cell_type": "code",
   "execution_count": 51,
   "id": "66e87418",
   "metadata": {},
   "outputs": [],
   "source": [
    "df = pd.read_csv('stationary_data.csv')"
   ]
  },
  {
   "cell_type": "code",
   "execution_count": 52,
   "id": "7ad39438",
   "metadata": {},
   "outputs": [
    {
     "data": {
      "text/html": [
       "<div>\n",
       "<style scoped>\n",
       "    .dataframe tbody tr th:only-of-type {\n",
       "        vertical-align: middle;\n",
       "    }\n",
       "\n",
       "    .dataframe tbody tr th {\n",
       "        vertical-align: top;\n",
       "    }\n",
       "\n",
       "    .dataframe thead th {\n",
       "        text-align: right;\n",
       "    }\n",
       "</style>\n",
       "<table border=\"1\" class=\"dataframe\">\n",
       "  <thead>\n",
       "    <tr style=\"text-align: right;\">\n",
       "      <th></th>\n",
       "      <th>start</th>\n",
       "      <th>close_price</th>\n",
       "      <th>tweet_count</th>\n",
       "      <th>twitter_sentiment</th>\n",
       "      <th>volume</th>\n",
       "      <th>volatility</th>\n",
       "      <th>rsi</th>\n",
       "      <th>macd</th>\n",
       "      <th>reddit_sentiment</th>\n",
       "      <th>reddit_post_count</th>\n",
       "    </tr>\n",
       "  </thead>\n",
       "  <tbody>\n",
       "    <tr>\n",
       "      <th>0</th>\n",
       "      <td>2018-01-03</td>\n",
       "      <td>-0.078084</td>\n",
       "      <td>0.068450</td>\n",
       "      <td>6.096648</td>\n",
       "      <td>2.529997e+07</td>\n",
       "      <td>-0.141918</td>\n",
       "      <td>0.016552</td>\n",
       "      <td>30.100003</td>\n",
       "      <td>0.213028</td>\n",
       "      <td>-104.0</td>\n",
       "    </tr>\n",
       "    <tr>\n",
       "      <th>1</th>\n",
       "      <td>2018-01-04</td>\n",
       "      <td>0.011353</td>\n",
       "      <td>-0.066855</td>\n",
       "      <td>4.738479</td>\n",
       "      <td>4.911300e+09</td>\n",
       "      <td>-0.021054</td>\n",
       "      <td>0.030055</td>\n",
       "      <td>53.719591</td>\n",
       "      <td>-0.833220</td>\n",
       "      <td>-17.0</td>\n",
       "    </tr>\n",
       "    <tr>\n",
       "      <th>2</th>\n",
       "      <td>2018-01-05</td>\n",
       "      <td>0.085086</td>\n",
       "      <td>-0.084542</td>\n",
       "      <td>5.809624</td>\n",
       "      <td>2.057699e+09</td>\n",
       "      <td>0.243666</td>\n",
       "      <td>0.114442</td>\n",
       "      <td>185.854342</td>\n",
       "      <td>0.342103</td>\n",
       "      <td>48.0</td>\n",
       "    </tr>\n",
       "    <tr>\n",
       "      <th>3</th>\n",
       "      <td>2018-01-06</td>\n",
       "      <td>-0.105366</td>\n",
       "      <td>-0.246690</td>\n",
       "      <td>6.643630</td>\n",
       "      <td>-5.526299e+09</td>\n",
       "      <td>0.163605</td>\n",
       "      <td>0.005255</td>\n",
       "      <td>149.031677</td>\n",
       "      <td>-0.065387</td>\n",
       "      <td>-185.0</td>\n",
       "    </tr>\n",
       "    <tr>\n",
       "      <th>4</th>\n",
       "      <td>2018-01-07</td>\n",
       "      <td>-0.067319</td>\n",
       "      <td>0.091045</td>\n",
       "      <td>8.091246</td>\n",
       "      <td>-2.448600e+09</td>\n",
       "      <td>0.006811</td>\n",
       "      <td>-0.090538</td>\n",
       "      <td>26.993014</td>\n",
       "      <td>0.184959</td>\n",
       "      <td>53.0</td>\n",
       "    </tr>\n",
       "  </tbody>\n",
       "</table>\n",
       "</div>"
      ],
      "text/plain": [
       "        start  close_price  tweet_count  twitter_sentiment        volume  \\\n",
       "0  2018-01-03    -0.078084     0.068450           6.096648  2.529997e+07   \n",
       "1  2018-01-04     0.011353    -0.066855           4.738479  4.911300e+09   \n",
       "2  2018-01-05     0.085086    -0.084542           5.809624  2.057699e+09   \n",
       "3  2018-01-06    -0.105366    -0.246690           6.643630 -5.526299e+09   \n",
       "4  2018-01-07    -0.067319     0.091045           8.091246 -2.448600e+09   \n",
       "\n",
       "   volatility       rsi        macd  reddit_sentiment  reddit_post_count  \n",
       "0   -0.141918  0.016552   30.100003          0.213028             -104.0  \n",
       "1   -0.021054  0.030055   53.719591         -0.833220              -17.0  \n",
       "2    0.243666  0.114442  185.854342          0.342103               48.0  \n",
       "3    0.163605  0.005255  149.031677         -0.065387             -185.0  \n",
       "4    0.006811 -0.090538   26.993014          0.184959               53.0  "
      ]
     },
     "execution_count": 52,
     "metadata": {},
     "output_type": "execute_result"
    }
   ],
   "source": [
    "df.head()"
   ]
  },
  {
   "cell_type": "markdown",
   "id": "ec29b4f1",
   "metadata": {},
   "source": [
    "## imputer"
   ]
  },
  {
   "cell_type": "code",
   "execution_count": 53,
   "id": "7c851df4",
   "metadata": {},
   "outputs": [],
   "source": [
    "from sklearn.impute import KNNImputer"
   ]
  },
  {
   "cell_type": "code",
   "execution_count": 54,
   "id": "d63cb726",
   "metadata": {},
   "outputs": [],
   "source": [
    "imputer = KNNImputer(n_neighbors=2)\n",
    "df['reddit_sentiment'],df['reddit_post_count'],df['twitter_sentiment'] = imputer.fit_transform(df[['reddit_sentiment','reddit_post_count','twitter_sentiment']]).T"
   ]
  },
  {
   "cell_type": "markdown",
   "id": "cb800403",
   "metadata": {},
   "source": [
    "## Train test split"
   ]
  },
  {
   "cell_type": "code",
   "execution_count": 55,
   "id": "9ca22b97",
   "metadata": {},
   "outputs": [],
   "source": [
    "import os\n",
    "import datetime\n",
    "\n",
    "import IPython\n",
    "import IPython.display\n",
    "import matplotlib as mpl\n",
    "import matplotlib.pyplot as plt\n",
    "import numpy as np\n",
    "import pandas as pd\n",
    "import seaborn as sns\n",
    "import tensorflow as tf\n",
    "\n",
    "# mpl.rcParams['figure.figsize'] = (8, 6)\n",
    "# mpl.rcParams['axes.grid'] = False"
   ]
  },
  {
   "cell_type": "code",
   "execution_count": 56,
   "id": "7f628238",
   "metadata": {},
   "outputs": [],
   "source": [
    "column_indices = {name: i for i, name in enumerate(df.columns)}\n",
    "\n",
    "n = len(df)\n",
    "train_df = df[0:int(n*0.7)]\n",
    "val_df = df[int(n*0.7):int(n*0.9)]\n",
    "test_df = df[int(n*0.9):]\n",
    "\n",
    "num_features = df.shape[1]"
   ]
  },
  {
   "cell_type": "markdown",
   "id": "79503b1c",
   "metadata": {},
   "source": [
    "### Standarize"
   ]
  },
  {
   "cell_type": "code",
   "execution_count": 57,
   "id": "c2f30213",
   "metadata": {},
   "outputs": [
    {
     "name": "stderr",
     "output_type": "stream",
     "text": [
      "/tmp/ipykernel_18960/1429736173.py:1: FutureWarning: Dropping of nuisance columns in DataFrame reductions (with 'numeric_only=None') is deprecated; in a future version this will raise TypeError.  Select only valid columns before calling the reduction.\n",
      "  train_mean = train_df.mean()\n",
      "/tmp/ipykernel_18960/1429736173.py:2: FutureWarning: Dropping of nuisance columns in DataFrame reductions (with 'numeric_only=None') is deprecated; in a future version this will raise TypeError.  Select only valid columns before calling the reduction.\n",
      "  train_std = train_df.std()\n"
     ]
    }
   ],
   "source": [
    "train_mean = train_df.mean()\n",
    "train_std = train_df.std()\n",
    "\n",
    "train_df = (train_df - train_mean) / train_std\n",
    "val_df = (val_df - train_mean) / train_std\n",
    "test_df = (test_df - train_mean) / train_std"
   ]
  },
  {
   "cell_type": "code",
   "execution_count": 149,
   "id": "acbe487d",
   "metadata": {},
   "outputs": [
    {
     "data": {
      "text/plain": [
       "close_price         -7.657057e-05\n",
       "tweet_count         -9.431487e-04\n",
       "twitter_sentiment    4.868430e+00\n",
       "volume               4.045745e+06\n",
       "volatility          -1.625830e-03\n",
       "rsi                  3.539409e-04\n",
       "macd                -1.177125e-02\n",
       "reddit_sentiment    -1.306929e-03\n",
       "reddit_post_count   -1.290079e+00\n",
       "dtype: float64"
      ]
     },
     "execution_count": 149,
     "metadata": {},
     "output_type": "execute_result"
    }
   ],
   "source": [
    "train_mean"
   ]
  },
  {
   "cell_type": "markdown",
   "id": "91afc1fd",
   "metadata": {},
   "source": [
    "# Model?"
   ]
  },
  {
   "cell_type": "markdown",
   "id": "2fd125dd",
   "metadata": {},
   "source": [
    "## Creating datasets"
   ]
  },
  {
   "cell_type": "code",
   "execution_count": null,
   "id": "31ee1016",
   "metadata": {},
   "outputs": [],
   "source": []
  },
  {
   "cell_type": "code",
   "execution_count": 17,
   "id": "71649e48",
   "metadata": {},
   "outputs": [
    {
     "data": {
      "text/plain": [
       "(905, 10)"
      ]
     },
     "execution_count": 17,
     "metadata": {},
     "output_type": "execute_result"
    }
   ],
   "source": [
    "train_df.shape"
   ]
  },
  {
   "cell_type": "code",
   "execution_count": 18,
   "id": "9e21d84f",
   "metadata": {},
   "outputs": [
    {
     "data": {
      "text/plain": [
       "(130, 10)"
      ]
     },
     "execution_count": 18,
     "metadata": {},
     "output_type": "execute_result"
    }
   ],
   "source": [
    "test_df.shape"
   ]
  },
  {
   "cell_type": "code",
   "execution_count": 58,
   "id": "21971cb8",
   "metadata": {},
   "outputs": [],
   "source": [
    "sequence_length = 7"
   ]
  },
  {
   "cell_type": "code",
   "execution_count": 59,
   "id": "4914a509",
   "metadata": {
    "scrolled": true
   },
   "outputs": [],
   "source": [
    "train_df['target'] = train_df['close_price'].shift(-sequence_length)"
   ]
  },
  {
   "cell_type": "code",
   "execution_count": 60,
   "id": "bbcb152b",
   "metadata": {},
   "outputs": [],
   "source": [
    "train_df.drop('start', axis = 1, inplace = True)"
   ]
  },
  {
   "cell_type": "code",
   "execution_count": 61,
   "id": "d181e177",
   "metadata": {},
   "outputs": [
    {
     "data": {
      "text/html": [
       "<div>\n",
       "<style scoped>\n",
       "    .dataframe tbody tr th:only-of-type {\n",
       "        vertical-align: middle;\n",
       "    }\n",
       "\n",
       "    .dataframe tbody tr th {\n",
       "        vertical-align: top;\n",
       "    }\n",
       "\n",
       "    .dataframe thead th {\n",
       "        text-align: right;\n",
       "    }\n",
       "</style>\n",
       "<table border=\"1\" class=\"dataframe\">\n",
       "  <thead>\n",
       "    <tr style=\"text-align: right;\">\n",
       "      <th></th>\n",
       "      <th>close_price</th>\n",
       "      <th>macd</th>\n",
       "      <th>reddit_post_count</th>\n",
       "      <th>reddit_sentiment</th>\n",
       "      <th>rsi</th>\n",
       "      <th>tweet_count</th>\n",
       "      <th>twitter_sentiment</th>\n",
       "      <th>volatility</th>\n",
       "      <th>volume</th>\n",
       "      <th>target</th>\n",
       "    </tr>\n",
       "  </thead>\n",
       "  <tbody>\n",
       "    <tr>\n",
       "      <th>0</th>\n",
       "      <td>-1.282915</td>\n",
       "      <td>0.659219</td>\n",
       "      <td>-1.244836</td>\n",
       "      <td>0.563656</td>\n",
       "      <td>0.145075</td>\n",
       "      <td>0.409370</td>\n",
       "      <td>0.708600</td>\n",
       "      <td>-0.820883</td>\n",
       "      <td>0.005212</td>\n",
       "      <td>1.056800</td>\n",
       "    </tr>\n",
       "    <tr>\n",
       "      <th>1</th>\n",
       "      <td>0.187977</td>\n",
       "      <td>1.176309</td>\n",
       "      <td>-0.190403</td>\n",
       "      <td>-2.187755</td>\n",
       "      <td>0.266023</td>\n",
       "      <td>-0.388832</td>\n",
       "      <td>-0.074973</td>\n",
       "      <td>-0.113681</td>\n",
       "      <td>1.203402</td>\n",
       "      <td>-2.237758</td>\n",
       "    </tr>\n",
       "    <tr>\n",
       "      <th>2</th>\n",
       "      <td>1.400588</td>\n",
       "      <td>4.069058</td>\n",
       "      <td>0.597392</td>\n",
       "      <td>0.903096</td>\n",
       "      <td>1.021837</td>\n",
       "      <td>-0.493172</td>\n",
       "      <td>0.543006</td>\n",
       "      <td>1.435256</td>\n",
       "      <td>0.503616</td>\n",
       "      <td>2.510337</td>\n",
       "    </tr>\n",
       "    <tr>\n",
       "      <th>3</th>\n",
       "      <td>-1.731595</td>\n",
       "      <td>3.262921</td>\n",
       "      <td>-2.226549</td>\n",
       "      <td>-0.168516</td>\n",
       "      <td>0.043896</td>\n",
       "      <td>-1.449731</td>\n",
       "      <td>1.024172</td>\n",
       "      <td>0.966801</td>\n",
       "      <td>-1.356202</td>\n",
       "      <td>-0.248610</td>\n",
       "    </tr>\n",
       "    <tr>\n",
       "      <th>4</th>\n",
       "      <td>-1.105872</td>\n",
       "      <td>0.591200</td>\n",
       "      <td>0.657991</td>\n",
       "      <td>0.489839</td>\n",
       "      <td>-0.814077</td>\n",
       "      <td>0.542666</td>\n",
       "      <td>1.859351</td>\n",
       "      <td>0.049367</td>\n",
       "      <td>-0.601460</td>\n",
       "      <td>-1.127149</td>\n",
       "    </tr>\n",
       "    <tr>\n",
       "      <th>...</th>\n",
       "      <td>...</td>\n",
       "      <td>...</td>\n",
       "      <td>...</td>\n",
       "      <td>...</td>\n",
       "      <td>...</td>\n",
       "      <td>...</td>\n",
       "      <td>...</td>\n",
       "      <td>...</td>\n",
       "      <td>...</td>\n",
       "      <td>...</td>\n",
       "    </tr>\n",
       "    <tr>\n",
       "      <th>893</th>\n",
       "      <td>0.058953</td>\n",
       "      <td>0.013762</td>\n",
       "      <td>-0.578240</td>\n",
       "      <td>-0.571180</td>\n",
       "      <td>-0.005860</td>\n",
       "      <td>0.982887</td>\n",
       "      <td>-1.434736</td>\n",
       "      <td>-0.163125</td>\n",
       "      <td>0.137616</td>\n",
       "      <td>-0.110625</td>\n",
       "    </tr>\n",
       "    <tr>\n",
       "      <th>894</th>\n",
       "      <td>-0.087907</td>\n",
       "      <td>-0.071556</td>\n",
       "      <td>0.645871</td>\n",
       "      <td>-1.534328</td>\n",
       "      <td>-0.360344</td>\n",
       "      <td>7.794126</td>\n",
       "      <td>-2.789252</td>\n",
       "      <td>0.042164</td>\n",
       "      <td>-0.550381</td>\n",
       "      <td>-0.164714</td>\n",
       "    </tr>\n",
       "    <tr>\n",
       "      <th>895</th>\n",
       "      <td>-0.017652</td>\n",
       "      <td>-0.155452</td>\n",
       "      <td>-1.305435</td>\n",
       "      <td>0.530168</td>\n",
       "      <td>-0.445726</td>\n",
       "      <td>-0.612211</td>\n",
       "      <td>-2.407624</td>\n",
       "      <td>-0.030022</td>\n",
       "      <td>-0.033059</td>\n",
       "      <td>-0.170655</td>\n",
       "    </tr>\n",
       "    <tr>\n",
       "      <th>896</th>\n",
       "      <td>0.144526</td>\n",
       "      <td>-0.080090</td>\n",
       "      <td>0.209554</td>\n",
       "      <td>1.456391</td>\n",
       "      <td>0.175874</td>\n",
       "      <td>-6.587683</td>\n",
       "      <td>-1.985591</td>\n",
       "      <td>-0.329861</td>\n",
       "      <td>-0.434900</td>\n",
       "      <td>0.317315</td>\n",
       "    </tr>\n",
       "    <tr>\n",
       "      <th>897</th>\n",
       "      <td>0.028531</td>\n",
       "      <td>-0.015658</td>\n",
       "      <td>0.221674</td>\n",
       "      <td>-0.284731</td>\n",
       "      <td>0.336402</td>\n",
       "      <td>-2.643976</td>\n",
       "      <td>-2.137199</td>\n",
       "      <td>-0.835570</td>\n",
       "      <td>-0.247587</td>\n",
       "      <td>0.144290</td>\n",
       "    </tr>\n",
       "  </tbody>\n",
       "</table>\n",
       "<p>898 rows × 10 columns</p>\n",
       "</div>"
      ],
      "text/plain": [
       "     close_price      macd  reddit_post_count  reddit_sentiment       rsi  \\\n",
       "0      -1.282915  0.659219          -1.244836          0.563656  0.145075   \n",
       "1       0.187977  1.176309          -0.190403         -2.187755  0.266023   \n",
       "2       1.400588  4.069058           0.597392          0.903096  1.021837   \n",
       "3      -1.731595  3.262921          -2.226549         -0.168516  0.043896   \n",
       "4      -1.105872  0.591200           0.657991          0.489839 -0.814077   \n",
       "..           ...       ...                ...               ...       ...   \n",
       "893     0.058953  0.013762          -0.578240         -0.571180 -0.005860   \n",
       "894    -0.087907 -0.071556           0.645871         -1.534328 -0.360344   \n",
       "895    -0.017652 -0.155452          -1.305435          0.530168 -0.445726   \n",
       "896     0.144526 -0.080090           0.209554          1.456391  0.175874   \n",
       "897     0.028531 -0.015658           0.221674         -0.284731  0.336402   \n",
       "\n",
       "     tweet_count  twitter_sentiment  volatility    volume    target  \n",
       "0       0.409370           0.708600   -0.820883  0.005212  1.056800  \n",
       "1      -0.388832          -0.074973   -0.113681  1.203402 -2.237758  \n",
       "2      -0.493172           0.543006    1.435256  0.503616  2.510337  \n",
       "3      -1.449731           1.024172    0.966801 -1.356202 -0.248610  \n",
       "4       0.542666           1.859351    0.049367 -0.601460 -1.127149  \n",
       "..           ...                ...         ...       ...       ...  \n",
       "893     0.982887          -1.434736   -0.163125  0.137616 -0.110625  \n",
       "894     7.794126          -2.789252    0.042164 -0.550381 -0.164714  \n",
       "895    -0.612211          -2.407624   -0.030022 -0.033059 -0.170655  \n",
       "896    -6.587683          -1.985591   -0.329861 -0.434900  0.317315  \n",
       "897    -2.643976          -2.137199   -0.835570 -0.247587  0.144290  \n",
       "\n",
       "[898 rows x 10 columns]"
      ]
     },
     "execution_count": 61,
     "metadata": {},
     "output_type": "execute_result"
    }
   ],
   "source": [
    "train_df.dropna()"
   ]
  },
  {
   "cell_type": "code",
   "execution_count": 62,
   "id": "5d2f53e3",
   "metadata": {},
   "outputs": [],
   "source": [
    "X_train = train_df.drop('target', axis = 1)\n",
    "y_train = train_df['target']"
   ]
  },
  {
   "cell_type": "code",
   "execution_count": 90,
   "id": "a46e1a39",
   "metadata": {},
   "outputs": [],
   "source": [
    "dataset = tf.keras.preprocessing.timeseries_dataset_from_array(\n",
    "    X_train, y_train, sequence_length=10, batch_size = 16)\n"
   ]
  },
  {
   "cell_type": "code",
   "execution_count": 91,
   "id": "d7cbd145",
   "metadata": {},
   "outputs": [],
   "source": [
    "exx, exxy = next(iter(dataset))"
   ]
  },
  {
   "cell_type": "code",
   "execution_count": 92,
   "id": "536236b4",
   "metadata": {},
   "outputs": [
    {
     "data": {
      "text/plain": [
       "<tf.Tensor: shape=(16,), dtype=float64, numpy=\n",
       "array([ 1.05679971, -2.23775785,  2.51033709, -0.24861039, -1.1271494 ,\n",
       "        0.74606285, -3.09135903,  2.59901617,  0.85467572, -0.22546441,\n",
       "        1.5478712 , -3.47993858,  0.77056102,  0.88267402,  0.82300126,\n",
       "       -0.87084659])>"
      ]
     },
     "execution_count": 92,
     "metadata": {},
     "output_type": "execute_result"
    }
   ],
   "source": [
    "exxy"
   ]
  },
  {
   "cell_type": "code",
   "execution_count": 93,
   "id": "8d49d2eb",
   "metadata": {},
   "outputs": [
    {
     "data": {
      "text/html": [
       "<div>\n",
       "<style scoped>\n",
       "    .dataframe tbody tr th:only-of-type {\n",
       "        vertical-align: middle;\n",
       "    }\n",
       "\n",
       "    .dataframe tbody tr th {\n",
       "        vertical-align: top;\n",
       "    }\n",
       "\n",
       "    .dataframe thead th {\n",
       "        text-align: right;\n",
       "    }\n",
       "</style>\n",
       "<table border=\"1\" class=\"dataframe\">\n",
       "  <thead>\n",
       "    <tr style=\"text-align: right;\">\n",
       "      <th></th>\n",
       "      <th>close_price</th>\n",
       "      <th>macd</th>\n",
       "      <th>reddit_post_count</th>\n",
       "      <th>reddit_sentiment</th>\n",
       "      <th>rsi</th>\n",
       "      <th>tweet_count</th>\n",
       "      <th>twitter_sentiment</th>\n",
       "      <th>volatility</th>\n",
       "      <th>volume</th>\n",
       "      <th>target</th>\n",
       "    </tr>\n",
       "  </thead>\n",
       "  <tbody>\n",
       "    <tr>\n",
       "      <th>0</th>\n",
       "      <td>-1.282915</td>\n",
       "      <td>0.659219</td>\n",
       "      <td>-1.244836</td>\n",
       "      <td>0.563656</td>\n",
       "      <td>0.145075</td>\n",
       "      <td>0.409370</td>\n",
       "      <td>0.708600</td>\n",
       "      <td>-0.820883</td>\n",
       "      <td>0.005212</td>\n",
       "      <td>1.056800</td>\n",
       "    </tr>\n",
       "    <tr>\n",
       "      <th>1</th>\n",
       "      <td>0.187977</td>\n",
       "      <td>1.176309</td>\n",
       "      <td>-0.190403</td>\n",
       "      <td>-2.187755</td>\n",
       "      <td>0.266023</td>\n",
       "      <td>-0.388832</td>\n",
       "      <td>-0.074973</td>\n",
       "      <td>-0.113681</td>\n",
       "      <td>1.203402</td>\n",
       "      <td>-2.237758</td>\n",
       "    </tr>\n",
       "    <tr>\n",
       "      <th>2</th>\n",
       "      <td>1.400588</td>\n",
       "      <td>4.069058</td>\n",
       "      <td>0.597392</td>\n",
       "      <td>0.903096</td>\n",
       "      <td>1.021837</td>\n",
       "      <td>-0.493172</td>\n",
       "      <td>0.543006</td>\n",
       "      <td>1.435256</td>\n",
       "      <td>0.503616</td>\n",
       "      <td>2.510337</td>\n",
       "    </tr>\n",
       "    <tr>\n",
       "      <th>3</th>\n",
       "      <td>-1.731595</td>\n",
       "      <td>3.262921</td>\n",
       "      <td>-2.226549</td>\n",
       "      <td>-0.168516</td>\n",
       "      <td>0.043896</td>\n",
       "      <td>-1.449731</td>\n",
       "      <td>1.024172</td>\n",
       "      <td>0.966801</td>\n",
       "      <td>-1.356202</td>\n",
       "      <td>-0.248610</td>\n",
       "    </tr>\n",
       "    <tr>\n",
       "      <th>4</th>\n",
       "      <td>-1.105872</td>\n",
       "      <td>0.591200</td>\n",
       "      <td>0.657991</td>\n",
       "      <td>0.489839</td>\n",
       "      <td>-0.814077</td>\n",
       "      <td>0.542666</td>\n",
       "      <td>1.859351</td>\n",
       "      <td>0.049367</td>\n",
       "      <td>-0.601460</td>\n",
       "      <td>-1.127149</td>\n",
       "    </tr>\n",
       "    <tr>\n",
       "      <th>5</th>\n",
       "      <td>-0.343035</td>\n",
       "      <td>-1.959509</td>\n",
       "      <td>2.572938</td>\n",
       "      <td>0.280390</td>\n",
       "      <td>-0.987329</td>\n",
       "      <td>1.151345</td>\n",
       "      <td>-0.668360</td>\n",
       "      <td>-0.184221</td>\n",
       "      <td>0.623827</td>\n",
       "      <td>0.746063</td>\n",
       "    </tr>\n",
       "    <tr>\n",
       "      <th>6</th>\n",
       "      <td>0.725799</td>\n",
       "      <td>-2.655829</td>\n",
       "      <td>-1.281196</td>\n",
       "      <td>-0.540476</td>\n",
       "      <td>-0.433820</td>\n",
       "      <td>0.538181</td>\n",
       "      <td>0.855073</td>\n",
       "      <td>-0.026156</td>\n",
       "      <td>-0.431100</td>\n",
       "      <td>-3.091359</td>\n",
       "    </tr>\n",
       "    <tr>\n",
       "      <th>7</th>\n",
       "      <td>1.056800</td>\n",
       "      <td>-1.507488</td>\n",
       "      <td>-0.505521</td>\n",
       "      <td>1.080213</td>\n",
       "      <td>0.307582</td>\n",
       "      <td>0.209730</td>\n",
       "      <td>-0.650843</td>\n",
       "      <td>-0.044257</td>\n",
       "      <td>0.450426</td>\n",
       "      <td>2.599016</td>\n",
       "    </tr>\n",
       "    <tr>\n",
       "      <th>8</th>\n",
       "      <td>-2.237758</td>\n",
       "      <td>-3.988060</td>\n",
       "      <td>1.118548</td>\n",
       "      <td>-1.073881</td>\n",
       "      <td>-1.205913</td>\n",
       "      <td>0.811707</td>\n",
       "      <td>0.019531</td>\n",
       "      <td>0.342525</td>\n",
       "      <td>-0.483284</td>\n",
       "      <td>0.854676</td>\n",
       "    </tr>\n",
       "    <tr>\n",
       "      <th>9</th>\n",
       "      <td>2.510337</td>\n",
       "      <td>-2.144758</td>\n",
       "      <td>-2.299269</td>\n",
       "      <td>-0.547355</td>\n",
       "      <td>0.537809</td>\n",
       "      <td>-1.164093</td>\n",
       "      <td>1.101803</td>\n",
       "      <td>0.122919</td>\n",
       "      <td>-1.096774</td>\n",
       "      <td>-0.225464</td>\n",
       "    </tr>\n",
       "  </tbody>\n",
       "</table>\n",
       "</div>"
      ],
      "text/plain": [
       "   close_price      macd  reddit_post_count  reddit_sentiment       rsi  \\\n",
       "0    -1.282915  0.659219          -1.244836          0.563656  0.145075   \n",
       "1     0.187977  1.176309          -0.190403         -2.187755  0.266023   \n",
       "2     1.400588  4.069058           0.597392          0.903096  1.021837   \n",
       "3    -1.731595  3.262921          -2.226549         -0.168516  0.043896   \n",
       "4    -1.105872  0.591200           0.657991          0.489839 -0.814077   \n",
       "5    -0.343035 -1.959509           2.572938          0.280390 -0.987329   \n",
       "6     0.725799 -2.655829          -1.281196         -0.540476 -0.433820   \n",
       "7     1.056800 -1.507488          -0.505521          1.080213  0.307582   \n",
       "8    -2.237758 -3.988060           1.118548         -1.073881 -1.205913   \n",
       "9     2.510337 -2.144758          -2.299269         -0.547355  0.537809   \n",
       "\n",
       "   tweet_count  twitter_sentiment  volatility    volume    target  \n",
       "0     0.409370           0.708600   -0.820883  0.005212  1.056800  \n",
       "1    -0.388832          -0.074973   -0.113681  1.203402 -2.237758  \n",
       "2    -0.493172           0.543006    1.435256  0.503616  2.510337  \n",
       "3    -1.449731           1.024172    0.966801 -1.356202 -0.248610  \n",
       "4     0.542666           1.859351    0.049367 -0.601460 -1.127149  \n",
       "5     1.151345          -0.668360   -0.184221  0.623827  0.746063  \n",
       "6     0.538181           0.855073   -0.026156 -0.431100 -3.091359  \n",
       "7     0.209730          -0.650843   -0.044257  0.450426  2.599016  \n",
       "8     0.811707           0.019531    0.342525 -0.483284  0.854676  \n",
       "9    -1.164093           1.101803    0.122919 -1.096774 -0.225464  "
      ]
     },
     "execution_count": 93,
     "metadata": {},
     "output_type": "execute_result"
    }
   ],
   "source": [
    "train_df.iloc[:10]"
   ]
  },
  {
   "cell_type": "code",
   "execution_count": 96,
   "id": "530184f0",
   "metadata": {},
   "outputs": [],
   "source": [
    "exx;"
   ]
  },
  {
   "cell_type": "code",
   "execution_count": 97,
   "id": "66c1f84e",
   "metadata": {},
   "outputs": [],
   "source": [
    "test_df['target'] = test_df['close_price'].shift(-sequence_length)"
   ]
  },
  {
   "cell_type": "code",
   "execution_count": 102,
   "id": "733f4b46",
   "metadata": {},
   "outputs": [],
   "source": [
    "#test_df.drop('start', axis = 1, inplace = True)"
   ]
  },
  {
   "cell_type": "code",
   "execution_count": 103,
   "id": "4fea7e20",
   "metadata": {},
   "outputs": [],
   "source": [
    "X_test = test_df.drop('target', axis = 1)\n",
    "y_test = test_df['target']"
   ]
  },
  {
   "cell_type": "code",
   "execution_count": 104,
   "id": "8faae2c6",
   "metadata": {},
   "outputs": [],
   "source": [
    "dataset_test = tf.keras.preprocessing.timeseries_dataset_from_array(\n",
    "    X_test, y_test, sequence_length=10)"
   ]
  },
  {
   "cell_type": "code",
   "execution_count": 105,
   "id": "ddd3e0cc",
   "metadata": {},
   "outputs": [],
   "source": [
    "etx, ety = next(iter(dataset_test))"
   ]
  },
  {
   "cell_type": "code",
   "execution_count": 106,
   "id": "a7e8e528",
   "metadata": {},
   "outputs": [],
   "source": [
    "val_df['target'] = val_df['close_price'].shift(-sequence_length)"
   ]
  },
  {
   "cell_type": "code",
   "execution_count": 83,
   "id": "a60342bc",
   "metadata": {},
   "outputs": [],
   "source": [
    "val_df.drop('start', axis = 1, inplace = True)"
   ]
  },
  {
   "cell_type": "code",
   "execution_count": 107,
   "id": "edc5a161",
   "metadata": {},
   "outputs": [],
   "source": [
    "X_val = val_df.drop('target', axis = 1)\n",
    "y_val =val_df['target']"
   ]
  },
  {
   "cell_type": "code",
   "execution_count": 108,
   "id": "3da286ab",
   "metadata": {},
   "outputs": [],
   "source": [
    "dataset_val = tf.keras.preprocessing.timeseries_dataset_from_array(\n",
    "    X_val, y_val, sequence_length=10)"
   ]
  },
  {
   "cell_type": "code",
   "execution_count": 109,
   "id": "ca5e71a3",
   "metadata": {},
   "outputs": [],
   "source": [
    "evx, evy = next(iter(dataset_val))"
   ]
  },
  {
   "cell_type": "code",
   "execution_count": 111,
   "id": "766c26c6",
   "metadata": {},
   "outputs": [
    {
     "data": {
      "text/plain": [
       "1"
      ]
     },
     "execution_count": 111,
     "metadata": {},
     "output_type": "execute_result"
    }
   ],
   "source": [
    "len(dataset_test)"
   ]
  },
  {
   "cell_type": "code",
   "execution_count": null,
   "id": "05c3f110",
   "metadata": {},
   "outputs": [],
   "source": []
  },
  {
   "cell_type": "markdown",
   "id": "750627a7",
   "metadata": {},
   "source": [
    "## train model"
   ]
  },
  {
   "cell_type": "code",
   "execution_count": 213,
   "id": "33ea749a",
   "metadata": {},
   "outputs": [],
   "source": [
    "lstm_model = tf.keras.models.Sequential([\n",
    "    # Shape [batch, time, features] => [batch, time, lstm_units]\n",
    "    tf.keras.layers.GRU(50, return_sequences=True),\n",
    "    tf.keras.layers.GRU(20),\n",
    "    #tf.keras.layers.Dropout(0.2),\n",
    "    # Shape => [batch, time, features]\n",
    "    tf.keras.layers.Dense(units=20),\n",
    "    \n",
    "    tf.keras.layers.Dense(units=1)\n",
    "    # Adding a second LSTM layer and some Dropout regularisation\n",
    "])\n",
    "\n",
    "# regularization?\n",
    "# GRU layer"
   ]
  },
  {
   "cell_type": "code",
   "execution_count": 214,
   "id": "e3351d44",
   "metadata": {},
   "outputs": [],
   "source": [
    "lstm_model.compile(optimizer = 'Adam', loss = 'mae')"
   ]
  },
  {
   "cell_type": "code",
   "execution_count": 215,
   "id": "f5f987a3",
   "metadata": {},
   "outputs": [],
   "source": [
    "from tensorflow.keras.callbacks import EarlyStopping, ReduceLROnPlateau"
   ]
  },
  {
   "cell_type": "code",
   "execution_count": 216,
   "id": "5efc4546",
   "metadata": {},
   "outputs": [],
   "source": [
    "es = EarlyStopping(patience = 20, restore_best_weights=True)"
   ]
  },
  {
   "cell_type": "code",
   "execution_count": 217,
   "id": "49c866be",
   "metadata": {},
   "outputs": [],
   "source": [
    "reduce_lr = ReduceLROnPlateau(patience = 15)"
   ]
  },
  {
   "cell_type": "code",
   "execution_count": null,
   "id": "183f454b",
   "metadata": {
    "scrolled": true
   },
   "outputs": [
    {
     "name": "stdout",
     "output_type": "stream",
     "text": [
      "Epoch 1/2000\n",
      "56/56 [==============================] - 17s 107ms/step - loss: 0.6661 - val_loss: 0.6451\n",
      "Epoch 2/2000\n",
      "56/56 [==============================] - 4s 73ms/step - loss: 0.6561 - val_loss: 0.6472\n",
      "Epoch 3/2000\n",
      "56/56 [==============================] - 4s 70ms/step - loss: 0.6512 - val_loss: 0.6457\n",
      "Epoch 4/2000\n",
      "56/56 [==============================] - 4s 73ms/step - loss: 0.6420 - val_loss: 0.6551\n",
      "Epoch 5/2000\n",
      "56/56 [==============================] - 5s 84ms/step - loss: 0.6301 - val_loss: 0.6627\n",
      "Epoch 6/2000\n",
      "56/56 [==============================] - 5s 81ms/step - loss: 0.6095 - val_loss: 0.6649\n",
      "Epoch 7/2000\n",
      "56/56 [==============================] - 4s 73ms/step - loss: 0.5103 - val_loss: 0.5109\n",
      "Epoch 8/2000\n",
      "56/56 [==============================] - 4s 67ms/step - loss: 0.2818 - val_loss: 0.4026\n",
      "Epoch 9/2000\n",
      "56/56 [==============================] - 4s 68ms/step - loss: 0.2107 - val_loss: 0.3529\n",
      "Epoch 10/2000\n",
      "56/56 [==============================] - 4s 63ms/step - loss: 0.1612 - val_loss: 0.3272\n",
      "Epoch 11/2000\n",
      "56/56 [==============================] - 3s 62ms/step - loss: 0.1274 - val_loss: 0.3394\n",
      "Epoch 12/2000\n",
      "56/56 [==============================] - 2s 42ms/step - loss: 0.1225 - val_loss: 0.3312\n",
      "Epoch 13/2000\n",
      "56/56 [==============================] - 2s 45ms/step - loss: 0.1181 - val_loss: 0.3250\n",
      "Epoch 14/2000\n",
      "56/56 [==============================] - 2s 42ms/step - loss: 0.1180 - val_loss: 0.3061\n",
      "Epoch 15/2000\n",
      "56/56 [==============================] - 3s 48ms/step - loss: 0.1104 - val_loss: 0.3349\n",
      "Epoch 16/2000\n",
      "56/56 [==============================] - 3s 63ms/step - loss: 0.1022 - val_loss: 0.3006\n",
      "Epoch 17/2000\n",
      "56/56 [==============================] - 4s 75ms/step - loss: 0.1094 - val_loss: 0.3202\n",
      "Epoch 18/2000\n",
      "56/56 [==============================] - 3s 61ms/step - loss: 0.1163 - val_loss: 0.2943\n",
      "Epoch 19/2000\n",
      "56/56 [==============================] - 2s 39ms/step - loss: 0.1002 - val_loss: 0.2548\n",
      "Epoch 20/2000\n",
      "56/56 [==============================] - 1s 27ms/step - loss: 0.0845 - val_loss: 0.2466\n",
      "Epoch 21/2000\n",
      "56/56 [==============================] - 3s 51ms/step - loss: 0.0816 - val_loss: 0.2382\n",
      "Epoch 22/2000\n",
      "56/56 [==============================] - 4s 79ms/step - loss: 0.0766 - val_loss: 0.2396\n",
      "Epoch 23/2000\n",
      "56/56 [==============================] - 4s 68ms/step - loss: 0.0726 - val_loss: 0.2272\n",
      "Epoch 24/2000\n",
      "56/56 [==============================] - 4s 79ms/step - loss: 0.0728 - val_loss: 0.2428\n",
      "Epoch 25/2000\n",
      "56/56 [==============================] - 4s 77ms/step - loss: 0.0662 - val_loss: 0.2211\n",
      "Epoch 26/2000\n",
      "56/56 [==============================] - 4s 65ms/step - loss: 0.0634 - val_loss: 0.2360\n",
      "Epoch 27/2000\n",
      "56/56 [==============================] - 4s 72ms/step - loss: 0.0722 - val_loss: 0.2233\n",
      "Epoch 28/2000\n",
      "56/56 [==============================] - 3s 48ms/step - loss: 0.0681 - val_loss: 0.2178\n",
      "Epoch 29/2000\n",
      "56/56 [==============================] - 5s 83ms/step - loss: 0.0699 - val_loss: 0.2197\n",
      "Epoch 30/2000\n",
      "56/56 [==============================] - 4s 63ms/step - loss: 0.0618 - val_loss: 0.2091\n",
      "Epoch 31/2000\n",
      "56/56 [==============================] - 3s 52ms/step - loss: 0.0621 - val_loss: 0.2013\n",
      "Epoch 32/2000\n",
      "56/56 [==============================] - 4s 64ms/step - loss: 0.0539 - val_loss: 0.1946\n",
      "Epoch 33/2000\n",
      "56/56 [==============================] - 3s 58ms/step - loss: 0.0537 - val_loss: 0.1943\n",
      "Epoch 34/2000\n",
      "56/56 [==============================] - 2s 41ms/step - loss: 0.0543 - val_loss: 0.2066\n",
      "Epoch 35/2000\n",
      "56/56 [==============================] - 2s 37ms/step - loss: 0.0521 - val_loss: 0.1938\n",
      "Epoch 36/2000\n",
      "56/56 [==============================] - 2s 41ms/step - loss: 0.0560 - val_loss: 0.1962\n",
      "Epoch 37/2000\n",
      "56/56 [==============================] - 2s 40ms/step - loss: 0.0499 - val_loss: 0.1920\n",
      "Epoch 38/2000\n",
      "56/56 [==============================] - 3s 47ms/step - loss: 0.0535 - val_loss: 0.1977\n",
      "Epoch 39/2000\n",
      "56/56 [==============================] - 4s 67ms/step - loss: 0.0523 - val_loss: 0.1913\n",
      "Epoch 40/2000\n",
      " 3/56 [>.............................] - ETA: 1s - loss: 0.0458"
     ]
    }
   ],
   "source": [
    "lstm_model.fit(dataset, validation_data = dataset_val, epochs = 2_000, callbacks = [es, reduce_lr])"
   ]
  },
  {
   "cell_type": "code",
   "execution_count": null,
   "id": "93df7b5d",
   "metadata": {},
   "outputs": [],
   "source": [
    "lstm_model.evaluate(dataset_test)"
   ]
  },
  {
   "cell_type": "code",
   "execution_count": null,
   "id": "c236d37d",
   "metadata": {},
   "outputs": [],
   "source": [
    "y_pred = lstm_model.predict(dataset_test)"
   ]
  },
  {
   "cell_type": "code",
   "execution_count": null,
   "id": "1208c300",
   "metadata": {},
   "outputs": [],
   "source": [
    "etx, ety = next(iter(dataset_test))"
   ]
  },
  {
   "cell_type": "code",
   "execution_count": null,
   "id": "a71c3fac",
   "metadata": {},
   "outputs": [],
   "source": [
    "y_test = ety.numpy()"
   ]
  },
  {
   "cell_type": "code",
   "execution_count": null,
   "id": "02ee1b67",
   "metadata": {},
   "outputs": [],
   "source": [
    "y_pred = y_pred*train_std['close_price']+train_mean['close_price']"
   ]
  },
  {
   "cell_type": "code",
   "execution_count": null,
   "id": "4ecef99c",
   "metadata": {},
   "outputs": [],
   "source": [
    "y_test = y_test*train_std['close_price']+train_mean['close_price']"
   ]
  },
  {
   "cell_type": "code",
   "execution_count": null,
   "id": "1fa4ea03",
   "metadata": {},
   "outputs": [],
   "source": [
    "plt.plot(y_test, label = 'test')\n",
    "plt.plot(y_pred, label = 'actual')\n",
    "plt.legend()"
   ]
  },
  {
   "cell_type": "code",
   "execution_count": null,
   "id": "38fc23ec",
   "metadata": {},
   "outputs": [],
   "source": [
    "((y_pred.flatten() > 0) == (y_test>0)).mean()"
   ]
  },
  {
   "cell_type": "code",
   "execution_count": null,
   "id": "b3978a84",
   "metadata": {},
   "outputs": [],
   "source": [
    "y_pred.flatten()>0"
   ]
  },
  {
   "cell_type": "code",
   "execution_count": null,
   "id": "af604fa3",
   "metadata": {},
   "outputs": [],
   "source": [
    "from tensorflow.keras import models"
   ]
  },
  {
   "cell_type": "code",
   "execution_count": 209,
   "id": "b02d81d9",
   "metadata": {},
   "outputs": [
    {
     "name": "stderr",
     "output_type": "stream",
     "text": [
      "2021-09-07 17:34:09.650495: W tensorflow/python/util/util.cc:348] Sets are not currently considered sequences, but this may change in the future, so consider avoiding using them.\n",
      "WARNING:absl:Found untraced functions such as gru_cell_layer_call_and_return_conditional_losses, gru_cell_layer_call_fn, gru_cell_1_layer_call_and_return_conditional_losses, gru_cell_1_layer_call_fn, gru_cell_layer_call_fn while saving (showing 5 of 10). These functions will not be directly callable after loading.\n"
     ]
    },
    {
     "name": "stdout",
     "output_type": "stream",
     "text": [
      "INFO:tensorflow:Assets written to: lstm_gru_7_9/assets\n"
     ]
    },
    {
     "name": "stderr",
     "output_type": "stream",
     "text": [
      "INFO:tensorflow:Assets written to: lstm_gru_7_9/assets\n"
     ]
    }
   ],
   "source": [
    "lstm_model.save('lstm_gru_7_9')"
   ]
  },
  {
   "cell_type": "code",
   "execution_count": 210,
   "id": "7c781f11",
   "metadata": {},
   "outputs": [],
   "source": [
    "loaded_model = models.load_model('lstm_gru_7_9')"
   ]
  },
  {
   "cell_type": "code",
   "execution_count": 211,
   "id": "afda5df4",
   "metadata": {},
   "outputs": [
    {
     "name": "stdout",
     "output_type": "stream",
     "text": [
      "Model: \"sequential_3\"\n",
      "_________________________________________________________________\n",
      "Layer (type)                 Output Shape              Param #   \n",
      "=================================================================\n",
      "gru (GRU)                    (None, None, 50)          9150      \n",
      "_________________________________________________________________\n",
      "gru_1 (GRU)                  (None, 20)                4320      \n",
      "_________________________________________________________________\n",
      "dense_3 (Dense)              (None, 1)                 21        \n",
      "=================================================================\n",
      "Total params: 13,491\n",
      "Trainable params: 13,491\n",
      "Non-trainable params: 0\n",
      "_________________________________________________________________\n"
     ]
    }
   ],
   "source": [
    "loaded_model.summary()"
   ]
  },
  {
   "cell_type": "code",
   "execution_count": null,
   "id": "0835e89a",
   "metadata": {},
   "outputs": [],
   "source": []
  },
  {
   "cell_type": "code",
   "execution_count": null,
   "id": "651f6e58",
   "metadata": {},
   "outputs": [],
   "source": []
  }
 ],
 "metadata": {
  "kernelspec": {
   "display_name": "Python 3 (ipykernel)",
   "language": "python",
   "name": "python3"
  },
  "language_info": {
   "codemirror_mode": {
    "name": "ipython",
    "version": 3
   },
   "file_extension": ".py",
   "mimetype": "text/x-python",
   "name": "python",
   "nbconvert_exporter": "python",
   "pygments_lexer": "ipython3",
   "version": "3.8.6"
  },
  "toc": {
   "base_numbering": 1,
   "nav_menu": {},
   "number_sections": true,
   "sideBar": true,
   "skip_h1_title": false,
   "title_cell": "Table of Contents",
   "title_sidebar": "Contents",
   "toc_cell": false,
   "toc_position": {},
   "toc_section_display": true,
   "toc_window_display": false
  }
 },
 "nbformat": 4,
 "nbformat_minor": 5
}
