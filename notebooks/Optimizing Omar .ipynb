{
 "cells": [
  {
   "cell_type": "code",
   "execution_count": 24,
   "id": "9029dc89",
   "metadata": {},
   "outputs": [],
   "source": [
    "# Imports \n",
    "import pandas as pd\n",
    "from sklearn.impute import KNNImputer\n",
    "import os\n",
    "import datetime\n",
    "import IPython\n",
    "import IPython.display\n",
    "import matplotlib as mpl\n",
    "import matplotlib.pyplot as plt\n",
    "import numpy as np\n",
    "import seaborn as sns\n",
    "import tensorflow as tf\n",
    "from tensorflow.keras.callbacks import EarlyStopping, ReduceLROnPlateau"
   ]
  },
  {
   "cell_type": "markdown",
   "id": "3d3fe816",
   "metadata": {},
   "source": [
    "# Importing data "
   ]
  },
  {
   "cell_type": "code",
   "execution_count": 2,
   "id": "d10bf280",
   "metadata": {},
   "outputs": [],
   "source": [
    "df = pd.read_csv('stationary_data.csv')"
   ]
  },
  {
   "cell_type": "markdown",
   "id": "9ee4b04c",
   "metadata": {},
   "source": [
    "# Imputer "
   ]
  },
  {
   "cell_type": "code",
   "execution_count": 5,
   "id": "465d59de",
   "metadata": {},
   "outputs": [],
   "source": [
    "imputer = KNNImputer(n_neighbors=2)\n",
    "df['reddit_sentiment'],df['reddit_post_count'],df['twitter_sentiment'] = imputer.fit_transform(df[['reddit_sentiment','reddit_post_count','twitter_sentiment']]).T"
   ]
  },
  {
   "cell_type": "markdown",
   "id": "5c08cc26",
   "metadata": {},
   "source": [
    "# Train Test Val Split"
   ]
  },
  {
   "cell_type": "code",
   "execution_count": 7,
   "id": "724e4a93",
   "metadata": {},
   "outputs": [],
   "source": [
    "column_indices = {name: i for i, name in enumerate(df.columns)}\n",
    "\n",
    "n = len(df)\n",
    "train_df = df[0:int(n*0.7)]\n",
    "val_df = df[int(n*0.7):int(n*0.9)]\n",
    "test_df = df[int(n*0.9):]\n",
    "\n",
    "num_features = df.shape[1]"
   ]
  },
  {
   "cell_type": "markdown",
   "id": "eb9d8b6a",
   "metadata": {},
   "source": [
    "# Standardize"
   ]
  },
  {
   "cell_type": "code",
   "execution_count": 8,
   "id": "ed07ce81",
   "metadata": {},
   "outputs": [
    {
     "name": "stderr",
     "output_type": "stream",
     "text": [
      "/tmp/ipykernel_32412/1429736173.py:1: FutureWarning: Dropping of nuisance columns in DataFrame reductions (with 'numeric_only=None') is deprecated; in a future version this will raise TypeError.  Select only valid columns before calling the reduction.\n",
      "  train_mean = train_df.mean()\n",
      "/tmp/ipykernel_32412/1429736173.py:2: FutureWarning: Dropping of nuisance columns in DataFrame reductions (with 'numeric_only=None') is deprecated; in a future version this will raise TypeError.  Select only valid columns before calling the reduction.\n",
      "  train_std = train_df.std()\n"
     ]
    }
   ],
   "source": [
    "train_mean = train_df.mean()\n",
    "train_std = train_df.std()\n",
    "\n",
    "train_df = (train_df - train_mean) / train_std\n",
    "val_df = (val_df - train_mean) / train_std\n",
    "test_df = (test_df - train_mean) / train_std"
   ]
  },
  {
   "cell_type": "markdown",
   "id": "4970646c",
   "metadata": {},
   "source": [
    "# Modelling"
   ]
  },
  {
   "cell_type": "code",
   "execution_count": 9,
   "id": "6ab42bc9",
   "metadata": {},
   "outputs": [],
   "source": [
    "sequence_length = 7\n",
    "train_df['target'] = train_df['close_price'].shift(-sequence_length)\n",
    "train_df.drop('start', axis = 1, inplace = True)"
   ]
  },
  {
   "cell_type": "code",
   "execution_count": 12,
   "id": "f7970cba",
   "metadata": {},
   "outputs": [
    {
     "data": {
      "text/html": [
       "<div>\n",
       "<style scoped>\n",
       "    .dataframe tbody tr th:only-of-type {\n",
       "        vertical-align: middle;\n",
       "    }\n",
       "\n",
       "    .dataframe tbody tr th {\n",
       "        vertical-align: top;\n",
       "    }\n",
       "\n",
       "    .dataframe thead th {\n",
       "        text-align: right;\n",
       "    }\n",
       "</style>\n",
       "<table border=\"1\" class=\"dataframe\">\n",
       "  <thead>\n",
       "    <tr style=\"text-align: right;\">\n",
       "      <th></th>\n",
       "      <th>close_price</th>\n",
       "      <th>macd</th>\n",
       "      <th>reddit_post_count</th>\n",
       "      <th>reddit_sentiment</th>\n",
       "      <th>rsi</th>\n",
       "      <th>tweet_count</th>\n",
       "      <th>twitter_sentiment</th>\n",
       "      <th>volatility</th>\n",
       "      <th>volume</th>\n",
       "      <th>target</th>\n",
       "    </tr>\n",
       "  </thead>\n",
       "  <tbody>\n",
       "    <tr>\n",
       "      <th>0</th>\n",
       "      <td>-1.282915</td>\n",
       "      <td>0.659219</td>\n",
       "      <td>-1.244836</td>\n",
       "      <td>0.563656</td>\n",
       "      <td>0.145075</td>\n",
       "      <td>0.409370</td>\n",
       "      <td>0.708600</td>\n",
       "      <td>-0.820883</td>\n",
       "      <td>0.005212</td>\n",
       "      <td>1.056800</td>\n",
       "    </tr>\n",
       "    <tr>\n",
       "      <th>1</th>\n",
       "      <td>0.187977</td>\n",
       "      <td>1.176309</td>\n",
       "      <td>-0.190403</td>\n",
       "      <td>-2.187755</td>\n",
       "      <td>0.266023</td>\n",
       "      <td>-0.388832</td>\n",
       "      <td>-0.074973</td>\n",
       "      <td>-0.113681</td>\n",
       "      <td>1.203402</td>\n",
       "      <td>-2.237758</td>\n",
       "    </tr>\n",
       "    <tr>\n",
       "      <th>2</th>\n",
       "      <td>1.400588</td>\n",
       "      <td>4.069058</td>\n",
       "      <td>0.597392</td>\n",
       "      <td>0.903096</td>\n",
       "      <td>1.021837</td>\n",
       "      <td>-0.493172</td>\n",
       "      <td>0.543006</td>\n",
       "      <td>1.435256</td>\n",
       "      <td>0.503616</td>\n",
       "      <td>2.510337</td>\n",
       "    </tr>\n",
       "    <tr>\n",
       "      <th>3</th>\n",
       "      <td>-1.731595</td>\n",
       "      <td>3.262921</td>\n",
       "      <td>-2.226549</td>\n",
       "      <td>-0.168516</td>\n",
       "      <td>0.043896</td>\n",
       "      <td>-1.449731</td>\n",
       "      <td>1.024172</td>\n",
       "      <td>0.966801</td>\n",
       "      <td>-1.356202</td>\n",
       "      <td>-0.248610</td>\n",
       "    </tr>\n",
       "    <tr>\n",
       "      <th>4</th>\n",
       "      <td>-1.105872</td>\n",
       "      <td>0.591200</td>\n",
       "      <td>0.657991</td>\n",
       "      <td>0.489839</td>\n",
       "      <td>-0.814077</td>\n",
       "      <td>0.542666</td>\n",
       "      <td>1.859351</td>\n",
       "      <td>0.049367</td>\n",
       "      <td>-0.601460</td>\n",
       "      <td>-1.127149</td>\n",
       "    </tr>\n",
       "    <tr>\n",
       "      <th>...</th>\n",
       "      <td>...</td>\n",
       "      <td>...</td>\n",
       "      <td>...</td>\n",
       "      <td>...</td>\n",
       "      <td>...</td>\n",
       "      <td>...</td>\n",
       "      <td>...</td>\n",
       "      <td>...</td>\n",
       "      <td>...</td>\n",
       "      <td>...</td>\n",
       "    </tr>\n",
       "    <tr>\n",
       "      <th>893</th>\n",
       "      <td>0.058953</td>\n",
       "      <td>0.013762</td>\n",
       "      <td>-0.578240</td>\n",
       "      <td>-0.571180</td>\n",
       "      <td>-0.005860</td>\n",
       "      <td>0.982887</td>\n",
       "      <td>-1.434736</td>\n",
       "      <td>-0.163125</td>\n",
       "      <td>0.137616</td>\n",
       "      <td>-0.110625</td>\n",
       "    </tr>\n",
       "    <tr>\n",
       "      <th>894</th>\n",
       "      <td>-0.087907</td>\n",
       "      <td>-0.071556</td>\n",
       "      <td>0.645871</td>\n",
       "      <td>-1.534328</td>\n",
       "      <td>-0.360344</td>\n",
       "      <td>7.794126</td>\n",
       "      <td>-2.789252</td>\n",
       "      <td>0.042164</td>\n",
       "      <td>-0.550381</td>\n",
       "      <td>-0.164714</td>\n",
       "    </tr>\n",
       "    <tr>\n",
       "      <th>895</th>\n",
       "      <td>-0.017652</td>\n",
       "      <td>-0.155452</td>\n",
       "      <td>-1.305435</td>\n",
       "      <td>0.530168</td>\n",
       "      <td>-0.445726</td>\n",
       "      <td>-0.612211</td>\n",
       "      <td>-2.407624</td>\n",
       "      <td>-0.030022</td>\n",
       "      <td>-0.033059</td>\n",
       "      <td>-0.170655</td>\n",
       "    </tr>\n",
       "    <tr>\n",
       "      <th>896</th>\n",
       "      <td>0.144526</td>\n",
       "      <td>-0.080090</td>\n",
       "      <td>0.209554</td>\n",
       "      <td>1.456391</td>\n",
       "      <td>0.175874</td>\n",
       "      <td>-6.587683</td>\n",
       "      <td>-1.985591</td>\n",
       "      <td>-0.329861</td>\n",
       "      <td>-0.434900</td>\n",
       "      <td>0.317315</td>\n",
       "    </tr>\n",
       "    <tr>\n",
       "      <th>897</th>\n",
       "      <td>0.028531</td>\n",
       "      <td>-0.015658</td>\n",
       "      <td>0.221674</td>\n",
       "      <td>-0.284731</td>\n",
       "      <td>0.336402</td>\n",
       "      <td>-2.643976</td>\n",
       "      <td>-2.137199</td>\n",
       "      <td>-0.835570</td>\n",
       "      <td>-0.247587</td>\n",
       "      <td>0.144290</td>\n",
       "    </tr>\n",
       "  </tbody>\n",
       "</table>\n",
       "<p>898 rows × 10 columns</p>\n",
       "</div>"
      ],
      "text/plain": [
       "     close_price      macd  reddit_post_count  reddit_sentiment       rsi  \\\n",
       "0      -1.282915  0.659219          -1.244836          0.563656  0.145075   \n",
       "1       0.187977  1.176309          -0.190403         -2.187755  0.266023   \n",
       "2       1.400588  4.069058           0.597392          0.903096  1.021837   \n",
       "3      -1.731595  3.262921          -2.226549         -0.168516  0.043896   \n",
       "4      -1.105872  0.591200           0.657991          0.489839 -0.814077   \n",
       "..           ...       ...                ...               ...       ...   \n",
       "893     0.058953  0.013762          -0.578240         -0.571180 -0.005860   \n",
       "894    -0.087907 -0.071556           0.645871         -1.534328 -0.360344   \n",
       "895    -0.017652 -0.155452          -1.305435          0.530168 -0.445726   \n",
       "896     0.144526 -0.080090           0.209554          1.456391  0.175874   \n",
       "897     0.028531 -0.015658           0.221674         -0.284731  0.336402   \n",
       "\n",
       "     tweet_count  twitter_sentiment  volatility    volume    target  \n",
       "0       0.409370           0.708600   -0.820883  0.005212  1.056800  \n",
       "1      -0.388832          -0.074973   -0.113681  1.203402 -2.237758  \n",
       "2      -0.493172           0.543006    1.435256  0.503616  2.510337  \n",
       "3      -1.449731           1.024172    0.966801 -1.356202 -0.248610  \n",
       "4       0.542666           1.859351    0.049367 -0.601460 -1.127149  \n",
       "..           ...                ...         ...       ...       ...  \n",
       "893     0.982887          -1.434736   -0.163125  0.137616 -0.110625  \n",
       "894     7.794126          -2.789252    0.042164 -0.550381 -0.164714  \n",
       "895    -0.612211          -2.407624   -0.030022 -0.033059 -0.170655  \n",
       "896    -6.587683          -1.985591   -0.329861 -0.434900  0.317315  \n",
       "897    -2.643976          -2.137199   -0.835570 -0.247587  0.144290  \n",
       "\n",
       "[898 rows x 10 columns]"
      ]
     },
     "execution_count": 12,
     "metadata": {},
     "output_type": "execute_result"
    }
   ],
   "source": [
    "train_df.dropna()"
   ]
  },
  {
   "cell_type": "code",
   "execution_count": 14,
   "id": "f783f5a1",
   "metadata": {},
   "outputs": [],
   "source": [
    "X_train = train_df.drop('target', axis = 1)\n",
    "y_train = train_df['target']\n",
    "dataset = tf.keras.preprocessing.timeseries_dataset_from_array(\n",
    "    X_train, y_train, sequence_length=10, batch_size = 16)\n"
   ]
  },
  {
   "cell_type": "code",
   "execution_count": 15,
   "id": "f63b556b",
   "metadata": {},
   "outputs": [],
   "source": [
    "exx, exxy = next(iter(dataset))\n",
    "train_df.iloc[:10]\n",
    "test_df['target'] = test_df['close_price'].shift(-sequence_length)\n"
   ]
  },
  {
   "cell_type": "code",
   "execution_count": 18,
   "id": "3aa2b937",
   "metadata": {},
   "outputs": [],
   "source": [
    "test_df.drop('start', axis = 1, inplace = True)"
   ]
  },
  {
   "cell_type": "code",
   "execution_count": 19,
   "id": "d3f20596",
   "metadata": {},
   "outputs": [],
   "source": [
    "X_test = test_df.drop('target', axis = 1)\n",
    "y_test = test_df['target']\n",
    "\n"
   ]
  },
  {
   "cell_type": "code",
   "execution_count": 20,
   "id": "18ce63f6",
   "metadata": {},
   "outputs": [],
   "source": [
    "dataset_test = tf.keras.preprocessing.timeseries_dataset_from_array(\n",
    "    X_test, y_test, sequence_length=10)\n"
   ]
  },
  {
   "cell_type": "code",
   "execution_count": 21,
   "id": "63796211",
   "metadata": {},
   "outputs": [],
   "source": [
    "etx, ety = next(iter(dataset_test))\n",
    "val_df['target'] = val_df['close_price'].shift(-sequence_length)\n",
    "val_df.drop('start', axis = 1, inplace = True)\n",
    "X_val = val_df.drop('target', axis = 1)\n",
    "y_val =val_df['target']\n",
    "dataset_val = tf.keras.preprocessing.timeseries_dataset_from_array(\n",
    "    X_val, y_val, sequence_length=10)\n",
    "evx, evy = next(iter(dataset_val))"
   ]
  },
  {
   "cell_type": "markdown",
   "id": "4866abc1",
   "metadata": {},
   "source": [
    "# Train model"
   ]
  },
  {
   "cell_type": "code",
   "execution_count": 39,
   "id": "3172f74d",
   "metadata": {},
   "outputs": [],
   "source": [
    "lstm_model = tf.keras.models.Sequential([\n",
    "    # Shape [batch, time, features] => [batch, time, lstm_units]\n",
    "    tf.keras.layers.GRU(128, return_sequences=True),\n",
    "    tf.keras.layers.GRU(64),\n",
    "    #tf.keras.layers.Dropout(0.2),\n",
    "    # Shape => [batch, time, features]\n",
    "    tf.keras.layers.Dense(units=32),\n",
    "    tf.keras.layers.Dense(units=16),\n",
    "    tf.keras.layers.Dense(units=1)\n",
    "    # Adding a second LSTM layer and some Dropout regularisation\n",
    "])\n",
    "\n",
    "# regularization?\n",
    "# GRU layer"
   ]
  },
  {
   "cell_type": "code",
   "execution_count": 40,
   "id": "457b77ec",
   "metadata": {},
   "outputs": [],
   "source": [
    "lstm_model.compile(optimizer = 'Adam', loss = 'mae')"
   ]
  },
  {
   "cell_type": "code",
   "execution_count": 41,
   "id": "cf294592",
   "metadata": {},
   "outputs": [],
   "source": [
    "es = EarlyStopping(patience = 20, restore_best_weights=True)"
   ]
  },
  {
   "cell_type": "code",
   "execution_count": 42,
   "id": "df521578",
   "metadata": {},
   "outputs": [],
   "source": [
    "reduce_lr = ReduceLROnPlateau(patience = 15)"
   ]
  },
  {
   "cell_type": "code",
   "execution_count": 43,
   "id": "6bc65ed0",
   "metadata": {
    "scrolled": false
   },
   "outputs": [
    {
     "name": "stdout",
     "output_type": "stream",
     "text": [
      "Epoch 1/2000\n",
      "56/56 [==============================] - 5s 36ms/step - loss: 0.6726 - val_loss: 0.6503\n",
      "Epoch 2/2000\n",
      "56/56 [==============================] - 1s 27ms/step - loss: 0.6532 - val_loss: 0.6290\n",
      "Epoch 3/2000\n",
      "56/56 [==============================] - 1s 25ms/step - loss: 0.6408 - val_loss: 0.6204\n",
      "Epoch 4/2000\n",
      "56/56 [==============================] - 1s 25ms/step - loss: 0.5911 - val_loss: 0.5846\n",
      "Epoch 5/2000\n",
      "56/56 [==============================] - 1s 24ms/step - loss: 0.3261 - val_loss: 0.3929\n",
      "Epoch 6/2000\n",
      "56/56 [==============================] - 1s 26ms/step - loss: 0.1696 - val_loss: 0.2594\n",
      "Epoch 7/2000\n",
      "56/56 [==============================] - 1s 26ms/step - loss: 0.1439 - val_loss: 0.2486\n",
      "Epoch 8/2000\n",
      "56/56 [==============================] - 1s 23ms/step - loss: 0.1109 - val_loss: 0.2222\n",
      "Epoch 9/2000\n",
      "56/56 [==============================] - 1s 23ms/step - loss: 0.0964 - val_loss: 0.2233\n",
      "Epoch 10/2000\n",
      "56/56 [==============================] - 1s 23ms/step - loss: 0.0993 - val_loss: 0.2046\n",
      "Epoch 11/2000\n",
      "56/56 [==============================] - 1s 23ms/step - loss: 0.0909 - val_loss: 0.2078\n",
      "Epoch 12/2000\n",
      "56/56 [==============================] - 1s 24ms/step - loss: 0.0845 - val_loss: 0.1893\n",
      "Epoch 13/2000\n",
      "56/56 [==============================] - 1s 24ms/step - loss: 0.0771 - val_loss: 0.1693\n",
      "Epoch 14/2000\n",
      "56/56 [==============================] - 1s 23ms/step - loss: 0.0724 - val_loss: 0.1810\n",
      "Epoch 15/2000\n",
      "56/56 [==============================] - 1s 26ms/step - loss: 0.0764 - val_loss: 0.2023\n",
      "Epoch 16/2000\n",
      "56/56 [==============================] - 1s 26ms/step - loss: 0.0951 - val_loss: 0.1733\n",
      "Epoch 17/2000\n",
      "56/56 [==============================] - 1s 23ms/step - loss: 0.0701 - val_loss: 0.1602\n",
      "Epoch 18/2000\n",
      "56/56 [==============================] - 1s 24ms/step - loss: 0.0653 - val_loss: 0.1868\n",
      "Epoch 19/2000\n",
      "56/56 [==============================] - 1s 24ms/step - loss: 0.0758 - val_loss: 0.1649\n",
      "Epoch 20/2000\n",
      "56/56 [==============================] - 1s 24ms/step - loss: 0.1001 - val_loss: 0.1687\n",
      "Epoch 21/2000\n",
      "56/56 [==============================] - 1s 24ms/step - loss: 0.0868 - val_loss: 0.1694\n",
      "Epoch 22/2000\n",
      "56/56 [==============================] - 1s 24ms/step - loss: 0.0673 - val_loss: 0.1642\n",
      "Epoch 23/2000\n",
      "56/56 [==============================] - 1s 26ms/step - loss: 0.0757 - val_loss: 0.1550\n",
      "Epoch 24/2000\n",
      "56/56 [==============================] - 2s 34ms/step - loss: 0.0582 - val_loss: 0.1702\n",
      "Epoch 25/2000\n",
      "56/56 [==============================] - 2s 40ms/step - loss: 0.0624 - val_loss: 0.1710\n",
      "Epoch 26/2000\n",
      "56/56 [==============================] - 3s 47ms/step - loss: 0.0648 - val_loss: 0.1600\n",
      "Epoch 27/2000\n",
      "56/56 [==============================] - 2s 35ms/step - loss: 0.0584 - val_loss: 0.1341\n",
      "Epoch 28/2000\n",
      "56/56 [==============================] - 2s 36ms/step - loss: 0.0551 - val_loss: 0.1478\n",
      "Epoch 29/2000\n",
      "56/56 [==============================] - 2s 33ms/step - loss: 0.0577 - val_loss: 0.1322\n",
      "Epoch 30/2000\n",
      "56/56 [==============================] - 2s 37ms/step - loss: 0.0527 - val_loss: 0.1542\n",
      "Epoch 31/2000\n",
      "56/56 [==============================] - 2s 37ms/step - loss: 0.0573 - val_loss: 0.1485\n",
      "Epoch 32/2000\n",
      "56/56 [==============================] - 2s 38ms/step - loss: 0.0711 - val_loss: 0.1777\n",
      "Epoch 33/2000\n",
      "56/56 [==============================] - 2s 36ms/step - loss: 0.0619 - val_loss: 0.1622\n",
      "Epoch 34/2000\n",
      "56/56 [==============================] - 2s 33ms/step - loss: 0.0667 - val_loss: 0.1613\n",
      "Epoch 35/2000\n",
      "56/56 [==============================] - 2s 34ms/step - loss: 0.0707 - val_loss: 0.1602\n",
      "Epoch 36/2000\n",
      "56/56 [==============================] - 2s 42ms/step - loss: 0.0484 - val_loss: 0.1614\n",
      "Epoch 37/2000\n",
      "56/56 [==============================] - 2s 41ms/step - loss: 0.0567 - val_loss: 0.1858\n",
      "Epoch 38/2000\n",
      "56/56 [==============================] - 3s 48ms/step - loss: 0.0537 - val_loss: 0.1656\n",
      "Epoch 39/2000\n",
      "56/56 [==============================] - 3s 47ms/step - loss: 0.0540 - val_loss: 0.1493\n",
      "Epoch 40/2000\n",
      "56/56 [==============================] - 2s 44ms/step - loss: 0.0778 - val_loss: 0.1311\n",
      "Epoch 41/2000\n",
      "56/56 [==============================] - 2s 33ms/step - loss: 0.0550 - val_loss: 0.1513\n",
      "Epoch 42/2000\n",
      "56/56 [==============================] - 2s 36ms/step - loss: 0.0410 - val_loss: 0.1274\n",
      "Epoch 43/2000\n",
      "56/56 [==============================] - 2s 38ms/step - loss: 0.0512 - val_loss: 0.1319\n",
      "Epoch 44/2000\n",
      "56/56 [==============================] - 2s 34ms/step - loss: 0.0594 - val_loss: 0.1478\n",
      "Epoch 45/2000\n",
      "56/56 [==============================] - 2s 34ms/step - loss: 0.0569 - val_loss: 0.1450\n",
      "Epoch 46/2000\n",
      "56/56 [==============================] - 2s 37ms/step - loss: 0.0558 - val_loss: 0.1475\n",
      "Epoch 47/2000\n",
      "56/56 [==============================] - 2s 41ms/step - loss: 0.0482 - val_loss: 0.1296\n",
      "Epoch 48/2000\n",
      "56/56 [==============================] - 3s 44ms/step - loss: 0.0423 - val_loss: 0.1403\n",
      "Epoch 49/2000\n",
      "56/56 [==============================] - 2s 40ms/step - loss: 0.0431 - val_loss: 0.1424\n",
      "Epoch 50/2000\n",
      "56/56 [==============================] - 2s 37ms/step - loss: 0.0411 - val_loss: 0.1265\n",
      "Epoch 51/2000\n",
      "56/56 [==============================] - 2s 37ms/step - loss: 0.0523 - val_loss: 0.1373\n",
      "Epoch 52/2000\n",
      "56/56 [==============================] - 2s 42ms/step - loss: 0.0547 - val_loss: 0.1430\n",
      "Epoch 53/2000\n",
      "56/56 [==============================] - 2s 33ms/step - loss: 0.0462 - val_loss: 0.1340\n",
      "Epoch 54/2000\n",
      "56/56 [==============================] - 2s 36ms/step - loss: 0.0492 - val_loss: 0.1350\n",
      "Epoch 55/2000\n",
      "56/56 [==============================] - 2s 38ms/step - loss: 0.0511 - val_loss: 0.1280\n",
      "Epoch 56/2000\n",
      "56/56 [==============================] - 2s 36ms/step - loss: 0.0504 - val_loss: 0.1134\n",
      "Epoch 57/2000\n",
      "56/56 [==============================] - 2s 39ms/step - loss: 0.0513 - val_loss: 0.1068\n",
      "Epoch 58/2000\n",
      "56/56 [==============================] - 2s 35ms/step - loss: 0.0461 - val_loss: 0.1344\n",
      "Epoch 59/2000\n",
      "56/56 [==============================] - 2s 35ms/step - loss: 0.0466 - val_loss: 0.1302\n",
      "Epoch 60/2000\n",
      "56/56 [==============================] - 2s 38ms/step - loss: 0.0397 - val_loss: 0.1268\n",
      "Epoch 61/2000\n",
      "56/56 [==============================] - 2s 39ms/step - loss: 0.0450 - val_loss: 0.1250\n",
      "Epoch 62/2000\n",
      "56/56 [==============================] - 2s 40ms/step - loss: 0.0532 - val_loss: 0.1249\n",
      "Epoch 63/2000\n",
      "56/56 [==============================] - 4s 65ms/step - loss: 0.0502 - val_loss: 0.1391\n",
      "Epoch 64/2000\n",
      "56/56 [==============================] - 3s 46ms/step - loss: 0.0611 - val_loss: 0.1240\n",
      "Epoch 65/2000\n",
      "56/56 [==============================] - 2s 34ms/step - loss: 0.0539 - val_loss: 0.1429\n",
      "Epoch 66/2000\n",
      "56/56 [==============================] - 2s 37ms/step - loss: 0.0532 - val_loss: 0.1305\n",
      "Epoch 67/2000\n",
      "56/56 [==============================] - 2s 41ms/step - loss: 0.0506 - val_loss: 0.1128\n",
      "Epoch 68/2000\n",
      "56/56 [==============================] - 2s 38ms/step - loss: 0.0457 - val_loss: 0.1152\n",
      "Epoch 69/2000\n",
      "56/56 [==============================] - 2s 41ms/step - loss: 0.0441 - val_loss: 0.1385\n",
      "Epoch 70/2000\n",
      "56/56 [==============================] - 2s 37ms/step - loss: 0.0546 - val_loss: 0.1266\n",
      "Epoch 71/2000\n",
      "56/56 [==============================] - 2s 40ms/step - loss: 0.0409 - val_loss: 0.1131\n",
      "Epoch 72/2000\n",
      "56/56 [==============================] - 2s 38ms/step - loss: 0.0451 - val_loss: 0.1245\n",
      "Epoch 73/2000\n",
      "56/56 [==============================] - 2s 41ms/step - loss: 0.0334 - val_loss: 0.1088\n",
      "Epoch 74/2000\n",
      "56/56 [==============================] - 3s 44ms/step - loss: 0.0254 - val_loss: 0.1086\n",
      "Epoch 75/2000\n",
      "56/56 [==============================] - 2s 38ms/step - loss: 0.0224 - val_loss: 0.1077\n",
      "Epoch 76/2000\n",
      "56/56 [==============================] - 2s 41ms/step - loss: 0.0198 - val_loss: 0.1082\n",
      "Epoch 77/2000\n",
      "56/56 [==============================] - 2s 38ms/step - loss: 0.0183 - val_loss: 0.1052\n",
      "Epoch 78/2000\n",
      "56/56 [==============================] - 2s 35ms/step - loss: 0.0169 - val_loss: 0.1054\n",
      "Epoch 79/2000\n",
      "56/56 [==============================] - 2s 39ms/step - loss: 0.0163 - val_loss: 0.1047\n",
      "Epoch 80/2000\n",
      "56/56 [==============================] - 2s 38ms/step - loss: 0.0153 - val_loss: 0.1031\n",
      "Epoch 81/2000\n"
     ]
    },
    {
     "name": "stdout",
     "output_type": "stream",
     "text": [
      "56/56 [==============================] - 2s 37ms/step - loss: 0.0152 - val_loss: 0.1052\n",
      "Epoch 82/2000\n",
      "56/56 [==============================] - 2s 41ms/step - loss: 0.0146 - val_loss: 0.1030\n",
      "Epoch 83/2000\n",
      "56/56 [==============================] - 2s 40ms/step - loss: 0.0138 - val_loss: 0.1029\n",
      "Epoch 84/2000\n",
      "56/56 [==============================] - 2s 41ms/step - loss: 0.0130 - val_loss: 0.1016\n",
      "Epoch 85/2000\n",
      "56/56 [==============================] - 2s 40ms/step - loss: 0.0123 - val_loss: 0.1013\n",
      "Epoch 86/2000\n",
      "56/56 [==============================] - 2s 40ms/step - loss: 0.0123 - val_loss: 0.1014\n",
      "Epoch 87/2000\n",
      "56/56 [==============================] - 2s 39ms/step - loss: 0.0129 - val_loss: 0.0987\n",
      "Epoch 88/2000\n",
      "56/56 [==============================] - 2s 35ms/step - loss: 0.0117 - val_loss: 0.0983\n",
      "Epoch 89/2000\n",
      "56/56 [==============================] - 2s 35ms/step - loss: 0.0121 - val_loss: 0.0984\n",
      "Epoch 90/2000\n",
      "56/56 [==============================] - 2s 40ms/step - loss: 0.0114 - val_loss: 0.0990\n",
      "Epoch 91/2000\n",
      "56/56 [==============================] - 3s 49ms/step - loss: 0.0118 - val_loss: 0.0979\n",
      "Epoch 92/2000\n",
      "56/56 [==============================] - 2s 40ms/step - loss: 0.0111 - val_loss: 0.0970\n",
      "Epoch 93/2000\n",
      "56/56 [==============================] - 2s 36ms/step - loss: 0.0107 - val_loss: 0.0977\n",
      "Epoch 94/2000\n",
      "56/56 [==============================] - 2s 39ms/step - loss: 0.0098 - val_loss: 0.0949\n",
      "Epoch 95/2000\n",
      "56/56 [==============================] - 2s 43ms/step - loss: 0.0096 - val_loss: 0.0941\n",
      "Epoch 96/2000\n",
      "56/56 [==============================] - 2s 38ms/step - loss: 0.0103 - val_loss: 0.0944\n",
      "Epoch 97/2000\n",
      "56/56 [==============================] - 2s 43ms/step - loss: 0.0107 - val_loss: 0.0953\n",
      "Epoch 98/2000\n",
      "56/56 [==============================] - 2s 40ms/step - loss: 0.0100 - val_loss: 0.0937\n",
      "Epoch 99/2000\n",
      "56/56 [==============================] - 2s 39ms/step - loss: 0.0100 - val_loss: 0.0937\n",
      "Epoch 100/2000\n",
      "56/56 [==============================] - 2s 41ms/step - loss: 0.0103 - val_loss: 0.0924\n",
      "Epoch 101/2000\n",
      "56/56 [==============================] - 2s 41ms/step - loss: 0.0104 - val_loss: 0.0940\n",
      "Epoch 102/2000\n",
      "56/56 [==============================] - 2s 39ms/step - loss: 0.0102 - val_loss: 0.0924\n",
      "Epoch 103/2000\n",
      "56/56 [==============================] - 2s 38ms/step - loss: 0.0093 - val_loss: 0.0929\n",
      "Epoch 104/2000\n",
      "56/56 [==============================] - 3s 44ms/step - loss: 0.0093 - val_loss: 0.0893\n",
      "Epoch 105/2000\n",
      "56/56 [==============================] - 2s 41ms/step - loss: 0.0099 - val_loss: 0.0896\n",
      "Epoch 106/2000\n",
      "56/56 [==============================] - 2s 40ms/step - loss: 0.0090 - val_loss: 0.0895\n",
      "Epoch 107/2000\n",
      "56/56 [==============================] - 2s 39ms/step - loss: 0.0087 - val_loss: 0.0905\n",
      "Epoch 108/2000\n",
      "56/56 [==============================] - 2s 38ms/step - loss: 0.0091 - val_loss: 0.0896\n",
      "Epoch 109/2000\n",
      "56/56 [==============================] - 2s 37ms/step - loss: 0.0090 - val_loss: 0.0869\n",
      "Epoch 110/2000\n",
      "56/56 [==============================] - 2s 42ms/step - loss: 0.0089 - val_loss: 0.0869\n",
      "Epoch 111/2000\n",
      "56/56 [==============================] - 2s 38ms/step - loss: 0.0090 - val_loss: 0.0861\n",
      "Epoch 112/2000\n",
      "56/56 [==============================] - 2s 40ms/step - loss: 0.0102 - val_loss: 0.0874\n",
      "Epoch 113/2000\n",
      "56/56 [==============================] - 2s 41ms/step - loss: 0.0098 - val_loss: 0.0861\n",
      "Epoch 114/2000\n",
      "56/56 [==============================] - 2s 40ms/step - loss: 0.0101 - val_loss: 0.0857\n",
      "Epoch 115/2000\n",
      "56/56 [==============================] - 2s 37ms/step - loss: 0.0084 - val_loss: 0.0848\n",
      "Epoch 116/2000\n",
      "56/56 [==============================] - 2s 41ms/step - loss: 0.0101 - val_loss: 0.0849\n",
      "Epoch 117/2000\n",
      "56/56 [==============================] - 2s 41ms/step - loss: 0.0083 - val_loss: 0.0835\n",
      "Epoch 118/2000\n",
      "56/56 [==============================] - 2s 36ms/step - loss: 0.0092 - val_loss: 0.0845\n",
      "Epoch 119/2000\n",
      "56/56 [==============================] - 2s 43ms/step - loss: 0.0092 - val_loss: 0.0844\n",
      "Epoch 120/2000\n",
      "56/56 [==============================] - 2s 37ms/step - loss: 0.0083 - val_loss: 0.0836\n",
      "Epoch 121/2000\n",
      "56/56 [==============================] - 2s 39ms/step - loss: 0.0080 - val_loss: 0.0842\n",
      "Epoch 122/2000\n",
      "56/56 [==============================] - 2s 39ms/step - loss: 0.0081 - val_loss: 0.0835\n",
      "Epoch 123/2000\n",
      "56/56 [==============================] - 2s 39ms/step - loss: 0.0080 - val_loss: 0.0834\n",
      "Epoch 124/2000\n",
      "56/56 [==============================] - 2s 34ms/step - loss: 0.0079 - val_loss: 0.0809\n",
      "Epoch 125/2000\n",
      "56/56 [==============================] - 2s 38ms/step - loss: 0.0073 - val_loss: 0.0836\n",
      "Epoch 126/2000\n",
      "56/56 [==============================] - 2s 41ms/step - loss: 0.0072 - val_loss: 0.0822\n",
      "Epoch 127/2000\n",
      "56/56 [==============================] - 2s 37ms/step - loss: 0.0072 - val_loss: 0.0807\n",
      "Epoch 128/2000\n",
      "56/56 [==============================] - 2s 42ms/step - loss: 0.0072 - val_loss: 0.0806\n",
      "Epoch 129/2000\n",
      "56/56 [==============================] - 2s 40ms/step - loss: 0.0075 - val_loss: 0.0801\n",
      "Epoch 130/2000\n",
      "56/56 [==============================] - 2s 38ms/step - loss: 0.0069 - val_loss: 0.0789\n",
      "Epoch 131/2000\n",
      "56/56 [==============================] - 3s 47ms/step - loss: 0.0071 - val_loss: 0.0778\n",
      "Epoch 132/2000\n",
      "56/56 [==============================] - 2s 37ms/step - loss: 0.0080 - val_loss: 0.0778\n",
      "Epoch 133/2000\n",
      "56/56 [==============================] - 2s 40ms/step - loss: 0.0078 - val_loss: 0.0784\n",
      "Epoch 134/2000\n",
      "56/56 [==============================] - 2s 38ms/step - loss: 0.0084 - val_loss: 0.0799\n",
      "Epoch 135/2000\n",
      "56/56 [==============================] - 2s 41ms/step - loss: 0.0080 - val_loss: 0.0789\n",
      "Epoch 136/2000\n",
      "56/56 [==============================] - 2s 42ms/step - loss: 0.0073 - val_loss: 0.0811\n",
      "Epoch 137/2000\n",
      "56/56 [==============================] - 2s 40ms/step - loss: 0.0078 - val_loss: 0.0789\n",
      "Epoch 138/2000\n",
      "56/56 [==============================] - 2s 41ms/step - loss: 0.0083 - val_loss: 0.0813\n",
      "Epoch 139/2000\n",
      "56/56 [==============================] - 2s 36ms/step - loss: 0.0080 - val_loss: 0.0791\n",
      "Epoch 140/2000\n",
      "56/56 [==============================] - 2s 37ms/step - loss: 0.0075 - val_loss: 0.0781\n",
      "Epoch 141/2000\n",
      "56/56 [==============================] - 2s 37ms/step - loss: 0.0074 - val_loss: 0.0753\n",
      "Epoch 142/2000\n",
      "56/56 [==============================] - 2s 38ms/step - loss: 0.0076 - val_loss: 0.0773\n",
      "Epoch 143/2000\n",
      "56/56 [==============================] - 2s 37ms/step - loss: 0.0072 - val_loss: 0.0763\n",
      "Epoch 144/2000\n",
      "56/56 [==============================] - 2s 39ms/step - loss: 0.0079 - val_loss: 0.0775\n",
      "Epoch 145/2000\n",
      "56/56 [==============================] - 2s 43ms/step - loss: 0.0075 - val_loss: 0.0742\n",
      "Epoch 146/2000\n",
      "56/56 [==============================] - 2s 38ms/step - loss: 0.0072 - val_loss: 0.0746\n",
      "Epoch 147/2000\n",
      "56/56 [==============================] - 2s 39ms/step - loss: 0.0081 - val_loss: 0.0745\n",
      "Epoch 148/2000\n",
      "56/56 [==============================] - 2s 37ms/step - loss: 0.0086 - val_loss: 0.0741\n",
      "Epoch 149/2000\n",
      "56/56 [==============================] - 2s 41ms/step - loss: 0.0069 - val_loss: 0.0775\n",
      "Epoch 150/2000\n",
      "56/56 [==============================] - 3s 56ms/step - loss: 0.0072 - val_loss: 0.0740\n",
      "Epoch 151/2000\n",
      "56/56 [==============================] - 2s 35ms/step - loss: 0.0073 - val_loss: 0.0756\n",
      "Epoch 152/2000\n",
      "56/56 [==============================] - 3s 50ms/step - loss: 0.0090 - val_loss: 0.0751\n",
      "Epoch 153/2000\n",
      "56/56 [==============================] - 2s 35ms/step - loss: 0.0091 - val_loss: 0.0764\n",
      "Epoch 154/2000\n",
      "56/56 [==============================] - 2s 36ms/step - loss: 0.0086 - val_loss: 0.0767\n",
      "Epoch 155/2000\n",
      "56/56 [==============================] - 2s 40ms/step - loss: 0.0085 - val_loss: 0.0750\n",
      "Epoch 156/2000\n",
      "56/56 [==============================] - 3s 45ms/step - loss: 0.0073 - val_loss: 0.0735\n",
      "Epoch 157/2000\n",
      "56/56 [==============================] - 2s 37ms/step - loss: 0.0073 - val_loss: 0.0728\n",
      "Epoch 158/2000\n",
      "56/56 [==============================] - 2s 40ms/step - loss: 0.0087 - val_loss: 0.0758\n",
      "Epoch 159/2000\n",
      "56/56 [==============================] - 2s 41ms/step - loss: 0.0080 - val_loss: 0.0756\n",
      "Epoch 160/2000\n",
      "56/56 [==============================] - 2s 38ms/step - loss: 0.0082 - val_loss: 0.0745\n"
     ]
    },
    {
     "name": "stdout",
     "output_type": "stream",
     "text": [
      "Epoch 161/2000\n",
      "56/56 [==============================] - 2s 35ms/step - loss: 0.0072 - val_loss: 0.0750\n",
      "Epoch 162/2000\n",
      "56/56 [==============================] - 2s 36ms/step - loss: 0.0071 - val_loss: 0.0750\n",
      "Epoch 163/2000\n",
      "56/56 [==============================] - 2s 37ms/step - loss: 0.0076 - val_loss: 0.0747\n",
      "Epoch 164/2000\n",
      "56/56 [==============================] - 2s 36ms/step - loss: 0.0073 - val_loss: 0.0743\n",
      "Epoch 165/2000\n",
      "56/56 [==============================] - 2s 32ms/step - loss: 0.0068 - val_loss: 0.0720\n",
      "Epoch 166/2000\n",
      "56/56 [==============================] - 2s 38ms/step - loss: 0.0078 - val_loss: 0.0723\n",
      "Epoch 167/2000\n",
      "56/56 [==============================] - 2s 40ms/step - loss: 0.0064 - val_loss: 0.0734\n",
      "Epoch 168/2000\n",
      "56/56 [==============================] - 2s 35ms/step - loss: 0.0075 - val_loss: 0.0739\n",
      "Epoch 169/2000\n",
      "56/56 [==============================] - 2s 29ms/step - loss: 0.0073 - val_loss: 0.0696\n",
      "Epoch 170/2000\n",
      "56/56 [==============================] - 2s 35ms/step - loss: 0.0080 - val_loss: 0.0742\n",
      "Epoch 171/2000\n",
      "56/56 [==============================] - 2s 37ms/step - loss: 0.0070 - val_loss: 0.0730\n",
      "Epoch 172/2000\n",
      "56/56 [==============================] - 2s 32ms/step - loss: 0.0069 - val_loss: 0.0720\n",
      "Epoch 173/2000\n",
      "56/56 [==============================] - 2s 36ms/step - loss: 0.0067 - val_loss: 0.0730\n",
      "Epoch 174/2000\n",
      "56/56 [==============================] - 2s 36ms/step - loss: 0.0072 - val_loss: 0.0719\n",
      "Epoch 175/2000\n",
      "56/56 [==============================] - 2s 37ms/step - loss: 0.0068 - val_loss: 0.0751\n",
      "Epoch 176/2000\n",
      "56/56 [==============================] - 2s 32ms/step - loss: 0.0073 - val_loss: 0.0749\n",
      "Epoch 177/2000\n",
      "56/56 [==============================] - 2s 33ms/step - loss: 0.0066 - val_loss: 0.0719\n",
      "Epoch 178/2000\n",
      "56/56 [==============================] - 2s 32ms/step - loss: 0.0066 - val_loss: 0.0724\n",
      "Epoch 179/2000\n",
      "56/56 [==============================] - 2s 36ms/step - loss: 0.0063 - val_loss: 0.0707\n",
      "Epoch 180/2000\n",
      "56/56 [==============================] - 2s 33ms/step - loss: 0.0060 - val_loss: 0.0705\n",
      "Epoch 181/2000\n",
      "56/56 [==============================] - 2s 40ms/step - loss: 0.0060 - val_loss: 0.0712\n",
      "Epoch 182/2000\n",
      "56/56 [==============================] - 2s 32ms/step - loss: 0.0059 - val_loss: 0.0722\n",
      "Epoch 183/2000\n",
      "56/56 [==============================] - 2s 32ms/step - loss: 0.0067 - val_loss: 0.0706\n",
      "Epoch 184/2000\n",
      "56/56 [==============================] - 2s 42ms/step - loss: 0.0062 - val_loss: 0.0697\n",
      "Epoch 185/2000\n",
      "56/56 [==============================] - 2s 36ms/step - loss: 0.0064 - val_loss: 0.0707\n",
      "Epoch 186/2000\n",
      "56/56 [==============================] - 2s 40ms/step - loss: 0.0053 - val_loss: 0.0704\n",
      "Epoch 187/2000\n",
      "56/56 [==============================] - 2s 37ms/step - loss: 0.0048 - val_loss: 0.0699\n",
      "Epoch 188/2000\n",
      "56/56 [==============================] - 2s 32ms/step - loss: 0.0047 - val_loss: 0.0699\n",
      "Epoch 189/2000\n",
      "56/56 [==============================] - 2s 38ms/step - loss: 0.0045 - val_loss: 0.0696\n"
     ]
    },
    {
     "data": {
      "text/plain": [
       "<keras.callbacks.History at 0x7f5db45524c0>"
      ]
     },
     "execution_count": 43,
     "metadata": {},
     "output_type": "execute_result"
    }
   ],
   "source": [
    "lstm_model.fit(dataset, validation_data = dataset_val, epochs = 2_000, callbacks = [es, reduce_lr])"
   ]
  },
  {
   "cell_type": "code",
   "execution_count": 44,
   "id": "9001aa53",
   "metadata": {},
   "outputs": [
    {
     "name": "stdout",
     "output_type": "stream",
     "text": [
      "1/1 [==============================] - 0s 310ms/step - loss: 0.1092\n"
     ]
    },
    {
     "data": {
      "text/plain": [
       "0.10922761261463165"
      ]
     },
     "execution_count": 44,
     "metadata": {},
     "output_type": "execute_result"
    }
   ],
   "source": [
    "lstm_model.evaluate(dataset_test)"
   ]
  },
  {
   "cell_type": "code",
   "execution_count": 45,
   "id": "e5f6a33f",
   "metadata": {},
   "outputs": [],
   "source": [
    "y_pred = lstm_model.predict(dataset_test)"
   ]
  },
  {
   "cell_type": "code",
   "execution_count": 46,
   "id": "7a307e0b",
   "metadata": {},
   "outputs": [],
   "source": [
    "etx, ety = next(iter(dataset_test))"
   ]
  },
  {
   "cell_type": "code",
   "execution_count": 47,
   "id": "253c7b87",
   "metadata": {},
   "outputs": [],
   "source": [
    "y_test = ety.numpy()"
   ]
  },
  {
   "cell_type": "code",
   "execution_count": 48,
   "id": "8575dba7",
   "metadata": {},
   "outputs": [],
   "source": [
    "y_pred = y_pred*train_std['close_price']+train_mean['close_price']"
   ]
  },
  {
   "cell_type": "code",
   "execution_count": 49,
   "id": "dd8df554",
   "metadata": {},
   "outputs": [],
   "source": [
    "y_test = y_test*train_std['close_price']+train_mean['close_price']"
   ]
  },
  {
   "cell_type": "code",
   "execution_count": 50,
   "id": "53a3056e",
   "metadata": {},
   "outputs": [
    {
     "data": {
      "text/plain": [
       "<matplotlib.legend.Legend at 0x7f5d836f1f70>"
      ]
     },
     "execution_count": 50,
     "metadata": {},
     "output_type": "execute_result"
    },
    {
     "data": {
      "image/png": "[encoded data removed]",
      "text/plain": [
       "<Figure size 432x288 with 1 Axes>"
      ]
     },
     "metadata": {
      "needs_background": "light"
     },
     "output_type": "display_data"
    }
   ],
   "source": [
    "plt.plot(y_test, label = 'test')\n",
    "plt.plot(y_pred, label = 'actual')\n",
    "plt.legend()"
   ]
  },
  {
   "cell_type": "code",
   "execution_count": 51,
   "id": "632f8b92",
   "metadata": {},
   "outputs": [
    {
     "data": {
      "text/plain": [
       "0.9669421487603306"
      ]
     },
     "execution_count": 51,
     "metadata": {},
     "output_type": "execute_result"
    }
   ],
   "source": [
    "((y_pred.flatten() > 0) == (y_test>0)).mean()"
   ]
  },
  {
   "cell_type": "code",
   "execution_count": 52,
   "id": "978aa4ae",
   "metadata": {},
   "outputs": [
    {
     "name": "stdout",
     "output_type": "stream",
     "text": [
      "Model: \"sequential_1\"\n",
      "_________________________________________________________________\n",
      "Layer (type)                 Output Shape              Param #   \n",
      "=================================================================\n",
      "gru_2 (GRU)                  (None, None, 128)         53376     \n",
      "_________________________________________________________________\n",
      "gru_3 (GRU)                  (None, 64)                37248     \n",
      "_________________________________________________________________\n",
      "dense_2 (Dense)              (None, 32)                2080      \n",
      "_________________________________________________________________\n",
      "dense_3 (Dense)              (None, 16)                528       \n",
      "_________________________________________________________________\n",
      "dense_4 (Dense)              (None, 1)                 17        \n",
      "=================================================================\n",
      "Total params: 93,249\n",
      "Trainable params: 93,249\n",
      "Non-trainable params: 0\n",
      "_________________________________________________________________\n"
     ]
    }
   ],
   "source": [
    "lstm_model.summary()"
   ]
  },
  {
   "cell_type": "code",
   "execution_count": null,
   "id": "940d72c8",
   "metadata": {},
   "outputs": [],
   "source": []
  }
 ],
 "metadata": {
  "kernelspec": {
   "display_name": "Python 3 (ipykernel)",
   "language": "python",
   "name": "python3"
  },
  "language_info": {
   "codemirror_mode": {
    "name": "ipython",
    "version": 3
   },
   "file_extension": ".py",
   "mimetype": "text/x-python",
   "name": "python",
   "nbconvert_exporter": "python",
   "pygments_lexer": "ipython3",
   "version": "3.8.6"
  },
  "toc": {
   "base_numbering": 1,
   "nav_menu": {},
   "number_sections": true,
   "sideBar": true,
   "skip_h1_title": false,
   "title_cell": "Table of Contents",
   "title_sidebar": "Contents",
   "toc_cell": false,
   "toc_position": {},
   "toc_section_display": true,
   "toc_window_display": false
  }
 },
 "nbformat": 4,
 "nbformat_minor": 5
}
