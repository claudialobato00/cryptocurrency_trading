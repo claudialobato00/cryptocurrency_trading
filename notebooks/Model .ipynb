{
 "cells": [
  {
   "cell_type": "markdown",
   "id": "3dac2e8b",
   "metadata": {},
   "source": [
    "   # The Data"
   ]
  },
  {
   "cell_type": "code",
   "execution_count": 7,
   "id": "7a0aef41",
   "metadata": {},
   "outputs": [
    {
     "name": "stderr",
     "output_type": "stream",
     "text": [
      "2021-09-07 10:42:43.580064: W tensorflow/stream_executor/platform/default/dso_loader.cc:64] Could not load dynamic library 'libcudart.so.11.0'; dlerror: libcudart.so.11.0: cannot open shared object file: No such file or directory\n",
      "2021-09-07 10:42:43.580138: I tensorflow/stream_executor/cuda/cudart_stub.cc:29] Ignore above cudart dlerror if you do not have a GPU set up on your machine.\n"
     ]
    }
   ],
   "source": [
    "# Imports \n",
    "import os\n",
    "import datetime\n",
    "\n",
    "import IPython\n",
    "import IPython.display\n",
    "import matplotlib as mpl\n",
    "import matplotlib.pyplot as plt\n",
    "import numpy as np\n",
    "import pandas as pd\n",
    "import seaborn as sns\n",
    "import tensorflow as tf"
   ]
  },
  {
   "cell_type": "code",
   "execution_count": 3,
   "id": "27c2c185",
   "metadata": {},
   "outputs": [],
   "source": [
    "df = pd.read_csv('../cryptocurrency_trading/data/final_data_from_2018_01_01_to_2021_08_31.csv')"
   ]
  },
  {
   "cell_type": "code",
   "execution_count": 5,
   "id": "367e04e2",
   "metadata": {},
   "outputs": [],
   "source": [
    "df = df.drop(columns = 'Unnamed: 0')"
   ]
  },
  {
   "cell_type": "code",
   "execution_count": 6,
   "id": "1fb1c6d3",
   "metadata": {
    "scrolled": true
   },
   "outputs": [
    {
     "data": {
      "text/html": [
       "<div>\n",
       "<style scoped>\n",
       "    .dataframe tbody tr th:only-of-type {\n",
       "        vertical-align: middle;\n",
       "    }\n",
       "\n",
       "    .dataframe tbody tr th {\n",
       "        vertical-align: top;\n",
       "    }\n",
       "\n",
       "    .dataframe thead th {\n",
       "        text-align: right;\n",
       "    }\n",
       "</style>\n",
       "<table border=\"1\" class=\"dataframe\">\n",
       "  <thead>\n",
       "    <tr style=\"text-align: right;\">\n",
       "      <th></th>\n",
       "      <th>start</th>\n",
       "      <th>tweet_count</th>\n",
       "      <th>sentimentscore</th>\n",
       "      <th>open</th>\n",
       "      <th>high</th>\n",
       "      <th>low</th>\n",
       "      <th>close</th>\n",
       "      <th>adjClose</th>\n",
       "      <th>volume</th>\n",
       "      <th>unadjustedVolume</th>\n",
       "      <th>...</th>\n",
       "      <th>changePercent</th>\n",
       "      <th>vwap</th>\n",
       "      <th>changeOverTime</th>\n",
       "      <th>UpperBB</th>\n",
       "      <th>LowerBB</th>\n",
       "      <th>volatility</th>\n",
       "      <th>rsi</th>\n",
       "      <th>macd</th>\n",
       "      <th>real_score</th>\n",
       "      <th>post_per_day</th>\n",
       "    </tr>\n",
       "  </thead>\n",
       "  <tbody>\n",
       "    <tr>\n",
       "      <th>0</th>\n",
       "      <td>2018-01-01</td>\n",
       "      <td>90414</td>\n",
       "      <td>4.087525</td>\n",
       "      <td>14112.200195</td>\n",
       "      <td>14112.200195</td>\n",
       "      <td>13154.700195</td>\n",
       "      <td>13657.200195</td>\n",
       "      <td>13657.200195</td>\n",
       "      <td>1.029120e+10</td>\n",
       "      <td>1.029120e+10</td>\n",
       "      <td>...</td>\n",
       "      <td>-3.224</td>\n",
       "      <td>13641.36686</td>\n",
       "      <td>-0.03224</td>\n",
       "      <td>20532.876074</td>\n",
       "      <td>5012.581523</td>\n",
       "      <td>1290.493390</td>\n",
       "      <td>46.256417</td>\n",
       "      <td>95.011453</td>\n",
       "      <td>0.191187</td>\n",
       "      <td>464.0</td>\n",
       "    </tr>\n",
       "    <tr>\n",
       "      <th>1</th>\n",
       "      <td>2018-01-02</td>\n",
       "      <td>125905</td>\n",
       "      <td>4.721295</td>\n",
       "      <td>13625.000000</td>\n",
       "      <td>15444.599609</td>\n",
       "      <td>13163.599609</td>\n",
       "      <td>14982.099609</td>\n",
       "      <td>14982.099609</td>\n",
       "      <td>1.684660e+10</td>\n",
       "      <td>1.684660e+10</td>\n",
       "      <td>...</td>\n",
       "      <td>9.960</td>\n",
       "      <td>14530.09961</td>\n",
       "      <td>0.09960</td>\n",
       "      <td>20514.236225</td>\n",
       "      <td>5368.125747</td>\n",
       "      <td>1018.066882</td>\n",
       "      <td>51.765003</td>\n",
       "      <td>112.782434</td>\n",
       "      <td>0.476037</td>\n",
       "      <td>594.0</td>\n",
       "    </tr>\n",
       "    <tr>\n",
       "      <th>2</th>\n",
       "      <td>2018-01-03</td>\n",
       "      <td>134825</td>\n",
       "      <td>6.096648</td>\n",
       "      <td>14978.200195</td>\n",
       "      <td>15572.799805</td>\n",
       "      <td>14844.500000</td>\n",
       "      <td>15201.000000</td>\n",
       "      <td>15201.000000</td>\n",
       "      <td>1.687190e+10</td>\n",
       "      <td>1.687190e+10</td>\n",
       "      <td>...</td>\n",
       "      <td>1.487</td>\n",
       "      <td>15206.09994</td>\n",
       "      <td>0.01487</td>\n",
       "      <td>20488.303236</td>\n",
       "      <td>5736.668737</td>\n",
       "      <td>883.368621</td>\n",
       "      <td>52.628926</td>\n",
       "      <td>142.882437</td>\n",
       "      <td>0.689065</td>\n",
       "      <td>620.0</td>\n",
       "    </tr>\n",
       "    <tr>\n",
       "      <th>3</th>\n",
       "      <td>2018-01-04</td>\n",
       "      <td>126106</td>\n",
       "      <td>4.738479</td>\n",
       "      <td>15270.700195</td>\n",
       "      <td>15739.700195</td>\n",
       "      <td>14522.200195</td>\n",
       "      <td>15599.200195</td>\n",
       "      <td>15599.200195</td>\n",
       "      <td>2.178320e+10</td>\n",
       "      <td>2.178320e+10</td>\n",
       "      <td>...</td>\n",
       "      <td>2.151</td>\n",
       "      <td>15287.03353</td>\n",
       "      <td>0.02151</td>\n",
       "      <td>20492.881190</td>\n",
       "      <td>6063.437189</td>\n",
       "      <td>864.964200</td>\n",
       "      <td>54.234716</td>\n",
       "      <td>196.602028</td>\n",
       "      <td>-0.144155</td>\n",
       "      <td>629.0</td>\n",
       "    </tr>\n",
       "    <tr>\n",
       "      <th>4</th>\n",
       "      <td>2018-01-05</td>\n",
       "      <td>115883</td>\n",
       "      <td>5.809624</td>\n",
       "      <td>15477.200195</td>\n",
       "      <td>17705.199219</td>\n",
       "      <td>15202.799805</td>\n",
       "      <td>17429.500000</td>\n",
       "      <td>17429.500000</td>\n",
       "      <td>2.384090e+10</td>\n",
       "      <td>2.384090e+10</td>\n",
       "      <td>...</td>\n",
       "      <td>12.614</td>\n",
       "      <td>16779.16634</td>\n",
       "      <td>0.12614</td>\n",
       "      <td>20605.405339</td>\n",
       "      <td>6333.225442</td>\n",
       "      <td>1103.623175</td>\n",
       "      <td>60.810539</td>\n",
       "      <td>382.456370</td>\n",
       "      <td>0.197948</td>\n",
       "      <td>686.0</td>\n",
       "    </tr>\n",
       "  </tbody>\n",
       "</table>\n",
       "<p>5 rows × 21 columns</p>\n",
       "</div>"
      ],
      "text/plain": [
       "        start  tweet_count  sentimentscore          open          high  \\\n",
       "0  2018-01-01        90414        4.087525  14112.200195  14112.200195   \n",
       "1  2018-01-02       125905        4.721295  13625.000000  15444.599609   \n",
       "2  2018-01-03       134825        6.096648  14978.200195  15572.799805   \n",
       "3  2018-01-04       126106        4.738479  15270.700195  15739.700195   \n",
       "4  2018-01-05       115883        5.809624  15477.200195  17705.199219   \n",
       "\n",
       "            low         close      adjClose        volume  unadjustedVolume  \\\n",
       "0  13154.700195  13657.200195  13657.200195  1.029120e+10      1.029120e+10   \n",
       "1  13163.599609  14982.099609  14982.099609  1.684660e+10      1.684660e+10   \n",
       "2  14844.500000  15201.000000  15201.000000  1.687190e+10      1.687190e+10   \n",
       "3  14522.200195  15599.200195  15599.200195  2.178320e+10      2.178320e+10   \n",
       "4  15202.799805  17429.500000  17429.500000  2.384090e+10      2.384090e+10   \n",
       "\n",
       "   ...  changePercent         vwap  changeOverTime       UpperBB      LowerBB  \\\n",
       "0  ...         -3.224  13641.36686        -0.03224  20532.876074  5012.581523   \n",
       "1  ...          9.960  14530.09961         0.09960  20514.236225  5368.125747   \n",
       "2  ...          1.487  15206.09994         0.01487  20488.303236  5736.668737   \n",
       "3  ...          2.151  15287.03353         0.02151  20492.881190  6063.437189   \n",
       "4  ...         12.614  16779.16634         0.12614  20605.405339  6333.225442   \n",
       "\n",
       "    volatility        rsi        macd  real_score  post_per_day  \n",
       "0  1290.493390  46.256417   95.011453    0.191187         464.0  \n",
       "1  1018.066882  51.765003  112.782434    0.476037         594.0  \n",
       "2   883.368621  52.628926  142.882437    0.689065         620.0  \n",
       "3   864.964200  54.234716  196.602028   -0.144155         629.0  \n",
       "4  1103.623175  60.810539  382.456370    0.197948         686.0  \n",
       "\n",
       "[5 rows x 21 columns]"
      ]
     },
     "execution_count": 6,
     "metadata": {},
     "output_type": "execute_result"
    }
   ],
   "source": [
    "df.head()"
   ]
  },
  {
   "cell_type": "code",
   "execution_count": 13,
   "id": "4903ae3f",
   "metadata": {},
   "outputs": [],
   "source": [
    "df = df.drop(columns = ['changeOverTime'])"
   ]
  },
  {
   "cell_type": "code",
   "execution_count": 20,
   "id": "46a9d2a1",
   "metadata": {
    "scrolled": true
   },
   "outputs": [],
   "source": [
    "df = df[:1295]"
   ]
  },
  {
   "cell_type": "code",
   "execution_count": 23,
   "id": "32105eac",
   "metadata": {
    "scrolled": false
   },
   "outputs": [],
   "source": [
    "df = df.rename(columns={'sentimentscore': 'twitter_sentiment', 'real_score': 'reddit_sentiment','post_per_day':'reddit_post_count'})"
   ]
  },
  {
   "cell_type": "code",
   "execution_count": 25,
   "id": "00a0ffc1",
   "metadata": {
    "scrolled": true
   },
   "outputs": [
    {
     "data": {
      "text/html": [
       "<div>\n",
       "<style scoped>\n",
       "    .dataframe tbody tr th:only-of-type {\n",
       "        vertical-align: middle;\n",
       "    }\n",
       "\n",
       "    .dataframe tbody tr th {\n",
       "        vertical-align: top;\n",
       "    }\n",
       "\n",
       "    .dataframe thead th {\n",
       "        text-align: right;\n",
       "    }\n",
       "</style>\n",
       "<table border=\"1\" class=\"dataframe\">\n",
       "  <thead>\n",
       "    <tr style=\"text-align: right;\">\n",
       "      <th></th>\n",
       "      <th>start</th>\n",
       "      <th>tweet_count</th>\n",
       "      <th>twitter_sentiment</th>\n",
       "      <th>adjClose</th>\n",
       "      <th>volume</th>\n",
       "      <th>changePercent</th>\n",
       "      <th>vwap</th>\n",
       "      <th>UpperBB</th>\n",
       "      <th>LowerBB</th>\n",
       "      <th>volatility</th>\n",
       "      <th>rsi</th>\n",
       "      <th>macd</th>\n",
       "      <th>reddit_sentiment</th>\n",
       "      <th>reddit_post_count</th>\n",
       "    </tr>\n",
       "  </thead>\n",
       "  <tbody>\n",
       "    <tr>\n",
       "      <th>0</th>\n",
       "      <td>2018-01-01</td>\n",
       "      <td>90414</td>\n",
       "      <td>4.087525</td>\n",
       "      <td>13657.200195</td>\n",
       "      <td>1.029120e+10</td>\n",
       "      <td>-3.224</td>\n",
       "      <td>13641.36686</td>\n",
       "      <td>20532.876074</td>\n",
       "      <td>5012.581523</td>\n",
       "      <td>1290.493390</td>\n",
       "      <td>46.256417</td>\n",
       "      <td>95.011453</td>\n",
       "      <td>0.191187</td>\n",
       "      <td>464.0</td>\n",
       "    </tr>\n",
       "    <tr>\n",
       "      <th>1</th>\n",
       "      <td>2018-01-02</td>\n",
       "      <td>125905</td>\n",
       "      <td>4.721295</td>\n",
       "      <td>14982.099609</td>\n",
       "      <td>1.684660e+10</td>\n",
       "      <td>9.960</td>\n",
       "      <td>14530.09961</td>\n",
       "      <td>20514.236225</td>\n",
       "      <td>5368.125747</td>\n",
       "      <td>1018.066882</td>\n",
       "      <td>51.765003</td>\n",
       "      <td>112.782434</td>\n",
       "      <td>0.476037</td>\n",
       "      <td>594.0</td>\n",
       "    </tr>\n",
       "    <tr>\n",
       "      <th>2</th>\n",
       "      <td>2018-01-03</td>\n",
       "      <td>134825</td>\n",
       "      <td>6.096648</td>\n",
       "      <td>15201.000000</td>\n",
       "      <td>1.687190e+10</td>\n",
       "      <td>1.487</td>\n",
       "      <td>15206.09994</td>\n",
       "      <td>20488.303236</td>\n",
       "      <td>5736.668737</td>\n",
       "      <td>883.368621</td>\n",
       "      <td>52.628926</td>\n",
       "      <td>142.882437</td>\n",
       "      <td>0.689065</td>\n",
       "      <td>620.0</td>\n",
       "    </tr>\n",
       "    <tr>\n",
       "      <th>3</th>\n",
       "      <td>2018-01-04</td>\n",
       "      <td>126106</td>\n",
       "      <td>4.738479</td>\n",
       "      <td>15599.200195</td>\n",
       "      <td>2.178320e+10</td>\n",
       "      <td>2.151</td>\n",
       "      <td>15287.03353</td>\n",
       "      <td>20492.881190</td>\n",
       "      <td>6063.437189</td>\n",
       "      <td>864.964200</td>\n",
       "      <td>54.234716</td>\n",
       "      <td>196.602028</td>\n",
       "      <td>-0.144155</td>\n",
       "      <td>629.0</td>\n",
       "    </tr>\n",
       "    <tr>\n",
       "      <th>4</th>\n",
       "      <td>2018-01-05</td>\n",
       "      <td>115883</td>\n",
       "      <td>5.809624</td>\n",
       "      <td>17429.500000</td>\n",
       "      <td>2.384090e+10</td>\n",
       "      <td>12.614</td>\n",
       "      <td>16779.16634</td>\n",
       "      <td>20605.405339</td>\n",
       "      <td>6333.225442</td>\n",
       "      <td>1103.623175</td>\n",
       "      <td>60.810539</td>\n",
       "      <td>382.456370</td>\n",
       "      <td>0.197948</td>\n",
       "      <td>686.0</td>\n",
       "    </tr>\n",
       "  </tbody>\n",
       "</table>\n",
       "</div>"
      ],
      "text/plain": [
       "        start  tweet_count  twitter_sentiment      adjClose        volume  \\\n",
       "0  2018-01-01        90414           4.087525  13657.200195  1.029120e+10   \n",
       "1  2018-01-02       125905           4.721295  14982.099609  1.684660e+10   \n",
       "2  2018-01-03       134825           6.096648  15201.000000  1.687190e+10   \n",
       "3  2018-01-04       126106           4.738479  15599.200195  2.178320e+10   \n",
       "4  2018-01-05       115883           5.809624  17429.500000  2.384090e+10   \n",
       "\n",
       "   changePercent         vwap       UpperBB      LowerBB   volatility  \\\n",
       "0         -3.224  13641.36686  20532.876074  5012.581523  1290.493390   \n",
       "1          9.960  14530.09961  20514.236225  5368.125747  1018.066882   \n",
       "2          1.487  15206.09994  20488.303236  5736.668737   883.368621   \n",
       "3          2.151  15287.03353  20492.881190  6063.437189   864.964200   \n",
       "4         12.614  16779.16634  20605.405339  6333.225442  1103.623175   \n",
       "\n",
       "         rsi        macd  reddit_sentiment  reddit_post_count  \n",
       "0  46.256417   95.011453          0.191187              464.0  \n",
       "1  51.765003  112.782434          0.476037              594.0  \n",
       "2  52.628926  142.882437          0.689065              620.0  \n",
       "3  54.234716  196.602028         -0.144155              629.0  \n",
       "4  60.810539  382.456370          0.197948              686.0  "
      ]
     },
     "execution_count": 25,
     "metadata": {},
     "output_type": "execute_result"
    }
   ],
   "source": [
    "df.head()"
   ]
  },
  {
   "cell_type": "code",
   "execution_count": 26,
   "id": "84087d55",
   "metadata": {},
   "outputs": [
    {
     "data": {
      "text/html": [
       "<div>\n",
       "<style scoped>\n",
       "    .dataframe tbody tr th:only-of-type {\n",
       "        vertical-align: middle;\n",
       "    }\n",
       "\n",
       "    .dataframe tbody tr th {\n",
       "        vertical-align: top;\n",
       "    }\n",
       "\n",
       "    .dataframe thead th {\n",
       "        text-align: right;\n",
       "    }\n",
       "</style>\n",
       "<table border=\"1\" class=\"dataframe\">\n",
       "  <thead>\n",
       "    <tr style=\"text-align: right;\">\n",
       "      <th></th>\n",
       "      <th>start</th>\n",
       "      <th>tweet_count</th>\n",
       "      <th>twitter_sentiment</th>\n",
       "      <th>adjClose</th>\n",
       "      <th>volume</th>\n",
       "      <th>changePercent</th>\n",
       "      <th>vwap</th>\n",
       "      <th>UpperBB</th>\n",
       "      <th>LowerBB</th>\n",
       "      <th>volatility</th>\n",
       "      <th>rsi</th>\n",
       "      <th>macd</th>\n",
       "      <th>reddit_sentiment</th>\n",
       "      <th>reddit_post_count</th>\n",
       "    </tr>\n",
       "  </thead>\n",
       "  <tbody>\n",
       "    <tr>\n",
       "      <th>1290</th>\n",
       "      <td>2021-08-27</td>\n",
       "      <td>318837</td>\n",
       "      <td>0.755258</td>\n",
       "      <td>49058.667969</td>\n",
       "      <td>3.451108e+10</td>\n",
       "      <td>4.615</td>\n",
       "      <td>48188.57813</td>\n",
       "      <td>53283.267528</td>\n",
       "      <td>27543.956222</td>\n",
       "      <td>1604.742754</td>\n",
       "      <td>61.333674</td>\n",
       "      <td>2205.235921</td>\n",
       "      <td>0.472290</td>\n",
       "      <td>269.0</td>\n",
       "    </tr>\n",
       "    <tr>\n",
       "      <th>1291</th>\n",
       "      <td>2021-08-28</td>\n",
       "      <td>275021</td>\n",
       "      <td>2.404883</td>\n",
       "      <td>48902.402344</td>\n",
       "      <td>2.856810e+10</td>\n",
       "      <td>-0.347</td>\n",
       "      <td>48895.04818</td>\n",
       "      <td>53660.398373</td>\n",
       "      <td>27771.001002</td>\n",
       "      <td>1632.908812</td>\n",
       "      <td>60.758105</td>\n",
       "      <td>2139.546072</td>\n",
       "      <td>0.417047</td>\n",
       "      <td>219.0</td>\n",
       "    </tr>\n",
       "    <tr>\n",
       "      <th>1292</th>\n",
       "      <td>2021-08-29</td>\n",
       "      <td>321682</td>\n",
       "      <td>1.261597</td>\n",
       "      <td>48829.832031</td>\n",
       "      <td>2.588965e+10</td>\n",
       "      <td>-0.166</td>\n",
       "      <td>48799.93359</td>\n",
       "      <td>53996.130503</td>\n",
       "      <td>28047.641373</td>\n",
       "      <td>1645.660840</td>\n",
       "      <td>60.474282</td>\n",
       "      <td>2057.908289</td>\n",
       "      <td>0.835773</td>\n",
       "      <td>199.0</td>\n",
       "    </tr>\n",
       "    <tr>\n",
       "      <th>1293</th>\n",
       "      <td>2021-08-30</td>\n",
       "      <td>305249</td>\n",
       "      <td>1.388991</td>\n",
       "      <td>47054.984375</td>\n",
       "      <td>3.184701e+10</td>\n",
       "      <td>-3.645</td>\n",
       "      <td>47643.62109</td>\n",
       "      <td>54211.850902</td>\n",
       "      <td>28344.512848</td>\n",
       "      <td>1583.112611</td>\n",
       "      <td>53.848934</td>\n",
       "      <td>1828.911828</td>\n",
       "      <td>0.722232</td>\n",
       "      <td>232.0</td>\n",
       "    </tr>\n",
       "    <tr>\n",
       "      <th>1294</th>\n",
       "      <td>2021-08-31</td>\n",
       "      <td>296186</td>\n",
       "      <td>1.899930</td>\n",
       "      <td>47166.687500</td>\n",
       "      <td>3.473036e+10</td>\n",
       "      <td>0.303</td>\n",
       "      <td>47368.77734</td>\n",
       "      <td>54380.425623</td>\n",
       "      <td>28736.371721</td>\n",
       "      <td>1332.427984</td>\n",
       "      <td>54.189103</td>\n",
       "      <td>1637.567137</td>\n",
       "      <td>0.628596</td>\n",
       "      <td>259.0</td>\n",
       "    </tr>\n",
       "  </tbody>\n",
       "</table>\n",
       "</div>"
      ],
      "text/plain": [
       "           start  tweet_count  twitter_sentiment      adjClose        volume  \\\n",
       "1290  2021-08-27       318837           0.755258  49058.667969  3.451108e+10   \n",
       "1291  2021-08-28       275021           2.404883  48902.402344  2.856810e+10   \n",
       "1292  2021-08-29       321682           1.261597  48829.832031  2.588965e+10   \n",
       "1293  2021-08-30       305249           1.388991  47054.984375  3.184701e+10   \n",
       "1294  2021-08-31       296186           1.899930  47166.687500  3.473036e+10   \n",
       "\n",
       "      changePercent         vwap       UpperBB       LowerBB   volatility  \\\n",
       "1290          4.615  48188.57813  53283.267528  27543.956222  1604.742754   \n",
       "1291         -0.347  48895.04818  53660.398373  27771.001002  1632.908812   \n",
       "1292         -0.166  48799.93359  53996.130503  28047.641373  1645.660840   \n",
       "1293         -3.645  47643.62109  54211.850902  28344.512848  1583.112611   \n",
       "1294          0.303  47368.77734  54380.425623  28736.371721  1332.427984   \n",
       "\n",
       "            rsi         macd  reddit_sentiment  reddit_post_count  \n",
       "1290  61.333674  2205.235921          0.472290              269.0  \n",
       "1291  60.758105  2139.546072          0.417047              219.0  \n",
       "1292  60.474282  2057.908289          0.835773              199.0  \n",
       "1293  53.848934  1828.911828          0.722232              232.0  \n",
       "1294  54.189103  1637.567137          0.628596              259.0  "
      ]
     },
     "execution_count": 26,
     "metadata": {},
     "output_type": "execute_result"
    }
   ],
   "source": [
    "df.tail()"
   ]
  },
  {
   "cell_type": "code",
   "execution_count": 22,
   "id": "22328b4f",
   "metadata": {
    "scrolled": false
   },
   "outputs": [
    {
     "name": "stdout",
     "output_type": "stream",
     "text": [
      "<class 'pandas.core.frame.DataFrame'>\n",
      "RangeIndex: 1295 entries, 0 to 1294\n",
      "Data columns (total 14 columns):\n",
      " #   Column          Non-Null Count  Dtype  \n",
      "---  ------          --------------  -----  \n",
      " 0   start           1295 non-null   object \n",
      " 1   tweet_count     1295 non-null   int64  \n",
      " 2   sentimentscore  1251 non-null   float64\n",
      " 3   adjClose        1295 non-null   float64\n",
      " 4   volume          1295 non-null   float64\n",
      " 5   changePercent   1295 non-null   float64\n",
      " 6   vwap            1295 non-null   float64\n",
      " 7   UpperBB         1295 non-null   float64\n",
      " 8   LowerBB         1295 non-null   float64\n",
      " 9   volatility      1295 non-null   float64\n",
      " 10  rsi             1295 non-null   float64\n",
      " 11  macd            1295 non-null   float64\n",
      " 12  real_score      1201 non-null   float64\n",
      " 13  post_per_day    1201 non-null   float64\n",
      "dtypes: float64(12), int64(1), object(1)\n",
      "memory usage: 141.8+ KB\n"
     ]
    }
   ],
   "source": [
    "df.info()"
   ]
  },
  {
   "cell_type": "code",
   "execution_count": 75,
   "id": "1583dc8b",
   "metadata": {},
   "outputs": [
    {
     "data": {
      "text/plain": [
       "(1295, 14)"
      ]
     },
     "execution_count": 75,
     "metadata": {},
     "output_type": "execute_result"
    }
   ],
   "source": [
    "df.shap"
   ]
  },
  {
   "cell_type": "markdown",
   "id": "ad266e88",
   "metadata": {},
   "source": [
    "# The Model\n"
   ]
  },
  {
   "cell_type": "code",
   "execution_count": 114,
   "id": "848e2bda",
   "metadata": {},
   "outputs": [],
   "source": [
    "df = df.set_index('start')"
   ]
  },
  {
   "cell_type": "code",
   "execution_count": 115,
   "id": "b5ec4b11",
   "metadata": {
    "scrolled": true
   },
   "outputs": [
    {
     "data": {
      "text/html": [
       "<div>\n",
       "<style scoped>\n",
       "    .dataframe tbody tr th:only-of-type {\n",
       "        vertical-align: middle;\n",
       "    }\n",
       "\n",
       "    .dataframe tbody tr th {\n",
       "        vertical-align: top;\n",
       "    }\n",
       "\n",
       "    .dataframe thead th {\n",
       "        text-align: right;\n",
       "    }\n",
       "</style>\n",
       "<table border=\"1\" class=\"dataframe\">\n",
       "  <thead>\n",
       "    <tr style=\"text-align: right;\">\n",
       "      <th></th>\n",
       "      <th>tweet_count</th>\n",
       "      <th>twitter_sentiment</th>\n",
       "      <th>adjClose</th>\n",
       "      <th>volume</th>\n",
       "      <th>changePercent</th>\n",
       "      <th>vwap</th>\n",
       "      <th>UpperBB</th>\n",
       "      <th>LowerBB</th>\n",
       "      <th>volatility</th>\n",
       "      <th>rsi</th>\n",
       "      <th>macd</th>\n",
       "      <th>reddit_sentiment</th>\n",
       "      <th>reddit_post_count</th>\n",
       "    </tr>\n",
       "    <tr>\n",
       "      <th>start</th>\n",
       "      <th></th>\n",
       "      <th></th>\n",
       "      <th></th>\n",
       "      <th></th>\n",
       "      <th></th>\n",
       "      <th></th>\n",
       "      <th></th>\n",
       "      <th></th>\n",
       "      <th></th>\n",
       "      <th></th>\n",
       "      <th></th>\n",
       "      <th></th>\n",
       "      <th></th>\n",
       "    </tr>\n",
       "  </thead>\n",
       "  <tbody>\n",
       "    <tr>\n",
       "      <th>2018-01-01</th>\n",
       "      <td>90414</td>\n",
       "      <td>4.087525</td>\n",
       "      <td>13657.200195</td>\n",
       "      <td>1.029120e+10</td>\n",
       "      <td>-3.224</td>\n",
       "      <td>13641.36686</td>\n",
       "      <td>20532.876074</td>\n",
       "      <td>5012.581523</td>\n",
       "      <td>1290.493390</td>\n",
       "      <td>46.256417</td>\n",
       "      <td>95.011453</td>\n",
       "      <td>0.191187</td>\n",
       "      <td>464.0</td>\n",
       "    </tr>\n",
       "    <tr>\n",
       "      <th>2018-01-02</th>\n",
       "      <td>125905</td>\n",
       "      <td>4.721295</td>\n",
       "      <td>14982.099609</td>\n",
       "      <td>1.684660e+10</td>\n",
       "      <td>9.960</td>\n",
       "      <td>14530.09961</td>\n",
       "      <td>20514.236225</td>\n",
       "      <td>5368.125747</td>\n",
       "      <td>1018.066882</td>\n",
       "      <td>51.765003</td>\n",
       "      <td>112.782434</td>\n",
       "      <td>0.476037</td>\n",
       "      <td>594.0</td>\n",
       "    </tr>\n",
       "    <tr>\n",
       "      <th>2018-01-03</th>\n",
       "      <td>134825</td>\n",
       "      <td>6.096648</td>\n",
       "      <td>15201.000000</td>\n",
       "      <td>1.687190e+10</td>\n",
       "      <td>1.487</td>\n",
       "      <td>15206.09994</td>\n",
       "      <td>20488.303236</td>\n",
       "      <td>5736.668737</td>\n",
       "      <td>883.368621</td>\n",
       "      <td>52.628926</td>\n",
       "      <td>142.882437</td>\n",
       "      <td>0.689065</td>\n",
       "      <td>620.0</td>\n",
       "    </tr>\n",
       "    <tr>\n",
       "      <th>2018-01-04</th>\n",
       "      <td>126106</td>\n",
       "      <td>4.738479</td>\n",
       "      <td>15599.200195</td>\n",
       "      <td>2.178320e+10</td>\n",
       "      <td>2.151</td>\n",
       "      <td>15287.03353</td>\n",
       "      <td>20492.881190</td>\n",
       "      <td>6063.437189</td>\n",
       "      <td>864.964200</td>\n",
       "      <td>54.234716</td>\n",
       "      <td>196.602028</td>\n",
       "      <td>-0.144155</td>\n",
       "      <td>629.0</td>\n",
       "    </tr>\n",
       "    <tr>\n",
       "      <th>2018-01-05</th>\n",
       "      <td>115883</td>\n",
       "      <td>5.809624</td>\n",
       "      <td>17429.500000</td>\n",
       "      <td>2.384090e+10</td>\n",
       "      <td>12.614</td>\n",
       "      <td>16779.16634</td>\n",
       "      <td>20605.405339</td>\n",
       "      <td>6333.225442</td>\n",
       "      <td>1103.623175</td>\n",
       "      <td>60.810539</td>\n",
       "      <td>382.456370</td>\n",
       "      <td>0.197948</td>\n",
       "      <td>686.0</td>\n",
       "    </tr>\n",
       "  </tbody>\n",
       "</table>\n",
       "</div>"
      ],
      "text/plain": [
       "            tweet_count  twitter_sentiment      adjClose        volume  \\\n",
       "start                                                                    \n",
       "2018-01-01        90414           4.087525  13657.200195  1.029120e+10   \n",
       "2018-01-02       125905           4.721295  14982.099609  1.684660e+10   \n",
       "2018-01-03       134825           6.096648  15201.000000  1.687190e+10   \n",
       "2018-01-04       126106           4.738479  15599.200195  2.178320e+10   \n",
       "2018-01-05       115883           5.809624  17429.500000  2.384090e+10   \n",
       "\n",
       "            changePercent         vwap       UpperBB      LowerBB  \\\n",
       "start                                                               \n",
       "2018-01-01         -3.224  13641.36686  20532.876074  5012.581523   \n",
       "2018-01-02          9.960  14530.09961  20514.236225  5368.125747   \n",
       "2018-01-03          1.487  15206.09994  20488.303236  5736.668737   \n",
       "2018-01-04          2.151  15287.03353  20492.881190  6063.437189   \n",
       "2018-01-05         12.614  16779.16634  20605.405339  6333.225442   \n",
       "\n",
       "             volatility        rsi        macd  reddit_sentiment  \\\n",
       "start                                                              \n",
       "2018-01-01  1290.493390  46.256417   95.011453          0.191187   \n",
       "2018-01-02  1018.066882  51.765003  112.782434          0.476037   \n",
       "2018-01-03   883.368621  52.628926  142.882437          0.689065   \n",
       "2018-01-04   864.964200  54.234716  196.602028         -0.144155   \n",
       "2018-01-05  1103.623175  60.810539  382.456370          0.197948   \n",
       "\n",
       "            reddit_post_count  \n",
       "start                          \n",
       "2018-01-01              464.0  \n",
       "2018-01-02              594.0  \n",
       "2018-01-03              620.0  \n",
       "2018-01-04              629.0  \n",
       "2018-01-05              686.0  "
      ]
     },
     "execution_count": 115,
     "metadata": {},
     "output_type": "execute_result"
    }
   ],
   "source": [
    "df.head()"
   ]
  },
  {
   "cell_type": "code",
   "execution_count": 143,
   "id": "4279f5c3",
   "metadata": {
    "scrolled": false
   },
   "outputs": [
    {
     "data": {
      "text/html": [
       "<div>\n",
       "<style scoped>\n",
       "    .dataframe tbody tr th:only-of-type {\n",
       "        vertical-align: middle;\n",
       "    }\n",
       "\n",
       "    .dataframe tbody tr th {\n",
       "        vertical-align: top;\n",
       "    }\n",
       "\n",
       "    .dataframe thead th {\n",
       "        text-align: right;\n",
       "    }\n",
       "</style>\n",
       "<table border=\"1\" class=\"dataframe\">\n",
       "  <thead>\n",
       "    <tr style=\"text-align: right;\">\n",
       "      <th></th>\n",
       "      <th>tweet_count</th>\n",
       "      <th>twitter_sentiment</th>\n",
       "      <th>adjClose</th>\n",
       "      <th>volume</th>\n",
       "      <th>changePercent</th>\n",
       "      <th>vwap</th>\n",
       "      <th>UpperBB</th>\n",
       "      <th>LowerBB</th>\n",
       "      <th>volatility</th>\n",
       "      <th>rsi</th>\n",
       "      <th>macd</th>\n",
       "      <th>reddit_sentiment</th>\n",
       "      <th>reddit_post_count</th>\n",
       "    </tr>\n",
       "  </thead>\n",
       "  <tbody>\n",
       "    <tr>\n",
       "      <th>count</th>\n",
       "      <td>1295.000000</td>\n",
       "      <td>1251.000000</td>\n",
       "      <td>1295.000000</td>\n",
       "      <td>1.295000e+03</td>\n",
       "      <td>1295.000000</td>\n",
       "      <td>1295.000000</td>\n",
       "      <td>1295.000000</td>\n",
       "      <td>1295.000000</td>\n",
       "      <td>1295.000000</td>\n",
       "      <td>1295.000000</td>\n",
       "      <td>1295.000000</td>\n",
       "      <td>1201.000000</td>\n",
       "      <td>1201.000000</td>\n",
       "    </tr>\n",
       "    <tr>\n",
       "      <th>mean</th>\n",
       "      <td>95216.486486</td>\n",
       "      <td>4.004496</td>\n",
       "      <td>15172.254281</td>\n",
       "      <td>2.463181e+10</td>\n",
       "      <td>0.183723</td>\n",
       "      <td>15140.318650</td>\n",
       "      <td>18206.198166</td>\n",
       "      <td>11039.826584</td>\n",
       "      <td>862.930606</td>\n",
       "      <td>52.252337</td>\n",
       "      <td>154.744315</td>\n",
       "      <td>0.434781</td>\n",
       "      <td>251.019151</td>\n",
       "    </tr>\n",
       "    <tr>\n",
       "      <th>std</th>\n",
       "      <td>87497.562638</td>\n",
       "      <td>2.159734</td>\n",
       "      <td>14716.895342</td>\n",
       "      <td>2.171723e+10</td>\n",
       "      <td>4.000777</td>\n",
       "      <td>14668.899023</td>\n",
       "      <td>17512.931521</td>\n",
       "      <td>10675.075977</td>\n",
       "      <td>1087.547778</td>\n",
       "      <td>14.335364</td>\n",
       "      <td>1110.764108</td>\n",
       "      <td>0.351883</td>\n",
       "      <td>149.406265</td>\n",
       "    </tr>\n",
       "    <tr>\n",
       "      <th>min</th>\n",
       "      <td>29265.000000</td>\n",
       "      <td>-0.524593</td>\n",
       "      <td>3236.761719</td>\n",
       "      <td>2.923670e+09</td>\n",
       "      <td>-37.187000</td>\n",
       "      <td>3234.481040</td>\n",
       "      <td>3994.801134</td>\n",
       "      <td>2277.308319</td>\n",
       "      <td>37.475515</td>\n",
       "      <td>9.920239</td>\n",
       "      <td>-5053.254798</td>\n",
       "      <td>-0.750258</td>\n",
       "      <td>11.000000</td>\n",
       "    </tr>\n",
       "    <tr>\n",
       "      <th>25%</th>\n",
       "      <td>45644.000000</td>\n",
       "      <td>2.242963</td>\n",
       "      <td>6843.328857</td>\n",
       "      <td>7.258674e+09</td>\n",
       "      <td>-1.522000</td>\n",
       "      <td>6833.774010</td>\n",
       "      <td>8348.078310</td>\n",
       "      <td>5696.173578</td>\n",
       "      <td>217.072081</td>\n",
       "      <td>42.561986</td>\n",
       "      <td>-225.581168</td>\n",
       "      <td>0.252901</td>\n",
       "      <td>149.000000</td>\n",
       "    </tr>\n",
       "    <tr>\n",
       "      <th>50%</th>\n",
       "      <td>58581.000000</td>\n",
       "      <td>4.060017</td>\n",
       "      <td>9190.854492</td>\n",
       "      <td>1.970970e+10</td>\n",
       "      <td>0.132000</td>\n",
       "      <td>9169.193030</td>\n",
       "      <td>10680.118170</td>\n",
       "      <td>6992.782247</td>\n",
       "      <td>422.904464</td>\n",
       "      <td>51.300568</td>\n",
       "      <td>7.688936</td>\n",
       "      <td>0.522565</td>\n",
       "      <td>199.000000</td>\n",
       "    </tr>\n",
       "    <tr>\n",
       "      <th>75%</th>\n",
       "      <td>94609.000000</td>\n",
       "      <td>5.532219</td>\n",
       "      <td>12346.645019</td>\n",
       "      <td>3.461106e+10</td>\n",
       "      <td>1.864500</td>\n",
       "      <td>12213.081055</td>\n",
       "      <td>17161.398239</td>\n",
       "      <td>9674.992451</td>\n",
       "      <td>922.110833</td>\n",
       "      <td>61.620811</td>\n",
       "      <td>369.572592</td>\n",
       "      <td>0.698950</td>\n",
       "      <td>304.000000</td>\n",
       "    </tr>\n",
       "    <tr>\n",
       "      <th>max</th>\n",
       "      <td>905884.000000</td>\n",
       "      <td>15.148350</td>\n",
       "      <td>63503.457031</td>\n",
       "      <td>3.509679e+11</td>\n",
       "      <td>18.797000</td>\n",
       "      <td>63114.882810</td>\n",
       "      <td>68529.194252</td>\n",
       "      <td>50666.918581</td>\n",
       "      <td>7090.539451</td>\n",
       "      <td>90.719554</td>\n",
       "      <td>5289.956609</td>\n",
       "      <td>0.936437</td>\n",
       "      <td>1000.000000</td>\n",
       "    </tr>\n",
       "  </tbody>\n",
       "</table>\n",
       "</div>"
      ],
      "text/plain": [
       "         tweet_count  twitter_sentiment      adjClose        volume  \\\n",
       "count    1295.000000        1251.000000   1295.000000  1.295000e+03   \n",
       "mean    95216.486486           4.004496  15172.254281  2.463181e+10   \n",
       "std     87497.562638           2.159734  14716.895342  2.171723e+10   \n",
       "min     29265.000000          -0.524593   3236.761719  2.923670e+09   \n",
       "25%     45644.000000           2.242963   6843.328857  7.258674e+09   \n",
       "50%     58581.000000           4.060017   9190.854492  1.970970e+10   \n",
       "75%     94609.000000           5.532219  12346.645019  3.461106e+10   \n",
       "max    905884.000000          15.148350  63503.457031  3.509679e+11   \n",
       "\n",
       "       changePercent          vwap       UpperBB       LowerBB   volatility  \\\n",
       "count    1295.000000   1295.000000   1295.000000   1295.000000  1295.000000   \n",
       "mean        0.183723  15140.318650  18206.198166  11039.826584   862.930606   \n",
       "std         4.000777  14668.899023  17512.931521  10675.075977  1087.547778   \n",
       "min       -37.187000   3234.481040   3994.801134   2277.308319    37.475515   \n",
       "25%        -1.522000   6833.774010   8348.078310   5696.173578   217.072081   \n",
       "50%         0.132000   9169.193030  10680.118170   6992.782247   422.904464   \n",
       "75%         1.864500  12213.081055  17161.398239   9674.992451   922.110833   \n",
       "max        18.797000  63114.882810  68529.194252  50666.918581  7090.539451   \n",
       "\n",
       "               rsi         macd  reddit_sentiment  reddit_post_count  \n",
       "count  1295.000000  1295.000000       1201.000000        1201.000000  \n",
       "mean     52.252337   154.744315          0.434781         251.019151  \n",
       "std      14.335364  1110.764108          0.351883         149.406265  \n",
       "min       9.920239 -5053.254798         -0.750258          11.000000  \n",
       "25%      42.561986  -225.581168          0.252901         149.000000  \n",
       "50%      51.300568     7.688936          0.522565         199.000000  \n",
       "75%      61.620811   369.572592          0.698950         304.000000  \n",
       "max      90.719554  5289.956609          0.936437        1000.000000  "
      ]
     },
     "execution_count": 143,
     "metadata": {},
     "output_type": "execute_result"
    }
   ],
   "source": [
    "df.describe()"
   ]
  },
  {
   "cell_type": "code",
   "execution_count": 148,
   "id": "3a1b4869",
   "metadata": {
    "scrolled": true
   },
   "outputs": [
    {
     "data": {
      "text/html": [
       "<div>\n",
       "<style scoped>\n",
       "    .dataframe tbody tr th:only-of-type {\n",
       "        vertical-align: middle;\n",
       "    }\n",
       "\n",
       "    .dataframe tbody tr th {\n",
       "        vertical-align: top;\n",
       "    }\n",
       "\n",
       "    .dataframe thead th {\n",
       "        text-align: right;\n",
       "    }\n",
       "</style>\n",
       "<table border=\"1\" class=\"dataframe\">\n",
       "  <thead>\n",
       "    <tr style=\"text-align: right;\">\n",
       "      <th></th>\n",
       "      <th>tweet_count</th>\n",
       "      <th>twitter_sentiment</th>\n",
       "      <th>adjClose</th>\n",
       "      <th>volume</th>\n",
       "      <th>changePercent</th>\n",
       "      <th>vwap</th>\n",
       "      <th>UpperBB</th>\n",
       "      <th>LowerBB</th>\n",
       "      <th>volatility</th>\n",
       "      <th>rsi</th>\n",
       "      <th>macd</th>\n",
       "      <th>reddit_sentiment</th>\n",
       "      <th>reddit_post_count</th>\n",
       "    </tr>\n",
       "    <tr>\n",
       "      <th>start</th>\n",
       "      <th></th>\n",
       "      <th></th>\n",
       "      <th></th>\n",
       "      <th></th>\n",
       "      <th></th>\n",
       "      <th></th>\n",
       "      <th></th>\n",
       "      <th></th>\n",
       "      <th></th>\n",
       "      <th></th>\n",
       "      <th></th>\n",
       "      <th></th>\n",
       "      <th></th>\n",
       "    </tr>\n",
       "  </thead>\n",
       "  <tbody>\n",
       "    <tr>\n",
       "      <th>2018-01-01</th>\n",
       "      <td>90414</td>\n",
       "      <td>4.087525</td>\n",
       "      <td>13657.200195</td>\n",
       "      <td>1.029120e+10</td>\n",
       "      <td>-3.224</td>\n",
       "      <td>13641.36686</td>\n",
       "      <td>20532.876074</td>\n",
       "      <td>5012.581523</td>\n",
       "      <td>1290.493390</td>\n",
       "      <td>46.256417</td>\n",
       "      <td>95.011453</td>\n",
       "      <td>0.191187</td>\n",
       "      <td>464.0</td>\n",
       "    </tr>\n",
       "    <tr>\n",
       "      <th>2018-01-02</th>\n",
       "      <td>125905</td>\n",
       "      <td>4.721295</td>\n",
       "      <td>14982.099609</td>\n",
       "      <td>1.684660e+10</td>\n",
       "      <td>9.960</td>\n",
       "      <td>14530.09961</td>\n",
       "      <td>20514.236225</td>\n",
       "      <td>5368.125747</td>\n",
       "      <td>1018.066882</td>\n",
       "      <td>51.765003</td>\n",
       "      <td>112.782434</td>\n",
       "      <td>0.476037</td>\n",
       "      <td>594.0</td>\n",
       "    </tr>\n",
       "    <tr>\n",
       "      <th>2018-01-03</th>\n",
       "      <td>134825</td>\n",
       "      <td>6.096648</td>\n",
       "      <td>15201.000000</td>\n",
       "      <td>1.687190e+10</td>\n",
       "      <td>1.487</td>\n",
       "      <td>15206.09994</td>\n",
       "      <td>20488.303236</td>\n",
       "      <td>5736.668737</td>\n",
       "      <td>883.368621</td>\n",
       "      <td>52.628926</td>\n",
       "      <td>142.882437</td>\n",
       "      <td>0.689065</td>\n",
       "      <td>620.0</td>\n",
       "    </tr>\n",
       "    <tr>\n",
       "      <th>2018-01-04</th>\n",
       "      <td>126106</td>\n",
       "      <td>4.738479</td>\n",
       "      <td>15599.200195</td>\n",
       "      <td>2.178320e+10</td>\n",
       "      <td>2.151</td>\n",
       "      <td>15287.03353</td>\n",
       "      <td>20492.881190</td>\n",
       "      <td>6063.437189</td>\n",
       "      <td>864.964200</td>\n",
       "      <td>54.234716</td>\n",
       "      <td>196.602028</td>\n",
       "      <td>-0.144155</td>\n",
       "      <td>629.0</td>\n",
       "    </tr>\n",
       "    <tr>\n",
       "      <th>2018-01-05</th>\n",
       "      <td>115883</td>\n",
       "      <td>5.809624</td>\n",
       "      <td>17429.500000</td>\n",
       "      <td>2.384090e+10</td>\n",
       "      <td>12.614</td>\n",
       "      <td>16779.16634</td>\n",
       "      <td>20605.405339</td>\n",
       "      <td>6333.225442</td>\n",
       "      <td>1103.623175</td>\n",
       "      <td>60.810539</td>\n",
       "      <td>382.456370</td>\n",
       "      <td>0.197948</td>\n",
       "      <td>686.0</td>\n",
       "    </tr>\n",
       "  </tbody>\n",
       "</table>\n",
       "</div>"
      ],
      "text/plain": [
       "            tweet_count  twitter_sentiment      adjClose        volume  \\\n",
       "start                                                                    \n",
       "2018-01-01        90414           4.087525  13657.200195  1.029120e+10   \n",
       "2018-01-02       125905           4.721295  14982.099609  1.684660e+10   \n",
       "2018-01-03       134825           6.096648  15201.000000  1.687190e+10   \n",
       "2018-01-04       126106           4.738479  15599.200195  2.178320e+10   \n",
       "2018-01-05       115883           5.809624  17429.500000  2.384090e+10   \n",
       "\n",
       "            changePercent         vwap       UpperBB      LowerBB  \\\n",
       "start                                                               \n",
       "2018-01-01         -3.224  13641.36686  20532.876074  5012.581523   \n",
       "2018-01-02          9.960  14530.09961  20514.236225  5368.125747   \n",
       "2018-01-03          1.487  15206.09994  20488.303236  5736.668737   \n",
       "2018-01-04          2.151  15287.03353  20492.881190  6063.437189   \n",
       "2018-01-05         12.614  16779.16634  20605.405339  6333.225442   \n",
       "\n",
       "             volatility        rsi        macd  reddit_sentiment  \\\n",
       "start                                                              \n",
       "2018-01-01  1290.493390  46.256417   95.011453          0.191187   \n",
       "2018-01-02  1018.066882  51.765003  112.782434          0.476037   \n",
       "2018-01-03   883.368621  52.628926  142.882437          0.689065   \n",
       "2018-01-04   864.964200  54.234716  196.602028         -0.144155   \n",
       "2018-01-05  1103.623175  60.810539  382.456370          0.197948   \n",
       "\n",
       "            reddit_post_count  \n",
       "start                          \n",
       "2018-01-01              464.0  \n",
       "2018-01-02              594.0  \n",
       "2018-01-03              620.0  \n",
       "2018-01-04              629.0  \n",
       "2018-01-05              686.0  "
      ]
     },
     "execution_count": 148,
     "metadata": {},
     "output_type": "execute_result"
    }
   ],
   "source": [
    "df.head()"
   ]
  },
  {
   "cell_type": "code",
   "execution_count": 149,
   "id": "44ede2ed",
   "metadata": {
    "scrolled": true
   },
   "outputs": [
    {
     "data": {
      "text/html": [
       "<div>\n",
       "<style scoped>\n",
       "    .dataframe tbody tr th:only-of-type {\n",
       "        vertical-align: middle;\n",
       "    }\n",
       "\n",
       "    .dataframe tbody tr th {\n",
       "        vertical-align: top;\n",
       "    }\n",
       "\n",
       "    .dataframe thead th {\n",
       "        text-align: right;\n",
       "    }\n",
       "</style>\n",
       "<table border=\"1\" class=\"dataframe\">\n",
       "  <thead>\n",
       "    <tr style=\"text-align: right;\">\n",
       "      <th></th>\n",
       "      <th>tweet_count</th>\n",
       "      <th>twitter_sentiment</th>\n",
       "      <th>adjClose</th>\n",
       "      <th>volume</th>\n",
       "      <th>changePercent</th>\n",
       "      <th>vwap</th>\n",
       "      <th>UpperBB</th>\n",
       "      <th>LowerBB</th>\n",
       "      <th>volatility</th>\n",
       "      <th>rsi</th>\n",
       "      <th>macd</th>\n",
       "      <th>reddit_sentiment</th>\n",
       "      <th>reddit_post_count</th>\n",
       "    </tr>\n",
       "    <tr>\n",
       "      <th>start</th>\n",
       "      <th></th>\n",
       "      <th></th>\n",
       "      <th></th>\n",
       "      <th></th>\n",
       "      <th></th>\n",
       "      <th></th>\n",
       "      <th></th>\n",
       "      <th></th>\n",
       "      <th></th>\n",
       "      <th></th>\n",
       "      <th></th>\n",
       "      <th></th>\n",
       "      <th></th>\n",
       "    </tr>\n",
       "  </thead>\n",
       "  <tbody>\n",
       "    <tr>\n",
       "      <th>2021-08-27</th>\n",
       "      <td>318837</td>\n",
       "      <td>0.755258</td>\n",
       "      <td>49058.667969</td>\n",
       "      <td>3.451108e+10</td>\n",
       "      <td>4.615</td>\n",
       "      <td>48188.57813</td>\n",
       "      <td>53283.267528</td>\n",
       "      <td>27543.956222</td>\n",
       "      <td>1604.742754</td>\n",
       "      <td>61.333674</td>\n",
       "      <td>2205.235921</td>\n",
       "      <td>0.472290</td>\n",
       "      <td>269.0</td>\n",
       "    </tr>\n",
       "    <tr>\n",
       "      <th>2021-08-28</th>\n",
       "      <td>275021</td>\n",
       "      <td>2.404883</td>\n",
       "      <td>48902.402344</td>\n",
       "      <td>2.856810e+10</td>\n",
       "      <td>-0.347</td>\n",
       "      <td>48895.04818</td>\n",
       "      <td>53660.398373</td>\n",
       "      <td>27771.001002</td>\n",
       "      <td>1632.908812</td>\n",
       "      <td>60.758105</td>\n",
       "      <td>2139.546072</td>\n",
       "      <td>0.417047</td>\n",
       "      <td>219.0</td>\n",
       "    </tr>\n",
       "    <tr>\n",
       "      <th>2021-08-29</th>\n",
       "      <td>321682</td>\n",
       "      <td>1.261597</td>\n",
       "      <td>48829.832031</td>\n",
       "      <td>2.588965e+10</td>\n",
       "      <td>-0.166</td>\n",
       "      <td>48799.93359</td>\n",
       "      <td>53996.130503</td>\n",
       "      <td>28047.641373</td>\n",
       "      <td>1645.660840</td>\n",
       "      <td>60.474282</td>\n",
       "      <td>2057.908289</td>\n",
       "      <td>0.835773</td>\n",
       "      <td>199.0</td>\n",
       "    </tr>\n",
       "    <tr>\n",
       "      <th>2021-08-30</th>\n",
       "      <td>305249</td>\n",
       "      <td>1.388991</td>\n",
       "      <td>47054.984375</td>\n",
       "      <td>3.184701e+10</td>\n",
       "      <td>-3.645</td>\n",
       "      <td>47643.62109</td>\n",
       "      <td>54211.850902</td>\n",
       "      <td>28344.512848</td>\n",
       "      <td>1583.112611</td>\n",
       "      <td>53.848934</td>\n",
       "      <td>1828.911828</td>\n",
       "      <td>0.722232</td>\n",
       "      <td>232.0</td>\n",
       "    </tr>\n",
       "    <tr>\n",
       "      <th>2021-08-31</th>\n",
       "      <td>296186</td>\n",
       "      <td>1.899930</td>\n",
       "      <td>47166.687500</td>\n",
       "      <td>3.473036e+10</td>\n",
       "      <td>0.303</td>\n",
       "      <td>47368.77734</td>\n",
       "      <td>54380.425623</td>\n",
       "      <td>28736.371721</td>\n",
       "      <td>1332.427984</td>\n",
       "      <td>54.189103</td>\n",
       "      <td>1637.567137</td>\n",
       "      <td>0.628596</td>\n",
       "      <td>259.0</td>\n",
       "    </tr>\n",
       "  </tbody>\n",
       "</table>\n",
       "</div>"
      ],
      "text/plain": [
       "            tweet_count  twitter_sentiment      adjClose        volume  \\\n",
       "start                                                                    \n",
       "2021-08-27       318837           0.755258  49058.667969  3.451108e+10   \n",
       "2021-08-28       275021           2.404883  48902.402344  2.856810e+10   \n",
       "2021-08-29       321682           1.261597  48829.832031  2.588965e+10   \n",
       "2021-08-30       305249           1.388991  47054.984375  3.184701e+10   \n",
       "2021-08-31       296186           1.899930  47166.687500  3.473036e+10   \n",
       "\n",
       "            changePercent         vwap       UpperBB       LowerBB  \\\n",
       "start                                                                \n",
       "2021-08-27          4.615  48188.57813  53283.267528  27543.956222   \n",
       "2021-08-28         -0.347  48895.04818  53660.398373  27771.001002   \n",
       "2021-08-29         -0.166  48799.93359  53996.130503  28047.641373   \n",
       "2021-08-30         -3.645  47643.62109  54211.850902  28344.512848   \n",
       "2021-08-31          0.303  47368.77734  54380.425623  28736.371721   \n",
       "\n",
       "             volatility        rsi         macd  reddit_sentiment  \\\n",
       "start                                                               \n",
       "2021-08-27  1604.742754  61.333674  2205.235921          0.472290   \n",
       "2021-08-28  1632.908812  60.758105  2139.546072          0.417047   \n",
       "2021-08-29  1645.660840  60.474282  2057.908289          0.835773   \n",
       "2021-08-30  1583.112611  53.848934  1828.911828          0.722232   \n",
       "2021-08-31  1332.427984  54.189103  1637.567137          0.628596   \n",
       "\n",
       "            reddit_post_count  \n",
       "start                          \n",
       "2021-08-27              269.0  \n",
       "2021-08-28              219.0  \n",
       "2021-08-29              199.0  \n",
       "2021-08-30              232.0  \n",
       "2021-08-31              259.0  "
      ]
     },
     "execution_count": 149,
     "metadata": {},
     "output_type": "execute_result"
    }
   ],
   "source": [
    "df.tail()"
   ]
  },
  {
   "cell_type": "code",
   "execution_count": 151,
   "id": "a968d2e6",
   "metadata": {},
   "outputs": [],
   "source": [
    "from sklearn.impute import KNNImputer"
   ]
  },
  {
   "cell_type": "code",
   "execution_count": 157,
   "id": "e39d07ee",
   "metadata": {
    "scrolled": false
   },
   "outputs": [],
   "source": [
    "imputer = KNNImputer(n_neighbors=2)\n",
    "df['reddit_sentiment'],df['reddit_post_count'],df['twitter_sentiment'] = imputer.fit_transform(df[['reddit_sentiment','reddit_post_count','twitter_sentiment']]).T"
   ]
  },
  {
   "cell_type": "code",
   "execution_count": 169,
   "id": "95a9a31c",
   "metadata": {
    "scrolled": true
   },
   "outputs": [
    {
     "data": {
      "text/plain": [
       "tweet_count          0\n",
       "twitter_sentiment    0\n",
       "adjClose             0\n",
       "volume               0\n",
       "changePercent        0\n",
       "vwap                 0\n",
       "UpperBB              0\n",
       "LowerBB              0\n",
       "volatility           0\n",
       "rsi                  0\n",
       "macd                 0\n",
       "reddit_sentiment     0\n",
       "reddit_post_count    0\n",
       "dtype: int64"
      ]
     },
     "execution_count": 169,
     "metadata": {},
     "output_type": "execute_result"
    }
   ],
   "source": [
    "df.isnull().sum()"
   ]
  },
  {
   "cell_type": "code",
   "execution_count": 170,
   "id": "9b67fbe3",
   "metadata": {},
   "outputs": [
    {
     "data": {
      "text/plain": [
       "array([0, 0, 0, 0, 0, 0, 0, 0, 0, 0, 0, 0, 0])"
      ]
     },
     "execution_count": 170,
     "metadata": {},
     "output_type": "execute_result"
    }
   ],
   "source": [
    "df.isnull().values.sum(axis = 0)"
   ]
  },
  {
   "cell_type": "code",
   "execution_count": 171,
   "id": "f98da73c",
   "metadata": {},
   "outputs": [],
   "source": [
    "import os\n",
    "import datetime\n",
    "\n",
    "import IPython\n",
    "import IPython.display\n",
    "import matplotlib as mpl\n",
    "import matplotlib.pyplot as plt\n",
    "import numpy as np\n",
    "import pandas as pd\n",
    "import seaborn as sns\n",
    "import tensorflow as tf\n",
    "\n",
    "mpl.rcParams['figure.figsize'] = (8, 6)\n",
    "mpl.rcParams['axes.grid'] = False"
   ]
  },
  {
   "cell_type": "code",
   "execution_count": 172,
   "id": "7bf63702",
   "metadata": {},
   "outputs": [],
   "source": [
    "column_indices = {name: i for i, name in enumerate(df.columns)}\n",
    "\n",
    "n = len(df)\n",
    "train_df = df[0:int(n*0.7)]\n",
    "val_df = df[int(n*0.7):int(n*0.9)]\n",
    "test_df = df[int(n*0.9):]\n",
    "\n",
    "num_features = df.shape[1]"
   ]
  },
  {
   "cell_type": "code",
   "execution_count": 173,
   "id": "2af87cf2",
   "metadata": {
    "scrolled": true
   },
   "outputs": [],
   "source": [
    "train_mean = train_df.mean()\n",
    "train_std = train_df.std()\n",
    "\n",
    "train_df = (train_df - train_mean) / train_std\n",
    "val_df = (val_df - train_mean) / train_std\n",
    "test_df = (test_df - train_mean) / train_std"
   ]
  },
  {
   "cell_type": "code",
   "execution_count": 174,
   "id": "b428e1b3",
   "metadata": {},
   "outputs": [],
   "source": [
    "class WindowGenerator():\n",
    "  def __init__(self, input_width, label_width, shift,\n",
    "               train_df=train_df, val_df=val_df, test_df=test_df,\n",
    "               label_columns=None):\n",
    "    # Store the raw data.\n",
    "    self.train_df = train_df\n",
    "    self.val_df = val_df\n",
    "    self.test_df = test_df\n",
    "\n",
    "    # Work out the label column indices.\n",
    "    self.label_columns = label_columns\n",
    "    if label_columns is not None:\n",
    "      self.label_columns_indices = {name: i for i, name in\n",
    "                                    enumerate(label_columns)}\n",
    "    self.column_indices = {name: i for i, name in\n",
    "                           enumerate(train_df.columns)}\n",
    "\n",
    "    # Work out the window parameters.\n",
    "    self.input_width = input_width\n",
    "    self.label_width = label_width\n",
    "    self.shift = shift\n",
    "\n",
    "    self.total_window_size = input_width + shift\n",
    "\n",
    "    self.input_slice = slice(0, input_width)\n",
    "    self.input_indices = np.arange(self.total_window_size)[self.input_slice]\n",
    "\n",
    "    self.label_start = self.total_window_size - self.label_width\n",
    "    self.labels_slice = slice(self.label_start, None)\n",
    "    self.label_indices = np.arange(self.total_window_size)[self.labels_slice]\n",
    "\n",
    "  def __repr__(self):\n",
    "    return '\\n'.join([\n",
    "        f'Total window size: {self.total_window_size}',\n",
    "        f'Input indices: {self.input_indices}',\n",
    "        f'Label indices: {self.label_indices}',\n",
    "        f'Label column name(s): {self.label_columns}'])"
   ]
  },
  {
   "cell_type": "code",
   "execution_count": 275,
   "id": "ba7e8e91",
   "metadata": {},
   "outputs": [
    {
     "data": {
      "text/plain": [
       "Total window size: 49\n",
       "Input indices: [ 0  1  2  3  4  5  6  7  8  9 10 11 12 13 14 15 16 17 18 19 20 21 22 23\n",
       " 24 25 26 27 28 29 30 31 32 33 34 35 36 37 38 39 40 41 42 43 44 45 46 47]\n",
       "Label indices: [48]\n",
       "Label column name(s): ['adjClose']"
      ]
     },
     "execution_count": 275,
     "metadata": {},
     "output_type": "execute_result"
    }
   ],
   "source": [
    "w1 = WindowGenerator(input_width=48, label_width=1, shift=1,\n",
    "                     label_columns=['adjClose'])\n",
    "w1"
   ]
  },
  {
   "cell_type": "code",
   "execution_count": 276,
   "id": "e87dda10",
   "metadata": {},
   "outputs": [
    {
     "data": {
      "text/plain": [
       "Total window size: 25\n",
       "Input indices: [ 0  1  2  3  4  5  6  7  8  9 10 11 12 13 14 15 16 17 18 19 20 21 22 23]\n",
       "Label indices: [24]\n",
       "Label column name(s): ['adjClose']"
      ]
     },
     "execution_count": 276,
     "metadata": {},
     "output_type": "execute_result"
    }
   ],
   "source": [
    "w2 = WindowGenerator(input_width=24, label_width=1, shift=1,\n",
    "                     label_columns=['adjClose'])\n",
    "w2"
   ]
  },
  {
   "cell_type": "code",
   "execution_count": 277,
   "id": "eca1e143",
   "metadata": {},
   "outputs": [],
   "source": [
    "def split_window(self, features):\n",
    "  inputs = features[:, self.input_slice, :]\n",
    "  labels = features[:, self.labels_slice, :]\n",
    "  if self.label_columns is not None:\n",
    "    labels = tf.stack(\n",
    "        [labels[:, :, self.column_indices[name]] for name in self.label_columns],\n",
    "        axis=-1)\n",
    "\n",
    "  # Slicing doesn't preserve static shape information, so set the shapes\n",
    "  # manually. This way the `tf.data.Datasets` are easier to inspect.\n",
    "  inputs.set_shape([None, self.input_width, None])\n",
    "  labels.set_shape([None, self.label_width, None])\n",
    "\n",
    "  return inputs, labels\n",
    "\n",
    "WindowGenerator.split_window = split_window"
   ]
  },
  {
   "cell_type": "code",
   "execution_count": 278,
   "id": "c4170077",
   "metadata": {},
   "outputs": [
    {
     "name": "stdout",
     "output_type": "stream",
     "text": [
      "All shapes are: (batch, time, features)\n",
      "Window shape: (3, 25, 13)\n",
      "Inputs shape: (3, 24, 13)\n",
      "Labels shape: (3, 1, 1)\n"
     ]
    }
   ],
   "source": [
    "# Stack three slices, the length of the total window.\n",
    "example_window = tf.stack([np.array(train_df[:w2.total_window_size]),\n",
    "                           np.array(train_df[100:100+w2.total_window_size]),\n",
    "                           np.array(train_df[200:200+w2.total_window_size])])\n",
    "\n",
    "example_inputs, example_labels = w2.split_window(example_window)\n",
    "\n",
    "print('All shapes are: (batch, time, features)')\n",
    "print(f'Window shape: {example_window.shape}')\n",
    "print(f'Inputs shape: {example_inputs.shape}')\n",
    "print(f'Labels shape: {example_labels.shape}')"
   ]
  },
  {
   "cell_type": "code",
   "execution_count": 279,
   "id": "c03355f7",
   "metadata": {},
   "outputs": [
    {
     "ename": "AttributeError",
     "evalue": "can't set attribute",
     "output_type": "error",
     "traceback": [
      "\u001b[0;31m---------------------------------------------------------------------------\u001b[0m",
      "\u001b[0;31mAttributeError\u001b[0m                            Traceback (most recent call last)",
      "\u001b[0;32m/tmp/ipykernel_19572/1189466449.py\u001b[0m in \u001b[0;36m<module>\u001b[0;34m\u001b[0m\n\u001b[0;32m----> 1\u001b[0;31m \u001b[0mw2\u001b[0m\u001b[0;34m.\u001b[0m\u001b[0mexample\u001b[0m \u001b[0;34m=\u001b[0m \u001b[0mexample_inputs\u001b[0m\u001b[0;34m,\u001b[0m \u001b[0mexample_labels\u001b[0m\u001b[0;34m\u001b[0m\u001b[0;34m\u001b[0m\u001b[0m\n\u001b[0m",
      "\u001b[0;31mAttributeError\u001b[0m: can't set attribute"
     ]
    }
   ],
   "source": [
    "w2.example = example_inputs, example_labels"
   ]
  },
  {
   "cell_type": "code",
   "execution_count": 280,
   "id": "2aed3ba9",
   "metadata": {},
   "outputs": [],
   "source": [
    "def plot(self, model=None, plot_col='adjClose', max_subplots=3):\n",
    "  inputs, labels = self.example\n",
    "  plt.figure(figsize=(12, 8))\n",
    "  plot_col_index = self.column_indices[plot_col]\n",
    "  max_n = min(max_subplots, len(inputs))\n",
    "  for n in range(max_n):\n",
    "    plt.subplot(max_n, 1, n+1)\n",
    "    plt.ylabel(f'{plot_col} [normed]')\n",
    "    plt.plot(self.input_indices, inputs[n, :, plot_col_index],\n",
    "             label='Inputs', marker='.', zorder=-10)\n",
    "\n",
    "    if self.label_columns:\n",
    "      label_col_index = self.label_columns_indices.get(plot_col, None)\n",
    "    else:\n",
    "      label_col_index = plot_col_index\n",
    "\n",
    "    if label_col_index is None:\n",
    "      continue\n",
    "\n",
    "    plt.scatter(self.label_indices, labels[n, :, label_col_index],\n",
    "                edgecolors='k', label='Labels', c='#2ca02c', s=64)\n",
    "    if model is not None:\n",
    "      predictions = model(inputs)\n",
    "      plt.scatter(self.label_indices, predictions[n, :, label_col_index],\n",
    "                  marker='X', edgecolors='k', label='Predictions',\n",
    "                  c='#ff7f0e', s=64)\n",
    "\n",
    "    if n == 0:\n",
    "      plt.legend()\n",
    "\n",
    "  plt.xlabel('Time [h]')\n",
    "\n",
    "WindowGenerator.plot = plot"
   ]
  },
  {
   "cell_type": "code",
   "execution_count": 281,
   "id": "0490e94e",
   "metadata": {},
   "outputs": [
    {
     "data": {
      "image/png": "[encoded data removed]",
      "text/plain": [
       "<Figure size 864x576 with 3 Axes>"
      ]
     },
     "metadata": {
      "needs_background": "light"
     },
     "output_type": "display_data"
    }
   ],
   "source": [
    "w2.plot()"
   ]
  },
  {
   "cell_type": "code",
   "execution_count": 282,
   "id": "3b24b2a1",
   "metadata": {},
   "outputs": [],
   "source": [
    "def make_dataset(self, data):\n",
    "  data = np.array(data, dtype=np.float32)\n",
    "  ds = tf.keras.preprocessing.timeseries_dataset_from_array(\n",
    "      data=data,\n",
    "      targets=None,\n",
    "      sequence_length=self.total_window_size,\n",
    "      sequence_stride=1,\n",
    "      shuffle=True,\n",
    "      batch_size=32,)\n",
    "\n",
    "  ds = ds.map(self.split_window)\n",
    "\n",
    "  return ds\n",
    "\n",
    "WindowGenerator.make_dataset = make_dataset"
   ]
  },
  {
   "cell_type": "code",
   "execution_count": 283,
   "id": "99ac22c0",
   "metadata": {},
   "outputs": [],
   "source": [
    "@property\n",
    "def train(self):\n",
    "  return self.make_dataset(self.train_df)\n",
    "\n",
    "@property\n",
    "def val(self):\n",
    "  return self.make_dataset(self.val_df)\n",
    "\n",
    "@property\n",
    "def test(self):\n",
    "  return self.make_dataset(self.test_df)\n",
    "\n",
    "@property\n",
    "def example(self):\n",
    "  \"\"\"Get and cache an example batch of `inputs, labels` for plotting.\"\"\"\n",
    "  result = getattr(self, '_example', None)\n",
    "  if result is None:\n",
    "    # No example batch was found, so get one from the `.train` dataset\n",
    "    result = next(iter(self.train))\n",
    "    # And cache it for next time\n",
    "    self._example = result\n",
    "  return result\n",
    "\n",
    "WindowGenerator.train = train\n",
    "WindowGenerator.val = val\n",
    "WindowGenerator.test = test\n",
    "WindowGenerator.example = example"
   ]
  },
  {
   "cell_type": "code",
   "execution_count": 284,
   "id": "8984be22",
   "metadata": {},
   "outputs": [
    {
     "data": {
      "text/plain": [
       "(TensorSpec(shape=(None, 24, 13), dtype=tf.float32, name=None),\n",
       " TensorSpec(shape=(None, 1, 1), dtype=tf.float32, name=None))"
      ]
     },
     "execution_count": 284,
     "metadata": {},
     "output_type": "execute_result"
    }
   ],
   "source": [
    "# Each element is an (inputs, label) pair.\n",
    "w2.train.element_spec"
   ]
  },
  {
   "cell_type": "code",
   "execution_count": 285,
   "id": "4fd3580f",
   "metadata": {},
   "outputs": [
    {
     "name": "stdout",
     "output_type": "stream",
     "text": [
      "Inputs shape (batch, time, features): (32, 24, 13)\n",
      "Labels shape (batch, time, features): (32, 1, 1)\n"
     ]
    }
   ],
   "source": [
    "for example_inputs, example_labels in w2.train.take(1):\n",
    "  print(f'Inputs shape (batch, time, features): {example_inputs.shape}')\n",
    "  print(f'Labels shape (batch, time, features): {example_labels.shape}')"
   ]
  },
  {
   "cell_type": "code",
   "execution_count": 286,
   "id": "be702851",
   "metadata": {},
   "outputs": [
    {
     "data": {
      "text/plain": [
       "Total window size: 2\n",
       "Input indices: [0]\n",
       "Label indices: [1]\n",
       "Label column name(s): ['adjClose']"
      ]
     },
     "execution_count": 286,
     "metadata": {},
     "output_type": "execute_result"
    }
   ],
   "source": [
    "single_step_window = WindowGenerator(\n",
    "    input_width=1, label_width=1, shift=1,\n",
    "    label_columns=['adjClose'])\n",
    "single_step_window"
   ]
  },
  {
   "cell_type": "code",
   "execution_count": 287,
   "id": "25e0fe91",
   "metadata": {},
   "outputs": [
    {
     "name": "stdout",
     "output_type": "stream",
     "text": [
      "Inputs shape (batch, time, features): (32, 1, 13)\n",
      "Labels shape (batch, time, features): (32, 1, 1)\n"
     ]
    }
   ],
   "source": [
    "for example_inputs, example_labels in single_step_window.train.take(1):\n",
    "  print(f'Inputs shape (batch, time, features): {example_inputs.shape}')\n",
    "  print(f'Labels shape (batch, time, features): {example_labels.shape}')"
   ]
  },
  {
   "cell_type": "code",
   "execution_count": 288,
   "id": "365e4d43",
   "metadata": {},
   "outputs": [],
   "source": [
    "class Baseline(tf.keras.Model):\n",
    "  def __init__(self, label_index=None):\n",
    "    super().__init__()\n",
    "    self.label_index = label_index\n",
    "\n",
    "  def call(self, inputs):\n",
    "    if self.label_index is None:\n",
    "      return inputs\n",
    "    result = inputs[:, :, self.label_index]\n",
    "    return result[:, :, tf.newaxis]"
   ]
  },
  {
   "cell_type": "code",
   "execution_count": 289,
   "id": "c8c5c6e6",
   "metadata": {},
   "outputs": [
    {
     "name": "stdout",
     "output_type": "stream",
     "text": [
      "9/9 [==============================] - 0s 3ms/step - loss: 0.3188 - mean_absolute_error: 0.3417\n"
     ]
    }
   ],
   "source": [
    "baseline = Baseline(label_index=column_indices['adjClose'])\n",
    "\n",
    "baseline.compile(loss=tf.losses.MeanSquaredError(),\n",
    "                 metrics=[tf.metrics.MeanAbsoluteError()])\n",
    "\n",
    "val_performance = {}\n",
    "performance = {}\n",
    "val_performance['Baseline'] = baseline.evaluate(single_step_window.val)\n",
    "performance['Baseline'] = baseline.evaluate(single_step_window.test, verbose=0)"
   ]
  },
  {
   "cell_type": "code",
   "execution_count": 290,
   "id": "77d11f58",
   "metadata": {},
   "outputs": [
    {
     "data": {
      "text/plain": [
       "Total window size: 25\n",
       "Input indices: [ 0  1  2  3  4  5  6  7  8  9 10 11 12 13 14 15 16 17 18 19 20 21 22 23]\n",
       "Label indices: [ 1  2  3  4  5  6  7  8  9 10 11 12 13 14 15 16 17 18 19 20 21 22 23 24]\n",
       "Label column name(s): ['adjClose']"
      ]
     },
     "execution_count": 290,
     "metadata": {},
     "output_type": "execute_result"
    }
   ],
   "source": [
    "wide_window = WindowGenerator(\n",
    "    input_width=24, label_width=24, shift=1,\n",
    "    label_columns=['adjClose'])\n",
    "\n",
    "wide_window"
   ]
  },
  {
   "cell_type": "code",
   "execution_count": 291,
   "id": "192bd31b",
   "metadata": {},
   "outputs": [
    {
     "name": "stdout",
     "output_type": "stream",
     "text": [
      "Input shape: (32, 24, 13)\n",
      "Output shape: (32, 24, 1)\n"
     ]
    }
   ],
   "source": [
    "print('Input shape:', wide_window.example[0].shape)\n",
    "print('Output shape:', baseline(wide_window.example[0]).shape)"
   ]
  },
  {
   "cell_type": "code",
   "execution_count": 292,
   "id": "8c00210d",
   "metadata": {},
   "outputs": [
    {
     "data": {
      "image/png": "[encoded data removed]",
      "text/plain": [
       "<Figure size 864x576 with 3 Axes>"
      ]
     },
     "metadata": {
      "needs_background": "light"
     },
     "output_type": "display_data"
    }
   ],
   "source": [
    "wide_window.plot(baseline)"
   ]
  },
  {
   "cell_type": "code",
   "execution_count": 293,
   "id": "3dd132ef",
   "metadata": {},
   "outputs": [],
   "source": [
    "linear = tf.keras.Sequential([\n",
    "    tf.keras.layers.Dense(units=1)\n",
    "])"
   ]
  },
  {
   "cell_type": "code",
   "execution_count": 294,
   "id": "ae95b399",
   "metadata": {},
   "outputs": [
    {
     "name": "stdout",
     "output_type": "stream",
     "text": [
      "Input shape: (32, 1, 13)\n",
      "Output shape: (32, 1, 1)\n"
     ]
    }
   ],
   "source": [
    "print('Input shape:', single_step_window.example[0].shape)\n",
    "print('Output shape:', linear(single_step_window.example[0]).shape)"
   ]
  },
  {
   "cell_type": "code",
   "execution_count": 295,
   "id": "99d87d3e",
   "metadata": {},
   "outputs": [],
   "source": [
    "MAX_EPOCHS = 20\n",
    "\n",
    "def compile_and_fit(model, window, patience=2):\n",
    "  early_stopping = tf.keras.callbacks.EarlyStopping(monitor='val_loss',\n",
    "                                                    patience=patience,\n",
    "                                                    mode='min')\n",
    "\n",
    "  model.compile(loss=tf.losses.MeanSquaredError(),\n",
    "                optimizer=tf.optimizers.Adam(),\n",
    "                metrics=[tf.metrics.MeanAbsoluteError()])\n",
    "\n",
    "  history = model.fit(window.train, epochs=MAX_EPOCHS,\n",
    "                      validation_data=window.val,\n",
    "                      callbacks=[early_stopping])\n",
    "  return history"
   ]
  },
  {
   "cell_type": "code",
   "execution_count": 296,
   "id": "61dcf8b2",
   "metadata": {},
   "outputs": [
    {
     "name": "stdout",
     "output_type": "stream",
     "text": [
      "Epoch 1/20\n",
      "29/29 [==============================] - 1s 19ms/step - loss: 1.6281 - mean_absolute_error: 0.9438 - val_loss: 70.3331 - val_mean_absolute_error: 6.2571\n",
      "Epoch 2/20\n",
      "29/29 [==============================] - 0s 12ms/step - loss: 1.2941 - mean_absolute_error: 0.8416 - val_loss: 52.0482 - val_mean_absolute_error: 5.3403\n",
      "Epoch 3/20\n",
      "29/29 [==============================] - 0s 12ms/step - loss: 1.0362 - mean_absolute_error: 0.7557 - val_loss: 37.8358 - val_mean_absolute_error: 4.4996\n",
      "Epoch 4/20\n",
      "29/29 [==============================] - 0s 14ms/step - loss: 0.8368 - mean_absolute_error: 0.6810 - val_loss: 27.4352 - val_mean_absolute_error: 3.7634\n",
      "Epoch 5/20\n",
      "29/29 [==============================] - 0s 14ms/step - loss: 0.6848 - mean_absolute_error: 0.6171 - val_loss: 20.1480 - val_mean_absolute_error: 3.1444\n",
      "Epoch 6/20\n",
      "29/29 [==============================] - 0s 11ms/step - loss: 0.5696 - mean_absolute_error: 0.5626 - val_loss: 15.0928 - val_mean_absolute_error: 2.6427\n",
      "Epoch 7/20\n",
      "29/29 [==============================] - 0s 14ms/step - loss: 0.4813 - mean_absolute_error: 0.5172 - val_loss: 11.4961 - val_mean_absolute_error: 2.2672\n",
      "Epoch 8/20\n",
      "29/29 [==============================] - 0s 11ms/step - loss: 0.4142 - mean_absolute_error: 0.4788 - val_loss: 9.1651 - val_mean_absolute_error: 2.0283\n",
      "Epoch 9/20\n",
      "29/29 [==============================] - 0s 11ms/step - loss: 0.3605 - mean_absolute_error: 0.4457 - val_loss: 7.4156 - val_mean_absolute_error: 1.8415\n",
      "Epoch 10/20\n",
      "29/29 [==============================] - 0s 15ms/step - loss: 0.3182 - mean_absolute_error: 0.4180 - val_loss: 6.2869 - val_mean_absolute_error: 1.7101\n",
      "Epoch 11/20\n",
      "29/29 [==============================] - 0s 12ms/step - loss: 0.2825 - mean_absolute_error: 0.3935 - val_loss: 5.4747 - val_mean_absolute_error: 1.6020\n",
      "Epoch 12/20\n",
      "29/29 [==============================] - 0s 12ms/step - loss: 0.2517 - mean_absolute_error: 0.3714 - val_loss: 4.9275 - val_mean_absolute_error: 1.5195\n",
      "Epoch 13/20\n",
      "29/29 [==============================] - 0s 11ms/step - loss: 0.2265 - mean_absolute_error: 0.3527 - val_loss: 4.4148 - val_mean_absolute_error: 1.4371\n",
      "Epoch 14/20\n",
      "29/29 [==============================] - 0s 12ms/step - loss: 0.2045 - mean_absolute_error: 0.3349 - val_loss: 4.0343 - val_mean_absolute_error: 1.3701\n",
      "Epoch 15/20\n",
      "29/29 [==============================] - 0s 11ms/step - loss: 0.1852 - mean_absolute_error: 0.3186 - val_loss: 3.7063 - val_mean_absolute_error: 1.3103\n",
      "Epoch 16/20\n",
      "29/29 [==============================] - 0s 11ms/step - loss: 0.1682 - mean_absolute_error: 0.3032 - val_loss: 3.4526 - val_mean_absolute_error: 1.2613\n",
      "Epoch 17/20\n",
      "29/29 [==============================] - 0s 15ms/step - loss: 0.1535 - mean_absolute_error: 0.2892 - val_loss: 3.2280 - val_mean_absolute_error: 1.2160\n",
      "Epoch 18/20\n",
      "29/29 [==============================] - 1s 17ms/step - loss: 0.1407 - mean_absolute_error: 0.2759 - val_loss: 2.9942 - val_mean_absolute_error: 1.1673\n",
      "Epoch 19/20\n",
      "29/29 [==============================] - 0s 11ms/step - loss: 0.1289 - mean_absolute_error: 0.2634 - val_loss: 2.8293 - val_mean_absolute_error: 1.1300\n",
      "Epoch 20/20\n",
      "29/29 [==============================] - 1s 22ms/step - loss: 0.1187 - mean_absolute_error: 0.2519 - val_loss: 2.6284 - val_mean_absolute_error: 1.0849\n",
      "9/9 [==============================] - 0s 3ms/step - loss: 2.6284 - mean_absolute_error: 1.0849\n"
     ]
    }
   ],
   "source": [
    "history = compile_and_fit(linear, single_step_window)\n",
    "\n",
    "val_performance['Linear'] = linear.evaluate(single_step_window.val)\n",
    "performance['Linear'] = linear.evaluate(single_step_window.test, verbose=0)"
   ]
  },
  {
   "cell_type": "code",
   "execution_count": 297,
   "id": "cf280515",
   "metadata": {},
   "outputs": [
    {
     "name": "stdout",
     "output_type": "stream",
     "text": [
      "Input shape: (32, 24, 13)\n",
      "Output shape: (32, 24, 1)\n"
     ]
    }
   ],
   "source": [
    "print('Input shape:', wide_window.example[0].shape)\n",
    "print('Output shape:', baseline(wide_window.example[0]).shape)"
   ]
  },
  {
   "cell_type": "code",
   "execution_count": 298,
   "id": "da80c30a",
   "metadata": {},
   "outputs": [
    {
     "data": {
      "image/png": "[encoded data removed]",
      "text/plain": [
       "<Figure size 864x576 with 3 Axes>"
      ]
     },
     "metadata": {
      "needs_background": "light"
     },
     "output_type": "display_data"
    }
   ],
   "source": [
    "wide_window.plot(linear)"
   ]
  },
  {
   "cell_type": "code",
   "execution_count": 299,
   "id": "b3ba8738",
   "metadata": {},
   "outputs": [
    {
     "data": {
      "image/png": "[encoded data removed]",
      "text/plain": [
       "<Figure size 576x432 with 1 Axes>"
      ]
     },
     "metadata": {
      "needs_background": "light"
     },
     "output_type": "display_data"
    }
   ],
   "source": [
    "plt.bar(x = range(len(train_df.columns)),\n",
    "        height=linear.layers[0].kernel[:,0].numpy())\n",
    "axis = plt.gca()\n",
    "axis.set_xticks(range(len(train_df.columns)))\n",
    "_ = axis.set_xticklabels(train_df.columns, rotation=90)"
   ]
  },
  {
   "cell_type": "code",
   "execution_count": 300,
   "id": "bac09168",
   "metadata": {},
   "outputs": [
    {
     "name": "stdout",
     "output_type": "stream",
     "text": [
      "Epoch 1/20\n",
      "29/29 [==============================] - 2s 18ms/step - loss: 0.2760 - mean_absolute_error: 0.3734 - val_loss: 5.8551 - val_mean_absolute_error: 1.5797\n",
      "Epoch 2/20\n",
      "29/29 [==============================] - 0s 10ms/step - loss: 0.0586 - mean_absolute_error: 0.1744 - val_loss: 5.2313 - val_mean_absolute_error: 1.5711\n",
      "Epoch 3/20\n",
      "29/29 [==============================] - 1s 20ms/step - loss: 0.0385 - mean_absolute_error: 0.1349 - val_loss: 3.9947 - val_mean_absolute_error: 1.3670\n",
      "Epoch 4/20\n",
      "29/29 [==============================] - 1s 19ms/step - loss: 0.0326 - mean_absolute_error: 0.1231 - val_loss: 4.4569 - val_mean_absolute_error: 1.4512\n",
      "Epoch 5/20\n",
      "29/29 [==============================] - 1s 17ms/step - loss: 0.0291 - mean_absolute_error: 0.1164 - val_loss: 3.9717 - val_mean_absolute_error: 1.3529\n",
      "Epoch 6/20\n",
      "29/29 [==============================] - 1s 17ms/step - loss: 0.0265 - mean_absolute_error: 0.1097 - val_loss: 4.2818 - val_mean_absolute_error: 1.4101\n",
      "Epoch 7/20\n",
      "29/29 [==============================] - 1s 17ms/step - loss: 0.0249 - mean_absolute_error: 0.1054 - val_loss: 4.6244 - val_mean_absolute_error: 1.4647\n",
      "9/9 [==============================] - 0s 2ms/step - loss: 4.6244 - mean_absolute_error: 1.4647\n"
     ]
    }
   ],
   "source": [
    "dense = tf.keras.Sequential([\n",
    "    tf.keras.layers.Dense(units=64, activation='relu'),\n",
    "    tf.keras.layers.Dense(units=64, activation='relu'),\n",
    "    tf.keras.layers.Dense(units=1)\n",
    "])\n",
    "\n",
    "history = compile_and_fit(dense, single_step_window)\n",
    "\n",
    "val_performance['Dense'] = dense.evaluate(single_step_window.val)\n",
    "performance['Dense'] = dense.evaluate(single_step_window.test, verbose=0)"
   ]
  },
  {
   "cell_type": "code",
   "execution_count": 301,
   "id": "c6225c7b",
   "metadata": {},
   "outputs": [
    {
     "data": {
      "text/plain": [
       "Total window size: 4\n",
       "Input indices: [0 1 2]\n",
       "Label indices: [3]\n",
       "Label column name(s): ['adjClose']"
      ]
     },
     "execution_count": 301,
     "metadata": {},
     "output_type": "execute_result"
    }
   ],
   "source": [
    "CONV_WIDTH = 3\n",
    "conv_window = WindowGenerator(\n",
    "    input_width=CONV_WIDTH,\n",
    "    label_width=1,\n",
    "    shift=1,\n",
    "    label_columns=['adjClose'])\n",
    "\n",
    "conv_window"
   ]
  },
  {
   "cell_type": "code",
   "execution_count": 302,
   "id": "9b0a363c",
   "metadata": {},
   "outputs": [
    {
     "data": {
      "text/plain": [
       "Text(0.5, 1.0, 'Given 3 days of inputs, predict 1 day into the future.')"
      ]
     },
     "execution_count": 302,
     "metadata": {},
     "output_type": "execute_result"
    },
    {
     "data": {
      "image/png": "[encoded data removed]",
      "text/plain": [
       "<Figure size 864x576 with 3 Axes>"
      ]
     },
     "metadata": {
      "needs_background": "light"
     },
     "output_type": "display_data"
    }
   ],
   "source": [
    "conv_window.plot()\n",
    "plt.title(\"Given 3 days of inputs, predict 1 day into the future.\")"
   ]
  },
  {
   "cell_type": "code",
   "execution_count": 303,
   "id": "7eb3ef0c",
   "metadata": {},
   "outputs": [],
   "source": [
    "multi_step_dense = tf.keras.Sequential([\n",
    "    # Shape: (time, features) => (time*features)\n",
    "    tf.keras.layers.Flatten(),\n",
    "    tf.keras.layers.Dense(units=32, activation='relu'),\n",
    "    tf.keras.layers.Dense(units=32, activation='relu'),\n",
    "    tf.keras.layers.Dense(units=1),\n",
    "    # Add back the time dimension.\n",
    "    # Shape: (outputs) => (1, outputs)\n",
    "    tf.keras.layers.Reshape([1, -1]),\n",
    "])"
   ]
  },
  {
   "cell_type": "code",
   "execution_count": 304,
   "id": "5d8e37bb",
   "metadata": {},
   "outputs": [
    {
     "name": "stdout",
     "output_type": "stream",
     "text": [
      "Input shape: (32, 3, 13)\n",
      "Output shape: (32, 1, 1)\n"
     ]
    }
   ],
   "source": [
    "print('Input shape:', conv_window.example[0].shape)\n",
    "print('Output shape:', multi_step_dense(conv_window.example[0]).shape)"
   ]
  },
  {
   "cell_type": "code",
   "execution_count": 305,
   "id": "6b49c0f3",
   "metadata": {},
   "outputs": [
    {
     "name": "stdout",
     "output_type": "stream",
     "text": [
      "8/8 [==============================] - 0s 5ms/step - loss: 2.7361 - mean_absolute_error: 1.0376\n"
     ]
    }
   ],
   "source": [
    "history = compile_and_fit(multi_step_dense, conv_window)\n",
    "\n",
    "IPython.display.clear_output()\n",
    "val_performance['Multi step dense'] = multi_step_dense.evaluate(conv_window.val)\n",
    "performance['Multi step dense'] = multi_step_dense.evaluate(conv_window.test, verbose=0)"
   ]
  },
  {
   "cell_type": "code",
   "execution_count": 306,
   "id": "9ee702a0",
   "metadata": {},
   "outputs": [
    {
     "data": {
      "image/png": "[encoded data removed]",
      "text/plain": [
       "<Figure size 864x576 with 3 Axes>"
      ]
     },
     "metadata": {
      "needs_background": "light"
     },
     "output_type": "display_data"
    }
   ],
   "source": [
    "conv_window.plot(multi_step_dense)"
   ]
  },
  {
   "cell_type": "code",
   "execution_count": 307,
   "id": "e39597dd",
   "metadata": {},
   "outputs": [
    {
     "name": "stdout",
     "output_type": "stream",
     "text": [
      "Input shape: (32, 24, 13)\n",
      "\n",
      "ValueError:Input 0 of layer dense_27 is incompatible with the layer: expected axis -1 of input shape to have value 39 but received input with shape (32, 312)\n"
     ]
    }
   ],
   "source": [
    "print('Input shape:', wide_window.example[0].shape)\n",
    "try:\n",
    "  print('Output shape:', multi_step_dense(wide_window.example[0]).shape)\n",
    "except Exception as e:\n",
    "  print(f'\\n{type(e).__name__}:{e}')"
   ]
  },
  {
   "cell_type": "code",
   "execution_count": 308,
   "id": "4c33e8f6",
   "metadata": {},
   "outputs": [],
   "source": [
    "conv_model = tf.keras.Sequential([\n",
    "    tf.keras.layers.Conv1D(filters=32,\n",
    "                           kernel_size=(CONV_WIDTH,),\n",
    "                           activation='relu'),\n",
    "    tf.keras.layers.Dense(units=32, activation='relu'),\n",
    "    tf.keras.layers.Dense(units=1),\n",
    "])"
   ]
  },
  {
   "cell_type": "code",
   "execution_count": 309,
   "id": "629ebf9b",
   "metadata": {},
   "outputs": [
    {
     "name": "stdout",
     "output_type": "stream",
     "text": [
      "Conv model on `conv_window`\n",
      "Input shape: (32, 3, 13)\n",
      "Output shape: (32, 1, 1)\n"
     ]
    }
   ],
   "source": [
    "print(\"Conv model on `conv_window`\")\n",
    "print('Input shape:', conv_window.example[0].shape)\n",
    "print('Output shape:', conv_model(conv_window.example[0]).shape)"
   ]
  },
  {
   "cell_type": "code",
   "execution_count": 310,
   "id": "68ddd448",
   "metadata": {},
   "outputs": [
    {
     "name": "stdout",
     "output_type": "stream",
     "text": [
      "8/8 [==============================] - 0s 3ms/step - loss: 2.2302 - mean_absolute_error: 0.9895\n"
     ]
    }
   ],
   "source": [
    "history = compile_and_fit(conv_model, conv_window)\n",
    "\n",
    "IPython.display.clear_output()\n",
    "val_performance['Conv'] = conv_model.evaluate(conv_window.val)\n",
    "performance['Conv'] = conv_model.evaluate(conv_window.test, verbose=0)"
   ]
  },
  {
   "cell_type": "code",
   "execution_count": 311,
   "id": "0d0a5a39",
   "metadata": {},
   "outputs": [
    {
     "name": "stdout",
     "output_type": "stream",
     "text": [
      "Wide window\n",
      "Input shape: (32, 24, 13)\n",
      "Labels shape: (32, 24, 1)\n",
      "Output shape: (32, 22, 1)\n"
     ]
    }
   ],
   "source": [
    "print(\"Wide window\")\n",
    "print('Input shape:', wide_window.example[0].shape)\n",
    "print('Labels shape:', wide_window.example[1].shape)\n",
    "print('Output shape:', conv_model(wide_window.example[0]).shape)"
   ]
  },
  {
   "cell_type": "code",
   "execution_count": 312,
   "id": "d75e2268",
   "metadata": {},
   "outputs": [
    {
     "data": {
      "text/plain": [
       "Total window size: 27\n",
       "Input indices: [ 0  1  2  3  4  5  6  7  8  9 10 11 12 13 14 15 16 17 18 19 20 21 22 23\n",
       " 24 25]\n",
       "Label indices: [ 3  4  5  6  7  8  9 10 11 12 13 14 15 16 17 18 19 20 21 22 23 24 25 26]\n",
       "Label column name(s): ['adjClose']"
      ]
     },
     "execution_count": 312,
     "metadata": {},
     "output_type": "execute_result"
    }
   ],
   "source": [
    "LABEL_WIDTH = 24\n",
    "INPUT_WIDTH = LABEL_WIDTH + (CONV_WIDTH - 1)\n",
    "wide_conv_window = WindowGenerator(\n",
    "    input_width=INPUT_WIDTH,\n",
    "    label_width=LABEL_WIDTH,\n",
    "    shift=1,\n",
    "    label_columns=['adjClose'])\n",
    "\n",
    "wide_conv_window"
   ]
  },
  {
   "cell_type": "code",
   "execution_count": 313,
   "id": "7eda68d6",
   "metadata": {},
   "outputs": [
    {
     "name": "stdout",
     "output_type": "stream",
     "text": [
      "Wide conv window\n",
      "Input shape: (32, 26, 13)\n",
      "Labels shape: (32, 24, 1)\n",
      "Output shape: (32, 24, 1)\n"
     ]
    }
   ],
   "source": [
    "print(\"Wide conv window\")\n",
    "print('Input shape:', wide_conv_window.example[0].shape)\n",
    "print('Labels shape:', wide_conv_window.example[1].shape)\n",
    "print('Output shape:', conv_model(wide_conv_window.example[0]).shape)"
   ]
  },
  {
   "cell_type": "code",
   "execution_count": 314,
   "id": "4f343c45",
   "metadata": {},
   "outputs": [
    {
     "data": {
      "image/png": "[encoded data removed]",
      "text/plain": [
       "<Figure size 864x576 with 3 Axes>"
      ]
     },
     "metadata": {
      "needs_background": "light"
     },
     "output_type": "display_data"
    }
   ],
   "source": [
    "wide_conv_window.plot(conv_model)"
   ]
  },
  {
   "cell_type": "code",
   "execution_count": 315,
   "id": "c5eb42d9",
   "metadata": {},
   "outputs": [],
   "source": [
    "lstm_model = tf.keras.models.Sequential([\n",
    "    # Shape [batch, time, features] => [batch, time, lstm_units]\n",
    "    tf.keras.layers.LSTM(32, return_sequences=True),\n",
    "    # Shape => [batch, time, features]\n",
    "    tf.keras.layers.Dense(units=1)\n",
    "])"
   ]
  },
  {
   "cell_type": "code",
   "execution_count": 316,
   "id": "8bc8248a",
   "metadata": {},
   "outputs": [
    {
     "name": "stdout",
     "output_type": "stream",
     "text": [
      "Input shape: (32, 24, 13)\n",
      "Output shape: (32, 24, 1)\n"
     ]
    }
   ],
   "source": [
    "print('Input shape:', wide_window.example[0].shape)\n",
    "print('Output shape:', lstm_model(wide_window.example[0]).shape)"
   ]
  },
  {
   "cell_type": "code",
   "execution_count": 317,
   "id": "1e1413e7",
   "metadata": {
    "scrolled": true
   },
   "outputs": [
    {
     "name": "stdout",
     "output_type": "stream",
     "text": [
      "8/8 [==============================] - 0s 10ms/step - loss: 73.6815 - mean_absolute_error: 5.7545\n"
     ]
    }
   ],
   "source": [
    "history = compile_and_fit(lstm_model, wide_window)\n",
    "\n",
    "IPython.display.clear_output()\n",
    "val_performance['LSTM'] = lstm_model.evaluate(wide_window.val)\n",
    "performance['LSTM'] = lstm_model.evaluate(wide_window.test, verbose=0)"
   ]
  },
  {
   "cell_type": "code",
   "execution_count": 318,
   "id": "9531f7e1",
   "metadata": {},
   "outputs": [
    {
     "data": {
      "image/png": "[encoded data removed]",
      "text/plain": [
       "<Figure size 864x576 with 3 Axes>"
      ]
     },
     "metadata": {
      "needs_background": "light"
     },
     "output_type": "display_data"
    }
   ],
   "source": [
    "wide_window.plot(lstm_model)"
   ]
  },
  {
   "cell_type": "code",
   "execution_count": 319,
   "id": "6e1895d4",
   "metadata": {},
   "outputs": [
    {
     "data": {
      "image/png": "[encoded data removed]",
      "text/plain": [
       "<Figure size 576x432 with 1 Axes>"
      ]
     },
     "metadata": {
      "needs_background": "light"
     },
     "output_type": "display_data"
    }
   ],
   "source": [
    "x = np.arange(len(performance))\n",
    "width = 0.3\n",
    "metric_name = 'mean_absolute_error'\n",
    "metric_index = lstm_model.metrics_names.index('mean_absolute_error')\n",
    "val_mae = [v[metric_index] for v in val_performance.values()]\n",
    "test_mae = [v[metric_index] for v in performance.values()]\n",
    "\n",
    "plt.ylabel('mean_absolute_error [T (degC), normalized]')\n",
    "plt.bar(x - 0.17, val_mae, width, label='Validation')\n",
    "plt.bar(x + 0.17, test_mae, width, label='Test')\n",
    "plt.xticks(ticks=x, labels=performance.keys(),\n",
    "           rotation=45)\n",
    "_ = plt.legend()"
   ]
  },
  {
   "cell_type": "code",
   "execution_count": 320,
   "id": "41995cf6",
   "metadata": {},
   "outputs": [
    {
     "name": "stdout",
     "output_type": "stream",
     "text": [
      "Baseline    : 0.5967\n",
      "Linear      : 1.7561\n",
      "Dense       : 2.6686\n",
      "Multi step dense: 1.8286\n",
      "Conv        : 1.9020\n",
      "LSTM        : 10.5458\n"
     ]
    }
   ],
   "source": [
    "for name, value in performance.items():\n",
    "  print(f'{name:12s}: {value[1]:0.4f}')"
   ]
  },
  {
   "cell_type": "code",
   "execution_count": null,
   "id": "48fb97ce",
   "metadata": {},
   "outputs": [],
   "source": []
  }
 ],
 "metadata": {
  "kernelspec": {
   "display_name": "Python 3 (ipykernel)",
   "language": "python",
   "name": "python3"
  },
  "language_info": {
   "codemirror_mode": {
    "name": "ipython",
    "version": 3
   },
   "file_extension": ".py",
   "mimetype": "text/x-python",
   "name": "python",
   "nbconvert_exporter": "python",
   "pygments_lexer": "ipython3",
   "version": "3.8.6"
  },
  "toc": {
   "base_numbering": 1,
   "nav_menu": {},
   "number_sections": true,
   "sideBar": true,
   "skip_h1_title": false,
   "title_cell": "Table of Contents",
   "title_sidebar": "Contents",
   "toc_cell": false,
   "toc_position": {},
   "toc_section_display": true,
   "toc_window_display": false
  }
 },
 "nbformat": 4,
 "nbformat_minor": 5
}
