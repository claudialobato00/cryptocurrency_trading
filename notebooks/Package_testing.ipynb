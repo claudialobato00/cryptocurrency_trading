{
 "cells": [
  {
   "cell_type": "code",
   "execution_count": null,
   "id": "bf14be67",
   "metadata": {},
   "outputs": [],
   "source": [
    "from cryptocurrency_trading import trainer"
   ]
  },
  {
   "cell_type": "code",
   "execution_count": null,
   "id": "c08547d9",
   "metadata": {},
   "outputs": [],
   "source": [
    "from datetime import datetime"
   ]
  },
  {
   "cell_type": "code",
   "execution_count": null,
   "id": "a7923003",
   "metadata": {},
   "outputs": [],
   "source": [
    "start_date=datetime(2021,9,1)\n",
    "end_date=datetime(2021,9,7)"
   ]
  },
  {
   "cell_type": "code",
   "execution_count": null,
   "id": "cfec1e9c",
   "metadata": {},
   "outputs": [],
   "source": []
  },
  {
   "cell_type": "code",
   "execution_count": null,
   "id": "f0621efb",
   "metadata": {
    "scrolled": true
   },
   "outputs": [],
   "source": [
    "pred=trainer.predict_price(start_date,end_date)\n",
    "pred"
   ]
  },
  {
   "cell_type": "code",
   "execution_count": null,
   "id": "5f95a32e",
   "metadata": {},
   "outputs": [],
   "source": [
    "from cryptocurrency_trading import data"
   ]
  },
  {
   "cell_type": "code",
   "execution_count": null,
   "id": "a48e98aa",
   "metadata": {},
   "outputs": [],
   "source": []
  },
  {
   "cell_type": "code",
   "execution_count": null,
   "id": "6a9c3594",
   "metadata": {},
   "outputs": [],
   "source": [
    "0.00246964"
   ]
  },
  {
   "cell_type": "code",
   "execution_count": null,
   "id": "46ebcbdc",
   "metadata": {},
   "outputs": [],
   "source": [
    "# start\tclose_price\ttweet_count\ttwitter_sentiment\tvolume\tvolatility\trsi\tmacd\treddit_sentiment\treddit_post_count"
   ]
  },
  {
   "cell_type": "code",
   "execution_count": null,
   "id": "7567e4bd",
   "metadata": {},
   "outputs": [],
   "source": [
    "# import pandas as pd\n"
   ]
  },
  {
   "cell_type": "code",
   "execution_count": null,
   "id": "280e04b7",
   "metadata": {},
   "outputs": [],
   "source": [
    "# df_ordered=pd.DataFrame()"
   ]
  },
  {
   "cell_type": "code",
   "execution_count": null,
   "id": "12677838",
   "metadata": {},
   "outputs": [],
   "source": [
    "# df_ordered['start']=df['date']"
   ]
  },
  {
   "cell_type": "code",
   "execution_count": null,
   "id": "d5f8cdf3",
   "metadata": {},
   "outputs": [],
   "source": [
    "# df[['date','adjClose','tweet_count','sentimentscore','volume','volatility','rsi','macd','real_score','post_per_day']]\n",
    "\n",
    "\n"
   ]
  }
 ],
 "metadata": {
  "kernelspec": {
   "display_name": "Python 3 (ipykernel)",
   "language": "python",
   "name": "python3"
  },
  "language_info": {
   "codemirror_mode": {
    "name": "ipython",
    "version": 3
   },
   "file_extension": ".py",
   "mimetype": "text/x-python",
   "name": "python",
   "nbconvert_exporter": "python",
   "pygments_lexer": "ipython3",
   "version": "3.8.6"
  },
  "toc": {
   "base_numbering": 1,
   "nav_menu": {},
   "number_sections": true,
   "sideBar": true,
   "skip_h1_title": false,
   "title_cell": "Table of Contents",
   "title_sidebar": "Contents",
   "toc_cell": false,
   "toc_position": {},
   "toc_section_display": true,
   "toc_window_display": false
  }
 },
 "nbformat": 4,
 "nbformat_minor": 5
}
