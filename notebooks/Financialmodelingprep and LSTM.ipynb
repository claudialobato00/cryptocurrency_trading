{
 "cells": [
  {
   "cell_type": "markdown",
   "id": "dc01e9e2",
   "metadata": {},
   "source": [
    "# Import the Data"
   ]
  },
  {
   "cell_type": "code",
   "execution_count": 1,
   "id": "3a841484",
   "metadata": {},
   "outputs": [],
   "source": [
    "import pandas as pd "
   ]
  },
  {
   "cell_type": "markdown",
   "id": "000e237d",
   "metadata": {},
   "source": [
    "# scrapping daily bts prices"
   ]
  },
  {
   "cell_type": "code",
   "execution_count": 2,
   "id": "f7f32ddd",
   "metadata": {},
   "outputs": [],
   "source": [
    "import requests\n",
    "import pandas as pd\n"
   ]
  },
  {
   "cell_type": "code",
   "execution_count": 3,
   "id": "1be7a7ec",
   "metadata": {},
   "outputs": [],
   "source": [
    "api_key='3c63db1acd4399020c7f6eee92ec77cf'\n",
    "symbol='BTCUSD'\n",
    "query=f'https://financialmodelingprep.com/api/v3/historical-price-full/{symbol}?apikey={api_key}'"
   ]
  },
  {
   "cell_type": "code",
   "execution_count": 4,
   "id": "b0a7e1d7",
   "metadata": {},
   "outputs": [],
   "source": [
    "response=requests.get(query)\n"
   ]
  },
  {
   "cell_type": "code",
   "execution_count": 5,
   "id": "792d32af",
   "metadata": {},
   "outputs": [],
   "source": [
    "btsdaily=pd.DataFrame(response.json()['historical'])\n"
   ]
  },
  {
   "cell_type": "code",
   "execution_count": 6,
   "id": "c918932d",
   "metadata": {},
   "outputs": [
    {
     "data": {
      "text/html": [
       "<div>\n",
       "<style scoped>\n",
       "    .dataframe tbody tr th:only-of-type {\n",
       "        vertical-align: middle;\n",
       "    }\n",
       "\n",
       "    .dataframe tbody tr th {\n",
       "        vertical-align: top;\n",
       "    }\n",
       "\n",
       "    .dataframe thead th {\n",
       "        text-align: right;\n",
       "    }\n",
       "</style>\n",
       "<table border=\"1\" class=\"dataframe\">\n",
       "  <thead>\n",
       "    <tr style=\"text-align: right;\">\n",
       "      <th></th>\n",
       "      <th>date</th>\n",
       "      <th>open</th>\n",
       "      <th>high</th>\n",
       "      <th>low</th>\n",
       "      <th>close</th>\n",
       "      <th>adjClose</th>\n",
       "      <th>volume</th>\n",
       "      <th>unadjustedVolume</th>\n",
       "      <th>change</th>\n",
       "      <th>changePercent</th>\n",
       "      <th>vwap</th>\n",
       "      <th>label</th>\n",
       "      <th>changeOverTime</th>\n",
       "    </tr>\n",
       "  </thead>\n",
       "  <tbody>\n",
       "    <tr>\n",
       "      <th>0</th>\n",
       "      <td>2021-09-07</td>\n",
       "      <td>52561.757813</td>\n",
       "      <td>52850.425781</td>\n",
       "      <td>52420.921875</td>\n",
       "      <td>52620.878906</td>\n",
       "      <td>52620.878906</td>\n",
       "      <td>4.044913e+10</td>\n",
       "      <td>4.044913e+10</td>\n",
       "      <td>59.12109</td>\n",
       "      <td>0.112</td>\n",
       "      <td>52630.74219</td>\n",
       "      <td>September 07, 21</td>\n",
       "      <td>0.00112</td>\n",
       "    </tr>\n",
       "    <tr>\n",
       "      <th>1</th>\n",
       "      <td>2021-09-06</td>\n",
       "      <td>51769.003906</td>\n",
       "      <td>52700.941406</td>\n",
       "      <td>51053.679688</td>\n",
       "      <td>52633.535156</td>\n",
       "      <td>52633.535156</td>\n",
       "      <td>3.888411e+10</td>\n",
       "      <td>3.888411e+10</td>\n",
       "      <td>864.53125</td>\n",
       "      <td>1.670</td>\n",
       "      <td>52129.38542</td>\n",
       "      <td>September 06, 21</td>\n",
       "      <td>0.01670</td>\n",
       "    </tr>\n",
       "    <tr>\n",
       "      <th>2</th>\n",
       "      <td>2021-09-05</td>\n",
       "      <td>49937.859375</td>\n",
       "      <td>51868.679688</td>\n",
       "      <td>49538.597656</td>\n",
       "      <td>51753.410156</td>\n",
       "      <td>51753.410156</td>\n",
       "      <td>3.032268e+10</td>\n",
       "      <td>3.032268e+10</td>\n",
       "      <td>1815.55078</td>\n",
       "      <td>3.636</td>\n",
       "      <td>51053.56250</td>\n",
       "      <td>September 05, 21</td>\n",
       "      <td>0.03636</td>\n",
       "    </tr>\n",
       "    <tr>\n",
       "      <th>3</th>\n",
       "      <td>2021-09-04</td>\n",
       "      <td>50009.324219</td>\n",
       "      <td>50545.582031</td>\n",
       "      <td>49548.781250</td>\n",
       "      <td>49944.625000</td>\n",
       "      <td>49944.625000</td>\n",
       "      <td>3.747133e+10</td>\n",
       "      <td>3.747133e+10</td>\n",
       "      <td>-64.69922</td>\n",
       "      <td>-0.129</td>\n",
       "      <td>50012.99609</td>\n",
       "      <td>September 04, 21</td>\n",
       "      <td>-0.00129</td>\n",
       "    </tr>\n",
       "    <tr>\n",
       "      <th>4</th>\n",
       "      <td>2021-09-03</td>\n",
       "      <td>49288.250000</td>\n",
       "      <td>50982.273438</td>\n",
       "      <td>48386.085938</td>\n",
       "      <td>50025.375000</td>\n",
       "      <td>50025.375000</td>\n",
       "      <td>4.320618e+10</td>\n",
       "      <td>4.320618e+10</td>\n",
       "      <td>737.12500</td>\n",
       "      <td>1.496</td>\n",
       "      <td>49797.91146</td>\n",
       "      <td>September 03, 21</td>\n",
       "      <td>0.01496</td>\n",
       "    </tr>\n",
       "    <tr>\n",
       "      <th>...</th>\n",
       "      <td>...</td>\n",
       "      <td>...</td>\n",
       "      <td>...</td>\n",
       "      <td>...</td>\n",
       "      <td>...</td>\n",
       "      <td>...</td>\n",
       "      <td>...</td>\n",
       "      <td>...</td>\n",
       "      <td>...</td>\n",
       "      <td>...</td>\n",
       "      <td>...</td>\n",
       "      <td>...</td>\n",
       "      <td>...</td>\n",
       "    </tr>\n",
       "    <tr>\n",
       "      <th>1822</th>\n",
       "      <td>2016-09-11</td>\n",
       "      <td>623.424011</td>\n",
       "      <td>628.817993</td>\n",
       "      <td>600.505981</td>\n",
       "      <td>606.718994</td>\n",
       "      <td>606.718994</td>\n",
       "      <td>7.361080e+07</td>\n",
       "      <td>7.361080e+07</td>\n",
       "      <td>-16.70502</td>\n",
       "      <td>-2.680</td>\n",
       "      <td>612.01432</td>\n",
       "      <td>September 11, 16</td>\n",
       "      <td>-0.02680</td>\n",
       "    </tr>\n",
       "    <tr>\n",
       "      <th>1823</th>\n",
       "      <td>2016-09-10</td>\n",
       "      <td>622.927002</td>\n",
       "      <td>625.094971</td>\n",
       "      <td>622.395020</td>\n",
       "      <td>623.508972</td>\n",
       "      <td>623.508972</td>\n",
       "      <td>4.501680e+07</td>\n",
       "      <td>4.501680e+07</td>\n",
       "      <td>0.58197</td>\n",
       "      <td>0.093</td>\n",
       "      <td>623.66632</td>\n",
       "      <td>September 10, 16</td>\n",
       "      <td>0.00093</td>\n",
       "    </tr>\n",
       "    <tr>\n",
       "      <th>1824</th>\n",
       "      <td>2016-09-09</td>\n",
       "      <td>626.351990</td>\n",
       "      <td>626.830017</td>\n",
       "      <td>620.263000</td>\n",
       "      <td>622.861023</td>\n",
       "      <td>622.861023</td>\n",
       "      <td>6.455020e+07</td>\n",
       "      <td>6.455020e+07</td>\n",
       "      <td>-3.49097</td>\n",
       "      <td>-0.557</td>\n",
       "      <td>623.31801</td>\n",
       "      <td>September 09, 16</td>\n",
       "      <td>-0.00557</td>\n",
       "    </tr>\n",
       "    <tr>\n",
       "      <th>1825</th>\n",
       "      <td>2016-09-08</td>\n",
       "      <td>614.635010</td>\n",
       "      <td>628.770020</td>\n",
       "      <td>613.843994</td>\n",
       "      <td>626.315979</td>\n",
       "      <td>626.315979</td>\n",
       "      <td>8.671300e+07</td>\n",
       "      <td>8.671300e+07</td>\n",
       "      <td>11.68097</td>\n",
       "      <td>1.900</td>\n",
       "      <td>622.97666</td>\n",
       "      <td>September 08, 16</td>\n",
       "      <td>0.01900</td>\n",
       "    </tr>\n",
       "    <tr>\n",
       "      <th>1826</th>\n",
       "      <td>2016-09-07</td>\n",
       "      <td>610.572998</td>\n",
       "      <td>614.544983</td>\n",
       "      <td>608.513000</td>\n",
       "      <td>614.544006</td>\n",
       "      <td>614.544006</td>\n",
       "      <td>7.503240e+07</td>\n",
       "      <td>7.503240e+07</td>\n",
       "      <td>3.97101</td>\n",
       "      <td>0.650</td>\n",
       "      <td>612.53400</td>\n",
       "      <td>September 07, 16</td>\n",
       "      <td>0.00650</td>\n",
       "    </tr>\n",
       "  </tbody>\n",
       "</table>\n",
       "<p>1827 rows × 13 columns</p>\n",
       "</div>"
      ],
      "text/plain": [
       "            date          open          high           low         close  \\\n",
       "0     2021-09-07  52561.757813  52850.425781  52420.921875  52620.878906   \n",
       "1     2021-09-06  51769.003906  52700.941406  51053.679688  52633.535156   \n",
       "2     2021-09-05  49937.859375  51868.679688  49538.597656  51753.410156   \n",
       "3     2021-09-04  50009.324219  50545.582031  49548.781250  49944.625000   \n",
       "4     2021-09-03  49288.250000  50982.273438  48386.085938  50025.375000   \n",
       "...          ...           ...           ...           ...           ...   \n",
       "1822  2016-09-11    623.424011    628.817993    600.505981    606.718994   \n",
       "1823  2016-09-10    622.927002    625.094971    622.395020    623.508972   \n",
       "1824  2016-09-09    626.351990    626.830017    620.263000    622.861023   \n",
       "1825  2016-09-08    614.635010    628.770020    613.843994    626.315979   \n",
       "1826  2016-09-07    610.572998    614.544983    608.513000    614.544006   \n",
       "\n",
       "          adjClose        volume  unadjustedVolume      change  changePercent  \\\n",
       "0     52620.878906  4.044913e+10      4.044913e+10    59.12109          0.112   \n",
       "1     52633.535156  3.888411e+10      3.888411e+10   864.53125          1.670   \n",
       "2     51753.410156  3.032268e+10      3.032268e+10  1815.55078          3.636   \n",
       "3     49944.625000  3.747133e+10      3.747133e+10   -64.69922         -0.129   \n",
       "4     50025.375000  4.320618e+10      4.320618e+10   737.12500          1.496   \n",
       "...            ...           ...               ...         ...            ...   \n",
       "1822    606.718994  7.361080e+07      7.361080e+07   -16.70502         -2.680   \n",
       "1823    623.508972  4.501680e+07      4.501680e+07     0.58197          0.093   \n",
       "1824    622.861023  6.455020e+07      6.455020e+07    -3.49097         -0.557   \n",
       "1825    626.315979  8.671300e+07      8.671300e+07    11.68097          1.900   \n",
       "1826    614.544006  7.503240e+07      7.503240e+07     3.97101          0.650   \n",
       "\n",
       "             vwap             label  changeOverTime  \n",
       "0     52630.74219  September 07, 21         0.00112  \n",
       "1     52129.38542  September 06, 21         0.01670  \n",
       "2     51053.56250  September 05, 21         0.03636  \n",
       "3     50012.99609  September 04, 21        -0.00129  \n",
       "4     49797.91146  September 03, 21         0.01496  \n",
       "...           ...               ...             ...  \n",
       "1822    612.01432  September 11, 16        -0.02680  \n",
       "1823    623.66632  September 10, 16         0.00093  \n",
       "1824    623.31801  September 09, 16        -0.00557  \n",
       "1825    622.97666  September 08, 16         0.01900  \n",
       "1826    612.53400  September 07, 16         0.00650  \n",
       "\n",
       "[1827 rows x 13 columns]"
      ]
     },
     "execution_count": 6,
     "metadata": {},
     "output_type": "execute_result"
    }
   ],
   "source": [
    "btsdaily"
   ]
  },
  {
   "cell_type": "code",
   "execution_count": 7,
   "id": "2a4b0c97",
   "metadata": {},
   "outputs": [],
   "source": [
    "btsdaily.to_csv('btsdaily', encoding='utf-8', index=False)\n"
   ]
  },
  {
   "cell_type": "code",
   "execution_count": 8,
   "id": "a43ce1bd",
   "metadata": {},
   "outputs": [
    {
     "data": {
      "text/html": [
       "<div>\n",
       "<style scoped>\n",
       "    .dataframe tbody tr th:only-of-type {\n",
       "        vertical-align: middle;\n",
       "    }\n",
       "\n",
       "    .dataframe tbody tr th {\n",
       "        vertical-align: top;\n",
       "    }\n",
       "\n",
       "    .dataframe thead th {\n",
       "        text-align: right;\n",
       "    }\n",
       "</style>\n",
       "<table border=\"1\" class=\"dataframe\">\n",
       "  <thead>\n",
       "    <tr style=\"text-align: right;\">\n",
       "      <th></th>\n",
       "      <th>date</th>\n",
       "      <th>open</th>\n",
       "      <th>high</th>\n",
       "      <th>low</th>\n",
       "      <th>close</th>\n",
       "      <th>adjClose</th>\n",
       "      <th>volume</th>\n",
       "      <th>unadjustedVolume</th>\n",
       "      <th>change</th>\n",
       "      <th>changePercent</th>\n",
       "      <th>vwap</th>\n",
       "      <th>label</th>\n",
       "      <th>changeOverTime</th>\n",
       "    </tr>\n",
       "  </thead>\n",
       "  <tbody>\n",
       "    <tr>\n",
       "      <th>0</th>\n",
       "      <td>2021-09-07</td>\n",
       "      <td>52561.757813</td>\n",
       "      <td>52850.425781</td>\n",
       "      <td>52420.921875</td>\n",
       "      <td>52620.878906</td>\n",
       "      <td>52620.878906</td>\n",
       "      <td>4.044913e+10</td>\n",
       "      <td>4.044913e+10</td>\n",
       "      <td>59.12109</td>\n",
       "      <td>0.112</td>\n",
       "      <td>52630.74219</td>\n",
       "      <td>September 07, 21</td>\n",
       "      <td>0.00112</td>\n",
       "    </tr>\n",
       "    <tr>\n",
       "      <th>1</th>\n",
       "      <td>2021-09-06</td>\n",
       "      <td>51769.003906</td>\n",
       "      <td>52700.941406</td>\n",
       "      <td>51053.679688</td>\n",
       "      <td>52633.535156</td>\n",
       "      <td>52633.535156</td>\n",
       "      <td>3.888411e+10</td>\n",
       "      <td>3.888411e+10</td>\n",
       "      <td>864.53125</td>\n",
       "      <td>1.670</td>\n",
       "      <td>52129.38542</td>\n",
       "      <td>September 06, 21</td>\n",
       "      <td>0.01670</td>\n",
       "    </tr>\n",
       "    <tr>\n",
       "      <th>2</th>\n",
       "      <td>2021-09-05</td>\n",
       "      <td>49937.859375</td>\n",
       "      <td>51868.679688</td>\n",
       "      <td>49538.597656</td>\n",
       "      <td>51753.410156</td>\n",
       "      <td>51753.410156</td>\n",
       "      <td>3.032268e+10</td>\n",
       "      <td>3.032268e+10</td>\n",
       "      <td>1815.55078</td>\n",
       "      <td>3.636</td>\n",
       "      <td>51053.56250</td>\n",
       "      <td>September 05, 21</td>\n",
       "      <td>0.03636</td>\n",
       "    </tr>\n",
       "    <tr>\n",
       "      <th>3</th>\n",
       "      <td>2021-09-04</td>\n",
       "      <td>50009.324219</td>\n",
       "      <td>50545.582031</td>\n",
       "      <td>49548.781250</td>\n",
       "      <td>49944.625000</td>\n",
       "      <td>49944.625000</td>\n",
       "      <td>3.747133e+10</td>\n",
       "      <td>3.747133e+10</td>\n",
       "      <td>-64.69922</td>\n",
       "      <td>-0.129</td>\n",
       "      <td>50012.99609</td>\n",
       "      <td>September 04, 21</td>\n",
       "      <td>-0.00129</td>\n",
       "    </tr>\n",
       "    <tr>\n",
       "      <th>4</th>\n",
       "      <td>2021-09-03</td>\n",
       "      <td>49288.250000</td>\n",
       "      <td>50982.273438</td>\n",
       "      <td>48386.085938</td>\n",
       "      <td>50025.375000</td>\n",
       "      <td>50025.375000</td>\n",
       "      <td>4.320618e+10</td>\n",
       "      <td>4.320618e+10</td>\n",
       "      <td>737.12500</td>\n",
       "      <td>1.496</td>\n",
       "      <td>49797.91146</td>\n",
       "      <td>September 03, 21</td>\n",
       "      <td>0.01496</td>\n",
       "    </tr>\n",
       "    <tr>\n",
       "      <th>...</th>\n",
       "      <td>...</td>\n",
       "      <td>...</td>\n",
       "      <td>...</td>\n",
       "      <td>...</td>\n",
       "      <td>...</td>\n",
       "      <td>...</td>\n",
       "      <td>...</td>\n",
       "      <td>...</td>\n",
       "      <td>...</td>\n",
       "      <td>...</td>\n",
       "      <td>...</td>\n",
       "      <td>...</td>\n",
       "      <td>...</td>\n",
       "    </tr>\n",
       "    <tr>\n",
       "      <th>1822</th>\n",
       "      <td>2016-09-11</td>\n",
       "      <td>623.424011</td>\n",
       "      <td>628.817993</td>\n",
       "      <td>600.505981</td>\n",
       "      <td>606.718994</td>\n",
       "      <td>606.718994</td>\n",
       "      <td>7.361080e+07</td>\n",
       "      <td>7.361080e+07</td>\n",
       "      <td>-16.70502</td>\n",
       "      <td>-2.680</td>\n",
       "      <td>612.01432</td>\n",
       "      <td>September 11, 16</td>\n",
       "      <td>-0.02680</td>\n",
       "    </tr>\n",
       "    <tr>\n",
       "      <th>1823</th>\n",
       "      <td>2016-09-10</td>\n",
       "      <td>622.927002</td>\n",
       "      <td>625.094971</td>\n",
       "      <td>622.395020</td>\n",
       "      <td>623.508972</td>\n",
       "      <td>623.508972</td>\n",
       "      <td>4.501680e+07</td>\n",
       "      <td>4.501680e+07</td>\n",
       "      <td>0.58197</td>\n",
       "      <td>0.093</td>\n",
       "      <td>623.66632</td>\n",
       "      <td>September 10, 16</td>\n",
       "      <td>0.00093</td>\n",
       "    </tr>\n",
       "    <tr>\n",
       "      <th>1824</th>\n",
       "      <td>2016-09-09</td>\n",
       "      <td>626.351990</td>\n",
       "      <td>626.830017</td>\n",
       "      <td>620.263000</td>\n",
       "      <td>622.861023</td>\n",
       "      <td>622.861023</td>\n",
       "      <td>6.455020e+07</td>\n",
       "      <td>6.455020e+07</td>\n",
       "      <td>-3.49097</td>\n",
       "      <td>-0.557</td>\n",
       "      <td>623.31801</td>\n",
       "      <td>September 09, 16</td>\n",
       "      <td>-0.00557</td>\n",
       "    </tr>\n",
       "    <tr>\n",
       "      <th>1825</th>\n",
       "      <td>2016-09-08</td>\n",
       "      <td>614.635010</td>\n",
       "      <td>628.770020</td>\n",
       "      <td>613.843994</td>\n",
       "      <td>626.315979</td>\n",
       "      <td>626.315979</td>\n",
       "      <td>8.671300e+07</td>\n",
       "      <td>8.671300e+07</td>\n",
       "      <td>11.68097</td>\n",
       "      <td>1.900</td>\n",
       "      <td>622.97666</td>\n",
       "      <td>September 08, 16</td>\n",
       "      <td>0.01900</td>\n",
       "    </tr>\n",
       "    <tr>\n",
       "      <th>1826</th>\n",
       "      <td>2016-09-07</td>\n",
       "      <td>610.572998</td>\n",
       "      <td>614.544983</td>\n",
       "      <td>608.513000</td>\n",
       "      <td>614.544006</td>\n",
       "      <td>614.544006</td>\n",
       "      <td>7.503240e+07</td>\n",
       "      <td>7.503240e+07</td>\n",
       "      <td>3.97101</td>\n",
       "      <td>0.650</td>\n",
       "      <td>612.53400</td>\n",
       "      <td>September 07, 16</td>\n",
       "      <td>0.00650</td>\n",
       "    </tr>\n",
       "  </tbody>\n",
       "</table>\n",
       "<p>1827 rows × 13 columns</p>\n",
       "</div>"
      ],
      "text/plain": [
       "            date          open          high           low         close  \\\n",
       "0     2021-09-07  52561.757813  52850.425781  52420.921875  52620.878906   \n",
       "1     2021-09-06  51769.003906  52700.941406  51053.679688  52633.535156   \n",
       "2     2021-09-05  49937.859375  51868.679688  49538.597656  51753.410156   \n",
       "3     2021-09-04  50009.324219  50545.582031  49548.781250  49944.625000   \n",
       "4     2021-09-03  49288.250000  50982.273438  48386.085938  50025.375000   \n",
       "...          ...           ...           ...           ...           ...   \n",
       "1822  2016-09-11    623.424011    628.817993    600.505981    606.718994   \n",
       "1823  2016-09-10    622.927002    625.094971    622.395020    623.508972   \n",
       "1824  2016-09-09    626.351990    626.830017    620.263000    622.861023   \n",
       "1825  2016-09-08    614.635010    628.770020    613.843994    626.315979   \n",
       "1826  2016-09-07    610.572998    614.544983    608.513000    614.544006   \n",
       "\n",
       "          adjClose        volume  unadjustedVolume      change  changePercent  \\\n",
       "0     52620.878906  4.044913e+10      4.044913e+10    59.12109          0.112   \n",
       "1     52633.535156  3.888411e+10      3.888411e+10   864.53125          1.670   \n",
       "2     51753.410156  3.032268e+10      3.032268e+10  1815.55078          3.636   \n",
       "3     49944.625000  3.747133e+10      3.747133e+10   -64.69922         -0.129   \n",
       "4     50025.375000  4.320618e+10      4.320618e+10   737.12500          1.496   \n",
       "...            ...           ...               ...         ...            ...   \n",
       "1822    606.718994  7.361080e+07      7.361080e+07   -16.70502         -2.680   \n",
       "1823    623.508972  4.501680e+07      4.501680e+07     0.58197          0.093   \n",
       "1824    622.861023  6.455020e+07      6.455020e+07    -3.49097         -0.557   \n",
       "1825    626.315979  8.671300e+07      8.671300e+07    11.68097          1.900   \n",
       "1826    614.544006  7.503240e+07      7.503240e+07     3.97101          0.650   \n",
       "\n",
       "             vwap             label  changeOverTime  \n",
       "0     52630.74219  September 07, 21         0.00112  \n",
       "1     52129.38542  September 06, 21         0.01670  \n",
       "2     51053.56250  September 05, 21         0.03636  \n",
       "3     50012.99609  September 04, 21        -0.00129  \n",
       "4     49797.91146  September 03, 21         0.01496  \n",
       "...           ...               ...             ...  \n",
       "1822    612.01432  September 11, 16        -0.02680  \n",
       "1823    623.66632  September 10, 16         0.00093  \n",
       "1824    623.31801  September 09, 16        -0.00557  \n",
       "1825    622.97666  September 08, 16         0.01900  \n",
       "1826    612.53400  September 07, 16         0.00650  \n",
       "\n",
       "[1827 rows x 13 columns]"
      ]
     },
     "execution_count": 8,
     "metadata": {},
     "output_type": "execute_result"
    }
   ],
   "source": [
    "pd.read_csv('btsdaily')"
   ]
  },
  {
   "cell_type": "markdown",
   "id": "8e4029ea",
   "metadata": {},
   "source": [
    "# basline model using only historical data"
   ]
  },
  {
   "cell_type": "code",
   "execution_count": 9,
   "id": "d69f4bfb",
   "metadata": {},
   "outputs": [
    {
     "name": "stderr",
     "output_type": "stream",
     "text": [
      "2021-09-07 16:35:58.039226: W tensorflow/stream_executor/platform/default/dso_loader.cc:64] Could not load dynamic library 'libcudart.so.11.0'; dlerror: libcudart.so.11.0: cannot open shared object file: No such file or directory\n",
      "2021-09-07 16:35:58.039303: I tensorflow/stream_executor/cuda/cudart_stub.cc:29] Ignore above cudart dlerror if you do not have a GPU set up on your machine.\n"
     ]
    }
   ],
   "source": [
    "import math\n",
    "import matplotlib.pyplot as plt\n",
    "import keras\n",
    "import numpy as np\n",
    "from keras.models import Sequential\n",
    "from keras.layers import Dense\n",
    "from keras.layers import LSTM\n",
    "from keras.layers import Dropout\n",
    "from keras.layers import *\n",
    "from sklearn.preprocessing import MinMaxScaler\n",
    "from sklearn.metrics import mean_squared_error\n",
    "from sklearn.metrics import mean_absolute_error\n",
    "from sklearn.model_selection import train_test_split\n",
    "from keras.callbacks import EarlyStopping\n"
   ]
  },
  {
   "cell_type": "code",
   "execution_count": 10,
   "id": "b0a2ba52",
   "metadata": {
    "scrolled": true
   },
   "outputs": [],
   "source": [
    "df=pd.read_csv('btsdaily')[::-1].reset_index()\n",
    "df=df.drop('index',axis=1)"
   ]
  },
  {
   "cell_type": "code",
   "execution_count": 11,
   "id": "ee013cba",
   "metadata": {},
   "outputs": [],
   "source": [
    "training_split=0.7\n",
    "training_index=int(0.7*len(df))\n",
    "                   \n"
   ]
  },
  {
   "cell_type": "code",
   "execution_count": 12,
   "id": "5ed40855",
   "metadata": {
    "scrolled": true
   },
   "outputs": [
    {
     "data": {
      "text/plain": [
       "(1278, 1)"
      ]
     },
     "execution_count": 12,
     "metadata": {},
     "output_type": "execute_result"
    }
   ],
   "source": [
    "training_set = df.iloc[:training_index, 1:2].values\n",
    "test_set = df.iloc[training_index:, 1:2].values\n",
    "\n",
    "training_set.shape\n"
   ]
  },
  {
   "cell_type": "markdown",
   "id": "d2ffcf72",
   "metadata": {},
   "source": [
    "## scaling"
   ]
  },
  {
   "cell_type": "code",
   "execution_count": 13,
   "id": "ca85215b",
   "metadata": {},
   "outputs": [
    {
     "data": {
      "text/plain": [
       "(1258, 20, 1)"
      ]
     },
     "execution_count": 13,
     "metadata": {},
     "output_type": "execute_result"
    }
   ],
   "source": [
    "# Feature Scaling\n",
    "sc = MinMaxScaler(feature_range = (0, 1))\n",
    "training_set_scaled = sc.fit_transform(training_set)\n",
    "\n",
    "#TimeSteps\n",
    "timesteps=20\n",
    "\n",
    "\n",
    "\n",
    "\n",
    "# Creating a data structure with 60 time-steps and 1 output\n",
    "X_train = []\n",
    "y_train = []\n",
    "for i in range(timesteps, training_index):\n",
    "    X_train.append(training_set_scaled[i-timesteps:i, 0])\n",
    "    y_train.append(training_set_scaled[i, 0])\n",
    "X_train, y_train = np.array(X_train), np.array(y_train)\n",
    "X_train = np.reshape(X_train, (X_train.shape[0], X_train.shape[1], 1))\n",
    "X_train.shape"
   ]
  },
  {
   "cell_type": "code",
   "execution_count": 17,
   "id": "73ad8a58",
   "metadata": {},
   "outputs": [
    {
     "data": {
      "text/plain": [
       "(1258,)"
      ]
     },
     "execution_count": 17,
     "metadata": {},
     "output_type": "execute_result"
    }
   ],
   "source": [
    "y_train.shape"
   ]
  },
  {
   "cell_type": "code",
   "execution_count": 20,
   "id": "395c1500",
   "metadata": {},
   "outputs": [
    {
     "data": {
      "text/plain": [
       "(20, 1)"
      ]
     },
     "execution_count": 20,
     "metadata": {},
     "output_type": "execute_result"
    }
   ],
   "source": [
    "X_train[0].shape"
   ]
  },
  {
   "cell_type": "markdown",
   "id": "6b1df6c0",
   "metadata": {},
   "source": [
    "## model sequential "
   ]
  },
  {
   "cell_type": "code",
   "execution_count": 14,
   "id": "f7d0d330",
   "metadata": {
    "scrolled": true
   },
   "outputs": [
    {
     "name": "stderr",
     "output_type": "stream",
     "text": [
      "2021-09-07 16:36:06.456746: W tensorflow/stream_executor/platform/default/dso_loader.cc:64] Could not load dynamic library 'libcuda.so.1'; dlerror: libcuda.so.1: cannot open shared object file: No such file or directory\n",
      "2021-09-07 16:36:06.456903: W tensorflow/stream_executor/cuda/cuda_driver.cc:269] failed call to cuInit: UNKNOWN ERROR (303)\n",
      "2021-09-07 16:36:06.456948: I tensorflow/stream_executor/cuda/cuda_diagnostics.cc:156] kernel driver does not appear to be running on this host (DESKTOP-13C1KP3): /proc/driver/nvidia/version does not exist\n",
      "2021-09-07 16:36:06.457733: I tensorflow/core/platform/cpu_feature_guard.cc:142] This TensorFlow binary is optimized with oneAPI Deep Neural Network Library (oneDNN) to use the following CPU instructions in performance-critical operations:  AVX2 FMA\n",
      "To enable them in other operations, rebuild TensorFlow with the appropriate compiler flags.\n",
      "2021-09-07 16:36:07.772458: I tensorflow/compiler/mlir/mlir_graph_optimization_pass.cc:185] None of the MLIR Optimization Passes are enabled (registered 2)\n"
     ]
    },
    {
     "name": "stdout",
     "output_type": "stream",
     "text": [
      "Epoch 1/100\n",
      " 7/40 [====>.........................] - ETA: 3s - loss: 0.1301"
     ]
    },
    {
     "ename": "KeyboardInterrupt",
     "evalue": "",
     "output_type": "error",
     "traceback": [
      "\u001b[0;31m---------------------------------------------------------------------------\u001b[0m",
      "\u001b[0;31mKeyboardInterrupt\u001b[0m                         Traceback (most recent call last)",
      "\u001b[0;32m/tmp/ipykernel_15736/755467615.py\u001b[0m in \u001b[0;36m<module>\u001b[0;34m\u001b[0m\n\u001b[1;32m     19\u001b[0m \u001b[0;34m\u001b[0m\u001b[0m\n\u001b[1;32m     20\u001b[0m \u001b[0;31m# Fitting the RNN to the Training set\u001b[0m\u001b[0;34m\u001b[0m\u001b[0;34m\u001b[0m\u001b[0;34m\u001b[0m\u001b[0m\n\u001b[0;32m---> 21\u001b[0;31m \u001b[0mmodel\u001b[0m\u001b[0;34m.\u001b[0m\u001b[0mfit\u001b[0m\u001b[0;34m(\u001b[0m\u001b[0mX_train\u001b[0m\u001b[0;34m,\u001b[0m \u001b[0my_train\u001b[0m\u001b[0;34m,\u001b[0m \u001b[0mepochs\u001b[0m \u001b[0;34m=\u001b[0m \u001b[0;36m100\u001b[0m\u001b[0;34m,\u001b[0m \u001b[0mbatch_size\u001b[0m \u001b[0;34m=\u001b[0m \u001b[0;36m32\u001b[0m\u001b[0;34m)\u001b[0m\u001b[0;34m\u001b[0m\u001b[0;34m\u001b[0m\u001b[0m\n\u001b[0m",
      "\u001b[0;32m~/.pyenv/versions/3.8.6/envs/cryptocurrency_trading/lib/python3.8/site-packages/keras/engine/training.py\u001b[0m in \u001b[0;36mfit\u001b[0;34m(self, x, y, batch_size, epochs, verbose, callbacks, validation_split, validation_data, shuffle, class_weight, sample_weight, initial_epoch, steps_per_epoch, validation_steps, validation_batch_size, validation_freq, max_queue_size, workers, use_multiprocessing)\u001b[0m\n\u001b[1;32m   1182\u001b[0m                 _r=1):\n\u001b[1;32m   1183\u001b[0m               \u001b[0mcallbacks\u001b[0m\u001b[0;34m.\u001b[0m\u001b[0mon_train_batch_begin\u001b[0m\u001b[0;34m(\u001b[0m\u001b[0mstep\u001b[0m\u001b[0;34m)\u001b[0m\u001b[0;34m\u001b[0m\u001b[0;34m\u001b[0m\u001b[0m\n\u001b[0;32m-> 1184\u001b[0;31m               \u001b[0mtmp_logs\u001b[0m \u001b[0;34m=\u001b[0m \u001b[0mself\u001b[0m\u001b[0;34m.\u001b[0m\u001b[0mtrain_function\u001b[0m\u001b[0;34m(\u001b[0m\u001b[0miterator\u001b[0m\u001b[0;34m)\u001b[0m\u001b[0;34m\u001b[0m\u001b[0;34m\u001b[0m\u001b[0m\n\u001b[0m\u001b[1;32m   1185\u001b[0m               \u001b[0;32mif\u001b[0m \u001b[0mdata_handler\u001b[0m\u001b[0;34m.\u001b[0m\u001b[0mshould_sync\u001b[0m\u001b[0;34m:\u001b[0m\u001b[0;34m\u001b[0m\u001b[0;34m\u001b[0m\u001b[0m\n\u001b[1;32m   1186\u001b[0m                 \u001b[0mcontext\u001b[0m\u001b[0;34m.\u001b[0m\u001b[0masync_wait\u001b[0m\u001b[0;34m(\u001b[0m\u001b[0;34m)\u001b[0m\u001b[0;34m\u001b[0m\u001b[0;34m\u001b[0m\u001b[0m\n",
      "\u001b[0;32m~/.pyenv/versions/3.8.6/envs/cryptocurrency_trading/lib/python3.8/site-packages/tensorflow/python/eager/def_function.py\u001b[0m in \u001b[0;36m__call__\u001b[0;34m(self, *args, **kwds)\u001b[0m\n\u001b[1;32m    883\u001b[0m \u001b[0;34m\u001b[0m\u001b[0m\n\u001b[1;32m    884\u001b[0m       \u001b[0;32mwith\u001b[0m \u001b[0mOptionalXlaContext\u001b[0m\u001b[0;34m(\u001b[0m\u001b[0mself\u001b[0m\u001b[0;34m.\u001b[0m\u001b[0m_jit_compile\u001b[0m\u001b[0;34m)\u001b[0m\u001b[0;34m:\u001b[0m\u001b[0;34m\u001b[0m\u001b[0;34m\u001b[0m\u001b[0m\n\u001b[0;32m--> 885\u001b[0;31m         \u001b[0mresult\u001b[0m \u001b[0;34m=\u001b[0m \u001b[0mself\u001b[0m\u001b[0;34m.\u001b[0m\u001b[0m_call\u001b[0m\u001b[0;34m(\u001b[0m\u001b[0;34m*\u001b[0m\u001b[0margs\u001b[0m\u001b[0;34m,\u001b[0m \u001b[0;34m**\u001b[0m\u001b[0mkwds\u001b[0m\u001b[0;34m)\u001b[0m\u001b[0;34m\u001b[0m\u001b[0;34m\u001b[0m\u001b[0m\n\u001b[0m\u001b[1;32m    886\u001b[0m \u001b[0;34m\u001b[0m\u001b[0m\n\u001b[1;32m    887\u001b[0m       \u001b[0mnew_tracing_count\u001b[0m \u001b[0;34m=\u001b[0m \u001b[0mself\u001b[0m\u001b[0;34m.\u001b[0m\u001b[0mexperimental_get_tracing_count\u001b[0m\u001b[0;34m(\u001b[0m\u001b[0;34m)\u001b[0m\u001b[0;34m\u001b[0m\u001b[0;34m\u001b[0m\u001b[0m\n",
      "\u001b[0;32m~/.pyenv/versions/3.8.6/envs/cryptocurrency_trading/lib/python3.8/site-packages/tensorflow/python/eager/def_function.py\u001b[0m in \u001b[0;36m_call\u001b[0;34m(self, *args, **kwds)\u001b[0m\n\u001b[1;32m    915\u001b[0m       \u001b[0;31m# In this case we have created variables on the first call, so we run the\u001b[0m\u001b[0;34m\u001b[0m\u001b[0;34m\u001b[0m\u001b[0;34m\u001b[0m\u001b[0m\n\u001b[1;32m    916\u001b[0m       \u001b[0;31m# defunned version which is guaranteed to never create variables.\u001b[0m\u001b[0;34m\u001b[0m\u001b[0;34m\u001b[0m\u001b[0;34m\u001b[0m\u001b[0m\n\u001b[0;32m--> 917\u001b[0;31m       \u001b[0;32mreturn\u001b[0m \u001b[0mself\u001b[0m\u001b[0;34m.\u001b[0m\u001b[0m_stateless_fn\u001b[0m\u001b[0;34m(\u001b[0m\u001b[0;34m*\u001b[0m\u001b[0margs\u001b[0m\u001b[0;34m,\u001b[0m \u001b[0;34m**\u001b[0m\u001b[0mkwds\u001b[0m\u001b[0;34m)\u001b[0m  \u001b[0;31m# pylint: disable=not-callable\u001b[0m\u001b[0;34m\u001b[0m\u001b[0;34m\u001b[0m\u001b[0m\n\u001b[0m\u001b[1;32m    918\u001b[0m     \u001b[0;32melif\u001b[0m \u001b[0mself\u001b[0m\u001b[0;34m.\u001b[0m\u001b[0m_stateful_fn\u001b[0m \u001b[0;32mis\u001b[0m \u001b[0;32mnot\u001b[0m \u001b[0;32mNone\u001b[0m\u001b[0;34m:\u001b[0m\u001b[0;34m\u001b[0m\u001b[0;34m\u001b[0m\u001b[0m\n\u001b[1;32m    919\u001b[0m       \u001b[0;31m# Release the lock early so that multiple threads can perform the call\u001b[0m\u001b[0;34m\u001b[0m\u001b[0;34m\u001b[0m\u001b[0;34m\u001b[0m\u001b[0m\n",
      "\u001b[0;32m~/.pyenv/versions/3.8.6/envs/cryptocurrency_trading/lib/python3.8/site-packages/tensorflow/python/eager/function.py\u001b[0m in \u001b[0;36m__call__\u001b[0;34m(self, *args, **kwargs)\u001b[0m\n\u001b[1;32m   3037\u001b[0m       (graph_function,\n\u001b[1;32m   3038\u001b[0m        filtered_flat_args) = self._maybe_define_function(args, kwargs)\n\u001b[0;32m-> 3039\u001b[0;31m     return graph_function._call_flat(\n\u001b[0m\u001b[1;32m   3040\u001b[0m         filtered_flat_args, captured_inputs=graph_function.captured_inputs)  # pylint: disable=protected-access\n\u001b[1;32m   3041\u001b[0m \u001b[0;34m\u001b[0m\u001b[0m\n",
      "\u001b[0;32m~/.pyenv/versions/3.8.6/envs/cryptocurrency_trading/lib/python3.8/site-packages/tensorflow/python/eager/function.py\u001b[0m in \u001b[0;36m_call_flat\u001b[0;34m(self, args, captured_inputs, cancellation_manager)\u001b[0m\n\u001b[1;32m   1961\u001b[0m         and executing_eagerly):\n\u001b[1;32m   1962\u001b[0m       \u001b[0;31m# No tape is watching; skip to running the function.\u001b[0m\u001b[0;34m\u001b[0m\u001b[0;34m\u001b[0m\u001b[0;34m\u001b[0m\u001b[0m\n\u001b[0;32m-> 1963\u001b[0;31m       return self._build_call_outputs(self._inference_function.call(\n\u001b[0m\u001b[1;32m   1964\u001b[0m           ctx, args, cancellation_manager=cancellation_manager))\n\u001b[1;32m   1965\u001b[0m     forward_backward = self._select_forward_and_backward_functions(\n",
      "\u001b[0;32m~/.pyenv/versions/3.8.6/envs/cryptocurrency_trading/lib/python3.8/site-packages/tensorflow/python/eager/function.py\u001b[0m in \u001b[0;36mcall\u001b[0;34m(self, ctx, args, cancellation_manager)\u001b[0m\n\u001b[1;32m    589\u001b[0m       \u001b[0;32mwith\u001b[0m \u001b[0m_InterpolateFunctionError\u001b[0m\u001b[0;34m(\u001b[0m\u001b[0mself\u001b[0m\u001b[0;34m)\u001b[0m\u001b[0;34m:\u001b[0m\u001b[0;34m\u001b[0m\u001b[0;34m\u001b[0m\u001b[0m\n\u001b[1;32m    590\u001b[0m         \u001b[0;32mif\u001b[0m \u001b[0mcancellation_manager\u001b[0m \u001b[0;32mis\u001b[0m \u001b[0;32mNone\u001b[0m\u001b[0;34m:\u001b[0m\u001b[0;34m\u001b[0m\u001b[0;34m\u001b[0m\u001b[0m\n\u001b[0;32m--> 591\u001b[0;31m           outputs = execute.execute(\n\u001b[0m\u001b[1;32m    592\u001b[0m               \u001b[0mstr\u001b[0m\u001b[0;34m(\u001b[0m\u001b[0mself\u001b[0m\u001b[0;34m.\u001b[0m\u001b[0msignature\u001b[0m\u001b[0;34m.\u001b[0m\u001b[0mname\u001b[0m\u001b[0;34m)\u001b[0m\u001b[0;34m,\u001b[0m\u001b[0;34m\u001b[0m\u001b[0;34m\u001b[0m\u001b[0m\n\u001b[1;32m    593\u001b[0m               \u001b[0mnum_outputs\u001b[0m\u001b[0;34m=\u001b[0m\u001b[0mself\u001b[0m\u001b[0;34m.\u001b[0m\u001b[0m_num_outputs\u001b[0m\u001b[0;34m,\u001b[0m\u001b[0;34m\u001b[0m\u001b[0;34m\u001b[0m\u001b[0m\n",
      "\u001b[0;32m~/.pyenv/versions/3.8.6/envs/cryptocurrency_trading/lib/python3.8/site-packages/tensorflow/python/eager/execute.py\u001b[0m in \u001b[0;36mquick_execute\u001b[0;34m(op_name, num_outputs, inputs, attrs, ctx, name)\u001b[0m\n\u001b[1;32m     57\u001b[0m   \u001b[0;32mtry\u001b[0m\u001b[0;34m:\u001b[0m\u001b[0;34m\u001b[0m\u001b[0;34m\u001b[0m\u001b[0m\n\u001b[1;32m     58\u001b[0m     \u001b[0mctx\u001b[0m\u001b[0;34m.\u001b[0m\u001b[0mensure_initialized\u001b[0m\u001b[0;34m(\u001b[0m\u001b[0;34m)\u001b[0m\u001b[0;34m\u001b[0m\u001b[0;34m\u001b[0m\u001b[0m\n\u001b[0;32m---> 59\u001b[0;31m     tensors = pywrap_tfe.TFE_Py_Execute(ctx._handle, device_name, op_name,\n\u001b[0m\u001b[1;32m     60\u001b[0m                                         inputs, attrs, num_outputs)\n\u001b[1;32m     61\u001b[0m   \u001b[0;32mexcept\u001b[0m \u001b[0mcore\u001b[0m\u001b[0;34m.\u001b[0m\u001b[0m_NotOkStatusException\u001b[0m \u001b[0;32mas\u001b[0m \u001b[0me\u001b[0m\u001b[0;34m:\u001b[0m\u001b[0;34m\u001b[0m\u001b[0;34m\u001b[0m\u001b[0m\n",
      "\u001b[0;31mKeyboardInterrupt\u001b[0m: "
     ]
    }
   ],
   "source": [
    "model = Sequential()\n",
    "# #Adding the first LSTM layer and some Dropout regularisation\n",
    "# model.add(LSTM(units = 50, return_sequences = True, input_shape = (X_train.shape[1], 1)))\n",
    "# model.add(Dropout(0.2))\n",
    "# Adding a second LSTM layer and some Dropout regularisation\n",
    "model.add(LSTM(units = 50, return_sequences = True))\n",
    "# model.add(Dropout(0.2))\n",
    "# Adding a third LSTM layer and some Dropout regularisation\n",
    "# model.add(LSTM(units = 50, return_sequences = True))\n",
    "# model.add(Dropout(0.2))\n",
    "# Adding a fourth LSTM layer and some Dropout regularisation\n",
    "model.add(LSTM(units = 20))\n",
    "model.add(Dropout(0.2))\n",
    "# Adding the output layer\n",
    "model.add(Dense(units = 1))\n",
    "\n",
    "# Compiling the RNN\n",
    "model.compile(optimizer = 'adam', loss = 'mae')\n",
    "\n",
    "# Fitting the RNN to the Training set\n",
    "model.fit(X_train, y_train, epochs = 100, batch_size = 32)"
   ]
  },
  {
   "cell_type": "markdown",
   "id": "4a61c1db",
   "metadata": {},
   "source": [
    "## Prepare test Data"
   ]
  },
  {
   "cell_type": "code",
   "execution_count": 16,
   "id": "0f74297b",
   "metadata": {},
   "outputs": [
    {
     "name": "stdout",
     "output_type": "stream",
     "text": [
      "(529, 20, 1)\n"
     ]
    }
   ],
   "source": [
    "dataset_train = df.iloc[:training_index, 1:2]\n",
    "dataset_test = df.iloc[training_index:, 1:2]\n",
    "dataset_total = pd.concat((dataset_train, dataset_test), axis = 0)\n",
    "inputs = dataset_total[len(dataset_total) - len(dataset_test) - 1:].values\n",
    "inputs = inputs.reshape(-1,1)\n",
    "inputs = sc.transform(inputs)\n",
    "X_test = []\n",
    "for i in range(timesteps,len(df)-training_index):\n",
    "    X_test.append(inputs[i-timesteps:i, 0])\n",
    "X_test = np.array(X_test)\n",
    "X_test = np.reshape(X_test, (X_test.shape[0], X_test.shape[1], 1))\n",
    "print(X_test.shape)\n"
   ]
  },
  {
   "cell_type": "code",
   "execution_count": 17,
   "id": "d4d7878e",
   "metadata": {},
   "outputs": [
    {
     "data": {
      "text/plain": [
       "(529, 1)"
      ]
     },
     "execution_count": 17,
     "metadata": {},
     "output_type": "execute_result"
    }
   ],
   "source": [
    "predicted_bts_price = model.predict(X_test)\n",
    "predicted_bts_price = sc.inverse_transform(predicted_bts_price)\n",
    "predicted_bts_price.shape"
   ]
  },
  {
   "cell_type": "markdown",
   "id": "ba49b199",
   "metadata": {},
   "source": [
    "## Plot"
   ]
  },
  {
   "cell_type": "code",
   "execution_count": 18,
   "id": "4e5eca65",
   "metadata": {},
   "outputs": [
    {
     "data": {
      "image/png": "[encoded data removed]",
      "text/plain": [
       "<Figure size 432x288 with 1 Axes>"
      ]
     },
     "metadata": {
      "needs_background": "light"
     },
     "output_type": "display_data"
    }
   ],
   "source": [
    "# Visualising the results\n",
    "plt.plot(df.loc[training_index:, 'date'], dataset_test.values, color = 'red', label = 'Real BTS Price')\n",
    "plt.plot(df.loc[training_index+timesteps:, 'date'], predicted_bts_price, color = 'blue', label = 'Predicted BTS Price')\n",
    "plt.xticks(np.arange(0,len(df)-training_index,50))\n",
    "\n",
    "\n",
    "plt.title('BTS Prediction')\n",
    "plt.xlabel('Time')\n",
    "plt.ylabel('BTS Price')\n",
    "plt.legend()\n",
    "plt.rcParams[\"figure.figsize\"] = (50,10)\n",
    "\n",
    "plt.show()"
   ]
  },
  {
   "cell_type": "markdown",
   "id": "cd50aea3",
   "metadata": {},
   "source": [
    "## MSE"
   ]
  },
  {
   "cell_type": "code",
   "execution_count": 19,
   "id": "702779b7",
   "metadata": {},
   "outputs": [
    {
     "data": {
      "text/plain": [
       "array([27091584.33799569])"
      ]
     },
     "execution_count": 19,
     "metadata": {},
     "output_type": "execute_result"
    }
   ],
   "source": [
    "MSE= sum((dataset_test.values[timesteps:]-predicted_bts_price)**2)/len(predicted_bts_price)\n",
    "MSE"
   ]
  },
  {
   "cell_type": "code",
   "execution_count": null,
   "id": "683c36ba",
   "metadata": {},
   "outputs": [],
   "source": [
    "# pip install -U scikit-learn\n"
   ]
  },
  {
   "cell_type": "code",
   "execution_count": 20,
   "id": "13e9a55d",
   "metadata": {},
   "outputs": [
    {
     "data": {
      "text/plain": [
       "0.07960681582566284"
      ]
     },
     "execution_count": 20,
     "metadata": {},
     "output_type": "execute_result"
    }
   ],
   "source": [
    "from sklearn.metrics import mean_absolute_percentage_error\n",
    "mean_absolute_percentage_error(dataset_test.values[timesteps:], predicted_bts_price)"
   ]
  },
  {
   "cell_type": "code",
   "execution_count": null,
   "id": "2f67f74d",
   "metadata": {},
   "outputs": [],
   "source": []
  }
 ],
 "metadata": {
  "kernelspec": {
   "display_name": "Python 3 (ipykernel)",
   "language": "python",
   "name": "python3"
  },
  "language_info": {
   "codemirror_mode": {
    "name": "ipython",
    "version": 3
   },
   "file_extension": ".py",
   "mimetype": "text/x-python",
   "name": "python",
   "nbconvert_exporter": "python",
   "pygments_lexer": "ipython3",
   "version": "3.8.6"
  },
  "toc": {
   "base_numbering": 1,
   "nav_menu": {},
   "number_sections": true,
   "sideBar": true,
   "skip_h1_title": false,
   "title_cell": "Table of Contents",
   "title_sidebar": "Contents",
   "toc_cell": false,
   "toc_position": {},
   "toc_section_display": true,
   "toc_window_display": false
  }
 },
 "nbformat": 4,
 "nbformat_minor": 5
}
