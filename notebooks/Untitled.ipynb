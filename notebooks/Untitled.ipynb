{
 "cells": [
  {
   "cell_type": "code",
   "execution_count": 1,
   "id": "18315a73",
   "metadata": {},
   "outputs": [],
   "source": [
    "import pandas as pd\n",
    "import sys"
   ]
  },
  {
   "cell_type": "code",
   "execution_count": 2,
   "id": "626fcda4",
   "metadata": {},
   "outputs": [
    {
     "ename": "ModuleNotFoundError",
     "evalue": "No module named 'red_sentiment'",
     "output_type": "error",
     "traceback": [
      "\u001b[0;31m---------------------------------------------------------------------------\u001b[0m",
      "\u001b[0;31mModuleNotFoundError\u001b[0m                       Traceback (most recent call last)",
      "\u001b[0;32m/var/folders/fz/d7fk9pr97s50bq63swg0t4l40000gn/T/ipykernel_67132/553811374.py\u001b[0m in \u001b[0;36m<module>\u001b[0;34m\u001b[0m\n\u001b[0;32m----> 1\u001b[0;31m \u001b[0;32mfrom\u001b[0m \u001b[0mdata\u001b[0m \u001b[0;32mimport\u001b[0m \u001b[0mget_all_data\u001b[0m\u001b[0;34m\u001b[0m\u001b[0;34m\u001b[0m\u001b[0m\n\u001b[0m",
      "\u001b[0;32m~/code/omarbelhaj99/cryptocurrency_trading/notebooks/data.py\u001b[0m in \u001b[0;36m<module>\u001b[0;34m\u001b[0m\n\u001b[1;32m      6\u001b[0m \u001b[0;32mfrom\u001b[0m \u001b[0mdotenv\u001b[0m \u001b[0;32mimport\u001b[0m \u001b[0mdotenv_values\u001b[0m\u001b[0;34m\u001b[0m\u001b[0;34m\u001b[0m\u001b[0m\n\u001b[1;32m      7\u001b[0m \u001b[0;34m\u001b[0m\u001b[0m\n\u001b[0;32m----> 8\u001b[0;31m \u001b[0;32mfrom\u001b[0m \u001b[0mred_sentiment\u001b[0m \u001b[0;32mimport\u001b[0m \u001b[0mall_reddit\u001b[0m\u001b[0;34m\u001b[0m\u001b[0;34m\u001b[0m\u001b[0m\n\u001b[0m\u001b[1;32m      9\u001b[0m \u001b[0;32mfrom\u001b[0m \u001b[0mtechnical_analysis\u001b[0m \u001b[0;32mimport\u001b[0m \u001b[0mall_tech_analysis\u001b[0m\u001b[0;34m\u001b[0m\u001b[0;34m\u001b[0m\u001b[0m\n\u001b[1;32m     10\u001b[0m \u001b[0;32mfrom\u001b[0m \u001b[0mtw_sentiment\u001b[0m \u001b[0;32mimport\u001b[0m \u001b[0mget_sentiment_and_count\u001b[0m\u001b[0;34m\u001b[0m\u001b[0;34m\u001b[0m\u001b[0m\n",
      "\u001b[0;31mModuleNotFoundError\u001b[0m: No module named 'red_sentiment'"
     ]
    }
   ],
   "source": [
    "from data import get_all_data"
   ]
  },
  {
   "cell_type": "code",
   "execution_count": 30,
   "id": "ba8f22b8",
   "metadata": {},
   "outputs": [
    {
     "name": "stdout",
     "output_type": "stream",
     "text": [
      "['/Users/yinanli/code/omarbelhaj99/cryptocurrency_trading/cryptocurrency_trading/', '/Users/yinanli/code/omarbelhaj99/cryptocurrency_trading/cryptocurrency_trading/', '/Users/yinanli/code/omarbelhaj99/cryptocurrency_trading/cryptocurrency_trading/data.py', '/Users/yinanli/code/omarbelhaj99/cryptocurrency_trading/cryptocurrency_trading/data.py', '/Users/yinanli/code/omarbelhaj99/cryptocurrency_trading/cryptocurrency_trading/data.py', '/Users/yinanli/code/omarbelhaj99/cryptocurrency_trading/cryptocurrency_trading/data.py', '../cryptocurrency_trading/data.py', '/../cryptocurrency_trading/data.py', '../cryptocurrency_trading/data.py/', '/Users/yinanli/code/omarbelhaj99/cryptocurrency_trading/notebooks', '/Users/yinanli/code/ynli0/data-challenges/04-Decision-Science', '/Users/yinanli/code/omarbelhaj99/cryptocurrency_trading/notebooks', '/Users/yinanli/.pyenv/versions/3.8.6/lib/python38.zip', '/Users/yinanli/.pyenv/versions/3.8.6/lib/python3.8', '/Users/yinanli/.pyenv/versions/3.8.6/lib/python3.8/lib-dynload', '', '/Users/yinanli/.pyenv/versions/3.8.6/envs/cryptocurrency_trading/lib/python3.8/site-packages', '/Users/yinanli/.pyenv/versions/3.8.6/envs/cryptocurrency_trading/lib/python3.8/site-packages/IPython/extensions', '/Users/yinanli/.ipython']\n"
     ]
    }
   ],
   "source": []
  },
  {
   "cell_type": "code",
   "execution_count": null,
   "id": "cafd49b9",
   "metadata": {},
   "outputs": [],
   "source": []
  }
 ],
 "metadata": {
  "kernelspec": {
   "display_name": "Python 3 (ipykernel)",
   "language": "python",
   "name": "python3"
  },
  "language_info": {
   "codemirror_mode": {
    "name": "ipython",
    "version": 3
   },
   "file_extension": ".py",
   "mimetype": "text/x-python",
   "name": "python",
   "nbconvert_exporter": "python",
   "pygments_lexer": "ipython3",
   "version": "3.8.6"
  },
  "toc": {
   "base_numbering": 1,
   "nav_menu": {},
   "number_sections": true,
   "sideBar": true,
   "skip_h1_title": false,
   "title_cell": "Table of Contents",
   "title_sidebar": "Contents",
   "toc_cell": false,
   "toc_position": {},
   "toc_section_display": true,
   "toc_window_display": false
  }
 },
 "nbformat": 4,
 "nbformat_minor": 5
}
