{
 "cells": [
  {
   "cell_type": "markdown",
   "id": "bf31f63b",
   "metadata": {},
   "source": [
    "# Try using NLP model"
   ]
  },
  {
   "cell_type": "code",
   "execution_count": 1,
   "id": "b86fbf21",
   "metadata": {},
   "outputs": [],
   "source": [
    "import pandas as pd\n",
    "df = pd.read_csv('reddit_data_1_2021.csv')"
   ]
  },
  {
   "cell_type": "markdown",
   "id": "50808e29",
   "metadata": {
    "heading_collapsed": true
   },
   "source": [
    "## Data exploration"
   ]
  },
  {
   "cell_type": "code",
   "execution_count": 2,
   "id": "1a08276c",
   "metadata": {
    "hidden": true,
    "scrolled": true
   },
   "outputs": [
    {
     "data": {
      "text/html": [
       "<div>\n",
       "<style scoped>\n",
       "    .dataframe tbody tr th:only-of-type {\n",
       "        vertical-align: middle;\n",
       "    }\n",
       "\n",
       "    .dataframe tbody tr th {\n",
       "        vertical-align: top;\n",
       "    }\n",
       "\n",
       "    .dataframe thead th {\n",
       "        text-align: right;\n",
       "    }\n",
       "</style>\n",
       "<table border=\"1\" class=\"dataframe\">\n",
       "  <thead>\n",
       "    <tr style=\"text-align: right;\">\n",
       "      <th></th>\n",
       "      <th>post_id</th>\n",
       "      <th>title</th>\n",
       "      <th>selftext</th>\n",
       "      <th>url</th>\n",
       "      <th>author</th>\n",
       "      <th>score</th>\n",
       "      <th>publish_date</th>\n",
       "      <th>num_of_comments</th>\n",
       "      <th>permalink</th>\n",
       "      <th>flair</th>\n",
       "    </tr>\n",
       "  </thead>\n",
       "  <tbody>\n",
       "    <tr>\n",
       "      <th>0</th>\n",
       "      <td>pdjv8l</td>\n",
       "      <td>Bitcoin generated $2 billion in profits for Mi...</td>\n",
       "      <td>NaN</td>\n",
       "      <td>https://digesttime.com/2021/08/28/bitcoin-gene...</td>\n",
       "      <td>thefoodboylover</td>\n",
       "      <td>1</td>\n",
       "      <td>2021-08-29 00:01:06</td>\n",
       "      <td>23</td>\n",
       "      <td>/r/Bitcoin/comments/pdjv8l/bitcoin_generated_2...</td>\n",
       "      <td>NaN</td>\n",
       "    </tr>\n",
       "    <tr>\n",
       "      <th>1</th>\n",
       "      <td>pdkb1m</td>\n",
       "      <td>Bitcoin will shoot.</td>\n",
       "      <td>Bitcoin will def shoot rapidly and would be mo...</td>\n",
       "      <td>https://www.reddit.com/r/Bitcoin/comments/pdkb...</td>\n",
       "      <td>tammy_lee112</td>\n",
       "      <td>1</td>\n",
       "      <td>2021-08-29 00:28:51</td>\n",
       "      <td>0</td>\n",
       "      <td>/r/Bitcoin/comments/pdkb1m/bitcoin_will_shoot/</td>\n",
       "      <td>NaN</td>\n",
       "    </tr>\n",
       "    <tr>\n",
       "      <th>2</th>\n",
       "      <td>pdkmwp</td>\n",
       "      <td>I have impossible idea. It is the incredible s...</td>\n",
       "      <td>We understand an important issue: the technolo...</td>\n",
       "      <td>https://www.reddit.com/r/Bitcoin/comments/pdkm...</td>\n",
       "      <td>cryptosyor</td>\n",
       "      <td>1</td>\n",
       "      <td>2021-08-29 00:49:57</td>\n",
       "      <td>39</td>\n",
       "      <td>/r/Bitcoin/comments/pdkmwp/i_have_impossible_i...</td>\n",
       "      <td>NaN</td>\n",
       "    </tr>\n",
       "    <tr>\n",
       "      <th>3</th>\n",
       "      <td>pdkul3</td>\n",
       "      <td>Has anyone brainstormed about how Bitcoin can ...</td>\n",
       "      <td>Is it possible? It must be. I don't know enoug...</td>\n",
       "      <td>https://www.reddit.com/r/Bitcoin/comments/pdku...</td>\n",
       "      <td>dikgumdur</td>\n",
       "      <td>1</td>\n",
       "      <td>2021-08-29 01:03:33</td>\n",
       "      <td>26</td>\n",
       "      <td>/r/Bitcoin/comments/pdkul3/has_anyone_brainsto...</td>\n",
       "      <td>NaN</td>\n",
       "    </tr>\n",
       "    <tr>\n",
       "      <th>4</th>\n",
       "      <td>pdl3ym</td>\n",
       "      <td>Gold mining is the largest source of CHILD LAB...</td>\n",
       "      <td>I was reading some articles today and went dow...</td>\n",
       "      <td>https://www.reddit.com/r/Bitcoin/comments/pdl3...</td>\n",
       "      <td>saccred</td>\n",
       "      <td>1</td>\n",
       "      <td>2021-08-29 01:19:52</td>\n",
       "      <td>147</td>\n",
       "      <td>/r/Bitcoin/comments/pdl3ym/gold_mining_is_the_...</td>\n",
       "      <td>NaN</td>\n",
       "    </tr>\n",
       "    <tr>\n",
       "      <th>5</th>\n",
       "      <td>pdl8is</td>\n",
       "      <td>Recommend me a Bitcoin-only Wallet</td>\n",
       "      <td>Sets of requirements I needed:\\n- trusted and ...</td>\n",
       "      <td>https://www.reddit.com/r/Bitcoin/comments/pdl8...</td>\n",
       "      <td>wolfur_</td>\n",
       "      <td>1</td>\n",
       "      <td>2021-08-29 01:28:04</td>\n",
       "      <td>14</td>\n",
       "      <td>/r/Bitcoin/comments/pdl8is/recommend_me_a_bitc...</td>\n",
       "      <td>NaN</td>\n",
       "    </tr>\n",
       "    <tr>\n",
       "      <th>6</th>\n",
       "      <td>pdlb7g</td>\n",
       "      <td>What you should invest between Bitcoin and gold?</td>\n",
       "      <td>NaN</td>\n",
       "      <td>https://vm.tiktok.com/ZSJcxTQyS/</td>\n",
       "      <td>StevenPhanVN</td>\n",
       "      <td>1</td>\n",
       "      <td>2021-08-29 01:33:01</td>\n",
       "      <td>11</td>\n",
       "      <td>/r/Bitcoin/comments/pdlb7g/what_you_should_inv...</td>\n",
       "      <td>NaN</td>\n",
       "    </tr>\n",
       "    <tr>\n",
       "      <th>7</th>\n",
       "      <td>pdle10</td>\n",
       "      <td>Earn Bitcoin, Dice, Plinko,Crash and More game</td>\n",
       "      <td>NaN</td>\n",
       "      <td>https://luckyfish.xyz/?c=c_jnvawv7izs91</td>\n",
       "      <td>Skeemy34</td>\n",
       "      <td>1</td>\n",
       "      <td>2021-08-29 01:38:13</td>\n",
       "      <td>0</td>\n",
       "      <td>/r/Bitcoin/comments/pdle10/earn_bitcoin_dice_p...</td>\n",
       "      <td>NaN</td>\n",
       "    </tr>\n",
       "  </tbody>\n",
       "</table>\n",
       "</div>"
      ],
      "text/plain": [
       "  post_id                                              title  \\\n",
       "0  pdjv8l  Bitcoin generated $2 billion in profits for Mi...   \n",
       "1  pdkb1m                                Bitcoin will shoot.   \n",
       "2  pdkmwp  I have impossible idea. It is the incredible s...   \n",
       "3  pdkul3  Has anyone brainstormed about how Bitcoin can ...   \n",
       "4  pdl3ym  Gold mining is the largest source of CHILD LAB...   \n",
       "5  pdl8is                 Recommend me a Bitcoin-only Wallet   \n",
       "6  pdlb7g   What you should invest between Bitcoin and gold?   \n",
       "7  pdle10     Earn Bitcoin, Dice, Plinko,Crash and More game   \n",
       "\n",
       "                                            selftext  \\\n",
       "0                                                NaN   \n",
       "1  Bitcoin will def shoot rapidly and would be mo...   \n",
       "2  We understand an important issue: the technolo...   \n",
       "3  Is it possible? It must be. I don't know enoug...   \n",
       "4  I was reading some articles today and went dow...   \n",
       "5  Sets of requirements I needed:\\n- trusted and ...   \n",
       "6                                                NaN   \n",
       "7                                                NaN   \n",
       "\n",
       "                                                 url           author  score  \\\n",
       "0  https://digesttime.com/2021/08/28/bitcoin-gene...  thefoodboylover      1   \n",
       "1  https://www.reddit.com/r/Bitcoin/comments/pdkb...     tammy_lee112      1   \n",
       "2  https://www.reddit.com/r/Bitcoin/comments/pdkm...       cryptosyor      1   \n",
       "3  https://www.reddit.com/r/Bitcoin/comments/pdku...        dikgumdur      1   \n",
       "4  https://www.reddit.com/r/Bitcoin/comments/pdl3...          saccred      1   \n",
       "5  https://www.reddit.com/r/Bitcoin/comments/pdl8...          wolfur_      1   \n",
       "6                   https://vm.tiktok.com/ZSJcxTQyS/     StevenPhanVN      1   \n",
       "7            https://luckyfish.xyz/?c=c_jnvawv7izs91         Skeemy34      1   \n",
       "\n",
       "          publish_date  num_of_comments  \\\n",
       "0  2021-08-29 00:01:06               23   \n",
       "1  2021-08-29 00:28:51                0   \n",
       "2  2021-08-29 00:49:57               39   \n",
       "3  2021-08-29 01:03:33               26   \n",
       "4  2021-08-29 01:19:52              147   \n",
       "5  2021-08-29 01:28:04               14   \n",
       "6  2021-08-29 01:33:01               11   \n",
       "7  2021-08-29 01:38:13                0   \n",
       "\n",
       "                                           permalink flair  \n",
       "0  /r/Bitcoin/comments/pdjv8l/bitcoin_generated_2...   NaN  \n",
       "1     /r/Bitcoin/comments/pdkb1m/bitcoin_will_shoot/   NaN  \n",
       "2  /r/Bitcoin/comments/pdkmwp/i_have_impossible_i...   NaN  \n",
       "3  /r/Bitcoin/comments/pdkul3/has_anyone_brainsto...   NaN  \n",
       "4  /r/Bitcoin/comments/pdl3ym/gold_mining_is_the_...   NaN  \n",
       "5  /r/Bitcoin/comments/pdl8is/recommend_me_a_bitc...   NaN  \n",
       "6  /r/Bitcoin/comments/pdlb7g/what_you_should_inv...   NaN  \n",
       "7  /r/Bitcoin/comments/pdle10/earn_bitcoin_dice_p...   NaN  "
      ]
     },
     "execution_count": 2,
     "metadata": {},
     "output_type": "execute_result"
    }
   ],
   "source": [
    "df.head(8)"
   ]
  },
  {
   "cell_type": "code",
   "execution_count": 3,
   "id": "b2abf400",
   "metadata": {
    "hidden": true
   },
   "outputs": [
    {
     "data": {
      "text/html": [
       "<div>\n",
       "<style scoped>\n",
       "    .dataframe tbody tr th:only-of-type {\n",
       "        vertical-align: middle;\n",
       "    }\n",
       "\n",
       "    .dataframe tbody tr th {\n",
       "        vertical-align: top;\n",
       "    }\n",
       "\n",
       "    .dataframe thead th {\n",
       "        text-align: right;\n",
       "    }\n",
       "</style>\n",
       "<table border=\"1\" class=\"dataframe\">\n",
       "  <thead>\n",
       "    <tr style=\"text-align: right;\">\n",
       "      <th></th>\n",
       "      <th>title</th>\n",
       "      <th>selftext</th>\n",
       "      <th>score</th>\n",
       "      <th>publish_date</th>\n",
       "      <th>num_of_comments</th>\n",
       "    </tr>\n",
       "  </thead>\n",
       "  <tbody>\n",
       "    <tr>\n",
       "      <th>0</th>\n",
       "      <td>Bitcoin generated $2 billion in profits for Mi...</td>\n",
       "      <td>NaN</td>\n",
       "      <td>1</td>\n",
       "      <td>2021-08-29 00:01:06</td>\n",
       "      <td>23</td>\n",
       "    </tr>\n",
       "    <tr>\n",
       "      <th>1</th>\n",
       "      <td>Bitcoin will shoot.</td>\n",
       "      <td>Bitcoin will def shoot rapidly and would be mo...</td>\n",
       "      <td>1</td>\n",
       "      <td>2021-08-29 00:28:51</td>\n",
       "      <td>0</td>\n",
       "    </tr>\n",
       "  </tbody>\n",
       "</table>\n",
       "</div>"
      ],
      "text/plain": [
       "                                               title  \\\n",
       "0  Bitcoin generated $2 billion in profits for Mi...   \n",
       "1                                Bitcoin will shoot.   \n",
       "\n",
       "                                            selftext  score  \\\n",
       "0                                                NaN      1   \n",
       "1  Bitcoin will def shoot rapidly and would be mo...      1   \n",
       "\n",
       "          publish_date  num_of_comments  \n",
       "0  2021-08-29 00:01:06               23  \n",
       "1  2021-08-29 00:28:51                0  "
      ]
     },
     "execution_count": 3,
     "metadata": {},
     "output_type": "execute_result"
    }
   ],
   "source": [
    "X=df[['title', 'selftext','score', 'publish_date', 'num_of_comments']]\n",
    "X.head(2)"
   ]
  },
  {
   "cell_type": "code",
   "execution_count": 4,
   "id": "70ef4f1c",
   "metadata": {
    "hidden": true
   },
   "outputs": [
    {
     "data": {
      "text/html": [
       "<div>\n",
       "<style scoped>\n",
       "    .dataframe tbody tr th:only-of-type {\n",
       "        vertical-align: middle;\n",
       "    }\n",
       "\n",
       "    .dataframe tbody tr th {\n",
       "        vertical-align: top;\n",
       "    }\n",
       "\n",
       "    .dataframe thead th {\n",
       "        text-align: right;\n",
       "    }\n",
       "</style>\n",
       "<table border=\"1\" class=\"dataframe\">\n",
       "  <thead>\n",
       "    <tr style=\"text-align: right;\">\n",
       "      <th></th>\n",
       "      <th>title</th>\n",
       "      <th>selftext</th>\n",
       "      <th>score</th>\n",
       "      <th>publish_date</th>\n",
       "    </tr>\n",
       "    <tr>\n",
       "      <th>num_of_comments</th>\n",
       "      <th></th>\n",
       "      <th></th>\n",
       "      <th></th>\n",
       "      <th></th>\n",
       "    </tr>\n",
       "  </thead>\n",
       "  <tbody>\n",
       "    <tr>\n",
       "      <th>0</th>\n",
       "      <td>2352</td>\n",
       "      <td>254</td>\n",
       "      <td>6</td>\n",
       "      <td>2444</td>\n",
       "    </tr>\n",
       "    <tr>\n",
       "      <th>1</th>\n",
       "      <td>702</td>\n",
       "      <td>190</td>\n",
       "      <td>7</td>\n",
       "      <td>708</td>\n",
       "    </tr>\n",
       "    <tr>\n",
       "      <th>2</th>\n",
       "      <td>474</td>\n",
       "      <td>168</td>\n",
       "      <td>7</td>\n",
       "      <td>475</td>\n",
       "    </tr>\n",
       "    <tr>\n",
       "      <th>3</th>\n",
       "      <td>291</td>\n",
       "      <td>137</td>\n",
       "      <td>7</td>\n",
       "      <td>291</td>\n",
       "    </tr>\n",
       "    <tr>\n",
       "      <th>4</th>\n",
       "      <td>269</td>\n",
       "      <td>141</td>\n",
       "      <td>9</td>\n",
       "      <td>270</td>\n",
       "    </tr>\n",
       "    <tr>\n",
       "      <th>...</th>\n",
       "      <td>...</td>\n",
       "      <td>...</td>\n",
       "      <td>...</td>\n",
       "      <td>...</td>\n",
       "    </tr>\n",
       "    <tr>\n",
       "      <th>908</th>\n",
       "      <td>1</td>\n",
       "      <td>0</td>\n",
       "      <td>1</td>\n",
       "      <td>1</td>\n",
       "    </tr>\n",
       "    <tr>\n",
       "      <th>1082</th>\n",
       "      <td>1</td>\n",
       "      <td>0</td>\n",
       "      <td>1</td>\n",
       "      <td>1</td>\n",
       "    </tr>\n",
       "    <tr>\n",
       "      <th>1096</th>\n",
       "      <td>1</td>\n",
       "      <td>0</td>\n",
       "      <td>1</td>\n",
       "      <td>1</td>\n",
       "    </tr>\n",
       "    <tr>\n",
       "      <th>1679</th>\n",
       "      <td>1</td>\n",
       "      <td>1</td>\n",
       "      <td>1</td>\n",
       "      <td>1</td>\n",
       "    </tr>\n",
       "    <tr>\n",
       "      <th>2177</th>\n",
       "      <td>1</td>\n",
       "      <td>1</td>\n",
       "      <td>1</td>\n",
       "      <td>1</td>\n",
       "    </tr>\n",
       "  </tbody>\n",
       "</table>\n",
       "<p>201 rows × 4 columns</p>\n",
       "</div>"
      ],
      "text/plain": [
       "                 title  selftext  score  publish_date\n",
       "num_of_comments                                      \n",
       "0                 2352       254      6          2444\n",
       "1                  702       190      7           708\n",
       "2                  474       168      7           475\n",
       "3                  291       137      7           291\n",
       "4                  269       141      9           270\n",
       "...                ...       ...    ...           ...\n",
       "908                  1         0      1             1\n",
       "1082                 1         0      1             1\n",
       "1096                 1         0      1             1\n",
       "1679                 1         1      1             1\n",
       "2177                 1         1      1             1\n",
       "\n",
       "[201 rows x 4 columns]"
      ]
     },
     "execution_count": 4,
     "metadata": {},
     "output_type": "execute_result"
    }
   ],
   "source": [
    "X.groupby(['num_of_comments']).nunique()"
   ]
  },
  {
   "cell_type": "markdown",
   "id": "2b6adfe9",
   "metadata": {},
   "source": [
    "## Using the model"
   ]
  },
  {
   "cell_type": "markdown",
   "id": "5cdbb958",
   "metadata": {},
   "source": [
    "### Exploring the example provided"
   ]
  },
  {
   "cell_type": "markdown",
   "id": "8484dfbe",
   "metadata": {},
   "source": [
    "The model used is in this link:\n",
    "    https://huggingface.co/siebert/sentiment-roberta-large-english"
   ]
  },
  {
   "cell_type": "markdown",
   "id": "259fb3ed",
   "metadata": {},
   "source": [
    "And the example on google colab can be found here: https://colab.research.google.com/github/chrsiebert/sentiment-roberta-large-english/blob/main/sentiment_roberta_prediction_example.ipynb"
   ]
  },
  {
   "cell_type": "markdown",
   "id": "d1e1a4a5",
   "metadata": {
    "heading_collapsed": true
   },
   "source": [
    "#### Installation of some stuff:"
   ]
  },
  {
   "cell_type": "code",
   "execution_count": 5,
   "id": "45cbb7b2",
   "metadata": {
    "hidden": true,
    "scrolled": true
   },
   "outputs": [
    {
     "name": "stdout",
     "output_type": "stream",
     "text": [
      "Requirement already satisfied: transformers in /home/claudia/.pyenv/versions/3.8.6/envs/cryptocurrency_trading/lib/python3.8/site-packages (4.9.2)\n",
      "Requirement already satisfied: pyyaml>=5.1 in /home/claudia/.pyenv/versions/3.8.6/envs/cryptocurrency_trading/lib/python3.8/site-packages (from transformers) (5.4.1)\n",
      "Requirement already satisfied: tokenizers<0.11,>=0.10.1 in /home/claudia/.pyenv/versions/3.8.6/envs/cryptocurrency_trading/lib/python3.8/site-packages (from transformers) (0.10.3)\n",
      "Requirement already satisfied: tqdm>=4.27 in /home/claudia/.pyenv/versions/3.8.6/envs/cryptocurrency_trading/lib/python3.8/site-packages (from transformers) (4.62.2)\n",
      "Requirement already satisfied: regex!=2019.12.17 in /home/claudia/.pyenv/versions/3.8.6/envs/cryptocurrency_trading/lib/python3.8/site-packages (from transformers) (2021.8.28)\n",
      "Requirement already satisfied: huggingface-hub==0.0.12 in /home/claudia/.pyenv/versions/3.8.6/envs/cryptocurrency_trading/lib/python3.8/site-packages (from transformers) (0.0.12)\n",
      "Requirement already satisfied: packaging in /home/claudia/.pyenv/versions/3.8.6/envs/cryptocurrency_trading/lib/python3.8/site-packages (from transformers) (21.0)\n",
      "Requirement already satisfied: numpy>=1.17 in /home/claudia/.pyenv/versions/3.8.6/envs/cryptocurrency_trading/lib/python3.8/site-packages (from transformers) (1.21.2)\n",
      "Requirement already satisfied: filelock in /home/claudia/.pyenv/versions/3.8.6/envs/cryptocurrency_trading/lib/python3.8/site-packages (from transformers) (3.0.12)\n",
      "Requirement already satisfied: sacremoses in /home/claudia/.pyenv/versions/3.8.6/envs/cryptocurrency_trading/lib/python3.8/site-packages (from transformers) (0.0.45)\n",
      "Requirement already satisfied: requests in /home/claudia/.pyenv/versions/3.8.6/envs/cryptocurrency_trading/lib/python3.8/site-packages (from transformers) (2.26.0)\n",
      "Requirement already satisfied: typing-extensions in /home/claudia/.pyenv/versions/3.8.6/envs/cryptocurrency_trading/lib/python3.8/site-packages (from huggingface-hub==0.0.12->transformers) (3.10.0.1)\n",
      "Requirement already satisfied: pyparsing>=2.0.2 in /home/claudia/.pyenv/versions/3.8.6/envs/cryptocurrency_trading/lib/python3.8/site-packages (from packaging->transformers) (2.4.7)\n",
      "Requirement already satisfied: charset-normalizer~=2.0.0 in /home/claudia/.pyenv/versions/3.8.6/envs/cryptocurrency_trading/lib/python3.8/site-packages (from requests->transformers) (2.0.4)\n",
      "Requirement already satisfied: certifi>=2017.4.17 in /home/claudia/.pyenv/versions/3.8.6/envs/cryptocurrency_trading/lib/python3.8/site-packages (from requests->transformers) (2021.5.30)\n",
      "Requirement already satisfied: urllib3<1.27,>=1.21.1 in /home/claudia/.pyenv/versions/3.8.6/envs/cryptocurrency_trading/lib/python3.8/site-packages (from requests->transformers) (1.26.6)\n",
      "Requirement already satisfied: idna<4,>=2.5 in /home/claudia/.pyenv/versions/3.8.6/envs/cryptocurrency_trading/lib/python3.8/site-packages (from requests->transformers) (3.2)\n",
      "Requirement already satisfied: click in /home/claudia/.pyenv/versions/3.8.6/envs/cryptocurrency_trading/lib/python3.8/site-packages (from sacremoses->transformers) (8.0.1)\n",
      "Requirement already satisfied: six in /home/claudia/.pyenv/versions/3.8.6/envs/cryptocurrency_trading/lib/python3.8/site-packages (from sacremoses->transformers) (1.16.0)\n",
      "Requirement already satisfied: joblib in /home/claudia/.pyenv/versions/3.8.6/envs/cryptocurrency_trading/lib/python3.8/site-packages (from sacremoses->transformers) (1.0.1)\n"
     ]
    }
   ],
   "source": [
    "# Install the transformers library\n",
    "!pip install transformers"
   ]
  },
  {
   "cell_type": "markdown",
   "id": "8df134eb",
   "metadata": {
    "hidden": true
   },
   "source": [
    "Should I include transformers to the requirements?"
   ]
  },
  {
   "cell_type": "code",
   "execution_count": 6,
   "id": "3d33ac94",
   "metadata": {
    "hidden": true
   },
   "outputs": [
    {
     "name": "stdout",
     "output_type": "stream",
     "text": [
      "Requirement already satisfied: torch in /home/claudia/.pyenv/versions/3.8.6/envs/cryptocurrency_trading/lib/python3.8/site-packages (1.9.0)\r\n",
      "Requirement already satisfied: typing-extensions in /home/claudia/.pyenv/versions/3.8.6/envs/cryptocurrency_trading/lib/python3.8/site-packages (from torch) (3.10.0.1)\r\n"
     ]
    }
   ],
   "source": [
    "!pip install torch"
   ]
  },
  {
   "cell_type": "code",
   "execution_count": 7,
   "id": "07abdff1",
   "metadata": {
    "hidden": true
   },
   "outputs": [],
   "source": [
    "import torch"
   ]
  },
  {
   "cell_type": "code",
   "execution_count": 9,
   "id": "56c03ae5",
   "metadata": {
    "hidden": true
   },
   "outputs": [
    {
     "name": "stdout",
     "output_type": "stream",
     "text": [
      "Requirement already satisfied: ipywidgets in /home/claudia/.pyenv/versions/3.8.6/envs/cryptocurrency_trading/lib/python3.8/site-packages (7.6.3)\n",
      "Requirement already satisfied: ipython>=4.0.0 in /home/claudia/.pyenv/versions/3.8.6/envs/cryptocurrency_trading/lib/python3.8/site-packages (from ipywidgets) (7.27.0)\n",
      "Requirement already satisfied: jupyterlab-widgets>=1.0.0 in /home/claudia/.pyenv/versions/3.8.6/envs/cryptocurrency_trading/lib/python3.8/site-packages (from ipywidgets) (1.0.0)\n",
      "Requirement already satisfied: traitlets>=4.3.1 in /home/claudia/.pyenv/versions/3.8.6/envs/cryptocurrency_trading/lib/python3.8/site-packages (from ipywidgets) (5.0.5)\n",
      "Requirement already satisfied: ipykernel>=4.5.1 in /home/claudia/.pyenv/versions/3.8.6/envs/cryptocurrency_trading/lib/python3.8/site-packages (from ipywidgets) (6.2.0)\n",
      "Requirement already satisfied: widgetsnbextension~=3.5.0 in /home/claudia/.pyenv/versions/3.8.6/envs/cryptocurrency_trading/lib/python3.8/site-packages (from ipywidgets) (3.5.1)\n",
      "Requirement already satisfied: nbformat>=4.2.0 in /home/claudia/.pyenv/versions/3.8.6/envs/cryptocurrency_trading/lib/python3.8/site-packages (from ipywidgets) (5.1.3)\n",
      "Requirement already satisfied: matplotlib-inline<0.2.0,>=0.1.0 in /home/claudia/.pyenv/versions/3.8.6/envs/cryptocurrency_trading/lib/python3.8/site-packages (from ipykernel>=4.5.1->ipywidgets) (0.1.2)\n",
      "Requirement already satisfied: debugpy<2.0,>=1.0.0 in /home/claudia/.pyenv/versions/3.8.6/envs/cryptocurrency_trading/lib/python3.8/site-packages (from ipykernel>=4.5.1->ipywidgets) (1.4.1)\n",
      "Requirement already satisfied: jupyter-client<8.0 in /home/claudia/.pyenv/versions/3.8.6/envs/cryptocurrency_trading/lib/python3.8/site-packages (from ipykernel>=4.5.1->ipywidgets) (7.0.2)\n",
      "Requirement already satisfied: tornado<7.0,>=4.2 in /home/claudia/.pyenv/versions/3.8.6/envs/cryptocurrency_trading/lib/python3.8/site-packages (from ipykernel>=4.5.1->ipywidgets) (6.1)\n",
      "Requirement already satisfied: jedi>=0.16 in /home/claudia/.pyenv/versions/3.8.6/envs/cryptocurrency_trading/lib/python3.8/site-packages (from ipython>=4.0.0->ipywidgets) (0.18.0)\n",
      "Requirement already satisfied: backcall in /home/claudia/.pyenv/versions/3.8.6/envs/cryptocurrency_trading/lib/python3.8/site-packages (from ipython>=4.0.0->ipywidgets) (0.2.0)\n",
      "Requirement already satisfied: prompt-toolkit!=3.0.0,!=3.0.1,<3.1.0,>=2.0.0 in /home/claudia/.pyenv/versions/3.8.6/envs/cryptocurrency_trading/lib/python3.8/site-packages (from ipython>=4.0.0->ipywidgets) (3.0.20)\n",
      "Requirement already satisfied: pexpect>4.3 in /home/claudia/.pyenv/versions/3.8.6/envs/cryptocurrency_trading/lib/python3.8/site-packages (from ipython>=4.0.0->ipywidgets) (4.8.0)\n",
      "Requirement already satisfied: pickleshare in /home/claudia/.pyenv/versions/3.8.6/envs/cryptocurrency_trading/lib/python3.8/site-packages (from ipython>=4.0.0->ipywidgets) (0.7.5)\n",
      "Requirement already satisfied: decorator in /home/claudia/.pyenv/versions/3.8.6/envs/cryptocurrency_trading/lib/python3.8/site-packages (from ipython>=4.0.0->ipywidgets) (5.0.9)\n",
      "Requirement already satisfied: setuptools>=18.5 in /home/claudia/.pyenv/versions/3.8.6/envs/cryptocurrency_trading/lib/python3.8/site-packages (from ipython>=4.0.0->ipywidgets) (49.2.1)\n",
      "Requirement already satisfied: pygments in /home/claudia/.pyenv/versions/3.8.6/envs/cryptocurrency_trading/lib/python3.8/site-packages (from ipython>=4.0.0->ipywidgets) (2.10.0)\n",
      "Requirement already satisfied: parso<0.9.0,>=0.8.0 in /home/claudia/.pyenv/versions/3.8.6/envs/cryptocurrency_trading/lib/python3.8/site-packages (from jedi>=0.16->ipython>=4.0.0->ipywidgets) (0.8.2)\n",
      "Requirement already satisfied: jupyter-core>=4.6.0 in /home/claudia/.pyenv/versions/3.8.6/envs/cryptocurrency_trading/lib/python3.8/site-packages (from jupyter-client<8.0->ipykernel>=4.5.1->ipywidgets) (4.7.1)\n",
      "Requirement already satisfied: entrypoints in /home/claudia/.pyenv/versions/3.8.6/envs/cryptocurrency_trading/lib/python3.8/site-packages (from jupyter-client<8.0->ipykernel>=4.5.1->ipywidgets) (0.3)\n",
      "Requirement already satisfied: nest-asyncio>=1.5 in /home/claudia/.pyenv/versions/3.8.6/envs/cryptocurrency_trading/lib/python3.8/site-packages (from jupyter-client<8.0->ipykernel>=4.5.1->ipywidgets) (1.5.1)\n",
      "Requirement already satisfied: pyzmq>=13 in /home/claudia/.pyenv/versions/3.8.6/envs/cryptocurrency_trading/lib/python3.8/site-packages (from jupyter-client<8.0->ipykernel>=4.5.1->ipywidgets) (22.2.1)\n",
      "Requirement already satisfied: python-dateutil>=2.1 in /home/claudia/.pyenv/versions/3.8.6/envs/cryptocurrency_trading/lib/python3.8/site-packages (from jupyter-client<8.0->ipykernel>=4.5.1->ipywidgets) (2.8.2)\n",
      "Requirement already satisfied: ipython-genutils in /home/claudia/.pyenv/versions/3.8.6/envs/cryptocurrency_trading/lib/python3.8/site-packages (from nbformat>=4.2.0->ipywidgets) (0.2.0)\n",
      "Requirement already satisfied: jsonschema!=2.5.0,>=2.4 in /home/claudia/.pyenv/versions/3.8.6/envs/cryptocurrency_trading/lib/python3.8/site-packages (from nbformat>=4.2.0->ipywidgets) (3.2.0)\n",
      "Requirement already satisfied: six>=1.11.0 in /home/claudia/.pyenv/versions/3.8.6/envs/cryptocurrency_trading/lib/python3.8/site-packages (from jsonschema!=2.5.0,>=2.4->nbformat>=4.2.0->ipywidgets) (1.16.0)\n",
      "Requirement already satisfied: attrs>=17.4.0 in /home/claudia/.pyenv/versions/3.8.6/envs/cryptocurrency_trading/lib/python3.8/site-packages (from jsonschema!=2.5.0,>=2.4->nbformat>=4.2.0->ipywidgets) (21.2.0)\n",
      "Requirement already satisfied: pyrsistent>=0.14.0 in /home/claudia/.pyenv/versions/3.8.6/envs/cryptocurrency_trading/lib/python3.8/site-packages (from jsonschema!=2.5.0,>=2.4->nbformat>=4.2.0->ipywidgets) (0.18.0)\n",
      "Requirement already satisfied: ptyprocess>=0.5 in /home/claudia/.pyenv/versions/3.8.6/envs/cryptocurrency_trading/lib/python3.8/site-packages (from pexpect>4.3->ipython>=4.0.0->ipywidgets) (0.7.0)\n",
      "Requirement already satisfied: wcwidth in /home/claudia/.pyenv/versions/3.8.6/envs/cryptocurrency_trading/lib/python3.8/site-packages (from prompt-toolkit!=3.0.0,!=3.0.1,<3.1.0,>=2.0.0->ipython>=4.0.0->ipywidgets) (0.2.5)\n",
      "Requirement already satisfied: notebook>=4.4.1 in /home/claudia/.pyenv/versions/3.8.6/envs/cryptocurrency_trading/lib/python3.8/site-packages (from widgetsnbextension~=3.5.0->ipywidgets) (6.4.3)\n",
      "Requirement already satisfied: Send2Trash>=1.5.0 in /home/claudia/.pyenv/versions/3.8.6/envs/cryptocurrency_trading/lib/python3.8/site-packages (from notebook>=4.4.1->widgetsnbextension~=3.5.0->ipywidgets) (1.8.0)\n",
      "Requirement already satisfied: jinja2 in /home/claudia/.pyenv/versions/3.8.6/envs/cryptocurrency_trading/lib/python3.8/site-packages (from notebook>=4.4.1->widgetsnbextension~=3.5.0->ipywidgets) (3.0.1)\n",
      "Requirement already satisfied: prometheus-client in /home/claudia/.pyenv/versions/3.8.6/envs/cryptocurrency_trading/lib/python3.8/site-packages (from notebook>=4.4.1->widgetsnbextension~=3.5.0->ipywidgets) (0.11.0)\n",
      "Requirement already satisfied: terminado>=0.8.3 in /home/claudia/.pyenv/versions/3.8.6/envs/cryptocurrency_trading/lib/python3.8/site-packages (from notebook>=4.4.1->widgetsnbextension~=3.5.0->ipywidgets) (0.11.1)\n",
      "Requirement already satisfied: nbconvert in /home/claudia/.pyenv/versions/3.8.6/envs/cryptocurrency_trading/lib/python3.8/site-packages (from notebook>=4.4.1->widgetsnbextension~=3.5.0->ipywidgets) (6.1.0)\n",
      "Requirement already satisfied: argon2-cffi in /home/claudia/.pyenv/versions/3.8.6/envs/cryptocurrency_trading/lib/python3.8/site-packages (from notebook>=4.4.1->widgetsnbextension~=3.5.0->ipywidgets) (21.1.0)\n",
      "Requirement already satisfied: cffi>=1.0.0 in /home/claudia/.pyenv/versions/3.8.6/envs/cryptocurrency_trading/lib/python3.8/site-packages (from argon2-cffi->notebook>=4.4.1->widgetsnbextension~=3.5.0->ipywidgets) (1.14.6)\n",
      "Requirement already satisfied: pycparser in /home/claudia/.pyenv/versions/3.8.6/envs/cryptocurrency_trading/lib/python3.8/site-packages (from cffi>=1.0.0->argon2-cffi->notebook>=4.4.1->widgetsnbextension~=3.5.0->ipywidgets) (2.20)\n",
      "Requirement already satisfied: MarkupSafe>=2.0 in /home/claudia/.pyenv/versions/3.8.6/envs/cryptocurrency_trading/lib/python3.8/site-packages (from jinja2->notebook>=4.4.1->widgetsnbextension~=3.5.0->ipywidgets) (2.0.1)\n"
     ]
    },
    {
     "name": "stdout",
     "output_type": "stream",
     "text": [
      "Requirement already satisfied: testpath in /home/claudia/.pyenv/versions/3.8.6/envs/cryptocurrency_trading/lib/python3.8/site-packages (from nbconvert->notebook>=4.4.1->widgetsnbextension~=3.5.0->ipywidgets) (0.5.0)\n",
      "Requirement already satisfied: nbclient<0.6.0,>=0.5.0 in /home/claudia/.pyenv/versions/3.8.6/envs/cryptocurrency_trading/lib/python3.8/site-packages (from nbconvert->notebook>=4.4.1->widgetsnbextension~=3.5.0->ipywidgets) (0.5.4)\n",
      "Requirement already satisfied: jupyterlab-pygments in /home/claudia/.pyenv/versions/3.8.6/envs/cryptocurrency_trading/lib/python3.8/site-packages (from nbconvert->notebook>=4.4.1->widgetsnbextension~=3.5.0->ipywidgets) (0.1.2)\n",
      "Requirement already satisfied: defusedxml in /home/claudia/.pyenv/versions/3.8.6/envs/cryptocurrency_trading/lib/python3.8/site-packages (from nbconvert->notebook>=4.4.1->widgetsnbextension~=3.5.0->ipywidgets) (0.7.1)\n",
      "Requirement already satisfied: bleach in /home/claudia/.pyenv/versions/3.8.6/envs/cryptocurrency_trading/lib/python3.8/site-packages (from nbconvert->notebook>=4.4.1->widgetsnbextension~=3.5.0->ipywidgets) (4.1.0)\n",
      "Requirement already satisfied: pandocfilters>=1.4.1 in /home/claudia/.pyenv/versions/3.8.6/envs/cryptocurrency_trading/lib/python3.8/site-packages (from nbconvert->notebook>=4.4.1->widgetsnbextension~=3.5.0->ipywidgets) (1.4.3)\n",
      "Requirement already satisfied: mistune<2,>=0.8.1 in /home/claudia/.pyenv/versions/3.8.6/envs/cryptocurrency_trading/lib/python3.8/site-packages (from nbconvert->notebook>=4.4.1->widgetsnbextension~=3.5.0->ipywidgets) (0.8.4)\n",
      "Requirement already satisfied: packaging in /home/claudia/.pyenv/versions/3.8.6/envs/cryptocurrency_trading/lib/python3.8/site-packages (from bleach->nbconvert->notebook>=4.4.1->widgetsnbextension~=3.5.0->ipywidgets) (21.0)\n",
      "Requirement already satisfied: webencodings in /home/claudia/.pyenv/versions/3.8.6/envs/cryptocurrency_trading/lib/python3.8/site-packages (from bleach->nbconvert->notebook>=4.4.1->widgetsnbextension~=3.5.0->ipywidgets) (0.5.1)\n",
      "Requirement already satisfied: pyparsing>=2.0.2 in /home/claudia/.pyenv/versions/3.8.6/envs/cryptocurrency_trading/lib/python3.8/site-packages (from packaging->bleach->nbconvert->notebook>=4.4.1->widgetsnbextension~=3.5.0->ipywidgets) (2.4.7)\n"
     ]
    }
   ],
   "source": [
    "!pip install ipywidgets"
   ]
  },
  {
   "cell_type": "code",
   "execution_count": 10,
   "id": "557d065a",
   "metadata": {
    "hidden": true
   },
   "outputs": [
    {
     "name": "stdout",
     "output_type": "stream",
     "text": [
      "Enabling notebook extension jupyter-js-widgets/extension...\r\n",
      "      - Validating: \u001b[32mOK\u001b[0m\r\n"
     ]
    }
   ],
   "source": [
    "!jupyter nbextension enable --py widgetsnbextension"
   ]
  },
  {
   "cell_type": "code",
   "execution_count": 11,
   "id": "8b0ebcc3",
   "metadata": {
    "hidden": true
   },
   "outputs": [],
   "source": [
    "from ipywidgets import IntProgress"
   ]
  },
  {
   "cell_type": "code",
   "execution_count": 12,
   "id": "f3dd29c4",
   "metadata": {
    "hidden": true
   },
   "outputs": [
    {
     "name": "stdout",
     "output_type": "stream",
     "text": [
      "Name: tqdm\n",
      "Version: 4.62.2\n",
      "Summary: Fast, Extensible Progress Meter\n",
      "Home-page: https://tqdm.github.io\n",
      "Author: \n",
      "Author-email: \n",
      "License: MPLv2.0, MIT Licences\n",
      "Location: /home/claudia/.pyenv/versions/3.8.6/envs/cryptocurrency_trading/lib/python3.8/site-packages\n",
      "Requires: \n",
      "Required-by: twine, transformers, sacremoses, huggingface-hub\n",
      "Note: you may need to restart the kernel to use updated packages.\n"
     ]
    }
   ],
   "source": [
    "pip show tqdm"
   ]
  },
  {
   "cell_type": "code",
   "execution_count": 13,
   "id": "5c261b98",
   "metadata": {
    "hidden": true
   },
   "outputs": [
    {
     "name": "stdout",
     "output_type": "stream",
     "text": [
      "Requirement already satisfied: jupyter_client in /home/claudia/.pyenv/versions/3.8.6/envs/cryptocurrency_trading/lib/python3.8/site-packages (7.0.2)\n",
      "Requirement already satisfied: nest-asyncio>=1.5 in /home/claudia/.pyenv/versions/3.8.6/envs/cryptocurrency_trading/lib/python3.8/site-packages (from jupyter_client) (1.5.1)\n",
      "Requirement already satisfied: tornado>=4.1 in /home/claudia/.pyenv/versions/3.8.6/envs/cryptocurrency_trading/lib/python3.8/site-packages (from jupyter_client) (6.1)\n",
      "Requirement already satisfied: pyzmq>=13 in /home/claudia/.pyenv/versions/3.8.6/envs/cryptocurrency_trading/lib/python3.8/site-packages (from jupyter_client) (22.2.1)\n",
      "Requirement already satisfied: python-dateutil>=2.1 in /home/claudia/.pyenv/versions/3.8.6/envs/cryptocurrency_trading/lib/python3.8/site-packages (from jupyter_client) (2.8.2)\n",
      "Requirement already satisfied: jupyter-core>=4.6.0 in /home/claudia/.pyenv/versions/3.8.6/envs/cryptocurrency_trading/lib/python3.8/site-packages (from jupyter_client) (4.7.1)\n",
      "Requirement already satisfied: traitlets in /home/claudia/.pyenv/versions/3.8.6/envs/cryptocurrency_trading/lib/python3.8/site-packages (from jupyter_client) (5.0.5)\n",
      "Requirement already satisfied: entrypoints in /home/claudia/.pyenv/versions/3.8.6/envs/cryptocurrency_trading/lib/python3.8/site-packages (from jupyter_client) (0.3)\n",
      "Requirement already satisfied: six>=1.5 in /home/claudia/.pyenv/versions/3.8.6/envs/cryptocurrency_trading/lib/python3.8/site-packages (from python-dateutil>=2.1->jupyter_client) (1.16.0)\n",
      "Requirement already satisfied: ipython-genutils in /home/claudia/.pyenv/versions/3.8.6/envs/cryptocurrency_trading/lib/python3.8/site-packages (from traitlets->jupyter_client) (0.2.0)\n",
      "Note: you may need to restart the kernel to use updated packages.\n"
     ]
    }
   ],
   "source": [
    "pip install --upgrade jupyter_client\n"
   ]
  },
  {
   "cell_type": "markdown",
   "id": "0c981dc8",
   "metadata": {},
   "source": [
    "#### Running model"
   ]
  },
  {
   "cell_type": "code",
   "execution_count": 23,
   "id": "3834feee",
   "metadata": {},
   "outputs": [],
   "source": [
    "# Import required packages\n",
    "import torch\n",
    "import pandas as pd\n",
    "import numpy as np\n",
    "from transformers import AutoTokenizer, AutoModelForSequenceClassification, Trainer\n",
    "\n",
    "# Create class for data preparation\n",
    "class SimpleDataset:\n",
    "    def __init__(self, tokenized_texts):\n",
    "        self.tokenized_texts = tokenized_texts\n",
    "    \n",
    "    def __len__(self):\n",
    "        return len(self.tokenized_texts[\"input_ids\"])\n",
    "    \n",
    "    def __getitem__(self, idx):\n",
    "        return {k: v[idx] for k, v in self.tokenized_texts.items()}"
   ]
  },
  {
   "cell_type": "code",
   "execution_count": 14,
   "id": "07d3e9d9",
   "metadata": {
    "scrolled": true
   },
   "outputs": [],
   "source": [
    "# Load tokenizer and model, create trainer\n",
    "model_name = \"siebert/sentiment-roberta-large-english\"\n",
    "tokenizer = AutoTokenizer.from_pretrained(model_name)\n",
    "model = AutoModelForSequenceClassification.from_pretrained(model_name)\n",
    "trainer = Trainer(model=model)"
   ]
  },
  {
   "cell_type": "code",
   "execution_count": 15,
   "id": "9e2d8137",
   "metadata": {},
   "outputs": [
    {
     "data": {
      "text/plain": [
       "tensor([[0.8823, 0.9150, 0.3829],\n",
       "        [0.9593, 0.3904, 0.6009],\n",
       "        [0.2566, 0.7936, 0.9408],\n",
       "        [0.1332, 0.9346, 0.5936],\n",
       "        [0.8694, 0.5677, 0.7411]])"
      ]
     },
     "execution_count": 15,
     "metadata": {},
     "output_type": "execute_result"
    }
   ],
   "source": [
    "torch.rand(5, 3)"
   ]
  },
  {
   "cell_type": "code",
   "execution_count": 59,
   "id": "735e15d5",
   "metadata": {},
   "outputs": [],
   "source": [
    "# Create list of texts (can be imported from .csv, .xls etc.)\n",
    "pred_texts = ['I like that','That is annoying','This is great!','Wouldn´t recommend it.']"
   ]
  },
  {
   "cell_type": "code",
   "execution_count": 60,
   "id": "e96faa84",
   "metadata": {},
   "outputs": [],
   "source": [
    "# Tokenize texts and create prediction data set\n",
    "tokenized_texts = tokenizer(pred_texts,truncation=True,padding=True)\n",
    "pred_dataset = SimpleDataset(tokenized_texts)"
   ]
  },
  {
   "cell_type": "code",
   "execution_count": 61,
   "id": "c8fc2206",
   "metadata": {},
   "outputs": [
    {
     "name": "stderr",
     "output_type": "stream",
     "text": [
      "***** Running Prediction *****\n",
      "  Num examples = 4\n",
      "  Batch size = 8\n"
     ]
    }
   ],
   "source": [
    "# Run predictions\n",
    "predictions = trainer.predict(pred_dataset)"
   ]
  },
  {
   "cell_type": "code",
   "execution_count": 62,
   "id": "4f5925e8",
   "metadata": {},
   "outputs": [],
   "source": [
    "# Transform predictions to labels\n",
    "preds = predictions.predictions.argmax(-1)\n",
    "labels = pd.Series(preds).map(model.config.id2label)\n",
    "scores = (np.exp(predictions[0])/np.exp(predictions[0]).sum(-1,keepdims=True)).max(1)"
   ]
  },
  {
   "cell_type": "code",
   "execution_count": 63,
   "id": "c8000be7",
   "metadata": {},
   "outputs": [
    {
     "data": {
      "text/html": [
       "<div>\n",
       "<style scoped>\n",
       "    .dataframe tbody tr th:only-of-type {\n",
       "        vertical-align: middle;\n",
       "    }\n",
       "\n",
       "    .dataframe tbody tr th {\n",
       "        vertical-align: top;\n",
       "    }\n",
       "\n",
       "    .dataframe thead th {\n",
       "        text-align: right;\n",
       "    }\n",
       "</style>\n",
       "<table border=\"1\" class=\"dataframe\">\n",
       "  <thead>\n",
       "    <tr style=\"text-align: right;\">\n",
       "      <th></th>\n",
       "      <th>text</th>\n",
       "      <th>pred</th>\n",
       "      <th>label</th>\n",
       "      <th>score</th>\n",
       "    </tr>\n",
       "  </thead>\n",
       "  <tbody>\n",
       "    <tr>\n",
       "      <th>0</th>\n",
       "      <td>I like that</td>\n",
       "      <td>1</td>\n",
       "      <td>POSITIVE</td>\n",
       "      <td>0.998657</td>\n",
       "    </tr>\n",
       "    <tr>\n",
       "      <th>1</th>\n",
       "      <td>That is annoying</td>\n",
       "      <td>0</td>\n",
       "      <td>NEGATIVE</td>\n",
       "      <td>0.999409</td>\n",
       "    </tr>\n",
       "    <tr>\n",
       "      <th>2</th>\n",
       "      <td>This is great!</td>\n",
       "      <td>1</td>\n",
       "      <td>POSITIVE</td>\n",
       "      <td>0.998727</td>\n",
       "    </tr>\n",
       "    <tr>\n",
       "      <th>3</th>\n",
       "      <td>Wouldn´t recommend it.</td>\n",
       "      <td>0</td>\n",
       "      <td>NEGATIVE</td>\n",
       "      <td>0.999486</td>\n",
       "    </tr>\n",
       "  </tbody>\n",
       "</table>\n",
       "</div>"
      ],
      "text/plain": [
       "                     text  pred     label     score\n",
       "0             I like that     1  POSITIVE  0.998657\n",
       "1        That is annoying     0  NEGATIVE  0.999409\n",
       "2          This is great!     1  POSITIVE  0.998727\n",
       "3  Wouldn´t recommend it.     0  NEGATIVE  0.999486"
      ]
     },
     "execution_count": 63,
     "metadata": {},
     "output_type": "execute_result"
    }
   ],
   "source": [
    "# Create DataFrame with texts, predictions, labels, and scores\n",
    "df = pd.DataFrame(list(zip(pred_texts,preds,labels,scores)), columns=['text','pred','label','score'])\n",
    "df.head()"
   ]
  },
  {
   "cell_type": "markdown",
   "id": "13ed6f3b",
   "metadata": {},
   "source": [
    "### Trying with our data:"
   ]
  },
  {
   "cell_type": "code",
   "execution_count": 64,
   "id": "aeeeb9ec",
   "metadata": {
    "scrolled": true
   },
   "outputs": [
    {
     "data": {
      "text/html": [
       "<div>\n",
       "<style scoped>\n",
       "    .dataframe tbody tr th:only-of-type {\n",
       "        vertical-align: middle;\n",
       "    }\n",
       "\n",
       "    .dataframe tbody tr th {\n",
       "        vertical-align: top;\n",
       "    }\n",
       "\n",
       "    .dataframe thead th {\n",
       "        text-align: right;\n",
       "    }\n",
       "</style>\n",
       "<table border=\"1\" class=\"dataframe\">\n",
       "  <thead>\n",
       "    <tr style=\"text-align: right;\">\n",
       "      <th></th>\n",
       "      <th>title</th>\n",
       "      <th>selftext</th>\n",
       "      <th>score</th>\n",
       "      <th>publish_date</th>\n",
       "      <th>num_of_comments</th>\n",
       "    </tr>\n",
       "  </thead>\n",
       "  <tbody>\n",
       "    <tr>\n",
       "      <th>0</th>\n",
       "      <td>Bitcoin generated $2 billion in profits for Mi...</td>\n",
       "      <td>NaN</td>\n",
       "      <td>1</td>\n",
       "      <td>2021-08-29 00:01:06</td>\n",
       "      <td>23</td>\n",
       "    </tr>\n",
       "    <tr>\n",
       "      <th>1</th>\n",
       "      <td>Bitcoin will shoot.</td>\n",
       "      <td>Bitcoin will def shoot rapidly and would be mo...</td>\n",
       "      <td>1</td>\n",
       "      <td>2021-08-29 00:28:51</td>\n",
       "      <td>0</td>\n",
       "    </tr>\n",
       "  </tbody>\n",
       "</table>\n",
       "</div>"
      ],
      "text/plain": [
       "                                               title  \\\n",
       "0  Bitcoin generated $2 billion in profits for Mi...   \n",
       "1                                Bitcoin will shoot.   \n",
       "\n",
       "                                            selftext  score  \\\n",
       "0                                                NaN      1   \n",
       "1  Bitcoin will def shoot rapidly and would be mo...      1   \n",
       "\n",
       "          publish_date  num_of_comments  \n",
       "0  2021-08-29 00:01:06               23  \n",
       "1  2021-08-29 00:28:51                0  "
      ]
     },
     "execution_count": 64,
     "metadata": {},
     "output_type": "execute_result"
    }
   ],
   "source": [
    "X.head(2)"
   ]
  },
  {
   "cell_type": "code",
   "execution_count": 76,
   "id": "4cf26c91",
   "metadata": {},
   "outputs": [],
   "source": [
    "list(X.dropna(subset = ['selftext'])['selftext'][0:4]);"
   ]
  },
  {
   "cell_type": "code",
   "execution_count": 71,
   "id": "44d08e48",
   "metadata": {},
   "outputs": [],
   "source": [
    "to_predict = list(X.dropna(subset = ['selftext'])['selftext'][0:4])"
   ]
  },
  {
   "cell_type": "code",
   "execution_count": 72,
   "id": "5986d010",
   "metadata": {},
   "outputs": [],
   "source": [
    "# Tokenize texts and create prediction data set\n",
    "tokenized_texts = tokenizer(to_predict,truncation=True,padding=True)\n",
    "pred_dataset = SimpleDataset(tokenized_texts)"
   ]
  },
  {
   "cell_type": "code",
   "execution_count": 73,
   "id": "b594efbe",
   "metadata": {},
   "outputs": [
    {
     "name": "stderr",
     "output_type": "stream",
     "text": [
      "***** Running Prediction *****\n",
      "  Num examples = 4\n",
      "  Batch size = 8\n"
     ]
    }
   ],
   "source": [
    "predictions = trainer.predict(pred_dataset)"
   ]
  },
  {
   "cell_type": "code",
   "execution_count": 74,
   "id": "93bfafed",
   "metadata": {},
   "outputs": [],
   "source": [
    "# Transform predictions to labels\n",
    "preds = predictions.predictions.argmax(-1)\n",
    "labels = pd.Series(preds).map(model.config.id2label)\n",
    "scores = (np.exp(predictions[0])/np.exp(predictions[0]).sum(-1,keepdims=True)).max(1)"
   ]
  },
  {
   "cell_type": "code",
   "execution_count": 75,
   "id": "7a29d611",
   "metadata": {
    "scrolled": true
   },
   "outputs": [
    {
     "data": {
      "text/html": [
       "<div>\n",
       "<style scoped>\n",
       "    .dataframe tbody tr th:only-of-type {\n",
       "        vertical-align: middle;\n",
       "    }\n",
       "\n",
       "    .dataframe tbody tr th {\n",
       "        vertical-align: top;\n",
       "    }\n",
       "\n",
       "    .dataframe thead th {\n",
       "        text-align: right;\n",
       "    }\n",
       "</style>\n",
       "<table border=\"1\" class=\"dataframe\">\n",
       "  <thead>\n",
       "    <tr style=\"text-align: right;\">\n",
       "      <th></th>\n",
       "      <th>text</th>\n",
       "      <th>pred</th>\n",
       "      <th>label</th>\n",
       "      <th>score</th>\n",
       "    </tr>\n",
       "  </thead>\n",
       "  <tbody>\n",
       "    <tr>\n",
       "      <th>0</th>\n",
       "      <td>Bitcoin will def shoot rapidly and would be mo...</td>\n",
       "      <td>1</td>\n",
       "      <td>POSITIVE</td>\n",
       "      <td>0.998567</td>\n",
       "    </tr>\n",
       "    <tr>\n",
       "      <th>1</th>\n",
       "      <td>We understand an important issue: the technolo...</td>\n",
       "      <td>1</td>\n",
       "      <td>POSITIVE</td>\n",
       "      <td>0.998622</td>\n",
       "    </tr>\n",
       "    <tr>\n",
       "      <th>2</th>\n",
       "      <td>Is it possible? It must be. I don't know enoug...</td>\n",
       "      <td>0</td>\n",
       "      <td>NEGATIVE</td>\n",
       "      <td>0.993315</td>\n",
       "    </tr>\n",
       "    <tr>\n",
       "      <th>3</th>\n",
       "      <td>I was reading some articles today and went dow...</td>\n",
       "      <td>1</td>\n",
       "      <td>POSITIVE</td>\n",
       "      <td>0.998422</td>\n",
       "    </tr>\n",
       "  </tbody>\n",
       "</table>\n",
       "</div>"
      ],
      "text/plain": [
       "                                                text  pred     label     score\n",
       "0  Bitcoin will def shoot rapidly and would be mo...     1  POSITIVE  0.998567\n",
       "1  We understand an important issue: the technolo...     1  POSITIVE  0.998622\n",
       "2  Is it possible? It must be. I don't know enoug...     0  NEGATIVE  0.993315\n",
       "3  I was reading some articles today and went dow...     1  POSITIVE  0.998422"
      ]
     },
     "execution_count": 75,
     "metadata": {},
     "output_type": "execute_result"
    }
   ],
   "source": [
    "df = pd.DataFrame(list(zip(to_predict,preds,labels,scores)), columns=['text','pred','label','score'])\n",
    "df.head()"
   ]
  },
  {
   "cell_type": "markdown",
   "id": "711b293d",
   "metadata": {},
   "source": [
    "### Try to make a pipeline out of it"
   ]
  },
  {
   "cell_type": "code",
   "execution_count": 77,
   "id": "56f25811",
   "metadata": {},
   "outputs": [],
   "source": [
    "from sklearn.pipeline import Pipeline"
   ]
  },
  {
   "cell_type": "code",
   "execution_count": null,
   "id": "f095b7c5",
   "metadata": {},
   "outputs": [],
   "source": [
    "# Pipeline([\n",
    "    \n",
    "# ])"
   ]
  },
  {
   "cell_type": "code",
   "execution_count": 80,
   "id": "0fe029e0",
   "metadata": {},
   "outputs": [],
   "source": [
    "# maybe a function works better:\n",
    "def create_preddiction(pred_texts):\n",
    "    tokenized_texts = tokenizer(pred_texts,truncation=True,padding=True)\n",
    "    pred_dataset = SimpleDataset(tokenized_texts)\n",
    "    # Run predictions\n",
    "    predictions = trainer.predict(pred_dataset)\n",
    "    # Transform predictions to labels\n",
    "    preds = predictions.predictions.argmax(-1)\n",
    "    labels = pd.Series(preds).map(model.config.id2label)\n",
    "    scores = (np.exp(predictions[0])/np.exp(predictions[0]).sum(-1,keepdims=True)).max(1)\n",
    "    # Create a dataframe to return:\n",
    "    return pd.DataFrame(list(zip(to_predict,preds,labels,scores)), columns=['text','pred','label','score'])"
   ]
  },
  {
   "cell_type": "code",
   "execution_count": 81,
   "id": "46fd5175",
   "metadata": {},
   "outputs": [
    {
     "name": "stderr",
     "output_type": "stream",
     "text": [
      "***** Running Prediction *****\n",
      "  Num examples = 4\n",
      "  Batch size = 8\n"
     ]
    },
    {
     "data": {
      "text/html": [
       "<div>\n",
       "<style scoped>\n",
       "    .dataframe tbody tr th:only-of-type {\n",
       "        vertical-align: middle;\n",
       "    }\n",
       "\n",
       "    .dataframe tbody tr th {\n",
       "        vertical-align: top;\n",
       "    }\n",
       "\n",
       "    .dataframe thead th {\n",
       "        text-align: right;\n",
       "    }\n",
       "</style>\n",
       "<table border=\"1\" class=\"dataframe\">\n",
       "  <thead>\n",
       "    <tr style=\"text-align: right;\">\n",
       "      <th></th>\n",
       "      <th>text</th>\n",
       "      <th>pred</th>\n",
       "      <th>label</th>\n",
       "      <th>score</th>\n",
       "    </tr>\n",
       "  </thead>\n",
       "  <tbody>\n",
       "    <tr>\n",
       "      <th>0</th>\n",
       "      <td>Bitcoin will def shoot rapidly and would be mo...</td>\n",
       "      <td>1</td>\n",
       "      <td>POSITIVE</td>\n",
       "      <td>0.998657</td>\n",
       "    </tr>\n",
       "    <tr>\n",
       "      <th>1</th>\n",
       "      <td>We understand an important issue: the technolo...</td>\n",
       "      <td>0</td>\n",
       "      <td>NEGATIVE</td>\n",
       "      <td>0.999409</td>\n",
       "    </tr>\n",
       "    <tr>\n",
       "      <th>2</th>\n",
       "      <td>Is it possible? It must be. I don't know enoug...</td>\n",
       "      <td>1</td>\n",
       "      <td>POSITIVE</td>\n",
       "      <td>0.998727</td>\n",
       "    </tr>\n",
       "    <tr>\n",
       "      <th>3</th>\n",
       "      <td>I was reading some articles today and went dow...</td>\n",
       "      <td>0</td>\n",
       "      <td>NEGATIVE</td>\n",
       "      <td>0.999486</td>\n",
       "    </tr>\n",
       "  </tbody>\n",
       "</table>\n",
       "</div>"
      ],
      "text/plain": [
       "                                                text  pred     label     score\n",
       "0  Bitcoin will def shoot rapidly and would be mo...     1  POSITIVE  0.998657\n",
       "1  We understand an important issue: the technolo...     0  NEGATIVE  0.999409\n",
       "2  Is it possible? It must be. I don't know enoug...     1  POSITIVE  0.998727\n",
       "3  I was reading some articles today and went dow...     0  NEGATIVE  0.999486"
      ]
     },
     "execution_count": 81,
     "metadata": {},
     "output_type": "execute_result"
    }
   ],
   "source": [
    "create_preddiction(pred_texts)"
   ]
  },
  {
   "cell_type": "code",
   "execution_count": null,
   "id": "21668d8d",
   "metadata": {},
   "outputs": [],
   "source": [
    "# to call the model:\n"
   ]
  }
 ],
 "metadata": {
  "kernelspec": {
   "display_name": "Python 3 (ipykernel)",
   "language": "python",
   "name": "python3"
  },
  "language_info": {
   "codemirror_mode": {
    "name": "ipython",
    "version": 3
   },
   "file_extension": ".py",
   "mimetype": "text/x-python",
   "name": "python",
   "nbconvert_exporter": "python",
   "pygments_lexer": "ipython3",
   "version": "3.8.6"
  },
  "toc": {
   "base_numbering": 1,
   "nav_menu": {},
   "number_sections": true,
   "sideBar": true,
   "skip_h1_title": false,
   "title_cell": "Table of Contents",
   "title_sidebar": "Contents",
   "toc_cell": false,
   "toc_position": {},
   "toc_section_display": true,
   "toc_window_display": false
  }
 },
 "nbformat": 4,
 "nbformat_minor": 5
}
